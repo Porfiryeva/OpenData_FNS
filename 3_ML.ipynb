{
 "cells": [
  {
   "cell_type": "markdown",
   "id": "46f1b42e",
   "metadata": {},
   "source": [
    "## 3.  Модели и отбор признаков"
   ]
  },
  {
   "cell_type": "code",
   "execution_count": 4,
   "id": "bf768a64",
   "metadata": {},
   "outputs": [],
   "source": [
    "import os\n",
    "import pandas as pd\n",
    "import pickle\n",
    "import numpy as np\n",
    "import itertools\n",
    "\n",
    "from sklearn.model_selection import train_test_split\n",
    "from sklearn.preprocessing import StandardScaler, OneHotEncoder\n",
    "from sklearn.linear_model import LogisticRegression\n",
    "from sklearn.ensemble import RandomForestClassifier\n",
    "from sklearn.model_selection import GridSearchCV\n",
    "from sklearn.metrics import (f1_score, \n",
    "                             fbeta_score,\n",
    "                             roc_auc_score, \n",
    "                             precision_score, \n",
    "                             precision_recall_curve, \n",
    "                             confusion_matrix,\n",
    "                             make_scorer\n",
    "                            )\n",
    "from lightgbm import LGBMClassifier\n",
    "from xgboost import XGBClassifier\n",
    "\n",
    "%matplotlib inline\n",
    "# warnings.filterwarnings('ignore')"
   ]
  },
  {
   "cell_type": "code",
   "execution_count": 28,
   "id": "063150dd",
   "metadata": {},
   "outputs": [],
   "source": [
    "def get_metrics(y_test, preds):\n",
    "    \n",
    "    precision, recall, thresholds = precision_recall_curve(y_test, preds)\n",
    "    fscore = (2 * precision * recall) / (precision + recall)\n",
    "    ix = np.nanargmax(fscore)\n",
    "    \n",
    "    return roc_auc_score(y_test, preds), precision[ix], recall[ix], fscore[ix], thresholds[ix]\n",
    "\n",
    "def plot_confusion_matrix(cm, classes,\n",
    "                          normalize=False,\n",
    "                          title='Confusion matrix',\n",
    "                          cmap=plt.cm.Blues):\n",
    "    \"\"\"\n",
    "    This function prints and plots the confusion matrix.\n",
    "    Normalization can be applied by setting `normalize=True`.\n",
    "    \"\"\"\n",
    "    plt.imshow(cm, interpolation='nearest', cmap=cmap)\n",
    "    plt.title(title)\n",
    "    plt.colorbar()\n",
    "    tick_marks = np.arange(len(classes))\n",
    "    plt.xticks(tick_marks, classes, rotation=45)\n",
    "    plt.yticks(tick_marks, classes)\n",
    "\n",
    "    if normalize:\n",
    "        cm = cm.astype('float') / cm.sum(axis=1)[:, np.newaxis]\n",
    "        print(\"Normalized confusion matrix\")\n",
    "    else:\n",
    "        print('Confusion matrix, without normalization')\n",
    "\n",
    "    print(cm)\n",
    "\n",
    "    thresh = cm.max() / 2.\n",
    "    for i, j in itertools.product(range(cm.shape[0]), range(cm.shape[1])):\n",
    "        plt.text(j, i, cm[i, j],\n",
    "                 horizontalalignment=\"center\",\n",
    "                 color=\"white\" if cm[i, j] > thresh else \"black\")\n",
    "\n",
    "    plt.tight_layout()\n",
    "    plt.ylabel('True label')\n",
    "    plt.xlabel('Predicted label')"
   ]
  },
  {
   "cell_type": "code",
   "execution_count": 8,
   "id": "40fb0a52",
   "metadata": {},
   "outputs": [],
   "source": [
    "with open('../parsed_data/X_train_all_feats_0.pickle', 'rb') as f:\n",
    "    X_train = pickle.load(f)"
   ]
  },
  {
   "cell_type": "markdown",
   "id": "d68dd671",
   "metadata": {},
   "source": [
    "- LR и RF на всех признаках c последующим удалением тесно связанных и ухудшающих метрики признаков\n",
    "- всего 6 итераций отбора, 7 - ухудшает результат"
   ]
  },
  {
   "cell_type": "code",
   "execution_count": 9,
   "id": "7306820b",
   "metadata": {},
   "outputs": [],
   "source": [
    "# все признаки\n",
    "cat_col = ['n_org_per_index_quant', 'region_code', 'n_org_per_region_code_quant', 'okved2_1', 'okopf', 'subj_cat',\n",
    "              'new_subj_cat', 'change_subj_cat'\n",
    "             ]\n",
    "\n",
    "bin_col = ['is_soc_enterprise', 'newly_establ', 'is_high_tech', 'disqual_person', 'is_fin_sup'\n",
    "          ]\n",
    "\n",
    "num_col = ['n_org_per_index', 'n_org_per_index_q95', 'n_org_per_index_log', 'n_org_per_index_quant',\n",
    "           \n",
    "           'n_org_per_region_code', 'n_org_per_region_code_log', 'n_org_per_region_code_med', 'n_org_per_region_code_q95',\n",
    "           'n_org_per_region_code_quant', 'target_fract_per_region',\n",
    "           \n",
    "           'n_org_per_okved2', 'n_org_per_okved2_med', 'n_org_per_okved2_q95', 'n_org_per_okved2_per_region', \n",
    "           'n_org_per_okved2_per_region_log', 'n_org_per_okved2_per_region_med', 'n_org_per_okved2_per_region_q95', \n",
    "           'n_org_per_okved2_per_locality', 'n_org_per_okved2_per_locality_med', 'n_org_per_okved2_per_locality_q95',\n",
    "           \n",
    "           'n_org_per_okopf', 'n_org_per_okopf_region', 'n_org_per_okopf_region_log', 'n_org_per_okopf_region_med', \n",
    "           'n_org_per_okopf_region_q95', 'n_org_per_okopf_locality', 'n_org_per_okopf_locality_med', \n",
    "           'n_org_per_okopf_locality_q95',\n",
    "           \n",
    "           'subj_cat', 'new_subj_cat', 'change_subj_cat_range',\n",
    "           \n",
    "           'from_registr_days', 'from_registr_days_log', 'from_registr_days_med', 'from_registr_days_q95', 'from_registr_days_fract',\n",
    "           'from_registr_days_fract_med', 'from_registr_days_fract_q95',\n",
    "           \n",
    "           'from_inclusion_days', 'from_inclusion_days_med', 'from_inclusion_days_q95', 'from_inclusion_days_fract',\n",
    "           'from_inclusion_days_fract_med', 'from_inclusion_days_fract_q95',\n",
    "           \n",
    "           'populations_med', 'populations_med_med', 'populations_med_q95', 'populations_region_med',\n",
    "           'populations_region_med_med', 'populations_region_med_q95',\n",
    "           \n",
    "           'region_population',\n",
    "           \n",
    "           '2021_1150','2020_1150','2021_1170','2020_1170','2021_1210','2020_1210','2021_1230', '2020_1230', '2021_1250',\n",
    "           '2020_1250','2021_1600','2020_1600', '2021_1350', '2020_1350', '2021_1360', '2020_1360', '2021_1300', \n",
    "           '2020_1300', '2021_1520', '2020_1520', '2021_1700', '2020_1700',\n",
    "           '2021_1150_med', '2020_1150_med', '2021_1170_med', '2020_1170_med', '2021_1210_med', '2020_1210_med', \n",
    "           '2021_1230_med', '2020_1230_med', '2021_1250_med', '2020_1250_med', '2021_1600_med', '2020_1600_med', \n",
    "           '2021_1350_med', '2020_1350_med', '2021_1360_med', '2020_1360_med', '2021_1300_med', '2020_1300_med', \n",
    "           '2021_1520_med', '2020_1520_med', '2021_1700_med', '2020_1700_med',\n",
    "           '2021_1150_q95', '2020_1150_q95', '2021_1170_q95', '2020_1170_q95', '2021_1210_q95', '2020_1210_q95', \n",
    "           '2021_1230_q95', '2020_1230_q95', '2021_1250_q95', '2020_1250_q95', '2021_1600_q95', '2020_1600_q95', \n",
    "           '2021_1350_q95', '2020_1350_q95', '2021_1360_q95', '2020_1360_q95', '2021_1300_q95', '2020_1300_q95', \n",
    "           '2021_1520_q95', '2020_1520_q95', '2021_1700_q95', '2020_1700_q95',\n",
    "           '2020_1150_q95_growth', '2020_1170_growth', '2020_1210_q95_growth', '2020_1230_q95_growth', \n",
    "           '2020_1250_q95_growth', '2020_1600_q95_growth', '2020_1350_growth', '2020_1360_growth', '2020_1300_q95_growth', \n",
    "           '2020_1520_q95_growth', '2020_1700_q95_growth',\n",
    "           \n",
    "           '2021_2110', '2020_2110', '2021_2120', '2020_2120', '2021_2330', '2020_2330', '2021_2340', '2020_2340', \n",
    "           '2021_2350', '2020_2350', '2021_2410', '2020_2410', '2021_2400', '2020_2400', \n",
    "           '2021_2110_med', '2020_2110_med', '2021_2120_med', '2020_2120_med', '2021_2330_med', '2020_2330_med', \n",
    "           '2021_2340_med', '2020_2340_med', '2021_2350_med', '2020_2350_med', '2021_2410_med', '2020_2410_med', \n",
    "           '2021_2400_med', '2020_2400_med',\n",
    "           '2021_2110_q95', '2020_2110_q95', '2021_2120_q95', '2020_2120_q95', '2021_2330_q95', '2020_2330_q95', \n",
    "           '2021_2340_q95', '2020_2340_q95', '2021_2350_q95', '2020_2350_q95', '2021_2410_q95', '2020_2410_q95', \n",
    "           '2021_2400_q95', '2020_2400_q95',\n",
    "           '2020_2110_q95_growth', '2020_2120_q95_growth', '2020_2330_growth', '2020_2340_q95_growth', \n",
    "           '2020_2350_q95_growth', '2020_2410_q95_growth', '2020_2400_q95_growth', \n",
    "           \n",
    "           '0102_2020', '0102_2021', '0103_2020', '0103_2021', '0105_2020', '0105_2021',\n",
    "           '0102_2020_med', '0102_2021_med', '0103_2020_med', '0103_2021_med', '0105_2020_med', '0105_2021_med', \n",
    "           '0102_2020_q95', '0102_2021_q95', '0103_2020_q95', '0103_2021_q95', '0105_2020_q95', '0105_2021_q95',\n",
    "           '0102_2020_log', '0102_2021_log', '0103_2020_log', '0103_2021_log', '0105_2020_log', '0105_2021_log',\n",
    "           \n",
    "           'arrears', 'penalties', 'fines', 'fine_amount',\n",
    "           'arrears_med', 'penalties_med', 'fines_med', 'fine_amount_med',\n",
    "           'arrears_q95', 'penalties_q95', 'fines_q95', 'fine_amount_q95',\n",
    "           'arrears_log', 'penalties_log', 'fines_log', 'fine_amount_log', \n",
    "           'tax_arrears', 'tax_arrears_med', 'tax_arrears_q95', 'tax_arrears_log',\n",
    "           'tax_arr_per_reg_okved', 'tax_arr_per_reg_okved_log',\n",
    "           \n",
    "           'cons_basket_child_2020', 'cons_basket_child_2021', 'cons_basket_pens_2020', 'cons_basket_pens_2021', \n",
    "           'cons_basket_working_age_2020', 'cons_basket_working_age_2021',\n",
    "           'cons_basket_max', 'cons_basket_max_med', 'cons_basket_max_q95',\n",
    "           \n",
    "           'AI92_cost_2020', 'AI92_cost_2021', 'AI95_cost_2020', 'AI95_cost_2021', 'AI98_cost_2020', 'AI98_cost_2021', \n",
    "           'diesel_cost_2020', 'diesel_cost_2021',\n",
    "           'AI92_cost_2020_med', 'AI92_cost_2021_med', 'AI95_cost_2020_med', 'AI95_cost_2021_med', 'AI98_cost_2020_med', \n",
    "           'AI98_cost_2021_med', 'diesel_cost_2020_med', 'diesel_cost_2021_med',\n",
    "           'AI92_cost_2020_q95', 'AI92_cost_2021_q95', 'AI95_cost_2020_q95', 'AI95_cost_2021_q95', 'AI98_cost_2020_q95', \n",
    "           'AI98_cost_2021_q95', 'diesel_cost_2020_q95', 'diesel_cost_2021_q95', \n",
    "           'diesel_cost_quant',\n",
    "           \n",
    "           'AI92_volume_2020', 'AI92_volume_2021', 'AI95_volume_2020', 'AI95_volume_2021', 'AI98_volume_2020', \n",
    "           'AI98_volume_2021', 'diesel_volume_2020', 'diesel_volume_2021',\n",
    "           'AI92_volume_2020_med', 'AI92_volume_2021_med', 'AI95_volume_2020_med', 'AI95_volume_2021_med', \n",
    "           'AI98_volume_2020_med', 'AI98_volume_2021_med', 'diesel_volume_2020_med', 'diesel_volume_2021_med',\n",
    "           'AI92_volume_2020_q95', 'AI92_volume_2021_q95', 'AI95_volume_2020_q95', 'AI95_volume_2021_q95', \n",
    "           'AI98_volume_2020_q95', 'AI98_volume_2021_q95', 'diesel_volume_2020_q95', 'diesel_volume_2021_q95',\n",
    "           'AI92_volume_2020_norm', 'AI92_volume_2021_norm', 'AI95_volume_2020_norm', 'AI95_volume_2021_norm', \n",
    "           'AI98_volume_2020_norm', 'AI98_volume_2021_norm', 'diesel_volume_2020_norm', 'diesel_volume_2021_norm',\n",
    "           'AI92_volume_2020_norm_q95', 'AI92_volume_2021_norm_q95', 'AI95_volume_2020_norm_q95', \n",
    "           'AI95_volume_2021_norm_q95', 'AI98_volume_2020_norm_q95', 'AI98_volume_2021_norm_q95', \n",
    "           'diesel_volume_2020_norm_q95', 'diesel_volume_2021_norm_q95',\n",
    "           'diesel_vol_quant',\n",
    "           \n",
    "           'cons_basket_max_q95_log', 'AI92_cost_2020_q95_log', 'AI92_cost_2021_q95_log', 'AI95_cost_2020_q95_log', \n",
    "           'AI95_cost_2021_q95_log', 'AI98_cost_2020_q95_log', 'AI98_cost_2021_q95_log', 'diesel_cost_2020_q95_log', \n",
    "           'diesel_cost_2021_q95_log', 'AI92_volume_2020_q95_log', 'AI92_volume_2021_q95_log', 'AI95_volume_2020_q95_log', \n",
    "           'AI95_volume_2021_q95_log', 'AI98_volume_2020_q95_log', 'AI98_volume_2021_q95_log', \n",
    "           'diesel_volume_2020_q95_log', 'diesel_volume_2021_q95_log',\n",
    "           \n",
    "           'n_contracts', 'n_agreements', 'n_okovd_add', 'n_licenses', 'n_products',\n",
    "           'n_contracts_log', 'n_agreements_log', 'n_okovd_add_log', 'n_licenses_q95_log', 'n_products_log', \n",
    "           \n",
    "           'n_employees', 'n_employees_1', 'n_employees_med', 'n_employees_q95', 'n_employees_q95_log', 'n_employees_quant'\n",
    "          ]"
   ]
  },
  {
   "cell_type": "code",
   "execution_count": 53,
   "id": "86e907f3",
   "metadata": {},
   "outputs": [
    {
     "data": {
      "text/plain": [
       "(936000, 370)"
      ]
     },
     "execution_count": 53,
     "metadata": {},
     "output_type": "execute_result"
    }
   ],
   "source": [
    "X_train.shape"
   ]
  },
  {
   "cell_type": "markdown",
   "id": "1ea16050",
   "metadata": {},
   "source": [
    "- стандартизиация для LR"
   ]
  },
  {
   "cell_type": "code",
   "execution_count": 10,
   "id": "f40a1902",
   "metadata": {},
   "outputs": [],
   "source": [
    "scaler = StandardScaler()\n",
    "X_train_scaled = scaler.fit_transform(X_train[num_col])"
   ]
  },
  {
   "cell_type": "code",
   "execution_count": 11,
   "id": "00c15193",
   "metadata": {},
   "outputs": [],
   "source": [
    "X_train_scaled = pd.DataFrame(X_train_scaled, columns=num_col)"
   ]
  },
  {
   "cell_type": "code",
   "execution_count": 22,
   "id": "4a9c1a5e",
   "metadata": {},
   "outputs": [
    {
     "data": {
      "text/html": [
       "<div>\n",
       "<style scoped>\n",
       "    .dataframe tbody tr th:only-of-type {\n",
       "        vertical-align: middle;\n",
       "    }\n",
       "\n",
       "    .dataframe tbody tr th {\n",
       "        vertical-align: top;\n",
       "    }\n",
       "\n",
       "    .dataframe thead th {\n",
       "        text-align: right;\n",
       "    }\n",
       "</style>\n",
       "<table border=\"1\" class=\"dataframe\">\n",
       "  <thead>\n",
       "    <tr style=\"text-align: right;\">\n",
       "      <th></th>\n",
       "      <th>n_org_per_index</th>\n",
       "      <th>n_org_per_index_q95</th>\n",
       "      <th>n_org_per_index_log</th>\n",
       "      <th>n_org_per_index_quant</th>\n",
       "      <th>n_org_per_region_code</th>\n",
       "      <th>n_org_per_region_code_log</th>\n",
       "      <th>n_org_per_region_code_med</th>\n",
       "      <th>n_org_per_region_code_q95</th>\n",
       "      <th>n_org_per_region_code_quant</th>\n",
       "      <th>target_fract_per_region</th>\n",
       "      <th>...</th>\n",
       "      <th>n_agreements_log</th>\n",
       "      <th>n_okovd_add_log</th>\n",
       "      <th>n_licenses_q95_log</th>\n",
       "      <th>n_products_log</th>\n",
       "      <th>n_employees</th>\n",
       "      <th>n_employees_1</th>\n",
       "      <th>n_employees_med</th>\n",
       "      <th>n_employees_q95</th>\n",
       "      <th>n_employees_q95_log</th>\n",
       "      <th>n_employees_quant</th>\n",
       "    </tr>\n",
       "  </thead>\n",
       "  <tbody>\n",
       "    <tr>\n",
       "      <th>0</th>\n",
       "      <td>0.451459</td>\n",
       "      <td>0.645573</td>\n",
       "      <td>0.774289</td>\n",
       "      <td>0.872230</td>\n",
       "      <td>2.063572</td>\n",
       "      <td>1.559072</td>\n",
       "      <td>2.069518</td>\n",
       "      <td>2.063572</td>\n",
       "      <td>1.398968</td>\n",
       "      <td>-0.221965</td>\n",
       "      <td>...</td>\n",
       "      <td>-0.012275</td>\n",
       "      <td>1.746411</td>\n",
       "      <td>-0.38002</td>\n",
       "      <td>-0.022559</td>\n",
       "      <td>-0.267398</td>\n",
       "      <td>-0.274640</td>\n",
       "      <td>-0.493006</td>\n",
       "      <td>-0.596099</td>\n",
       "      <td>-0.537427</td>\n",
       "      <td>-0.639342</td>\n",
       "    </tr>\n",
       "    <tr>\n",
       "      <th>1</th>\n",
       "      <td>0.441171</td>\n",
       "      <td>0.632590</td>\n",
       "      <td>0.768897</td>\n",
       "      <td>0.872230</td>\n",
       "      <td>-0.151963</td>\n",
       "      <td>0.411363</td>\n",
       "      <td>-0.171573</td>\n",
       "      <td>-0.151963</td>\n",
       "      <td>0.731370</td>\n",
       "      <td>-1.126456</td>\n",
       "      <td>...</td>\n",
       "      <td>-0.012275</td>\n",
       "      <td>-0.518517</td>\n",
       "      <td>-0.38002</td>\n",
       "      <td>-0.022559</td>\n",
       "      <td>-0.267398</td>\n",
       "      <td>-0.274640</td>\n",
       "      <td>-0.493006</td>\n",
       "      <td>-0.596099</td>\n",
       "      <td>-0.537427</td>\n",
       "      <td>-0.639342</td>\n",
       "    </tr>\n",
       "    <tr>\n",
       "      <th>2</th>\n",
       "      <td>-0.253274</td>\n",
       "      <td>-0.243756</td>\n",
       "      <td>0.253033</td>\n",
       "      <td>0.176535</td>\n",
       "      <td>2.063572</td>\n",
       "      <td>1.559072</td>\n",
       "      <td>2.069518</td>\n",
       "      <td>2.063572</td>\n",
       "      <td>1.398968</td>\n",
       "      <td>-0.221965</td>\n",
       "      <td>...</td>\n",
       "      <td>-0.012275</td>\n",
       "      <td>0.428514</td>\n",
       "      <td>-0.38002</td>\n",
       "      <td>-0.022559</td>\n",
       "      <td>-0.162509</td>\n",
       "      <td>-0.170093</td>\n",
       "      <td>0.256678</td>\n",
       "      <td>-0.111874</td>\n",
       "      <td>0.305108</td>\n",
       "      <td>0.603312</td>\n",
       "    </tr>\n",
       "  </tbody>\n",
       "</table>\n",
       "<p>3 rows × 330 columns</p>\n",
       "</div>"
      ],
      "text/plain": [
       "   n_org_per_index  n_org_per_index_q95  n_org_per_index_log  \\\n",
       "0         0.451459             0.645573             0.774289   \n",
       "1         0.441171             0.632590             0.768897   \n",
       "2        -0.253274            -0.243756             0.253033   \n",
       "\n",
       "   n_org_per_index_quant  n_org_per_region_code  n_org_per_region_code_log  \\\n",
       "0               0.872230               2.063572                   1.559072   \n",
       "1               0.872230              -0.151963                   0.411363   \n",
       "2               0.176535               2.063572                   1.559072   \n",
       "\n",
       "   n_org_per_region_code_med  n_org_per_region_code_q95  \\\n",
       "0                   2.069518                   2.063572   \n",
       "1                  -0.171573                  -0.151963   \n",
       "2                   2.069518                   2.063572   \n",
       "\n",
       "   n_org_per_region_code_quant  target_fract_per_region  ...  \\\n",
       "0                     1.398968                -0.221965  ...   \n",
       "1                     0.731370                -1.126456  ...   \n",
       "2                     1.398968                -0.221965  ...   \n",
       "\n",
       "   n_agreements_log  n_okovd_add_log  n_licenses_q95_log  n_products_log  \\\n",
       "0         -0.012275         1.746411            -0.38002       -0.022559   \n",
       "1         -0.012275        -0.518517            -0.38002       -0.022559   \n",
       "2         -0.012275         0.428514            -0.38002       -0.022559   \n",
       "\n",
       "   n_employees  n_employees_1  n_employees_med  n_employees_q95  \\\n",
       "0    -0.267398      -0.274640        -0.493006        -0.596099   \n",
       "1    -0.267398      -0.274640        -0.493006        -0.596099   \n",
       "2    -0.162509      -0.170093         0.256678        -0.111874   \n",
       "\n",
       "   n_employees_q95_log  n_employees_quant  \n",
       "0            -0.537427          -0.639342  \n",
       "1            -0.537427          -0.639342  \n",
       "2             0.305108           0.603312  \n",
       "\n",
       "[3 rows x 330 columns]"
      ]
     },
     "execution_count": 22,
     "metadata": {},
     "output_type": "execute_result"
    }
   ],
   "source": [
    "X_train_scaled.head(3)"
   ]
  },
  {
   "cell_type": "markdown",
   "id": "a57e2e8f",
   "metadata": {},
   "source": [
    "- onehot"
   ]
  },
  {
   "cell_type": "code",
   "execution_count": 12,
   "id": "988ca334",
   "metadata": {},
   "outputs": [],
   "source": [
    "ohe = OneHotEncoder(handle_unknown='ignore', sparse=False)"
   ]
  },
  {
   "cell_type": "code",
   "execution_count": 13,
   "id": "6d8b240c",
   "metadata": {},
   "outputs": [],
   "source": [
    "X_train_ohe = ohe.fit_transform(X_train[cat_col])"
   ]
  },
  {
   "cell_type": "code",
   "execution_count": 14,
   "id": "eef84865",
   "metadata": {},
   "outputs": [],
   "source": [
    "X_train_ohe = pd.DataFrame(X_train_ohe, columns=ohe.get_feature_names_out())"
   ]
  },
  {
   "cell_type": "code",
   "execution_count": 15,
   "id": "796031e2",
   "metadata": {},
   "outputs": [],
   "source": [
    "X_train_all_feat = pd.concat([X_train_ohe, X_train[bin_col], X_train_scaled], axis=1)"
   ]
  },
  {
   "cell_type": "code",
   "execution_count": 62,
   "id": "6cdb1b6f",
   "metadata": {},
   "outputs": [
    {
     "data": {
      "text/plain": [
       "(936000, 576)"
      ]
     },
     "execution_count": 62,
     "metadata": {},
     "output_type": "execute_result"
    }
   ],
   "source": [
    "X_train_all_feat.shape"
   ]
  },
  {
   "cell_type": "markdown",
   "id": "0dfef7f0",
   "metadata": {},
   "source": [
    "- **logistic regression**"
   ]
  },
  {
   "cell_type": "code",
   "execution_count": 64,
   "id": "651425b8",
   "metadata": {},
   "outputs": [],
   "source": [
    "lr = LogisticRegression(penalty='l1', C=0.9, class_weight='balanced', max_iter=100, \n",
    "                        random_state=42, solver='saga', verbose=1, n_jobs=-1)"
   ]
  },
  {
   "cell_type": "markdown",
   "id": "1551537e",
   "metadata": {},
   "source": [
    "- без saga и l1 считается около 4 минут и даёт roc_auc примерно 0.77\n",
    "- l1-регуляризацией - от 20 до 30 мин"
   ]
  },
  {
   "cell_type": "code",
   "execution_count": 65,
   "id": "6792f7ba",
   "metadata": {},
   "outputs": [
    {
     "name": "stderr",
     "output_type": "stream",
     "text": [
      "[Parallel(n_jobs=-1)]: Using backend ThreadingBackend with 12 concurrent workers.\n"
     ]
    },
    {
     "name": "stdout",
     "output_type": "stream",
     "text": [
      "max_iter reached after 1335 seconds\n"
     ]
    },
    {
     "name": "stderr",
     "output_type": "stream",
     "text": [
      "C:\\Users\\013\\AppData\\Roaming\\Python\\Python38\\site-packages\\sklearn\\linear_model\\_sag.py:352: ConvergenceWarning: The max_iter was reached which means the coef_ did not converge\n",
      "  warnings.warn(\n",
      "[Parallel(n_jobs=-1)]: Done   1 out of   1 | elapsed: 22.3min finished\n"
     ]
    },
    {
     "name": "stdout",
     "output_type": "stream",
     "text": [
      "Wall time: 22min 27s\n"
     ]
    },
    {
     "data": {
      "text/plain": [
       "LogisticRegression(C=0.9, class_weight='balanced', n_jobs=-1, penalty='l1',\n",
       "                   random_state=42, solver='saga', verbose=1)"
      ]
     },
     "execution_count": 65,
     "metadata": {},
     "output_type": "execute_result"
    }
   ],
   "source": [
    "%%time\n",
    "lr.fit(X_train_all_feat, X_train.target)"
   ]
  },
  {
   "cell_type": "code",
   "execution_count": 66,
   "id": "c35c5a4f",
   "metadata": {},
   "outputs": [],
   "source": [
    "# with open('models/lr_all_feats.pickle', 'wb') as f:\n",
    "#     pickle.dump(lr, f)"
   ]
  },
  {
   "cell_type": "code",
   "execution_count": 17,
   "id": "3ec0b298",
   "metadata": {},
   "outputs": [],
   "source": [
    "# with open('models/lr_all_feats.pickle', 'rb') as f:\n",
    "#     lr = pickle.load(f)"
   ]
  },
  {
   "cell_type": "code",
   "execution_count": 67,
   "id": "27a60dff",
   "metadata": {},
   "outputs": [
    {
     "name": "stdout",
     "output_type": "stream",
     "text": [
      "roc_auc: 0.7614, prec: 0.3735, rec: 0.1814, f-score: 0.2442, th: 0.8565\n"
     ]
    }
   ],
   "source": [
    "lr_predict = lr.predict_proba(X_train_all_feat)[:, 1]\n",
    "\n",
    "roc_auc, prec, rec, f_score, th = get_metrics(X_train.target, lr_predict)\n",
    "print(f'roc_auc: {roc_auc:.4f}, prec: {prec:.4f}, rec: {rec:.4f},'\n",
    "      f' f-score: {f_score:.4f}, th: {th:.4f}')"
   ]
  },
  {
   "cell_type": "code",
   "execution_count": 68,
   "id": "0f0701f0",
   "metadata": {},
   "outputs": [
    {
     "data": {
      "text/plain": [
       "array([[911863,   5630],\n",
       "       [ 15151,   3356]], dtype=int64)"
      ]
     },
     "execution_count": 68,
     "metadata": {},
     "output_type": "execute_result"
    }
   ],
   "source": [
    "confusion_matrix(X_train.target, lr_predict > th)"
   ]
  },
  {
   "cell_type": "code",
   "execution_count": 73,
   "id": "22462cbc",
   "metadata": {},
   "outputs": [
    {
     "name": "stdout",
     "output_type": "stream",
     "text": [
      "Confusion matrix, without normalization\n",
      "[[911863   5630]\n",
      " [ 15151   3356]]\n"
     ]
    },
    {
     "data": {
      "image/png": "[encoded data removed]",
      "text/plain": [
       "<Figure size 720x576 with 2 Axes>"
      ]
     },
     "metadata": {
      "needs_background": "light"
     },
     "output_type": "display_data"
    }
   ],
   "source": [
    "font = {'size': 15}\n",
    "\n",
    "plt.rc('font', **font)\n",
    "\n",
    "cnf_matrix = confusion_matrix(X_train.target, lr_predict > th)\n",
    "\n",
    "plt.figure(figsize=(10, 8))\n",
    "plot_confusion_matrix(cnf_matrix, classes=[0, 1], title='Confusion Matrix')"
   ]
  },
  {
   "cell_type": "markdown",
   "id": "ad8f6429",
   "metadata": {},
   "source": [
    "- достаточно неплохая стартовая точка, чтобы использовать для предварительного отбора или как доп. фактор при оценке перспектив.\n",
    "- дальше, если смотреть на важность признаков - надо больше поработать над финансовыми признаками."
   ]
  },
  {
   "cell_type": "markdown",
   "id": "bab1ee01",
   "metadata": {},
   "source": [
    "- **random_forest**"
   ]
  },
  {
   "cell_type": "code",
   "execution_count": 43,
   "id": "a453c7c5",
   "metadata": {},
   "outputs": [],
   "source": [
    "rf = RandomForestClassifier(class_weight='balanced', oob_score=True, n_jobs=-1, random_state=True)"
   ]
  },
  {
   "cell_type": "markdown",
   "id": "3e349e7b",
   "metadata": {},
   "source": [
    "- сразу же сильно переобучается при стандартных гиперпараметрах"
   ]
  },
  {
   "cell_type": "code",
   "execution_count": 44,
   "id": "a7720613",
   "metadata": {},
   "outputs": [
    {
     "name": "stdout",
     "output_type": "stream",
     "text": [
      "roc_auc: 1.0000, prec: 0.9997, rec: 1.0000, f-score: 0.9999, th: 0.4500\n",
      "Wall time: 7min 44s\n"
     ]
    }
   ],
   "source": [
    "%%time\n",
    "rf.fit(X_train_all_feat, X_train.target)\n",
    "\n",
    "rf_predict = rf.predict_proba(X_train_all_feat)[:, 1]\n",
    "\n",
    "roc_auc, prec, rec, f_score, th = get_metrics(X_train.target, rf_predict)\n",
    "print(f'roc_auc: {roc_auc:.4f}, prec: {prec:.4f}, rec: {rec:.4f},'\n",
    "      f' f-score: {f_score:.4f}, th: {th:.4f}')"
   ]
  },
  {
   "cell_type": "markdown",
   "id": "6971d79c",
   "metadata": {},
   "source": [
    "- oob-оценка - больше похожа на правду"
   ]
  },
  {
   "cell_type": "code",
   "execution_count": 45,
   "id": "4152b725",
   "metadata": {},
   "outputs": [
    {
     "name": "stdout",
     "output_type": "stream",
     "text": [
      "roc_auc: 0.7075, prec: 0.4340, rec: 0.1923, f-score: 0.2665, th: 0.1778\n"
     ]
    }
   ],
   "source": [
    "oob_pred_train = rf.oob_decision_function_[:, 1]\n",
    "\n",
    "roc_auc, prec, rec, f_score, th = get_metrics(X_train.target, oob_pred_train)\n",
    "print(f'roc_auc: {roc_auc:.4f}, prec: {prec:.4f}, rec: {rec:.4f},'\n",
    "      f' f-score: {f_score:.4f}, th: {th:.4f}')"
   ]
  },
  {
   "cell_type": "code",
   "execution_count": null,
   "id": "8b6fbe2b",
   "metadata": {},
   "outputs": [],
   "source": [
    "# with open('models/rf_all_feats.pickle', 'wb') as f:\n",
    "#     pickle.dump(rf, f)"
   ]
  },
  {
   "cell_type": "code",
   "execution_count": 17,
   "id": "01a5c098",
   "metadata": {},
   "outputs": [],
   "source": [
    "# with open('../models/rf_all_feats.pickle', 'rb') as f:\n",
    "#     rf = pickle.load(f)"
   ]
  },
  {
   "cell_type": "code",
   "execution_count": null,
   "id": "c6d5f97f",
   "metadata": {},
   "outputs": [],
   "source": [
    "font = {'size': 15}\n",
    "\n",
    "plt.rc('font', **font)\n",
    "\n",
    "cnf_matrix_rf = confusion_matrix(X_train.target, oob_pred_train > th)\n",
    "\n",
    "plt.figure(figsize=(10, 8))\n",
    "plot_confusion_matrix(cnf_matrix_rf, classes=[0, 1], title='Confusion Matrix')"
   ]
  },
  {
   "cell_type": "markdown",
   "id": "b9175855",
   "metadata": {},
   "source": [
    "- что у LR, что у RF - достаточно много пропусков (FN) - т.е. предсказание, что орагнизация не закроется в ближайшее время, когда она на самом деле закроется.\n",
    "- здесь можно было бы сдвинуть целевую метрику в эту сторону (полнота, а не точность)."
   ]
  },
  {
   "cell_type": "markdown",
   "id": "b526bd27",
   "metadata": {},
   "source": [
    "#### - смотрим важность признаков"
   ]
  },
  {
   "cell_type": "code",
   "execution_count": 28,
   "id": "d5bf5c89",
   "metadata": {},
   "outputs": [],
   "source": [
    "lr_features_imp = pd.DataFrame(np.vstack([X_train_all_feat.columns, np.abs(lr.coef_[0])]).T, \n",
    "                            columns=['feats', 'abs_coeff'])\n",
    "lr_features_imp.sort_values('abs_coeff', ascending=False, inplace=True)"
   ]
  },
  {
   "cell_type": "code",
   "execution_count": 93,
   "id": "3a2e05f6",
   "metadata": {},
   "outputs": [
    {
     "data": {
      "text/html": [
       "<div>\n",
       "<style scoped>\n",
       "    .dataframe tbody tr th:only-of-type {\n",
       "        vertical-align: middle;\n",
       "    }\n",
       "\n",
       "    .dataframe tbody tr th {\n",
       "        vertical-align: top;\n",
       "    }\n",
       "\n",
       "    .dataframe thead th {\n",
       "        text-align: right;\n",
       "    }\n",
       "</style>\n",
       "<table border=\"1\" class=\"dataframe\">\n",
       "  <thead>\n",
       "    <tr style=\"text-align: right;\">\n",
       "      <th></th>\n",
       "      <th>feats</th>\n",
       "      <th>abs_coeff</th>\n",
       "    </tr>\n",
       "  </thead>\n",
       "  <tbody>\n",
       "    <tr>\n",
       "      <th>414</th>\n",
       "      <td>2021_2400_q95</td>\n",
       "      <td>0.266582</td>\n",
       "    </tr>\n",
       "    <tr>\n",
       "      <th>459</th>\n",
       "      <td>arrears_log</td>\n",
       "      <td>0.224248</td>\n",
       "    </tr>\n",
       "    <tr>\n",
       "      <th>341</th>\n",
       "      <td>2021_1150_q95</td>\n",
       "      <td>0.213335</td>\n",
       "    </tr>\n",
       "    <tr>\n",
       "      <th>255</th>\n",
       "      <td>target_fract_per_region</td>\n",
       "      <td>0.165644</td>\n",
       "    </tr>\n",
       "    <tr>\n",
       "      <th>359</th>\n",
       "      <td>2021_1520_q95</td>\n",
       "      <td>0.163514</td>\n",
       "    </tr>\n",
       "    <tr>\n",
       "      <th>...</th>\n",
       "      <td>...</td>\n",
       "      <td>...</td>\n",
       "    </tr>\n",
       "    <tr>\n",
       "      <th>453</th>\n",
       "      <td>fines_med</td>\n",
       "      <td>0.0</td>\n",
       "    </tr>\n",
       "    <tr>\n",
       "      <th>451</th>\n",
       "      <td>arrears_med</td>\n",
       "      <td>0.0</td>\n",
       "    </tr>\n",
       "    <tr>\n",
       "      <th>439</th>\n",
       "      <td>0105_2020_q95</td>\n",
       "      <td>0.0</td>\n",
       "    </tr>\n",
       "    <tr>\n",
       "      <th>433</th>\n",
       "      <td>0105_2020_med</td>\n",
       "      <td>0.0</td>\n",
       "    </tr>\n",
       "    <tr>\n",
       "      <th>438</th>\n",
       "      <td>0103_2021_q95</td>\n",
       "      <td>0.0</td>\n",
       "    </tr>\n",
       "  </tbody>\n",
       "</table>\n",
       "<p>576 rows × 2 columns</p>\n",
       "</div>"
      ],
      "text/plain": [
       "                       feats abs_coeff\n",
       "414            2021_2400_q95  0.266582\n",
       "459              arrears_log  0.224248\n",
       "341            2021_1150_q95  0.213335\n",
       "255  target_fract_per_region  0.165644\n",
       "359            2021_1520_q95  0.163514\n",
       "..                       ...       ...\n",
       "453                fines_med       0.0\n",
       "451              arrears_med       0.0\n",
       "439            0105_2020_q95       0.0\n",
       "433            0105_2020_med       0.0\n",
       "438            0103_2021_q95       0.0\n",
       "\n",
       "[576 rows x 2 columns]"
      ]
     },
     "execution_count": 93,
     "metadata": {},
     "output_type": "execute_result"
    }
   ],
   "source": [
    "lr_features_imp.sort_values('abs_coeff', ascending=False,)"
   ]
  },
  {
   "cell_type": "code",
   "execution_count": 97,
   "id": "772ec319",
   "metadata": {},
   "outputs": [],
   "source": [
    "rf_features_imp = pd.DataFrame(np.vstack([X_train_all_feat.columns, rf.feature_importances_]).T, \n",
    "                            columns=['feats', 'coeff'])\n",
    "rf_features_imp.sort_values('coeff', ascending=False, inplace=True)"
   ]
  },
  {
   "cell_type": "code",
   "execution_count": 98,
   "id": "37a42637",
   "metadata": {},
   "outputs": [
    {
     "data": {
      "text/html": [
       "<div>\n",
       "<style scoped>\n",
       "    .dataframe tbody tr th:only-of-type {\n",
       "        vertical-align: middle;\n",
       "    }\n",
       "\n",
       "    .dataframe tbody tr th {\n",
       "        vertical-align: top;\n",
       "    }\n",
       "\n",
       "    .dataframe thead th {\n",
       "        text-align: right;\n",
       "    }\n",
       "</style>\n",
       "<table border=\"1\" class=\"dataframe\">\n",
       "  <thead>\n",
       "    <tr style=\"text-align: right;\">\n",
       "      <th></th>\n",
       "      <th>feats</th>\n",
       "      <th>coeff</th>\n",
       "    </tr>\n",
       "  </thead>\n",
       "  <tbody>\n",
       "    <tr>\n",
       "      <th>386</th>\n",
       "      <td>2021_2400</td>\n",
       "      <td>0.015374</td>\n",
       "    </tr>\n",
       "    <tr>\n",
       "      <th>313</th>\n",
       "      <td>2021_1300</td>\n",
       "      <td>0.013084</td>\n",
       "    </tr>\n",
       "    <tr>\n",
       "      <th>374</th>\n",
       "      <td>2021_2110</td>\n",
       "      <td>0.01254</td>\n",
       "    </tr>\n",
       "    <tr>\n",
       "      <th>447</th>\n",
       "      <td>arrears</td>\n",
       "      <td>0.012456</td>\n",
       "    </tr>\n",
       "    <tr>\n",
       "      <th>414</th>\n",
       "      <td>2021_2400_q95</td>\n",
       "      <td>0.011837</td>\n",
       "    </tr>\n",
       "    <tr>\n",
       "      <th>...</th>\n",
       "      <td>...</td>\n",
       "      <td>...</td>\n",
       "    </tr>\n",
       "    <tr>\n",
       "      <th>356</th>\n",
       "      <td>2020_1360_q95</td>\n",
       "      <td>0.0</td>\n",
       "    </tr>\n",
       "    <tr>\n",
       "      <th>355</th>\n",
       "      <td>2021_1360_q95</td>\n",
       "      <td>0.0</td>\n",
       "    </tr>\n",
       "    <tr>\n",
       "      <th>192</th>\n",
       "      <td>okved2_1_99</td>\n",
       "      <td>0.0</td>\n",
       "    </tr>\n",
       "    <tr>\n",
       "      <th>354</th>\n",
       "      <td>2020_1350_q95</td>\n",
       "      <td>0.0</td>\n",
       "    </tr>\n",
       "    <tr>\n",
       "      <th>436</th>\n",
       "      <td>0102_2021_q95</td>\n",
       "      <td>0.0</td>\n",
       "    </tr>\n",
       "  </tbody>\n",
       "</table>\n",
       "<p>576 rows × 2 columns</p>\n",
       "</div>"
      ],
      "text/plain": [
       "             feats     coeff\n",
       "386      2021_2400  0.015374\n",
       "313      2021_1300  0.013084\n",
       "374      2021_2110   0.01254\n",
       "447        arrears  0.012456\n",
       "414  2021_2400_q95  0.011837\n",
       "..             ...       ...\n",
       "356  2020_1360_q95       0.0\n",
       "355  2021_1360_q95       0.0\n",
       "192    okved2_1_99       0.0\n",
       "354  2020_1350_q95       0.0\n",
       "436  0102_2021_q95       0.0\n",
       "\n",
       "[576 rows x 2 columns]"
      ]
     },
     "execution_count": 98,
     "metadata": {},
     "output_type": "execute_result"
    }
   ],
   "source": [
    "rf_features_imp"
   ]
  },
  {
   "cell_type": "markdown",
   "id": "2c23c735",
   "metadata": {},
   "source": [
    "- после 7 итераций отбора"
   ]
  },
  {
   "cell_type": "code",
   "execution_count": null,
   "id": "3b7cbe8a",
   "metadata": {
    "scrolled": true
   },
   "outputs": [],
   "source": [
    "# for label, content in corr_matrix.items():\n",
    "#     print(f'-----col: {label}: {lr_features_imp_4.loc[lr_features_imp_4.feats == label, \"abs_coeff\"].values}-----')\n",
    "#     for el, i in zip(content, content.index):\n",
    "#         if 0.8 <= el < 1:\n",
    "#             print(i, el, lr_features_imp_4.loc[lr_features_imp_4.feats == i, 'abs_coeff'].values)"
   ]
  },
  {
   "cell_type": "code",
   "execution_count": 46,
   "id": "495e18e8",
   "metadata": {},
   "outputs": [],
   "source": [
    "cat_col_7 = ['n_org_per_index_quant', 'region_code', 'n_org_per_region_code_quant', 'okved2_1', 'okopf', 'subj_cat',\n",
    "             'new_subj_cat', 'change_subj_cat'\n",
    "             ]\n",
    "\n",
    "bin_col_7 = ['is_soc_enterprise', 'newly_establ', 'is_high_tech', 'disqual_person', 'is_fin_sup'\n",
    "          ]\n",
    "\n",
    "num_col_7 = ['n_org_per_index_log', 'n_org_per_index_quant',\n",
    "           \n",
    "             'n_org_per_region_code_log', \n",
    "             'n_org_per_region_code_quant', \n",
    "             'target_fract_per_region',\n",
    "           \n",
    "             'n_org_per_okved2_med',\n",
    "             'n_org_per_okved2_per_region_log', 'n_org_per_okved2_per_region_med', 'n_org_per_okved2_per_locality_med',\n",
    "           \n",
    "             'n_org_per_okopf', \n",
    "             'n_org_per_okopf_region_log', 'n_org_per_okopf_locality_med', \n",
    "           \n",
    "             'subj_cat', 'new_subj_cat', 'change_subj_cat_range',\n",
    "            \n",
    "             'from_registr_days_log', 'from_registr_days_fract_med',\n",
    "           \n",
    "             'from_inclusion_days', 'from_inclusion_days_fract',\n",
    "           \n",
    "             '2020_1150','2021_1170',\n",
    "             '2021_1350', \n",
    "             '2020_1360', \n",
    "             '2020_1210_med', '2020_1250_med', '2020_1300_med', \n",
    "             '2021_1150_q95', '2021_1210_q95', '2021_1230_q95', \n",
    "             #'2020_1600_q95', \n",
    "             '2021_1300_q95', '2021_1520_q95', \n",
    "             '2020_1700_q95',\n",
    "             '2020_1150_q95_growth', '2020_1170_growth', '2020_1210_q95_growth', '2020_1230_q95_growth', \n",
    "             '2020_1250_q95_growth', \n",
    "             '2020_1350_growth', '2020_1360_growth', '2020_1300_q95_growth', \n",
    "             '2020_1520_q95_growth', '2020_1700_q95_growth',\n",
    "           \n",
    "             '2021_2110', '2021_2330', '2020_2330', '2020_2340',\n",
    "             '2020_2410_med', \n",
    "             '2020_2110_q95', \n",
    "             #'2021_2120_q95', \n",
    "             '2021_2340_q95','2021_2350_q95', '2020_2350_q95', \n",
    "             '2021_2410_q95', '2021_2400_q95', '2020_2400_q95',\n",
    "             '2020_2110_q95_growth', '2020_2120_q95_growth', '2020_2330_growth', '2020_2340_q95_growth', \n",
    "             '2020_2350_q95_growth', '2020_2410_q95_growth', '2020_2400_q95_growth', \n",
    "           \n",
    "             '0102_2020', '0102_2021', '0103_2020', '0103_2021', '0105_2020', '0105_2021',\n",
    "             '0102_2020_log', '0102_2021_log', '0103_2020_log', '0103_2021_log', '0105_2020_log', '0105_2021_log',\n",
    "           \n",
    "             'arrears', \n",
    "             'fine_amount',\n",
    "             'arrears_log', \n",
    "             'fines_log', 'fine_amount_log', \n",
    "             'tax_arrears_log',\n",
    "             'tax_arr_per_reg_okved', 'tax_arr_per_reg_okved_log',\n",
    "           \n",
    "             'cons_basket_child_2020',\n",
    "           \n",
    "             'AI92_cost_2021',\n",
    "             'AI92_cost_2020_med', 'AI95_cost_2020_med', 'AI98_cost_2020_med', \n",
    "             'diesel_cost_2021_med', \n",
    "             'AI98_cost_2021_q95', \n",
    "             'diesel_cost_quant',\n",
    "           \n",
    "             'AI98_volume_2020_med', \n",
    "             'AI98_volume_2021_q95', \n",
    "             'AI95_volume_2021_norm', 'AI98_volume_2021_norm', \n",
    "             'AI92_volume_2021_norm_q95',  \n",
    "             'AI98_volume_2020_norm_q95', \n",
    "             'diesel_volume_2020_norm_q95',\n",
    "             'diesel_vol_quant',\n",
    "           \n",
    "             'AI92_cost_2020_q95_log', 'AI92_cost_2021_q95_log', 'AI95_cost_2020_q95_log', \n",
    "             'AI98_cost_2020_q95_log',  \n",
    "             'diesel_cost_2020_q95_log', \n",
    "             'AI98_volume_2020_q95_log', \n",
    "           \n",
    "             'n_contracts', \n",
    "             'n_okovd_add', 'n_licenses', \n",
    "             'n_contracts_log', 'n_agreements_log', 'n_okovd_add_log', 'n_licenses_q95_log', 'n_products_log', \n",
    "           \n",
    "             'n_employees', 'n_employees_med', 'n_employees_q95_log', 'n_employees_quant'\n",
    "            ]"
   ]
  },
  {
   "cell_type": "code",
   "execution_count": 47,
   "id": "a7560d01",
   "metadata": {},
   "outputs": [],
   "source": [
    "scaler = StandardScaler()\n",
    "X_train_scaled_7 = scaler.fit_transform(X_train[num_col_7])\n",
    "X_train_scaled_7 = pd.DataFrame(X_train_scaled_7, columns=num_col_7)"
   ]
  },
  {
   "cell_type": "code",
   "execution_count": 48,
   "id": "aca486cd",
   "metadata": {},
   "outputs": [],
   "source": [
    "ohe = OneHotEncoder(handle_unknown='ignore', sparse=False)\n",
    "X_train_ohe_7 = ohe.fit_transform(X_train[cat_col_7])\n",
    "X_train_ohe_7 = pd.DataFrame(X_train_ohe_7, columns=ohe.get_feature_names_out())"
   ]
  },
  {
   "cell_type": "code",
   "execution_count": 49,
   "id": "f618c090",
   "metadata": {},
   "outputs": [],
   "source": [
    "X_train_all_feat_7 = pd.concat([X_train_ohe_7, X_train[bin_col_7], X_train_scaled_7], axis=1)"
   ]
  },
  {
   "cell_type": "code",
   "execution_count": 50,
   "id": "7491c5ff",
   "metadata": {},
   "outputs": [],
   "source": [
    "lr_7 = LogisticRegression(penalty='l1', C=0.8, class_weight='balanced', max_iter=200, \n",
    "                        random_state=42, solver='saga', verbose=1, n_jobs=-1)"
   ]
  },
  {
   "cell_type": "code",
   "execution_count": 51,
   "id": "c1121b15",
   "metadata": {},
   "outputs": [
    {
     "name": "stderr",
     "output_type": "stream",
     "text": [
      "[Parallel(n_jobs=-1)]: Using backend ThreadingBackend with 12 concurrent workers.\n"
     ]
    },
    {
     "name": "stdout",
     "output_type": "stream",
     "text": [
      "max_iter reached after 1649 seconds\n",
      "Wall time: 27min 34s\n"
     ]
    },
    {
     "name": "stderr",
     "output_type": "stream",
     "text": [
      "C:\\Users\\013\\AppData\\Roaming\\Python\\Python38\\site-packages\\sklearn\\linear_model\\_sag.py:352: ConvergenceWarning: The max_iter was reached which means the coef_ did not converge\n",
      "  warnings.warn(\n",
      "[Parallel(n_jobs=-1)]: Done   1 out of   1 | elapsed: 27.5min finished\n"
     ]
    },
    {
     "data": {
      "text/plain": [
       "LogisticRegression(C=0.8, class_weight='balanced', max_iter=200, n_jobs=-1,\n",
       "                   penalty='l1', random_state=42, solver='saga', verbose=1)"
      ]
     },
     "execution_count": 51,
     "metadata": {},
     "output_type": "execute_result"
    }
   ],
   "source": [
    "%%time\n",
    "lr_7.fit(X_train_all_feat_7, X_train.target)"
   ]
  },
  {
   "cell_type": "code",
   "execution_count": 52,
   "id": "acf7c641",
   "metadata": {},
   "outputs": [
    {
     "name": "stdout",
     "output_type": "stream",
     "text": [
      "roc_auc: 0.7644, prec: 0.3558, rec: 0.1840, f-score: 0.2426, th: 0.8575\n"
     ]
    }
   ],
   "source": [
    "lr_predict_7 = lr_7.predict_proba(X_train_all_feat_7)[:, 1]\n",
    "\n",
    "roc_auc, prec, rec, f_score, th = get_metrics(X_train.target, lr_predict_7)\n",
    "print(f'roc_auc: {roc_auc:.4f}, prec: {prec:.4f}, rec: {rec:.4f},'\n",
    "      f' f-score: {f_score:.4f}, th: {th:.4f}')"
   ]
  },
  {
   "cell_type": "code",
   "execution_count": 53,
   "id": "e01b6362",
   "metadata": {},
   "outputs": [
    {
     "name": "stdout",
     "output_type": "stream",
     "text": [
      "Confusion matrix, without normalization\n",
      "[[911325   6168]\n",
      " [ 15102   3405]]\n"
     ]
    },
    {
     "data": {
      "image/png": "[encoded data removed]",
      "text/plain": [
       "<Figure size 720x576 with 2 Axes>"
      ]
     },
     "metadata": {
      "needs_background": "light"
     },
     "output_type": "display_data"
    }
   ],
   "source": [
    "font = {'size': 15}\n",
    "\n",
    "plt.rc('font', **font)\n",
    "\n",
    "cnf_matrix = confusion_matrix(X_train.target, lr_predict_7 > th)\n",
    "\n",
    "plt.figure(figsize=(10, 8))\n",
    "plot_confusion_matrix(cnf_matrix, classes=[0, 1], title='Confusion Matrix')"
   ]
  },
  {
   "cell_type": "code",
   "execution_count": null,
   "id": "29e6da1a",
   "metadata": {},
   "outputs": [],
   "source": []
  },
  {
   "cell_type": "code",
   "execution_count": 54,
   "id": "73dd9802",
   "metadata": {},
   "outputs": [],
   "source": [
    "rf_7 = RandomForestClassifier(class_weight='balanced', oob_score=True, n_jobs=-1)"
   ]
  },
  {
   "cell_type": "code",
   "execution_count": 55,
   "id": "44ffb38d",
   "metadata": {},
   "outputs": [
    {
     "name": "stdout",
     "output_type": "stream",
     "text": [
      "roc_auc: 1.0000, prec: 0.9997, rec: 1.0000, f-score: 0.9998, th: 0.4400\n",
      "Wall time: 3min 43s\n"
     ]
    }
   ],
   "source": [
    "%%time\n",
    "rf_7.fit(X_train_all_feat_7, X_train.target)\n",
    "\n",
    "rf_predict_7 = rf_7.predict_proba(X_train_all_feat_7)[:, 1]\n",
    "\n",
    "roc_auc, prec, rec, f_score, th = get_metrics(X_train.target, rf_predict_7)\n",
    "print(f'roc_auc: {roc_auc:.4f}, prec: {prec:.4f}, rec: {rec:.4f},'\n",
    "      f' f-score: {f_score:.4f}, th: {th:.4f}')"
   ]
  },
  {
   "cell_type": "code",
   "execution_count": 56,
   "id": "c2b28e56",
   "metadata": {},
   "outputs": [
    {
     "name": "stdout",
     "output_type": "stream",
     "text": [
      "roc_auc: 0.7071, prec: 0.4793, rec: 0.1874, f-score: 0.2694, th: 0.1892\n"
     ]
    }
   ],
   "source": [
    "oob_pred_train_7 = rf_7.oob_decision_function_[:, 1]\n",
    "\n",
    "roc_auc, prec, rec, f_score, th = get_metrics(X_train.target, oob_pred_train_7)\n",
    "print(f'roc_auc: {roc_auc:.4f}, prec: {prec:.4f}, rec: {rec:.4f},'\n",
    "      f' f-score: {f_score:.4f}, th: {th:.4f}')"
   ]
  },
  {
   "cell_type": "code",
   "execution_count": 57,
   "id": "ccca7690",
   "metadata": {},
   "outputs": [
    {
     "name": "stdout",
     "output_type": "stream",
     "text": [
      "Confusion matrix, without normalization\n",
      "[[913836   3657]\n",
      " [ 15061   3446]]\n"
     ]
    },
    {
     "data": {
      "image/png": "[encoded data removed]",
      "text/plain": [
       "<Figure size 720x576 with 2 Axes>"
      ]
     },
     "metadata": {
      "needs_background": "light"
     },
     "output_type": "display_data"
    }
   ],
   "source": [
    "cnf_matrix_rf = confusion_matrix(X_train.target, oob_pred_train_7 > th)\n",
    "\n",
    "plt.figure(figsize=(10, 8))\n",
    "plot_confusion_matrix(cnf_matrix_rf, classes=[0, 1], title='Confusion Matrix')"
   ]
  },
  {
   "cell_type": "markdown",
   "id": "85386bb0",
   "metadata": {},
   "source": [
    "начали с:\n",
    "\n",
    "lr:\n",
    "\n",
    "        roc_auc: 0.7614, prec: 0.3735, rec: 0.1814, f-score: 0.2442, th: 0.8565\n",
    "        \n",
    "rf:\n",
    "\n",
    "        на трейне - заметно переобучен:\n",
    "        roc_auc: 1.0000, prec: 0.9997, rec: 1.0000, f-score: 0.9999, th: 0.4300\n",
    "        oob-score: \n",
    "        roc_auc: 0.7076, prec: 0.4307, rec: 0.1957, f-score: 0.2691, th: 0.1750\n"
   ]
  },
  {
   "cell_type": "markdown",
   "id": "a998ff86",
   "metadata": {},
   "source": [
    "- пришли к:\n",
    "\n",
    "lr_6:\n",
    "\n",
    "        roc_auc: 0.7644, prec: 0.3558, rec: 0.1840, f-score: 0.2426, th: 0.8575\n",
    "\n",
    "rf_6 oob:\n",
    "\n",
    "        roc_auc: 0.7071, prec: 0.4793, rec: 0.1874, f-score: 0.2694, th: 0.1892"
   ]
  },
  {
   "cell_type": "markdown",
   "id": "cbb5e9e2",
   "metadata": {},
   "source": [
    "- потенциал есть + как опора для предварительного отбора даже с простыми моделями\n",
    "- + если подобрать нужный $\\beta$-коэф-т для f-score..."
   ]
  },
  {
   "cell_type": "markdown",
   "id": "f7d5f0cc",
   "metadata": {},
   "source": [
    "- **lgbm**"
   ]
  },
  {
   "cell_type": "code",
   "execution_count": 112,
   "id": "c9e12283",
   "metadata": {},
   "outputs": [],
   "source": [
    "metrics_df = pd.DataFrame({'roc-auc': [], 'prec': [], 'rec': [], 'f-score': [], 'th': []})"
   ]
  },
  {
   "cell_type": "code",
   "execution_count": 26,
   "id": "7164858b",
   "metadata": {},
   "outputs": [
    {
     "name": "stdout",
     "output_type": "stream",
     "text": [
      "Wall time: 17.3 s\n"
     ]
    },
    {
     "data": {
      "text/plain": [
       "LGBMClassifier(class_weight='balanced', max_depth=7, objective='binary',\n",
       "               random_state=42, subsample=0.8)"
      ]
     },
     "execution_count": 26,
     "metadata": {},
     "output_type": "execute_result"
    }
   ],
   "source": [
    "%%time\n",
    "lgb1 = LGBMClassifier(objective='binary', max_depth=7, \n",
    "                     class_weight='balanced',\n",
    "                     subsample=0.8,\n",
    "                     random_state=42,\n",
    "                     n_jobs=-1\n",
    "                    )\n",
    "lgb1.fit(X_train_all_feat_7, X_train.target)"
   ]
  },
  {
   "cell_type": "code",
   "execution_count": 29,
   "id": "57f1e55c",
   "metadata": {},
   "outputs": [
    {
     "name": "stdout",
     "output_type": "stream",
     "text": [
      "roc_auc: 0.8339, prec: 0.3974, rec: 0.2316, f-score: 0.2926, th: 0.8370\n"
     ]
    }
   ],
   "source": [
    "lgb_train_preds = lgb1.predict_proba(X_train_all_feat_7)[:, 1]\n",
    "\n",
    "roc_auc, prec, rec, f_score, th = get_metrics(X_train.target, lgb_train_preds)\n",
    "print(f'roc_auc: {roc_auc:.4f}, prec: {prec:.4f}, rec: {rec:.4f},'\n",
    "      f' f-score: {f_score:.4f}, th: {th:.4f}')"
   ]
  },
  {
   "cell_type": "code",
   "execution_count": 117,
   "id": "b834a485",
   "metadata": {},
   "outputs": [
    {
     "data": {
      "text/html": [
       "<div>\n",
       "<style scoped>\n",
       "    .dataframe tbody tr th:only-of-type {\n",
       "        vertical-align: middle;\n",
       "    }\n",
       "\n",
       "    .dataframe tbody tr th {\n",
       "        vertical-align: top;\n",
       "    }\n",
       "\n",
       "    .dataframe thead th {\n",
       "        text-align: right;\n",
       "    }\n",
       "</style>\n",
       "<table border=\"1\" class=\"dataframe\">\n",
       "  <thead>\n",
       "    <tr style=\"text-align: right;\">\n",
       "      <th></th>\n",
       "      <th>roc-auc</th>\n",
       "      <th>prec</th>\n",
       "      <th>rec</th>\n",
       "      <th>f-score</th>\n",
       "      <th>th</th>\n",
       "    </tr>\n",
       "  </thead>\n",
       "  <tbody>\n",
       "    <tr>\n",
       "      <th>lgb</th>\n",
       "      <td>0.833944</td>\n",
       "      <td>0.455865</td>\n",
       "      <td>0.213757</td>\n",
       "      <td>0.291043</td>\n",
       "      <td>0.861212</td>\n",
       "    </tr>\n",
       "  </tbody>\n",
       "</table>\n",
       "</div>"
      ],
      "text/plain": [
       "      roc-auc      prec       rec   f-score        th\n",
       "lgb  0.833944  0.455865  0.213757  0.291043  0.861212"
      ]
     },
     "execution_count": 117,
     "metadata": {},
     "output_type": "execute_result"
    }
   ],
   "source": [
    "metrics_df.loc['lgb'] = [roc_auc, prec, rec, f_score, th]\n",
    "metrics_df"
   ]
  },
  {
   "cell_type": "code",
   "execution_count": 116,
   "id": "3884f40d",
   "metadata": {},
   "outputs": [
    {
     "name": "stdout",
     "output_type": "stream",
     "text": [
      "Confusion matrix, without normalization\n",
      "[[912771   4722]\n",
      " [ 14552   3955]]\n"
     ]
    },
    {
     "data": {
      "image/png": "[encoded data removed]",
      "text/plain": [
       "<Figure size 720x576 with 2 Axes>"
      ]
     },
     "metadata": {
      "needs_background": "light"
     },
     "output_type": "display_data"
    }
   ],
   "source": [
    "font = {'size': 15}\n",
    "\n",
    "plt.rc('font', **font)\n",
    "\n",
    "cnf_matrix_rf = confusion_matrix(X_train.target, lgb_train_preds > th)\n",
    "\n",
    "plt.figure(figsize=(10, 8))\n",
    "plot_confusion_matrix(cnf_matrix_rf, classes=[0, 1], title='Confusion Matrix')"
   ]
  },
  {
   "cell_type": "code",
   "execution_count": 55,
   "id": "fe361402",
   "metadata": {},
   "outputs": [
    {
     "data": {
      "text/html": [
       "<div>\n",
       "<style scoped>\n",
       "    .dataframe tbody tr th:only-of-type {\n",
       "        vertical-align: middle;\n",
       "    }\n",
       "\n",
       "    .dataframe tbody tr th {\n",
       "        vertical-align: top;\n",
       "    }\n",
       "\n",
       "    .dataframe thead th {\n",
       "        text-align: right;\n",
       "    }\n",
       "</style>\n",
       "<table border=\"1\" class=\"dataframe\">\n",
       "  <thead>\n",
       "    <tr style=\"text-align: right;\">\n",
       "      <th></th>\n",
       "      <th>feat</th>\n",
       "      <th>importance</th>\n",
       "    </tr>\n",
       "  </thead>\n",
       "  <tbody>\n",
       "    <tr>\n",
       "      <th>261</th>\n",
       "      <td>from_registr_days_log</td>\n",
       "      <td>135</td>\n",
       "    </tr>\n",
       "    <tr>\n",
       "      <th>288</th>\n",
       "      <td>2021_2110</td>\n",
       "      <td>106</td>\n",
       "    </tr>\n",
       "    <tr>\n",
       "      <th>324</th>\n",
       "      <td>tax_arrears_log</td>\n",
       "      <td>102</td>\n",
       "    </tr>\n",
       "    <tr>\n",
       "      <th>276</th>\n",
       "      <td>2021_1520_q95</td>\n",
       "      <td>101</td>\n",
       "    </tr>\n",
       "    <tr>\n",
       "      <th>287</th>\n",
       "      <td>2020_1700_q95_growth</td>\n",
       "      <td>89</td>\n",
       "    </tr>\n",
       "    <tr>\n",
       "      <th>250</th>\n",
       "      <td>target_fract_per_region</td>\n",
       "      <td>85</td>\n",
       "    </tr>\n",
       "    <tr>\n",
       "      <th>272</th>\n",
       "      <td>2021_1150_q95</td>\n",
       "      <td>76</td>\n",
       "    </tr>\n",
       "    <tr>\n",
       "      <th>275</th>\n",
       "      <td>2021_1300_q95</td>\n",
       "      <td>67</td>\n",
       "    </tr>\n",
       "    <tr>\n",
       "      <th>357</th>\n",
       "      <td>n_employees</td>\n",
       "      <td>61</td>\n",
       "    </tr>\n",
       "    <tr>\n",
       "      <th>280</th>\n",
       "      <td>2020_1210_q95_growth</td>\n",
       "      <td>61</td>\n",
       "    </tr>\n",
       "    <tr>\n",
       "      <th>300</th>\n",
       "      <td>2020_2110_q95_growth</td>\n",
       "      <td>58</td>\n",
       "    </tr>\n",
       "    <tr>\n",
       "      <th>282</th>\n",
       "      <td>2020_1250_q95_growth</td>\n",
       "      <td>58</td>\n",
       "    </tr>\n",
       "    <tr>\n",
       "      <th>274</th>\n",
       "      <td>2021_1230_q95</td>\n",
       "      <td>58</td>\n",
       "    </tr>\n",
       "    <tr>\n",
       "      <th>263</th>\n",
       "      <td>from_inclusion_days</td>\n",
       "      <td>56</td>\n",
       "    </tr>\n",
       "    <tr>\n",
       "      <th>350</th>\n",
       "      <td>n_okovd_add</td>\n",
       "      <td>55</td>\n",
       "    </tr>\n",
       "    <tr>\n",
       "      <th>273</th>\n",
       "      <td>2021_1210_q95</td>\n",
       "      <td>52</td>\n",
       "    </tr>\n",
       "    <tr>\n",
       "      <th>306</th>\n",
       "      <td>2020_2400_q95_growth</td>\n",
       "      <td>47</td>\n",
       "    </tr>\n",
       "    <tr>\n",
       "      <th>278</th>\n",
       "      <td>2020_1150_q95_growth</td>\n",
       "      <td>46</td>\n",
       "    </tr>\n",
       "    <tr>\n",
       "      <th>321</th>\n",
       "      <td>arrears_log</td>\n",
       "      <td>45</td>\n",
       "    </tr>\n",
       "    <tr>\n",
       "      <th>277</th>\n",
       "      <td>2020_1700_q95</td>\n",
       "      <td>44</td>\n",
       "    </tr>\n",
       "  </tbody>\n",
       "</table>\n",
       "</div>"
      ],
      "text/plain": [
       "                        feat  importance\n",
       "261    from_registr_days_log         135\n",
       "288                2021_2110         106\n",
       "324          tax_arrears_log         102\n",
       "276            2021_1520_q95         101\n",
       "287     2020_1700_q95_growth          89\n",
       "250  target_fract_per_region          85\n",
       "272            2021_1150_q95          76\n",
       "275            2021_1300_q95          67\n",
       "357              n_employees          61\n",
       "280     2020_1210_q95_growth          61\n",
       "300     2020_2110_q95_growth          58\n",
       "282     2020_1250_q95_growth          58\n",
       "274            2021_1230_q95          58\n",
       "263      from_inclusion_days          56\n",
       "350              n_okovd_add          55\n",
       "273            2021_1210_q95          52\n",
       "306     2020_2400_q95_growth          47\n",
       "278     2020_1150_q95_growth          46\n",
       "321              arrears_log          45\n",
       "277            2020_1700_q95          44"
      ]
     },
     "execution_count": 55,
     "metadata": {},
     "output_type": "execute_result"
    }
   ],
   "source": [
    "feats_imp = pd.DataFrame({'feat': lgb.feature_name_,\n",
    "                          'importance': lgb.feature_importances_\n",
    "                         })\n",
    "\n",
    "feats_imp.sort_values('importance', ascending=False)[:20]"
   ]
  },
  {
   "cell_type": "markdown",
   "id": "8049c3a0",
   "metadata": {},
   "source": [
    "- **xgboost**"
   ]
  },
  {
   "cell_type": "code",
   "execution_count": 118,
   "id": "93cf3571",
   "metadata": {},
   "outputs": [
    {
     "name": "stdout",
     "output_type": "stream",
     "text": [
      "Wall time: 5min 48s\n"
     ]
    },
    {
     "data": {
      "text/plain": [
       "XGBClassifier(base_score=0.5, booster='gbtree', callbacks=None,\n",
       "              colsample_bylevel=1, colsample_bynode=1, colsample_bytree=1,\n",
       "              early_stopping_rounds=None, enable_categorical=False,\n",
       "              eval_metric=None, gamma=0, gpu_id=-1, grow_policy='depthwise',\n",
       "              importance_type=None, interaction_constraints='',\n",
       "              learning_rate=0.300000012, max_bin=256, max_cat_to_onehot=4,\n",
       "              max_delta_step=0, max_depth=7, max_leaves=0, min_child_weight=1,\n",
       "              missing=nan, monotone_constraints='()', n_estimators=100,\n",
       "              n_jobs=-1, num_parallel_tree=1, predictor='auto', random_state=42,\n",
       "              reg_alpha=0, reg_lambda=1, ...)"
      ]
     },
     "execution_count": 118,
     "metadata": {},
     "output_type": "execute_result"
    }
   ],
   "source": [
    "%%time\n",
    "xgb1 = XGBClassifier(max_depth=7, \n",
    "                     subsample=0.8,\n",
    "                     random_state=42,\n",
    "                     n_jobs=-1\n",
    "                    )\n",
    "xgb1.fit(X_train_all_feat_7, X_train.target)"
   ]
  },
  {
   "cell_type": "code",
   "execution_count": 119,
   "id": "0720e834",
   "metadata": {},
   "outputs": [
    {
     "name": "stdout",
     "output_type": "stream",
     "text": [
      "roc_auc: 0.9021, prec: 0.5965, rec: 0.3495, f-score: 0.4408, th: 0.1433\n"
     ]
    }
   ],
   "source": [
    "xgb_train_preds = xgb1.predict_proba(X_train_all_feat_7)[:, 1]\n",
    "\n",
    "roc_auc, prec, rec, f_score, th = get_metrics(X_train.target, xgb_train_preds)\n",
    "print(f'roc_auc: {roc_auc:.4f}, prec: {prec:.4f}, rec: {rec:.4f},'\n",
    "      f' f-score: {f_score:.4f}, th: {th:.4f}')"
   ]
  },
  {
   "cell_type": "code",
   "execution_count": 120,
   "id": "4979be82",
   "metadata": {},
   "outputs": [
    {
     "data": {
      "text/html": [
       "<div>\n",
       "<style scoped>\n",
       "    .dataframe tbody tr th:only-of-type {\n",
       "        vertical-align: middle;\n",
       "    }\n",
       "\n",
       "    .dataframe tbody tr th {\n",
       "        vertical-align: top;\n",
       "    }\n",
       "\n",
       "    .dataframe thead th {\n",
       "        text-align: right;\n",
       "    }\n",
       "</style>\n",
       "<table border=\"1\" class=\"dataframe\">\n",
       "  <thead>\n",
       "    <tr style=\"text-align: right;\">\n",
       "      <th></th>\n",
       "      <th>roc-auc</th>\n",
       "      <th>prec</th>\n",
       "      <th>rec</th>\n",
       "      <th>f-score</th>\n",
       "      <th>th</th>\n",
       "    </tr>\n",
       "  </thead>\n",
       "  <tbody>\n",
       "    <tr>\n",
       "      <th>lgb</th>\n",
       "      <td>0.833944</td>\n",
       "      <td>0.455865</td>\n",
       "      <td>0.213757</td>\n",
       "      <td>0.291043</td>\n",
       "      <td>0.861212</td>\n",
       "    </tr>\n",
       "    <tr>\n",
       "      <th>xgb</th>\n",
       "      <td>0.902146</td>\n",
       "      <td>0.596496</td>\n",
       "      <td>0.349543</td>\n",
       "      <td>0.440788</td>\n",
       "      <td>0.143275</td>\n",
       "    </tr>\n",
       "  </tbody>\n",
       "</table>\n",
       "</div>"
      ],
      "text/plain": [
       "      roc-auc      prec       rec   f-score        th\n",
       "lgb  0.833944  0.455865  0.213757  0.291043  0.861212\n",
       "xgb  0.902146  0.596496  0.349543  0.440788  0.143275"
      ]
     },
     "execution_count": 120,
     "metadata": {},
     "output_type": "execute_result"
    }
   ],
   "source": [
    "metrics_df.loc['xgb'] = [roc_auc, prec, rec, f_score, th]\n",
    "metrics_df"
   ]
  },
  {
   "cell_type": "code",
   "execution_count": 121,
   "id": "cc0e49e9",
   "metadata": {},
   "outputs": [
    {
     "name": "stdout",
     "output_type": "stream",
     "text": [
      "Confusion matrix, without normalization\n",
      "[[913117   4376]\n",
      " [ 12039   6468]]\n"
     ]
    },
    {
     "data": {
      "image/png": "[encoded data removed]",
      "text/plain": [
       "<Figure size 720x576 with 2 Axes>"
      ]
     },
     "metadata": {
      "needs_background": "light"
     },
     "output_type": "display_data"
    }
   ],
   "source": [
    "font = {'size': 15}\n",
    "\n",
    "plt.rc('font', **font)\n",
    "\n",
    "cnf_matrix_rf = confusion_matrix(X_train.target, xgb_train_preds > th)\n",
    "\n",
    "plt.figure(figsize=(10, 8))\n",
    "plot_confusion_matrix(cnf_matrix_rf, classes=[0, 1], title='Confusion Matrix')"
   ]
  },
  {
   "cell_type": "markdown",
   "id": "ce99c21e",
   "metadata": {},
   "source": [
    "- у lgbm неплохая метрика на трейне\n",
    "- xgb скорее всего тоже переобучен\n",
    "- но нужно посмотреть валидацию\n",
    "- lgbm работает очень быстро"
   ]
  },
  {
   "cell_type": "raw",
   "id": "6383b446",
   "metadata": {},
   "source": [
    "- кросвалидация"
   ]
  },
  {
   "cell_type": "code",
   "execution_count": 78,
   "id": "6a81cdbc",
   "metadata": {},
   "outputs": [],
   "source": [
    "params = {\n",
    "    'max_depth': [5, 7, 9],\n",
    "    'n_estimators': [50, 100, 200],\n",
    "    'class_weight': ['balanced'], \n",
    "    'subsample': [0.6, 0.8, 1] \n",
    "}"
   ]
  },
  {
   "cell_type": "code",
   "execution_count": 79,
   "id": "f2aeab63",
   "metadata": {},
   "outputs": [
    {
     "name": "stdout",
     "output_type": "stream",
     "text": [
      "Fitting 3 folds for each of 27 candidates, totalling 81 fits\n",
      "Wall time: 13min 24s\n"
     ]
    },
    {
     "data": {
      "text/plain": [
       "GridSearchCV(cv=3, estimator=LGBMClassifier(objective='binary'), n_jobs=6,\n",
       "             param_grid={'class_weight': ['balanced'], 'max_depth': [5, 7, 9],\n",
       "                         'n_estimators': [50, 100, 200],\n",
       "                         'subsample': [0.6, 0.8, 1]},\n",
       "             refit='roc_auc', scoring=['roc_auc', 'precision', 'recall', 'f1'],\n",
       "             verbose=True)"
      ]
     },
     "execution_count": 79,
     "metadata": {},
     "output_type": "execute_result"
    }
   ],
   "source": [
    "%%time\n",
    "lgb = LGBMClassifier(objective='binary',\n",
    "                    )\n",
    "\n",
    "lgbm_gscv = GridSearchCV(estimator=lgb,\n",
    "                         param_grid=params,\n",
    "                         scoring=['roc_auc', 'precision', 'recall', 'f1'],\n",
    "                         n_jobs=6,\n",
    "                         cv=3,\n",
    "                         refit='roc_auc',\n",
    "                         verbose=True\n",
    "                        )\n",
    "lgbm_gscv.fit(X_train_all_feat_7, X_train.target)"
   ]
  },
  {
   "cell_type": "code",
   "execution_count": 58,
   "id": "32568714",
   "metadata": {
    "scrolled": true
   },
   "outputs": [],
   "source": [
    "# lgbm_gscv.cv_results_"
   ]
  },
  {
   "cell_type": "markdown",
   "id": "b82dc2aa",
   "metadata": {},
   "source": [
    "LGBMClassifier(class_weight='balanced', max_depth=7, objective='binary', subsample=0.6)\n",
    "\n",
    "'n_estimators': 100,"
   ]
  },
  {
   "cell_type": "code",
   "execution_count": 81,
   "id": "c959d3f9",
   "metadata": {},
   "outputs": [
    {
     "data": {
      "text/plain": [
       "LGBMClassifier(class_weight='balanced', max_depth=7, objective='binary',\n",
       "               subsample=0.6)"
      ]
     },
     "execution_count": 81,
     "metadata": {},
     "output_type": "execute_result"
    }
   ],
   "source": [
    "lgbm_gscv.best_estimator_"
   ]
  },
  {
   "cell_type": "code",
   "execution_count": 85,
   "id": "89ce20fd",
   "metadata": {},
   "outputs": [
    {
     "data": {
      "text/plain": [
       "0.7980591878421569"
      ]
     },
     "execution_count": 85,
     "metadata": {},
     "output_type": "execute_result"
    }
   ],
   "source": [
    "lgbm_gscv.best_score_"
   ]
  },
  {
   "cell_type": "code",
   "execution_count": 122,
   "id": "1ee782c9",
   "metadata": {},
   "outputs": [
    {
     "name": "stdout",
     "output_type": "stream",
     "text": [
      "mean_test_roc_auc 0.7980591878421569\n",
      "mean_test_precision 0.04983357702406858\n",
      "mean_test_recall 0.6966553196087967\n",
      "mean_test_f1 0.0930130393044931\n",
      "std_test_roc_auc 0.0035939966258005307\n"
     ]
    }
   ],
   "source": [
    "lgbm_metrics = []\n",
    "for key in ['mean_test_roc_auc', 'mean_test_precision', 'mean_test_recall', 'mean_test_f1']:\n",
    "    print(key, lgbm_gscv.cv_results_[key][lgbm_gscv.best_index_])\n",
    "    lgbm_metrics.append(lgbm_gscv.cv_results_[key][lgbm_gscv.best_index_])\n",
    "    \n",
    "    \n",
    "print('std_test_roc_auc', lgbm_gscv.cv_results_['std_test_roc_auc'][lgbm_gscv.best_index_])\n",
    "lgbm_metrics.append(None)"
   ]
  },
  {
   "cell_type": "code",
   "execution_count": 125,
   "id": "664ef5c5",
   "metadata": {},
   "outputs": [
    {
     "data": {
      "text/html": [
       "<div>\n",
       "<style scoped>\n",
       "    .dataframe tbody tr th:only-of-type {\n",
       "        vertical-align: middle;\n",
       "    }\n",
       "\n",
       "    .dataframe tbody tr th {\n",
       "        vertical-align: top;\n",
       "    }\n",
       "\n",
       "    .dataframe thead th {\n",
       "        text-align: right;\n",
       "    }\n",
       "</style>\n",
       "<table border=\"1\" class=\"dataframe\">\n",
       "  <thead>\n",
       "    <tr style=\"text-align: right;\">\n",
       "      <th></th>\n",
       "      <th>roc-auc</th>\n",
       "      <th>prec</th>\n",
       "      <th>rec</th>\n",
       "      <th>f-score</th>\n",
       "      <th>th</th>\n",
       "    </tr>\n",
       "  </thead>\n",
       "  <tbody>\n",
       "    <tr>\n",
       "      <th>lgb</th>\n",
       "      <td>0.833944</td>\n",
       "      <td>0.455865</td>\n",
       "      <td>0.213757</td>\n",
       "      <td>0.291043</td>\n",
       "      <td>0.861212</td>\n",
       "    </tr>\n",
       "    <tr>\n",
       "      <th>xgb</th>\n",
       "      <td>0.902146</td>\n",
       "      <td>0.596496</td>\n",
       "      <td>0.349543</td>\n",
       "      <td>0.440788</td>\n",
       "      <td>0.143275</td>\n",
       "    </tr>\n",
       "    <tr>\n",
       "      <th>lgb_cv_valid_mean</th>\n",
       "      <td>0.798059</td>\n",
       "      <td>0.049834</td>\n",
       "      <td>0.696655</td>\n",
       "      <td>0.093013</td>\n",
       "      <td>NaN</td>\n",
       "    </tr>\n",
       "  </tbody>\n",
       "</table>\n",
       "</div>"
      ],
      "text/plain": [
       "                    roc-auc      prec       rec   f-score        th\n",
       "lgb                0.833944  0.455865  0.213757  0.291043  0.861212\n",
       "xgb                0.902146  0.596496  0.349543  0.440788  0.143275\n",
       "lgb_cv_valid_mean  0.798059  0.049834  0.696655  0.093013       NaN"
      ]
     },
     "execution_count": 125,
     "metadata": {},
     "output_type": "execute_result"
    }
   ],
   "source": [
    "metrics_df.loc['lgb_cv_valid_mean'] = lgbm_metrics\n",
    "metrics_df"
   ]
  },
  {
   "cell_type": "markdown",
   "id": "6f18a816",
   "metadata": {},
   "source": [
    "- на трейне с лучшими гиперпараметрами"
   ]
  },
  {
   "cell_type": "code",
   "execution_count": 135,
   "id": "8fea6e13",
   "metadata": {},
   "outputs": [
    {
     "name": "stderr",
     "output_type": "stream",
     "text": [
      "C:\\Users\\013\\AppData\\Local\\Temp/ipykernel_7740/1415255493.py:4: RuntimeWarning: invalid value encountered in true_divide\n",
      "  fscore = (2 * precision * recall) / (precision + recall)\n"
     ]
    },
    {
     "name": "stdout",
     "output_type": "stream",
     "text": [
      "roc_auc: 0.8346, prec: 0.4328, rec: 0.2211, f-score: 0.2926, th: 0.8527\n"
     ]
    }
   ],
   "source": [
    "lgb_train_preds = lgbm_gscv.best_estimator_.predict_proba(X_train_all_feat_7)[:, 1]\n",
    "\n",
    "roc_auc, prec, rec, f_score, th = get_metrics(X_train.target, lgb_train_preds)\n",
    "print(f'roc_auc: {roc_auc:.4f}, prec: {prec:.4f}, rec: {rec:.4f},'\n",
    "      f' f-score: {f_score:.4f}, th: {th:.4f}')"
   ]
  },
  {
   "cell_type": "code",
   "execution_count": 136,
   "id": "f961e935",
   "metadata": {},
   "outputs": [
    {
     "data": {
      "text/html": [
       "<div>\n",
       "<style scoped>\n",
       "    .dataframe tbody tr th:only-of-type {\n",
       "        vertical-align: middle;\n",
       "    }\n",
       "\n",
       "    .dataframe tbody tr th {\n",
       "        vertical-align: top;\n",
       "    }\n",
       "\n",
       "    .dataframe thead th {\n",
       "        text-align: right;\n",
       "    }\n",
       "</style>\n",
       "<table border=\"1\" class=\"dataframe\">\n",
       "  <thead>\n",
       "    <tr style=\"text-align: right;\">\n",
       "      <th></th>\n",
       "      <th>roc-auc</th>\n",
       "      <th>prec</th>\n",
       "      <th>rec</th>\n",
       "      <th>f-score</th>\n",
       "      <th>th</th>\n",
       "    </tr>\n",
       "  </thead>\n",
       "  <tbody>\n",
       "    <tr>\n",
       "      <th>lgb</th>\n",
       "      <td>0.833944</td>\n",
       "      <td>0.455865</td>\n",
       "      <td>0.213757</td>\n",
       "      <td>0.291043</td>\n",
       "      <td>0.861212</td>\n",
       "    </tr>\n",
       "    <tr>\n",
       "      <th>xgb</th>\n",
       "      <td>0.902146</td>\n",
       "      <td>0.596496</td>\n",
       "      <td>0.349543</td>\n",
       "      <td>0.440788</td>\n",
       "      <td>0.143275</td>\n",
       "    </tr>\n",
       "    <tr>\n",
       "      <th>lgb_cv_valid_mean</th>\n",
       "      <td>0.798059</td>\n",
       "      <td>0.049834</td>\n",
       "      <td>0.696655</td>\n",
       "      <td>0.093013</td>\n",
       "      <td>NaN</td>\n",
       "    </tr>\n",
       "    <tr>\n",
       "      <th>xgb_cv_valid_mean</th>\n",
       "      <td>0.793201</td>\n",
       "      <td>0.789404</td>\n",
       "      <td>0.129789</td>\n",
       "      <td>0.222923</td>\n",
       "      <td>NaN</td>\n",
       "    </tr>\n",
       "    <tr>\n",
       "      <th>xgb_cv_train_mean</th>\n",
       "      <td>0.826222</td>\n",
       "      <td>0.501693</td>\n",
       "      <td>0.232182</td>\n",
       "      <td>0.317450</td>\n",
       "      <td>0.138480</td>\n",
       "    </tr>\n",
       "    <tr>\n",
       "      <th>lgb_cv_train_mean</th>\n",
       "      <td>0.834626</td>\n",
       "      <td>0.432773</td>\n",
       "      <td>0.221051</td>\n",
       "      <td>0.292632</td>\n",
       "      <td>0.852732</td>\n",
       "    </tr>\n",
       "  </tbody>\n",
       "</table>\n",
       "</div>"
      ],
      "text/plain": [
       "                    roc-auc      prec       rec   f-score        th\n",
       "lgb                0.833944  0.455865  0.213757  0.291043  0.861212\n",
       "xgb                0.902146  0.596496  0.349543  0.440788  0.143275\n",
       "lgb_cv_valid_mean  0.798059  0.049834  0.696655  0.093013       NaN\n",
       "xgb_cv_valid_mean  0.793201  0.789404  0.129789  0.222923       NaN\n",
       "xgb_cv_train_mean  0.826222  0.501693  0.232182  0.317450  0.138480\n",
       "lgb_cv_train_mean  0.834626  0.432773  0.221051  0.292632  0.852732"
      ]
     },
     "execution_count": 136,
     "metadata": {},
     "output_type": "execute_result"
    }
   ],
   "source": [
    "metrics_df.loc['lgb_cv_train_mean'] = [roc_auc, prec, rec, f_score, th]\n",
    "metrics_df"
   ]
  },
  {
   "cell_type": "code",
   "execution_count": 88,
   "id": "8c0ee7dd",
   "metadata": {},
   "outputs": [
    {
     "name": "stdout",
     "output_type": "stream",
     "text": [
      "Confusion matrix, without normalization\n",
      "[[912131   5362]\n",
      " [ 14417   4090]]\n"
     ]
    },
    {
     "data": {
      "image/png": "[encoded data removed]",
      "text/plain": [
       "<Figure size 720x576 with 2 Axes>"
      ]
     },
     "metadata": {
      "needs_background": "light"
     },
     "output_type": "display_data"
    }
   ],
   "source": [
    "font = {'size': 15}\n",
    "\n",
    "plt.rc('font', **font)\n",
    "\n",
    "cnf_matrix_rf = confusion_matrix(X_train.target, lgb_train_preds > th)\n",
    "\n",
    "plt.figure(figsize=(10, 8))\n",
    "plot_confusion_matrix(cnf_matrix_rf, classes=[0, 1], title='Confusion Matrix')"
   ]
  },
  {
   "cell_type": "markdown",
   "id": "da0f8060",
   "metadata": {},
   "source": [
    "- поставим то же самое для xgbost"
   ]
  },
  {
   "cell_type": "code",
   "execution_count": 91,
   "id": "74c3fc5b",
   "metadata": {},
   "outputs": [],
   "source": [
    "params = {\n",
    "    'max_depth': [5, 7, 9],\n",
    "    'n_estimators': [50, 100, 200],\n",
    "    'subsample': [0.6, 0.8, 1] \n",
    "}"
   ]
  },
  {
   "cell_type": "markdown",
   "id": "b7ade96c",
   "metadata": {},
   "source": [
    "Fitting 3 folds for each of 27 candidates, totalling 81 fits\n",
    "Wall time: 6h 36min 17s"
   ]
  },
  {
   "cell_type": "code",
   "execution_count": 95,
   "id": "a8fcd1c2",
   "metadata": {},
   "outputs": [
    {
     "name": "stdout",
     "output_type": "stream",
     "text": [
      "Fitting 3 folds for each of 27 candidates, totalling 81 fits\n",
      "Wall time: 6h 36min 17s\n"
     ]
    },
    {
     "data": {
      "text/plain": [
       "GridSearchCV(cv=3,\n",
       "             estimator=XGBClassifier(base_score=None, booster=None,\n",
       "                                     callbacks=None, colsample_bylevel=None,\n",
       "                                     colsample_bynode=None,\n",
       "                                     colsample_bytree=None,\n",
       "                                     early_stopping_rounds=None,\n",
       "                                     enable_categorical=False, eval_metric=None,\n",
       "                                     gamma=None, gpu_id=None, grow_policy=None,\n",
       "                                     importance_type=None,\n",
       "                                     interaction_constraints=None,\n",
       "                                     learning_rate=None, max_bin=None,\n",
       "                                     max_ca...\n",
       "                                     max_leaves=None, min_child_weight=None,\n",
       "                                     missing=nan, monotone_constraints=None,\n",
       "                                     n_estimators=100, n_jobs=None,\n",
       "                                     num_parallel_tree=None, predictor=None,\n",
       "                                     random_state=None, reg_alpha=None,\n",
       "                                     reg_lambda=None, ...),\n",
       "             n_jobs=4,\n",
       "             param_grid={'max_depth': [5, 7, 9], 'n_estimators': [50, 100, 200],\n",
       "                         'subsample': [0.6, 0.8, 1]},\n",
       "             refit='roc_auc', scoring=['roc_auc', 'precision', 'recall', 'f1'],\n",
       "             verbose=2)"
      ]
     },
     "execution_count": 95,
     "metadata": {},
     "output_type": "execute_result"
    }
   ],
   "source": [
    "%%time\n",
    "xgb = XGBClassifier()\n",
    "\n",
    "xgb_gscv = GridSearchCV(estimator=xgb,\n",
    "                         param_grid=params,\n",
    "                         scoring=['roc_auc', 'precision', 'recall', 'f1'],\n",
    "                         n_jobs=4,\n",
    "                         cv=3,\n",
    "                         refit='roc_auc',\n",
    "                         verbose=3\n",
    "                        )\n",
    "xgb_gscv.fit(X_train_all_feat_7, X_train.target)"
   ]
  },
  {
   "cell_type": "markdown",
   "id": "1cbd4ea4",
   "metadata": {},
   "source": [
    "max_depth=5, n_estimators=50, subsample=1"
   ]
  },
  {
   "cell_type": "code",
   "execution_count": 102,
   "id": "9bd70e65",
   "metadata": {},
   "outputs": [
    {
     "data": {
      "text/plain": [
       "XGBClassifier(base_score=0.5, booster='gbtree', callbacks=None,\n",
       "              colsample_bylevel=1, colsample_bynode=1, colsample_bytree=1,\n",
       "              early_stopping_rounds=None, enable_categorical=False,\n",
       "              eval_metric=None, gamma=0, gpu_id=-1, grow_policy='depthwise',\n",
       "              importance_type=None, interaction_constraints='',\n",
       "              learning_rate=0.300000012, max_bin=256, max_cat_to_onehot=4,\n",
       "              max_delta_step=0, max_depth=5, max_leaves=0, min_child_weight=1,\n",
       "              missing=nan, monotone_constraints='()', n_estimators=50, n_jobs=0,\n",
       "              num_parallel_tree=1, predictor='auto', random_state=0,\n",
       "              reg_alpha=0, reg_lambda=1, ...)"
      ]
     },
     "execution_count": 102,
     "metadata": {},
     "output_type": "execute_result"
    }
   ],
   "source": [
    "xgb_gscv.best_estimator_"
   ]
  },
  {
   "cell_type": "code",
   "execution_count": 131,
   "id": "9e5a0158",
   "metadata": {},
   "outputs": [
    {
     "name": "stdout",
     "output_type": "stream",
     "text": [
      "mean_test_roc_auc 0.7932006778702995\n",
      "mean_test_precision 0.7894043480481798\n",
      "mean_test_recall 0.12978872858918247\n",
      "mean_test_f1 0.22292308705064712\n",
      "std_test_roc_auc 0.0031593075761821863\n"
     ]
    }
   ],
   "source": [
    "xgb_metrics = []\n",
    "for key in ['mean_test_roc_auc', 'mean_test_precision', 'mean_test_recall', 'mean_test_f1']:\n",
    "    print(key, xgb_gscv.cv_results_[key][xgb_gscv.best_index_])\n",
    "    xgb_metrics.append(xgb_gscv.cv_results_[key][xgb_gscv.best_index_])\n",
    "    \n",
    "    \n",
    "print('std_test_roc_auc', xgb_gscv.cv_results_['std_test_roc_auc'][xgb_gscv.best_index_])\n",
    "xgb_metrics.append(None)"
   ]
  },
  {
   "cell_type": "code",
   "execution_count": 132,
   "id": "9ff0a7d2",
   "metadata": {},
   "outputs": [
    {
     "data": {
      "text/html": [
       "<div>\n",
       "<style scoped>\n",
       "    .dataframe tbody tr th:only-of-type {\n",
       "        vertical-align: middle;\n",
       "    }\n",
       "\n",
       "    .dataframe tbody tr th {\n",
       "        vertical-align: top;\n",
       "    }\n",
       "\n",
       "    .dataframe thead th {\n",
       "        text-align: right;\n",
       "    }\n",
       "</style>\n",
       "<table border=\"1\" class=\"dataframe\">\n",
       "  <thead>\n",
       "    <tr style=\"text-align: right;\">\n",
       "      <th></th>\n",
       "      <th>roc-auc</th>\n",
       "      <th>prec</th>\n",
       "      <th>rec</th>\n",
       "      <th>f-score</th>\n",
       "      <th>th</th>\n",
       "    </tr>\n",
       "  </thead>\n",
       "  <tbody>\n",
       "    <tr>\n",
       "      <th>lgb</th>\n",
       "      <td>0.833944</td>\n",
       "      <td>0.455865</td>\n",
       "      <td>0.213757</td>\n",
       "      <td>0.291043</td>\n",
       "      <td>0.861212</td>\n",
       "    </tr>\n",
       "    <tr>\n",
       "      <th>xgb</th>\n",
       "      <td>0.902146</td>\n",
       "      <td>0.596496</td>\n",
       "      <td>0.349543</td>\n",
       "      <td>0.440788</td>\n",
       "      <td>0.143275</td>\n",
       "    </tr>\n",
       "    <tr>\n",
       "      <th>lgb_cv_valid_mean</th>\n",
       "      <td>0.798059</td>\n",
       "      <td>0.049834</td>\n",
       "      <td>0.696655</td>\n",
       "      <td>0.093013</td>\n",
       "      <td>NaN</td>\n",
       "    </tr>\n",
       "    <tr>\n",
       "      <th>xgb_cv_valid_mean</th>\n",
       "      <td>0.793201</td>\n",
       "      <td>0.789404</td>\n",
       "      <td>0.129789</td>\n",
       "      <td>0.222923</td>\n",
       "      <td>NaN</td>\n",
       "    </tr>\n",
       "  </tbody>\n",
       "</table>\n",
       "</div>"
      ],
      "text/plain": [
       "                    roc-auc      prec       rec   f-score        th\n",
       "lgb                0.833944  0.455865  0.213757  0.291043  0.861212\n",
       "xgb                0.902146  0.596496  0.349543  0.440788  0.143275\n",
       "lgb_cv_valid_mean  0.798059  0.049834  0.696655  0.093013       NaN\n",
       "xgb_cv_valid_mean  0.793201  0.789404  0.129789  0.222923       NaN"
      ]
     },
     "execution_count": 132,
     "metadata": {},
     "output_type": "execute_result"
    }
   ],
   "source": [
    "metrics_df.loc['xgb_cv_train'] = xgb_metrics\n",
    "metrics_df"
   ]
  },
  {
   "cell_type": "markdown",
   "id": "b6e05dae",
   "metadata": {},
   "source": [
    "- xgb_cv_valid_mean чуть хуже по roc-auc, но у него лучше остальные метрики (что там с порогом у cv?)"
   ]
  },
  {
   "cell_type": "code",
   "execution_count": 133,
   "id": "0d5e99f0",
   "metadata": {},
   "outputs": [
    {
     "name": "stdout",
     "output_type": "stream",
     "text": [
      "roc_auc: 0.8262, prec: 0.5017, rec: 0.2322, f-score: 0.3174, th: 0.1385\n"
     ]
    }
   ],
   "source": [
    "xgb_train_preds = xgb_gscv.best_estimator_.predict_proba(X_train_all_feat_7)[:, 1]\n",
    "\n",
    "roc_auc, prec, rec, f_score, th = get_metrics(X_train.target, xgb_train_preds)\n",
    "print(f'roc_auc: {roc_auc:.4f}, prec: {prec:.4f}, rec: {rec:.4f},'\n",
    "      f' f-score: {f_score:.4f}, th: {th:.4f}')"
   ]
  },
  {
   "cell_type": "code",
   "execution_count": 134,
   "id": "3cb7fef9",
   "metadata": {},
   "outputs": [
    {
     "data": {
      "text/html": [
       "<div>\n",
       "<style scoped>\n",
       "    .dataframe tbody tr th:only-of-type {\n",
       "        vertical-align: middle;\n",
       "    }\n",
       "\n",
       "    .dataframe tbody tr th {\n",
       "        vertical-align: top;\n",
       "    }\n",
       "\n",
       "    .dataframe thead th {\n",
       "        text-align: right;\n",
       "    }\n",
       "</style>\n",
       "<table border=\"1\" class=\"dataframe\">\n",
       "  <thead>\n",
       "    <tr style=\"text-align: right;\">\n",
       "      <th></th>\n",
       "      <th>roc-auc</th>\n",
       "      <th>prec</th>\n",
       "      <th>rec</th>\n",
       "      <th>f-score</th>\n",
       "      <th>th</th>\n",
       "    </tr>\n",
       "  </thead>\n",
       "  <tbody>\n",
       "    <tr>\n",
       "      <th>lgb</th>\n",
       "      <td>0.833944</td>\n",
       "      <td>0.455865</td>\n",
       "      <td>0.213757</td>\n",
       "      <td>0.291043</td>\n",
       "      <td>0.861212</td>\n",
       "    </tr>\n",
       "    <tr>\n",
       "      <th>xgb</th>\n",
       "      <td>0.902146</td>\n",
       "      <td>0.596496</td>\n",
       "      <td>0.349543</td>\n",
       "      <td>0.440788</td>\n",
       "      <td>0.143275</td>\n",
       "    </tr>\n",
       "    <tr>\n",
       "      <th>lgb_cv_valid_mean</th>\n",
       "      <td>0.798059</td>\n",
       "      <td>0.049834</td>\n",
       "      <td>0.696655</td>\n",
       "      <td>0.093013</td>\n",
       "      <td>NaN</td>\n",
       "    </tr>\n",
       "    <tr>\n",
       "      <th>xgb_cv_valid_mean</th>\n",
       "      <td>0.793201</td>\n",
       "      <td>0.789404</td>\n",
       "      <td>0.129789</td>\n",
       "      <td>0.222923</td>\n",
       "      <td>NaN</td>\n",
       "    </tr>\n",
       "    <tr>\n",
       "      <th>xgb_cv_train_mean</th>\n",
       "      <td>0.826222</td>\n",
       "      <td>0.501693</td>\n",
       "      <td>0.232182</td>\n",
       "      <td>0.317450</td>\n",
       "      <td>0.138480</td>\n",
       "    </tr>\n",
       "  </tbody>\n",
       "</table>\n",
       "</div>"
      ],
      "text/plain": [
       "                    roc-auc      prec       rec   f-score        th\n",
       "lgb                0.833944  0.455865  0.213757  0.291043  0.861212\n",
       "xgb                0.902146  0.596496  0.349543  0.440788  0.143275\n",
       "lgb_cv_valid_mean  0.798059  0.049834  0.696655  0.093013       NaN\n",
       "xgb_cv_valid_mean  0.793201  0.789404  0.129789  0.222923       NaN\n",
       "xgb_cv_train_mean  0.826222  0.501693  0.232182  0.317450  0.138480"
      ]
     },
     "execution_count": 134,
     "metadata": {},
     "output_type": "execute_result"
    }
   ],
   "source": [
    "metrics_df.loc['xgb_cv_train_mean'] = [roc_auc, prec, rec, f_score, th]\n",
    "metrics_df"
   ]
  },
  {
   "cell_type": "code",
   "execution_count": 100,
   "id": "19be0532",
   "metadata": {},
   "outputs": [
    {
     "name": "stdout",
     "output_type": "stream",
     "text": [
      "Confusion matrix, without normalization\n",
      "[[913225   4268]\n",
      " [ 14211   4296]]\n"
     ]
    },
    {
     "data": {
      "image/png": "[encoded data removed]",
      "text/plain": [
       "<Figure size 720x576 with 2 Axes>"
      ]
     },
     "metadata": {
      "needs_background": "light"
     },
     "output_type": "display_data"
    }
   ],
   "source": [
    "font = {'size': 15}\n",
    "\n",
    "plt.rc('font', **font)\n",
    "\n",
    "cnf_matrix_rf = confusion_matrix(X_train.target, xgb_train_preds > th)\n",
    "\n",
    "plt.figure(figsize=(10, 8))\n",
    "plot_confusion_matrix(cnf_matrix_rf, classes=[0, 1], title='Confusion Matrix')"
   ]
  },
  {
   "cell_type": "code",
   "execution_count": 111,
   "id": "2f1c51ad",
   "metadata": {},
   "outputs": [
    {
     "data": {
      "text/html": [
       "<div>\n",
       "<style scoped>\n",
       "    .dataframe tbody tr th:only-of-type {\n",
       "        vertical-align: middle;\n",
       "    }\n",
       "\n",
       "    .dataframe tbody tr th {\n",
       "        vertical-align: top;\n",
       "    }\n",
       "\n",
       "    .dataframe thead th {\n",
       "        text-align: right;\n",
       "    }\n",
       "</style>\n",
       "<table border=\"1\" class=\"dataframe\">\n",
       "  <thead>\n",
       "    <tr style=\"text-align: right;\">\n",
       "      <th></th>\n",
       "      <th>feat</th>\n",
       "      <th>importance</th>\n",
       "    </tr>\n",
       "  </thead>\n",
       "  <tbody>\n",
       "    <tr>\n",
       "      <th>319</th>\n",
       "      <td>arrears</td>\n",
       "      <td>0.084009</td>\n",
       "    </tr>\n",
       "    <tr>\n",
       "      <th>298</th>\n",
       "      <td>2021_2400_q95</td>\n",
       "      <td>0.059621</td>\n",
       "    </tr>\n",
       "    <tr>\n",
       "      <th>358</th>\n",
       "      <td>n_employees_med</td>\n",
       "      <td>0.032768</td>\n",
       "    </tr>\n",
       "    <tr>\n",
       "      <th>288</th>\n",
       "      <td>2021_2110</td>\n",
       "      <td>0.030175</td>\n",
       "    </tr>\n",
       "    <tr>\n",
       "      <th>275</th>\n",
       "      <td>2021_1300_q95</td>\n",
       "      <td>0.023805</td>\n",
       "    </tr>\n",
       "    <tr>\n",
       "      <th>300</th>\n",
       "      <td>2020_2110_q95_growth</td>\n",
       "      <td>0.020078</td>\n",
       "    </tr>\n",
       "    <tr>\n",
       "      <th>276</th>\n",
       "      <td>2021_1520_q95</td>\n",
       "      <td>0.019662</td>\n",
       "    </tr>\n",
       "    <tr>\n",
       "      <th>324</th>\n",
       "      <td>tax_arrears_log</td>\n",
       "      <td>0.019334</td>\n",
       "    </tr>\n",
       "    <tr>\n",
       "      <th>273</th>\n",
       "      <td>2021_1210_q95</td>\n",
       "      <td>0.018219</td>\n",
       "    </tr>\n",
       "    <tr>\n",
       "      <th>322</th>\n",
       "      <td>fines_log</td>\n",
       "      <td>0.017955</td>\n",
       "    </tr>\n",
       "    <tr>\n",
       "      <th>208</th>\n",
       "      <td>okopf_20101</td>\n",
       "      <td>0.016788</td>\n",
       "    </tr>\n",
       "    <tr>\n",
       "      <th>69</th>\n",
       "      <td>region_code_60</td>\n",
       "      <td>0.015760</td>\n",
       "    </tr>\n",
       "    <tr>\n",
       "      <th>357</th>\n",
       "      <td>n_employees</td>\n",
       "      <td>0.015039</td>\n",
       "    </tr>\n",
       "    <tr>\n",
       "      <th>296</th>\n",
       "      <td>2020_2350_q95</td>\n",
       "      <td>0.014645</td>\n",
       "    </tr>\n",
       "    <tr>\n",
       "      <th>277</th>\n",
       "      <td>2020_1700_q95</td>\n",
       "      <td>0.014015</td>\n",
       "    </tr>\n",
       "    <tr>\n",
       "      <th>193</th>\n",
       "      <td>okopf_0</td>\n",
       "      <td>0.013440</td>\n",
       "    </tr>\n",
       "    <tr>\n",
       "      <th>287</th>\n",
       "      <td>2020_1700_q95_growth</td>\n",
       "      <td>0.012996</td>\n",
       "    </tr>\n",
       "    <tr>\n",
       "      <th>272</th>\n",
       "      <td>2021_1150_q95</td>\n",
       "      <td>0.012771</td>\n",
       "    </tr>\n",
       "    <tr>\n",
       "      <th>226</th>\n",
       "      <td>subj_cat_1</td>\n",
       "      <td>0.012724</td>\n",
       "    </tr>\n",
       "    <tr>\n",
       "      <th>260</th>\n",
       "      <td>change_subj_cat_range</td>\n",
       "      <td>0.012559</td>\n",
       "    </tr>\n",
       "  </tbody>\n",
       "</table>\n",
       "</div>"
      ],
      "text/plain": [
       "                      feat  importance\n",
       "319                arrears    0.084009\n",
       "298          2021_2400_q95    0.059621\n",
       "358        n_employees_med    0.032768\n",
       "288              2021_2110    0.030175\n",
       "275          2021_1300_q95    0.023805\n",
       "300   2020_2110_q95_growth    0.020078\n",
       "276          2021_1520_q95    0.019662\n",
       "324        tax_arrears_log    0.019334\n",
       "273          2021_1210_q95    0.018219\n",
       "322              fines_log    0.017955\n",
       "208            okopf_20101    0.016788\n",
       "69          region_code_60    0.015760\n",
       "357            n_employees    0.015039\n",
       "296          2020_2350_q95    0.014645\n",
       "277          2020_1700_q95    0.014015\n",
       "193                okopf_0    0.013440\n",
       "287   2020_1700_q95_growth    0.012996\n",
       "272          2021_1150_q95    0.012771\n",
       "226             subj_cat_1    0.012724\n",
       "260  change_subj_cat_range    0.012559"
      ]
     },
     "execution_count": 111,
     "metadata": {},
     "output_type": "execute_result"
    }
   ],
   "source": [
    "feats_imp_xgb = pd.DataFrame({'feat': xgb_gscv.best_estimator_.feature_names_in_,\n",
    "                          'importance': xgb_gscv.best_estimator_.feature_importances_\n",
    "                         })\n",
    "\n",
    "feats_imp_xgb.sort_values('importance', ascending=False)[:20]"
   ]
  },
  {
   "cell_type": "code",
   "execution_count": 137,
   "id": "df6db8a9",
   "metadata": {},
   "outputs": [
    {
     "data": {
      "text/html": [
       "<div>\n",
       "<style scoped>\n",
       "    .dataframe tbody tr th:only-of-type {\n",
       "        vertical-align: middle;\n",
       "    }\n",
       "\n",
       "    .dataframe tbody tr th {\n",
       "        vertical-align: top;\n",
       "    }\n",
       "\n",
       "    .dataframe thead th {\n",
       "        text-align: right;\n",
       "    }\n",
       "</style>\n",
       "<table border=\"1\" class=\"dataframe\">\n",
       "  <thead>\n",
       "    <tr style=\"text-align: right;\">\n",
       "      <th></th>\n",
       "      <th>roc-auc</th>\n",
       "      <th>prec</th>\n",
       "      <th>rec</th>\n",
       "      <th>f-score</th>\n",
       "      <th>th</th>\n",
       "    </tr>\n",
       "  </thead>\n",
       "  <tbody>\n",
       "    <tr>\n",
       "      <th>lgb</th>\n",
       "      <td>0.833944</td>\n",
       "      <td>0.455865</td>\n",
       "      <td>0.213757</td>\n",
       "      <td>0.291043</td>\n",
       "      <td>0.861212</td>\n",
       "    </tr>\n",
       "    <tr>\n",
       "      <th>xgb</th>\n",
       "      <td>0.902146</td>\n",
       "      <td>0.596496</td>\n",
       "      <td>0.349543</td>\n",
       "      <td>0.440788</td>\n",
       "      <td>0.143275</td>\n",
       "    </tr>\n",
       "    <tr>\n",
       "      <th>lgb_cv_valid_mean</th>\n",
       "      <td>0.798059</td>\n",
       "      <td>0.049834</td>\n",
       "      <td>0.696655</td>\n",
       "      <td>0.093013</td>\n",
       "      <td>NaN</td>\n",
       "    </tr>\n",
       "    <tr>\n",
       "      <th>xgb_cv_valid_mean</th>\n",
       "      <td>0.793201</td>\n",
       "      <td>0.789404</td>\n",
       "      <td>0.129789</td>\n",
       "      <td>0.222923</td>\n",
       "      <td>NaN</td>\n",
       "    </tr>\n",
       "    <tr>\n",
       "      <th>xgb_cv_train_mean</th>\n",
       "      <td>0.826222</td>\n",
       "      <td>0.501693</td>\n",
       "      <td>0.232182</td>\n",
       "      <td>0.317450</td>\n",
       "      <td>0.138480</td>\n",
       "    </tr>\n",
       "    <tr>\n",
       "      <th>lgb_cv_train_mean</th>\n",
       "      <td>0.834626</td>\n",
       "      <td>0.432773</td>\n",
       "      <td>0.221051</td>\n",
       "      <td>0.292632</td>\n",
       "      <td>0.852732</td>\n",
       "    </tr>\n",
       "  </tbody>\n",
       "</table>\n",
       "</div>"
      ],
      "text/plain": [
       "                    roc-auc      prec       rec   f-score        th\n",
       "lgb                0.833944  0.455865  0.213757  0.291043  0.861212\n",
       "xgb                0.902146  0.596496  0.349543  0.440788  0.143275\n",
       "lgb_cv_valid_mean  0.798059  0.049834  0.696655  0.093013       NaN\n",
       "xgb_cv_valid_mean  0.793201  0.789404  0.129789  0.222923       NaN\n",
       "xgb_cv_train_mean  0.826222  0.501693  0.232182  0.317450  0.138480\n",
       "lgb_cv_train_mean  0.834626  0.432773  0.221051  0.292632  0.852732"
      ]
     },
     "execution_count": 137,
     "metadata": {},
     "output_type": "execute_result"
    }
   ],
   "source": [
    "metrics_df"
   ]
  },
  {
   "cell_type": "markdown",
   "id": "d667e4bf",
   "metadata": {},
   "source": [
    "- lgbm чуть лучше по roc-auc (и на трейне и на валидации) и заметно быстрее\n",
    "- xgb немного переобучается на стандартных параметрах, чуть лучше по полноте и точности"
   ]
  },
  {
   "cell_type": "code",
   "execution_count": 138,
   "id": "74b47250",
   "metadata": {},
   "outputs": [],
   "source": [
    "# metrics_df.to_csv('../metrics.csv')"
   ]
  },
  {
   "cell_type": "code",
   "execution_count": 42,
   "id": "3b6a7f3e",
   "metadata": {},
   "outputs": [],
   "source": [
    "# metrics_df = pd.read_csv('../metrics.csv')"
   ]
  }
 ],
 "metadata": {
  "kernelspec": {
   "display_name": "Python 3 (ipykernel)",
   "language": "python",
   "name": "python3"
  },
  "language_info": {
   "codemirror_mode": {
    "name": "ipython",
    "version": 3
   },
   "file_extension": ".py",
   "mimetype": "text/x-python",
   "name": "python",
   "nbconvert_exporter": "python",
   "pygments_lexer": "ipython3",
   "version": "3.8.8"
  }
 },
 "nbformat": 4,
 "nbformat_minor": 5
}
