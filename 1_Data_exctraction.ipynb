{
 "cells": [
  {
   "cell_type": "markdown",
   "id": "5b8dc27b",
   "metadata": {},
   "source": [
    "## Основная задача: \n",
    "Собрать из открытых источников что-то похожее на датасет предсказания банкротства (https://www.kaggle.com/datasets/fedesoriano/company-bankruptcy-prediction)\n",
    "\n",
    "- Большая часть информации - xml-файлы и несколько справочников csv и xlsx - отсюда: https://www.nalog.gov.ru/opendata/\n",
    "\n",
    "- Важно как можно раньше начать собирать данные финансовых и бухгалтерских отчётов пауком с сайта https://bo.nalog.ru/ - так как это наиболее длительная часть проекта\n",
    "\n",
    "- Ссылка на страницу с отчётами осуществляется по id карточки организации, который можно узнать, сделав запрос по номеру инн юр. лица (однозначно определяет организацию)\n",
    "\n",
    "- Далее, отчёты есть только для юридических лиц (т.е. необходимо знать ИННЮЛ), тех из них, которые обязаны предоставлять открытую информацию (ИНН физ. лиц не нужны)\n",
    "\n",
    "- Т.е. необходим список иннюл - его можно достать из реестра МСП (малых и средних предприятий), чтобы первым делом начать собирать ту информацию, к которой нет прямого доступа.\n",
    "\n",
    "- xml достаточно громоздкие, но к ним есть описание структуры и данные достаточно чистые."
   ]
  },
  {
   "cell_type": "code",
   "execution_count": 89,
   "id": "d9e564bc",
   "metadata": {},
   "outputs": [],
   "source": [
    "import os\n",
    "import pickle\n",
    "import requests\n",
    "import psycopg2\n",
    "import pandas as pd\n",
    "import numpy as np\n",
    "\n",
    "from lxml import etree\n",
    "from psycopg2 import sql\n",
    "from pymongo import MongoClient"
   ]
  },
  {
   "cell_type": "markdown",
   "id": "54c6c2e0",
   "metadata": {},
   "source": [
    "### 1. Сбор данных из разных источников\n",
    "#### 1.1. Паук для сбора данных"
   ]
  },
  {
   "cell_type": "code",
   "execution_count": 4,
   "id": "b349c805",
   "metadata": {},
   "outputs": [
    {
     "data": {
      "text/plain": [
       "6794"
      ]
     },
     "execution_count": 4,
     "metadata": {},
     "output_type": "execute_result"
    }
   ],
   "source": [
    "# путь к директории с файлами реестра мсп, около 20 гб, около 7 тыс. файлов\n",
    "path = 'raw_data/reestr_ms/data-10032023-structure-10032022'\n",
    "files = [path + '/' + file for file in os.listdir(path)]\n",
    "len(files)"
   ]
  },
  {
   "cell_type": "code",
   "execution_count": 5,
   "id": "3b01e76d",
   "metadata": {},
   "outputs": [],
   "source": [
    "#  пусть будет 7 отрезков по 1000 файлов (в последнем - 794)\n",
    "k = 1000\n",
    "cut_files = [files[i: i + k] for i in range(0, 7000, 1000) ]"
   ]
  },
  {
   "cell_type": "markdown",
   "id": "934c7ff5",
   "metadata": {},
   "source": [
    "- получилось 7 дампов pickle, примерно по 350 тыс ИННЮЛ в каждом списке\n",
    "\n",
    "- общая длина - около 2.3 млн\n",
    "\n",
    "- здесь обработаем и сразу запишем для удобства в несколько файлов (оказалось, что для паука можно было делать файлы ещё короче)"
   ]
  },
  {
   "cell_type": "code",
   "execution_count": null,
   "id": "4f907f4e",
   "metadata": {},
   "outputs": [],
   "source": [
    "# %%time\n",
    "\n",
    "# for j, files in enumerate(cut_files):\n",
    "    \n",
    "#     inn = []\n",
    "#     for i, file in enumerate(files):\n",
    "        \n",
    "#         if i % 100 == 0: print(i)\n",
    "        \n",
    "#         tree = etree.parse(file)\n",
    "#         root = tree.getroot()\n",
    "#         \n",
    "#         for doc in root.findall('Документ/ОргВклМСП'):\n",
    "#             inn.append(doc.attrib['ИННЮЛ'])\n",
    "            \n",
    "    \n",
    "#     with open(f'parsed_data/inn/inn_{j}.pickle', 'wb') as f:\n",
    "#         pickle.dump(inn, f)  "
   ]
  },
  {
   "cell_type": "markdown",
   "id": "fca4fac4",
   "metadata": {},
   "source": [
    "Дальше более подробно изучила, какая информация есть на страничках с отчётами разных организаций:\n",
    "\n",
    "- бухгалтерский баланс за 3 года и финансовые результаты за 2 года есть для всех типов (если не искать информацию целенаправленно по какому-то критерию (типу организации), собственности и т.п. - то можно собрать именно их)\n",
    "\n",
    "Но оказалось, что страницы генерируются динамически - простой запрос практически ничего не возвращает:\n",
    "\n",
    "- для загрузки страницы отправляется множество get-запросов, каждый из которых возвращает json для наполнения контентом.\n",
    "При этом, только для сбора основной информации (карточка компании, фин. результаты и бух. отчет) нужно минимум 4 запроса."
   ]
  },
  {
   "cell_type": "markdown",
   "id": "5db994dd",
   "metadata": {},
   "source": [
    "Итоговая логика переходов:\n",
    "1. карточка организации по инн получим id организации (id_org) на сайте\n",
    "        f'https://bo.nalog.ru/nbo/organizations/search?query={ИНН}&page=0'\n",
    "2. переход на следующую страницу - по полученному id_org, соберём основные данные о организации\n",
    "        f'https://bo.nalog.ru/nbo/organizations/{id_org}'\n",
    "3. снова переход по id_org - получим id финансовых и бухгалтерских отчётов (id_doc)\n",
    "        f'https://bo.nalog.ru/nbo/organizations/{id_org}/bfo/'\n",
    "4. переход по id_doc - забираем сами отчёты.\n",
    "        f'https://bo.nalog.ru/nbo/bfo/{id_doc}/details'"
   ]
  },
  {
   "cell_type": "markdown",
   "id": "064de03b",
   "metadata": {},
   "source": [
    "Код паука - см. bfoparser\n",
    "\n",
    "- паук обрабатывает кусок инн в 50000 * 4 перехода = около 200 тыс запросов (меньше, так как не для всех инн выдаётся информация), с DOWNLOAD_DELAY = 0.2 и CONCURRENT_REQUESTS = 32 (примерно 244 запросов и 60 записей в минуту) это займёт около 13 часов, на выходе примерно 40 тыс. записей.\n",
    "- запись идёт в MongoDB (проще и быстрее, чем писать в файл)."
   ]
  },
  {
   "cell_type": "markdown",
   "id": "11767b2a",
   "metadata": {},
   "source": [
    "#### 1.2. Xml-файлы"
   ]
  },
  {
   "cell_type": "markdown",
   "id": "7da6cfaa",
   "metadata": {},
   "source": [
    "- складываю в postgresql:\n",
    "    - удобно хранить - сущности со связями (пока просто несвязанные таблицы, основные связи будут по ИНН)\n",
    "    - удобно делать пакетную вставку при обработке пофайлово\n"
   ]
  },
  {
   "cell_type": "markdown",
   "id": "bd2140b0",
   "metadata": {},
   "source": [
    "#### -  xml с реестром мсп (малых и средних предприятий)\n",
    "\n",
    "https://www.nalog.gov.ru/opendata/7707329152-rsmp/\n",
    "\n",
    "забираем:\n",
    "\n",
    "    - ССЧР (Сведения о среднесписочной численности работников)\n",
    "    - СведСоцПред (Сведения о том, что юридическое лицо / индивидуальный предприниматель является социальным предприятием, 1,2), \n",
    "    - ПризНовМСП (Признак сведений о вновь созданном юридическом лице / вновь зарегистрированном индивидуальном предпринимателе, 1,2), \n",
    "    - КатСубМСП (Категория субъекта МСП - ?, 1,2,3), \n",
    "    - ВидСубМСП (Вид субъекта МСП - ?, 1,2), \n",
    "    - ДатаВклМСП\n",
    "    - ИННЮЛ - будет ключом\n",
    "    - КодОКВЭД\n",
    "    - если есть СвЛиценз (сведения о лицензиях) - счётчик, если несколько: считаем вложенные объекты НаимЛицВД (наименование лицензии)\n",
    "    - СвПрод (Сведения о производимой субъектом МСП продукции) - если есть, мб несколько объектов - собираем в список атрибут КодПрод (Код вида продукции) (это справочник ОКПД2?), \n",
    "    - если есть хотя бы 1 атрибут ПрОтнПрод == 1 (признак отнесения продукциик инновационной, высокотехнологичной) - можно взять как бинарный признак\n",
    "    - объект СвКонтр - мб несколько (Сведения о наличии у субъекта МСП в предшествующем календарном году контрактов, заключенных в соответствии с Федеральным законом от 5 апреля 2013 года №44-ФЗ) - для обеспечения государственных и муниципальных нужд: взять число контрактов\n",
    "    - СвДог (Сведения о наличии у субъекта МСП в предшествующем календарном году договоров, заключенных в соответствии с Федеральным законом от 18 июля 2011 года №223-ФЗ) - О закупках товаров, работ, услуг: мб несколько, взять число"
   ]
  },
  {
   "cell_type": "code",
   "execution_count": 11,
   "id": "ffa85570",
   "metadata": {},
   "outputs": [],
   "source": [
    "file = \"../raw_data/reestr_ms/data-10032023-structure-10032022/VO_RRMSPSV_0000_9965_20230310_00a62ea7-b905-4787-aec9-3d44f97cdb1f.xml\"\n",
    "tree = etree.parse(file)\n",
    "root = tree.getroot()\n",
    "docs = root.findall(\"Документ[ОргВклМСП]\")\n",
    "doc = docs[1]"
   ]
  },
  {
   "cell_type": "code",
   "execution_count": 12,
   "id": "f9cc8dd0",
   "metadata": {},
   "outputs": [
    {
     "name": "stdout",
     "output_type": "stream",
     "text": [
      "<Документ ИдДок=\"308515e2-59fe-4000-b750-8afdd4f6e095\" ДатаСост=\"10.03.2023\" ДатаВклМСП=\"10.09.2019\" ВидСубМСП=\"1\" КатСубМСП=\"1\" ПризНовМСП=\"2\" СведСоцПред=\"2\" ССЧР=\"6\">\n",
      "  <ОргВклМСП НаимОрг=\"ОБЩЕСТВО С ОГРАНИЧЕННОЙ ОТВЕТСТВЕННОСТЬЮ &quot;ТЕКЛАЙН&quot;\" НаимОргСокр=\"ООО &quot;ТЕКЛАЙН&quot;\" ИННЮЛ=\"4702020559\" ОГРН=\"1194704019894\"/>\n",
      "  <СведМН КодРегион=\"47\">\n",
      "    <Регион Тип=\"ОБЛАСТЬ\" Наим=\"ЛЕНИНГРАДСКАЯ\"/>\n",
      "    <Район Тип=\"РАЙОН\" Наим=\"ВОЛХОВСКИЙ\"/>\n",
      "    <Город Тип=\"ГОРОД\" Наим=\"ВОЛХОВ\"/>\n",
      "  </СведМН>\n",
      "  <СвОКВЭД>\n",
      "    <СвОКВЭДОсн КодОКВЭД=\"42.11\" НаимОКВЭД=\"Строительство автомобильных дорог и автомагистралей\" ВерсОКВЭД=\"2014\"/>\n",
      "    <СвОКВЭДДоп КодОКВЭД=\"77.32\" НаимОКВЭД=\"Аренда и лизинг строительных машин и оборудования\" ВерсОКВЭД=\"2014\"/>\n",
      "    <СвОКВЭДДоп КодОКВЭД=\"52.29\" НаимОКВЭД=\"Деятельность вспомогательная прочая, связанная с перевозками\" ВерсОКВЭД=\"2014\"/>\n",
      "    <СвОКВЭДДоп КодОКВЭД=\"46.73.6\" НаимОКВЭД=\"Торговля оптовая прочими строительными материалами и изделиями\" ВерсОКВЭД=\"2014\"/>\n",
      "    <СвОКВЭДДоп КодОКВЭД=\"49.41.3\" НаимОКВЭД=\"Аренда грузового автомобильного транспорта с водителем\" ВерсОКВЭД=\"2014\"/>\n",
      "    <СвОКВЭДДоп КодОКВЭД=\"49.41.2\" НаимОКВЭД=\"Перевозка грузов неспециализированными автотранспортными средствами\" ВерсОКВЭД=\"2014\"/>\n",
      "    <СвОКВЭДДоп КодОКВЭД=\"49.41.1\" НаимОКВЭД=\"Перевозка грузов специализированными автотранспортными средствами\" ВерсОКВЭД=\"2014\"/>\n",
      "  </СвОКВЭД>\n",
      "</Документ>\n",
      "\n"
     ]
    }
   ],
   "source": [
    "print(etree.tostring(doc, encoding = \"unicode\", pretty_print=True))"
   ]
  },
  {
   "cell_type": "code",
   "execution_count": 2,
   "id": "05b15166",
   "metadata": {},
   "outputs": [],
   "source": [
    "# небольшая очистка\n",
    "def clean(val):\n",
    "    if isinstance(val, str):\n",
    "        val = val.strip()\n",
    "#         if val.isdigit():\n",
    "#             return int(val)\n",
    "    return val"
   ]
  },
  {
   "cell_type": "markdown",
   "id": "6e2d3c76",
   "metadata": {},
   "source": [
    "- неожиданная проблема возникла после очистки инн - неуникальные инн (в итоге - всего 2): проще разрешить неуникальность и потом вычислить такие инн, чем проверять каждый инн до формирования пакета\n",
    "- поэтому делаю временный primary key для таблицы, а после вставки - вычищаю повторы и изменяю ключ"
   ]
  },
  {
   "cell_type": "code",
   "execution_count": 3,
   "id": "d586464f",
   "metadata": {},
   "outputs": [],
   "source": [
    "# таблица reestr_msp\n",
    "# Критерии среднего предприятия - не более 1500 человек\n",
    "# формат даты распознаёт и приводит автоматически\n",
    "reestr_sql = 'CREATE TABLE reestr_msp (\\\n",
    "temp_id bigserial PRIMARY KEY, \\\n",
    "inn int8, \\\n",
    "n_employees int2, \\\n",
    "is_soc_enterprise int2, \\\n",
    "newly_establ int2, \\\n",
    "subj_cat int2, \\\n",
    "subj_form int2, \\\n",
    "inclusion_date date, \\\n",
    "n_okovd_add int2, \\\n",
    "okovd_add_vers varchar (8), \\\n",
    "okovd_add_code text [], \\\n",
    "n_licenses int2, \\\n",
    "n_products int2, \\\n",
    "products_code text [], \\\n",
    "is_high_tech int2, \\\n",
    "n_contracts int2, \\\n",
    "n_agreements int2 \\\n",
    ");'"
   ]
  },
  {
   "cell_type": "code",
   "execution_count": null,
   "id": "54f777b7",
   "metadata": {},
   "outputs": [],
   "source": [
    "# обёртка для транзакции (вместо commit())\n",
    "connect = psycopg2.connect(dbname=\"fns_data\", user=\"user\", password='', host=\"localhost\", port=5432)\n",
    "with connect:\n",
    "    with connect.cursor() as cur:\n",
    "        cur.execute(reestr_sql)\n",
    "\n",
    "connect.close()"
   ]
  },
  {
   "cell_type": "code",
   "execution_count": 4,
   "id": "cc017333",
   "metadata": {},
   "outputs": [],
   "source": [
    "# функция - для получения одного val\n",
    "def get_val(doc):\n",
    "    \"\"\"\n",
    "    Принимает один документ\n",
    "    Возвращает необходимые поля, упакованые в кортеж\n",
    "    \"\"\"\n",
    "    val = []\n",
    "    # это ключ\n",
    "    val.append(clean(doc.find('ОргВклМСП').attrib['ИННЮЛ']))\n",
    "    # некоторых атрибутов может не быть\n",
    "    try:\n",
    "        val.append(clean(doc.attrib['ССЧР']))\n",
    "    except KeyError:\n",
    "        val.append(None)\n",
    "    try:\n",
    "        # является ли соц. предприятием\n",
    "        val.append(1 if doc.attrib['СведСоцПред'] == '1' else 0)\n",
    "    except KeyError:\n",
    "        val.append(None)        \n",
    "    try:\n",
    "        # вновь создано?\n",
    "        val.append(1 if doc.attrib['ПризНовМСП'] == '1' else 0 )\n",
    "    except KeyError:\n",
    "        val.append(None)\n",
    "    try:    \n",
    "        # категория организации\n",
    "        val.append(clean(doc.attrib['КатСубМСП']))  # 1, 2, 3, не знаю, что - эти двое совпадают?\n",
    "    except KeyError:\n",
    "        val.append(None)    \n",
    "    try:    \n",
    "        # форма\n",
    "        val.append(clean(doc.attrib['ВидСубМСП'])) # 1, 2, 3, не знаю, что\n",
    "    except KeyError:\n",
    "        val.append(None)\n",
    "    try:\n",
    "        # дата включения в реестр\n",
    "        val.append(doc.attrib['ДатаВклМСП'])\n",
    "    except KeyError:\n",
    "        val.append(None)\n",
    "\n",
    "    # а здесь - по видам деятельности, код основного - из mongo, а из дополнительных - если есть:\n",
    "    # если ничего нет, ошибки не будет\n",
    "    add_occupations = doc.findall('СвОКВЭД/СвОКВЭДДоп')\n",
    "    val.append(len(add_occupations))  # число доп видов деятельности\n",
    "    if add_occupations:\n",
    "        val.append(add_occupations[0].attrib['ВерсОКВЭД'])  # 2014 = okovd2   \n",
    "        val.append([el.attrib['КодОКВЭД'] for el in add_occupations])  # список кодов\n",
    "    else:\n",
    "        # если нет добавочной деятельности => нет и соотв версии\n",
    "        val.append(None)\n",
    "        # и список доп.кодов пустой\n",
    "        val.append([])\n",
    "\n",
    "    # дальше - редкие признаки\n",
    "    # сведения о лицензиях - число лицензий\n",
    "    val.append(len(doc.findall('СвЛиценз')))\n",
    "\n",
    "    # сведения о производимой продкукции\n",
    "    # число типов продукции, список их кодов, если есть хотя бы 1 ПрОтнПрод == 1 - бинарный признак: \n",
    "    # производит инновац/высокотехнологич продукцию\n",
    "    products = doc.findall('СвПрод')\n",
    "    val.append(len(products))\n",
    "    if products:\n",
    "        # список кодов\n",
    "        val.append([el.attrib['КодПрод'] for el in products])\n",
    "        # высокотехнологичный? 1 - да, 2 - нет, аналогично меняю на 1-0\n",
    "        val.append(1 if '1' in [el.attrib['ПрОтнПрод'] for el in products] else 0)\n",
    "    else:\n",
    "        val.append([])\n",
    "        val.append(0)\n",
    "\n",
    "    # сведения о контрактах -  ФЗ \"О контрактной системе в сфере закупок товаров, работ, услуг \n",
    "    # для обеспечения государственных и муниципальных нужд\"\n",
    "    # число контрактов\n",
    "    # мб - объеденить с договорами?\n",
    "    val.append(len(doc.findall('СвКонтр')))\n",
    "\n",
    "    # сведения о договорах - ФЗ \"О закупках товаров, работ, услуг отдельными видами юридических лиц\" \n",
    "    # число договоров\n",
    "    val.append(len(doc.findall('СвДог')))\n",
    "\n",
    "    return tuple(val)"
   ]
  },
  {
   "cell_type": "code",
   "execution_count": null,
   "id": "2676aeb7",
   "metadata": {},
   "outputs": [],
   "source": [
    "path = '../raw_data/reestr_ms/data-10032023-structure-10032022'\n",
    "xpath = \"Документ[ОргВклМСП]\"\n",
    "connect = psycopg2.connect(dbname=\"fns_data\", user=\"user\", password='', host=\"localhost\", port=5432)\n",
    "table_name = 'reestr_msp'\n",
    "table_columns = ['inn', 'n_employees', 'is_soc_enterprise', 'newly_establ', 'subj_cat', \n",
    "                 'subj_form', 'inclusion_date', 'n_okovd_add', 'okovd_add_vers', 'okovd_add_code', \n",
    "                 'n_licenses', 'n_products', 'products_code', 'is_high_tech', 'n_contracts', \n",
    "                 'n_agreements']"
   ]
  },
  {
   "cell_type": "code",
   "execution_count": 5,
   "id": "ac285b90",
   "metadata": {},
   "outputs": [],
   "source": [
    "# функция для итерирования по файлам, сбора документов и вставки в таблицу\n",
    "# тоже разбить на несколько небольших функций?\n",
    "def insert_to_pgsql(path, xpath, connect, table_name, table_columns):\n",
    "    files = [path + '/' + file for file in os.listdir(path)]\n",
    "    for file in files:\n",
    "        tree = etree.parse(file)\n",
    "        root = tree.getroot()\n",
    "        docs = root.findall(xpath)\n",
    "        \n",
    "#         print(len(docs), file)\n",
    "        # если список не пуст:\n",
    "        if docs:\n",
    "            values = []\n",
    "            for doc in docs:\n",
    "                val = get_val(doc)\n",
    "                values.append(val)\n",
    "            \n",
    "            # транзакции не равномерны - от 1-2 до 900 значений\n",
    "            # и стоит ли каждый раз закрывать курсор?\n",
    "            with connect:\n",
    "                with connect.cursor() as cur:\n",
    "                    insert = (\n",
    "                         sql.SQL(\n",
    "                          'INSERT INTO {} ({}) VALUES {}')\n",
    "                          .format(sql.Identifier(table_name), \n",
    "                                  sql.SQL(',').join(map(sql.Identifier, table_columns)), \n",
    "                                  sql.SQL(',').join(map(sql.Literal, values))\n",
    "                         )\n",
    "                        )\n",
    "                    cur.execute(insert)\n",
    "\n",
    "    connect.close()"
   ]
  },
  {
   "cell_type": "markdown",
   "id": "346d5fce",
   "metadata": {},
   "source": [
    "- Wall time: 19min 14s, count 2 332 303"
   ]
  },
  {
   "cell_type": "code",
   "execution_count": null,
   "id": "65cbdd44",
   "metadata": {},
   "outputs": [],
   "source": [
    "# %%time\n",
    "# insert_to_pgsql(path, xpath, connect, table_name, table_columns)"
   ]
  },
  {
   "cell_type": "markdown",
   "id": "f9f298a5",
   "metadata": {},
   "source": [
    "- меняем ключ"
   ]
  },
  {
   "cell_type": "code",
   "execution_count": null,
   "id": "3e638455",
   "metadata": {},
   "outputs": [],
   "source": [
    "connect = psycopg2.connect(dbname=\"fns_data\", user=\"user\", password='', host=\"localhost\", port=5432)"
   ]
  },
  {
   "cell_type": "code",
   "execution_count": null,
   "id": "2990cca3",
   "metadata": {},
   "outputs": [],
   "source": [
    "# одинаковые инн\n",
    "with connect:\n",
    "    with connect.cursor() as cur:\n",
    "        select = 'SELECT inn, count(inn) FROM reestr_msp rm GROUP BY inn HAVING count(inn) > 1;'\n",
    "        cur.execute(select)\n",
    "        print(cur.fetchall())"
   ]
  },
  {
   "cell_type": "markdown",
   "id": "cd538dd0",
   "metadata": {},
   "source": [
    "    [(6371005166, 2), (6319000782, 2)]"
   ]
  },
  {
   "cell_type": "code",
   "execution_count": null,
   "id": "dd3aa3b2",
   "metadata": {},
   "outputs": [],
   "source": [
    "# удаляем все 4 записи\n",
    "with connect:\n",
    "    with connect.cursor() as cur:\n",
    "        delete = 'DELETE FROM reestr_msp WHERE inn in (6371005166, 6319000782);'\n",
    "        cur.execute(delete)"
   ]
  },
  {
   "cell_type": "code",
   "execution_count": null,
   "id": "163a5444",
   "metadata": {},
   "outputs": [],
   "source": [
    "# и меняем таблицу - удаляем старый первичный ключ, добавляем новый\n",
    "# это долго - так как проверяет все inn на условие...\n",
    "with connect:\n",
    "    with connect.cursor() as cur:\n",
    "        alter1 = 'ALTER TABLE reestr_msp DROP COLUMN temp_id;'\n",
    "        alter2 = 'ALTER TABLE reestr_msp ADD PRIMARY KEY (inn);'\n",
    "        cur.execute(alter1)\n",
    "        cur.execute(alter2)"
   ]
  },
  {
   "cell_type": "code",
   "execution_count": null,
   "id": "a1afa15b",
   "metadata": {},
   "outputs": [],
   "source": [
    "connect.close()"
   ]
  },
  {
   "cell_type": "markdown",
   "id": "1da20985",
   "metadata": {},
   "source": [
    "#### - Сведения о суммах недоимки и задолженности по пеням и штрафам\n",
    "\n",
    "https://www.nalog.gov.ru/opendata/7707329152-debtam/\n",
    "\n",
    "- Сведения указываются по состоянию на 31 декабря года, предшествующего году их размещения на сайте ФНС России, при наличии такой недоимки и задолженности по пеням и штрафам по состоянию на 1 октября года размещения указанных сведений на сайте ФНС России\n",
    "\n",
    "- что-то из этого может быть целью\n",
    "\n",
    "- здесь только юр лица\n",
    "\n",
    "Собираем:\n",
    "    \n",
    "    - ДатаСост - Дата, по состоянию на которую, подготовлены данные для публикации\n",
    "    \n",
    "    - ИННЮЛ - id, очистка и уникальность\n",
    "    \n",
    "    - несколько СведНедоим суммируем по атрибутам: \n",
    "      \n",
    "        - СумШтраф - конкретная сумма, ненадлежащее исполнение\n",
    "        - СумПени - за дни просрочки\n",
    "        - СумНедНалог - сама недоимка\n",
    "        \n",
    "        Сами СведНедоим разбиты по имени налога (\"Страховые и другие взносы на обязательное пенсионное страхование, зачисляемые в Пенсионный фонд Российской Федерации\", \"НЕНАЛОГОВЫЕ ДОХОДЫ, администрируемые налоговыми органами\"), при этом какой-либо код отсутствует, а искать по длинной строке с возможными опечатками стоит только, если нужно что-то конкретное."
   ]
  },
  {
   "cell_type": "code",
   "execution_count": 13,
   "id": "fe95c4df",
   "metadata": {},
   "outputs": [],
   "source": [
    "file = '../raw_data\\debt\\VO_OT6\\VO_OTKRDAN6_9965_9965_20221220_000cc2e4-2682-40ab-9982-98870d1423d9.xml'\n",
    "tree = etree.parse(file)\n",
    "root = tree.getroot()\n",
    "docs = root.findall(\"Документ\")\n",
    "doc = docs[0]"
   ]
  },
  {
   "cell_type": "code",
   "execution_count": 14,
   "id": "8b8e0620",
   "metadata": {},
   "outputs": [
    {
     "name": "stdout",
     "output_type": "stream",
     "text": [
      "<Документ ИдДок=\"30141970-7ee6-44c9-8bb6-5db64b0576c1\" ДатаДок=\"20.12.2022\" ДатаСост=\"31.12.2021\">\n",
      "  <СведНП НаимОрг=\"ОБЩЕСТВО С ОГРАНИЧЕННОЙ ОТВЕТСТВЕННОСТЬЮ &quot;СУББОТНИК&quot;\" ИННЮЛ=\"7430020629\"/>\n",
      "  <СведНедоим НаимНалог=\"Страховые взносы на обязательное медицинское страхование работающего населения, зачисляемые в бюджет Федерального фонда обязательного медицинского страхования\" СумНедНалог=\"0.00\" СумПени=\"56.14\" СумШтраф=\"0.00\" ОбщСумНедоим=\"56.14\"/>\n",
      "  <СведНедоим НаимНалог=\"НЕНАЛОГОВЫЕ ДОХОДЫ, администрируемые налоговыми органами\" СумНедНалог=\"0.00\" СумПени=\"0.00\" СумШтраф=\"500.00\" ОбщСумНедоим=\"500.00\"/>\n",
      "  <СведНедоим НаимНалог=\"Налог, взимаемый в связи с  применением упрощенной  системы налогообложения\" СумНедНалог=\"47026.42\" СумПени=\"29529.77\" СумШтраф=\"16360.00\" ОбщСумНедоим=\"92916.19\"/>\n",
      "  <СведНедоим НаимНалог=\"Страховые и другие взносы на обязательное пенсионное страхование, зачисляемые в Пенсионный фонд Российской Федерации\" СумНедНалог=\"0.00\" СумПени=\"242.16\" СумШтраф=\"0.00\" ОбщСумНедоим=\"242.16\"/>\n",
      "</Документ>\n",
      "\n"
     ]
    }
   ],
   "source": [
    "print(etree.tostring(doc, encoding = \"unicode\", pretty_print=True))"
   ]
  },
  {
   "cell_type": "code",
   "execution_count": null,
   "id": "5cc0c5a1",
   "metadata": {},
   "outputs": [],
   "source": [
    "# для обработки сумм\n",
    "def to_float(val):\n",
    "    if isinstance(val, str):\n",
    "        val = val.strip().replace(',', '.')      \n",
    "        try:\n",
    "            return float(val)        \n",
    "        except ValueError:                                           \n",
    "            return 0 # val  # чтобы не терять другие значения\n",
    "    return val"
   ]
  },
  {
   "cell_type": "code",
   "execution_count": null,
   "id": "bf015e38",
   "metadata": {},
   "outputs": [],
   "source": [
    "def get_val(doc):\n",
    "    \"\"\"\n",
    "    Принимает один документ\n",
    "    Возвращает необходимые поля, упакованые в кортеж\n",
    "    \"\"\"\n",
    "    val = []\n",
    "    # инн = ключ\n",
    "    val.append(clean(doc.find('СведНП').attrib['ИННЮЛ']))\n",
    "    # дата, по состоянию на которую есть данные\n",
    "    val.append(clean(doc.attrib['ДатаСост']))\n",
    "    # общая сумма по видам налогов: сама недоимка, пени (за дни просрочки), \n",
    "    # штраф (конкретная сумма, ненадлежащее исполнение)\n",
    "    all_debts = doc.findall('СведНедоим')\n",
    "    # недоимка\n",
    "    arrears = 0\n",
    "    # пени\n",
    "    penalties = 0\n",
    "    # штраф\n",
    "    fines = 0\n",
    "    for debt in all_debts:\n",
    "        arrears += to_float(debt.attrib['СумНедНалог'])\n",
    "        penalties += to_float(debt.attrib['СумПени'])\n",
    "        fines += to_float(debt.attrib['СумШтраф'])\n",
    "    val.extend([arrears, penalties, fines])\n",
    "    \n",
    "    return tuple(val)"
   ]
  },
  {
   "cell_type": "code",
   "execution_count": null,
   "id": "6c5503b3",
   "metadata": {},
   "outputs": [],
   "source": [
    "# таблица\n",
    "debt_sql = 'CREATE TABLE debt (\\\n",
    "inn int8 PRIMARY KEY, \\\n",
    "status_date date, \\\n",
    "arrears money, \\\n",
    "penalties money, \\\n",
    "fines money \\\n",
    ");'"
   ]
  },
  {
   "cell_type": "code",
   "execution_count": null,
   "id": "96862685",
   "metadata": {},
   "outputs": [],
   "source": [
    "connect = psycopg2.connect(dbname=\"fns_data\", user=\"user\", password='', host=\"localhost\", port=5432)\n",
    "with connect:\n",
    "    with connect.cursor() as cur:\n",
    "        cur.execute(debt_sql)\n",
    "\n",
    "connect.close()"
   ]
  },
  {
   "cell_type": "code",
   "execution_count": null,
   "id": "15be04eb",
   "metadata": {},
   "outputs": [],
   "source": [
    "path = '../raw_data/debt/VO_OT6'\n",
    "xpath = \"Документ\"  # содержит только ИННЮЛ\n",
    "connect = psycopg2.connect(dbname=\"fns_data\", user=\"user\", password='', host=\"localhost\", port=5432)\n",
    "table_name = 'debt'\n",
    "table_columns = ['inn', 'status_date', 'arrears', 'penalties', 'fines']"
   ]
  },
  {
   "cell_type": "code",
   "execution_count": null,
   "id": "9819bd04",
   "metadata": {},
   "outputs": [],
   "source": [
    "# %%time\n",
    "# insert_to_pgsql(path, xpath, connect, table_name, table_columns)"
   ]
  },
  {
   "cell_type": "markdown",
   "id": "0283680a",
   "metadata": {},
   "source": [
    "- Wall time: 5min 50s, count 1 080 232"
   ]
  },
  {
   "cell_type": "markdown",
   "id": "e428484a",
   "metadata": {},
   "source": [
    "#### - реестр субъектов малого и среднего предпринимательства – получателей поддержки\n",
    "\n",
    "https://www.nalog.gov.ru/opendata/7707329152-rsmppp/\n",
    "\n",
    "- опять же, много видов поддержки, возьмём только финансовую\n",
    "\n",
    "- Документ (у которого есть элемент СвЮЛ)\n",
    "    - ИННЮЛ\n",
    "    - ИнфНаруш - 1 или 2 - Информация о наличии нарушения порядка и условий оказания поддержки\n",
    "    - ДатаПрин - дата принятия решения о предоставлении поддержки\n",
    "    - ФормПод - форма поддержки\n",
    "\n",
    "        отбираем тех, у кого атрибут КодФорм=\"0100\" - это финансовая поддержка\n",
    "        - на этом же уровне - элемент ВидПод - \n",
    "            - субсидии и гранты, КодВид=\"0103\" ед 1, видимо деньги\n",
    "            - финансирование на возвратной основе КодВид=\"0104\" ед поддержки 4\n",
    "            - гарантии и поручительство =\"0102\"\n",
    "        - РазмПод имеет значения в зависимости от атрибута ЕдПод - Единица измерения поддержки, значение 1 (деньги), 2, 3 (видимо, число консультаций), 4 (не знаю, что, процент?), 5 (мероприятия?)\n",
    "\n",
    "- может быть несколько поддержек для 1 организации одного вида или разных видов\n",
    "- так как не знаю, что ищу, можно сделать строка = конкретный акт поддержки (а не организация)\n",
    "- тем более, что фактор времени (дата принятия решения о поддержке) - пока не знаю, какой период нужен"
   ]
  },
  {
   "cell_type": "code",
   "execution_count": 9,
   "id": "0e62d50f",
   "metadata": {},
   "outputs": [],
   "source": [
    "file = \"../raw_data/support_ms/data/VO_SVMSP_0000_9965_20230315_00a60c8b-cb46-42f4-bb16-beee983cf34d.xml\"\n",
    "tree = etree.parse(file)\n",
    "root = tree.getroot()\n",
    "docs = root.findall(\"Документ[СвЮЛ]\")\n",
    "doc = docs[1]"
   ]
  },
  {
   "cell_type": "code",
   "execution_count": 10,
   "id": "40e36a7f",
   "metadata": {},
   "outputs": [
    {
     "name": "stdout",
     "output_type": "stream",
     "text": [
      "<Документ ИдДок=\"264abcc9-c501-4845-89df-3d77cdbb15a6\" ДатаСост=\"15.03.2023\">\n",
      "  <СвЮЛ ИННЮЛ=\"3810047203\" НаимОрг=\"ООО &quot;БАРГУЗИН&quot;\"/>\n",
      "  <СвПредПод ВидПП=\"1\" НаимОрг=\"ФЕДЕРАЛЬНАЯ НАЛОГОВАЯ СЛУЖБА\" ИННЮЛ=\"7707329152\" КатСуб=\"1\" СрокПод=\"19.06.2020\" ДатаПрин=\"19.06.2020\" ИнфНаруш=\"2\">\n",
      "    <ФормПод КодФорм=\"0100\" НаимФорм=\"Финансовая поддержка\"/>\n",
      "    <ВидПод КодВид=\"0103\" НаимВид=\"Предоставление субсидий и грантов\"/>\n",
      "    <РазмПод РазмПод=\"48520.00\" ЕдПод=\"1\"/>\n",
      "  </СвПредПод>\n",
      "  <СвПредПод ВидПП=\"1\" НаимОрг=\"ФЕДЕРАЛЬНАЯ НАЛОГОВАЯ СЛУЖБА\" ИННЮЛ=\"7707329152\" КатСуб=\"1\" СрокПод=\"19.05.2020\" ДатаПрин=\"19.05.2020\" ИнфНаруш=\"2\">\n",
      "    <ФормПод КодФорм=\"0100\" НаимФорм=\"Финансовая поддержка\"/>\n",
      "    <ВидПод КодВид=\"0103\" НаимВид=\"Предоставление субсидий и грантов\"/>\n",
      "    <РазмПод РазмПод=\"48520.00\" ЕдПод=\"1\"/>\n",
      "  </СвПредПод>\n",
      "  <СвПредПод ВидПП=\"1\" НаимОрг=\"ФЕДЕРАЛЬНАЯ НАЛОГОВАЯ СЛУЖБА\" ИННЮЛ=\"7707329152\" КатСуб=\"1\" СрокПод=\"25.11.2021\" ДатаПрин=\"25.11.2021\" ИнфНаруш=\"2\">\n",
      "    <ФормПод КодФорм=\"0100\" НаимФорм=\"Финансовая поддержка\"/>\n",
      "    <ВидПод КодВид=\"0103\" НаимВид=\"Предоставление субсидий и грантов\"/>\n",
      "    <РазмПод РазмПод=\"409344.00\" ЕдПод=\"1\"/>\n",
      "  </СвПредПод>\n",
      "</Документ>\n",
      "\n"
     ]
    }
   ],
   "source": [
    "print(etree.tostring(doc, encoding = \"unicode\", pretty_print=True))"
   ]
  },
  {
   "cell_type": "code",
   "execution_count": 15,
   "id": "0d661f9e",
   "metadata": {},
   "outputs": [],
   "source": [
    "def get_values(doc):\n",
    "    \"\"\"\n",
    "    Принимает документ\n",
    "    Возвращает несколько строк для вставки (список кортежей) или ни одной строки\n",
    "    \"\"\"   \n",
    "    values = []\n",
    "    # общие данные для строк одного документа\n",
    "    inn = clean(doc.find('СвЮЛ').attrib['ИННЮЛ'])\n",
    "    # вся финансовая поддержка\n",
    "    supports = doc.findall('СвПредПод')\n",
    "\n",
    "    for support in supports:\n",
    "        # если финансовая поддержка - забираем\n",
    "        if support.find('ФормПод').attrib['КодФорм'] == \"0100\":\n",
    "            val = []\n",
    "            val.append(inn)\n",
    "            # дата принятия решения о предоставлении поддержки\n",
    "            val.append(support.attrib['ДатаПрин'])\n",
    "            # есть ли нарушение? 1 - да, 0 - нет\n",
    "            val.append(1 if support.attrib['ИнфНаруш'] == \"1\" else 0)\n",
    "            # код формы: 0102 - гарантии и поручительство, 0103 - субсидии и гранты, \n",
    "            # 0104 - возвратная основа\n",
    "            val.append(clean(support.find('ВидПод').attrib['КодВид']))\n",
    "            # размер\n",
    "            val.append(to_float(support.find('РазмПод').attrib['РазмПод']))\n",
    "            # единица: 1 (деньги), 2, 3 (число консультаций?), 4 (процент?), 5 (мероприятия?)\n",
    "            # 1 для 0102 и 0103, 4 для 0104\n",
    "            val.append(clean(support.find('РазмПод').attrib['ЕдПод']))\n",
    "\n",
    "            values.append(tuple(val))\n",
    "    \n",
    "    return values"
   ]
  },
  {
   "cell_type": "code",
   "execution_count": 16,
   "id": "e6e52072",
   "metadata": {},
   "outputs": [],
   "source": [
    "# и своя ф-я для вставки, ещё более громоздкая!\n",
    "def inserts_to_pgsql(path, xpath, connect, table_name, table_columns):\n",
    "    files = [path + '/' + file for file in os.listdir(path)]\n",
    "    for file in files:\n",
    "        tree = etree.parse(file)\n",
    "        root = tree.getroot()\n",
    "        docs = root.findall(xpath)\n",
    "        \n",
    "#         print(len(docs), file)\n",
    "        # если список не пуст:\n",
    "        if docs:\n",
    "            values = []\n",
    "            for doc in docs:\n",
    "                val_list = get_values(doc)\n",
    "                # если не пуст\n",
    "                if val_list:\n",
    "                    values.extend(val_list)\n",
    "\n",
    "            if values:\n",
    "                with connect:\n",
    "                    with connect.cursor() as cur:\n",
    "                        insert = (\n",
    "                             sql.SQL(\n",
    "                              'INSERT INTO {} ({}) VALUES {}')\n",
    "                              .format(sql.Identifier(table_name), \n",
    "                                      sql.SQL(',').join(map(sql.Identifier, table_columns)), \n",
    "                                      sql.SQL(',').join(map(sql.Literal, values))\n",
    "                             )\n",
    "                            )\n",
    "                        cur.execute(insert)\n",
    "\n",
    "    connect.close()"
   ]
  },
  {
   "cell_type": "code",
   "execution_count": 17,
   "id": "8281b3af",
   "metadata": {},
   "outputs": [],
   "source": [
    "support_sql = 'CREATE TABLE support_ms (\\\n",
    "id bigserial PRIMARY KEY, \\\n",
    "inn int8, \\\n",
    "support_date date, \\\n",
    "is_breach int2, \\\n",
    "form_code char (4), \\\n",
    "support_volume money, \\\n",
    "support_unit int2 \\\n",
    ");'"
   ]
  },
  {
   "cell_type": "code",
   "execution_count": null,
   "id": "907bc7a5",
   "metadata": {},
   "outputs": [],
   "source": [
    "connect = psycopg2.connect(dbname=\"fns_data\", user=\"user\", password='', host=\"localhost\", port=5432)\n",
    "with connect:\n",
    "    with connect.cursor() as cur:\n",
    "        cur.execute(support_sql)\n",
    "\n",
    "connect.close()"
   ]
  },
  {
   "cell_type": "code",
   "execution_count": null,
   "id": "b9321215",
   "metadata": {},
   "outputs": [],
   "source": [
    "path = '../raw_data/support_ms/data'\n",
    "xpath = \"Документ[СвЮЛ]\"\n",
    "connect = psycopg2.connect(dbname=\"fns_data\", user=\"user\", password='new_password', host=\"localhost\", port=5432)\n",
    "table_name = 'support_ms'\n",
    "table_columns = ['inn', 'support_date', 'is_breach', 'form_code', 'support_volume', 'support_unit']"
   ]
  },
  {
   "cell_type": "code",
   "execution_count": null,
   "id": "7ca5bd96",
   "metadata": {},
   "outputs": [],
   "source": [
    "# %%time\n",
    "# inserts_to_pgsql(path, xpath, connect, table_name, table_columns)"
   ]
  },
  {
   "cell_type": "markdown",
   "id": "899bd582",
   "metadata": {},
   "source": [
    "- Wall time: 10min 23s\n",
    "- Count 1 170 650, count(DISTINCT inn) - 381 279\n",
    "- уникальные даты поддержки - с 2019 по 2023"
   ]
  },
  {
   "cell_type": "markdown",
   "id": "b36082c2",
   "metadata": {},
   "source": [
    "#### - Сведения о налоговых правонарушениях и мерах ответственности за их совершение\n",
    "\n",
    "https://www.nalog.gov.ru/opendata/7707329152-taxoffence/\n",
    "\n",
    "Сведения указываются в отношении налоговых правонарушений, решения о привлечении к ответственности за совершение которых вступили в силу в период с 1 января по 31 декабря года, предшествующего году размещения указанных сведений на сайте ФНС России, при неуплате штрафа в срок до 1 октября года размещения таких сведений на сайте ФНС России\n",
    "\n",
    "- все ИННЮЛ и по 1 нарушению для каждого\n",
    "\n",
    "забираем:\n",
    "\n",
    "    - ДатаСост - Дата, по состоянию на которую, подготовлены данные для публикации\n",
    "    - ИННЮЛ\n",
    "    - СумШтраф - сумма штрафов"
   ]
  },
  {
   "cell_type": "code",
   "execution_count": null,
   "id": "71af7c29",
   "metadata": {},
   "outputs": [],
   "source": [
    "def get_val(doc):\n",
    "    \"\"\"\n",
    "    Принимает один документ\n",
    "    Возвращает необходимые поля, упакованые в кортеж\n",
    "    \"\"\"\n",
    "    val = []\n",
    "    # инн = ключ\n",
    "    val.append(clean(doc.find('СведНП').attrib['ИННЮЛ']))\n",
    "    # дата, по состоянию на которую есть данные\n",
    "    val.append(clean(doc.attrib['ДатаСост']))\n",
    "    # сумма штрафа\n",
    "    val.append(to_float(doc.find('СведНаруш').attrib['СумШтраф']))\n",
    "    \n",
    "    return tuple(val)"
   ]
  },
  {
   "cell_type": "markdown",
   "id": "69bb2a91",
   "metadata": {},
   "source": [
    "- столбцы таблицы:\n",
    "\n",
    "        inn\n",
    "        offense_date - дата состояния, а не нарушения!\n",
    "        fine_amount"
   ]
  },
  {
   "cell_type": "code",
   "execution_count": null,
   "id": "43408ae2",
   "metadata": {},
   "outputs": [],
   "source": [
    "tax_offense_sql = 'CREATE TABLE tax_offense (\\\n",
    "inn text PRIMARY KEY, \\\n",
    "offense_date date, \\\n",
    "fine_amount decimal \\\n",
    ");'"
   ]
  },
  {
   "cell_type": "code",
   "execution_count": null,
   "id": "bc8bcae4",
   "metadata": {},
   "outputs": [],
   "source": [
    "connect = psycopg2.connect(dbname=\"fns_data\", user=\"user\", password='', host=\"localhost\", port=5432)\n",
    "with connect:\n",
    "    with connect.cursor() as cur:\n",
    "        cur.execute(tax_offense_sql)\n",
    "\n",
    "connect.close()"
   ]
  },
  {
   "cell_type": "code",
   "execution_count": null,
   "id": "d363a3d2",
   "metadata": {},
   "outputs": [],
   "source": [
    "path = 'raw_data/tax_offense/data'\n",
    "xpath = \"Документ\"\n",
    "connect = psycopg2.connect(dbname=\"fns_data\", user=\"user\", password='', host=\"localhost\", port=5432)\n",
    "table_name = 'tax_offense'\n",
    "table_columns = ['inn', 'offense_date', 'fine_amount']"
   ]
  },
  {
   "cell_type": "markdown",
   "id": "8486ea02",
   "metadata": {},
   "source": [
    "- Wall time: 4min 24s\n",
    "- COUNT(*) 129 827\n",
    "- DISTINCT offense_date 2021-12-31 - те одна дата"
   ]
  },
  {
   "cell_type": "code",
   "execution_count": null,
   "id": "e441cc78",
   "metadata": {},
   "outputs": [],
   "source": [
    "# %%time\n",
    "# insert_to_pgsql(path, xpath, connect, table_name, table_columns)"
   ]
  },
  {
   "cell_type": "code",
   "execution_count": null,
   "id": "b7e16e46",
   "metadata": {},
   "outputs": [],
   "source": [
    "connect.close()"
   ]
  },
  {
   "cell_type": "markdown",
   "id": "cfb128cd",
   "metadata": {},
   "source": [
    "#### 1.3. дополнительные данные\n",
    "\n",
    "#### - Юридические лица, в состав исполнительных органов которых входят дисквалифицированные лица\n",
    "\n",
    "https://www.nalog.gov.ru/opendata/7707329152-disqualifiedpersons/\n",
    "\n",
    "- csv на около 5 тыс строчек: - те в общем масштабе их мало\n",
    "    - Полное наименование\n",
    "    - ОГРН\n",
    "    - ИНН\n",
    "    - КПП\n",
    "    - Адрес \n",
    "\n",
    "- беру только список инн (здесь только уникальные значения), будет флагом"
   ]
  },
  {
   "cell_type": "code",
   "execution_count": 8,
   "id": "295d258c",
   "metadata": {},
   "outputs": [
    {
     "data": {
      "text/html": [
       "<div>\n",
       "<style scoped>\n",
       "    .dataframe tbody tr th:only-of-type {\n",
       "        vertical-align: middle;\n",
       "    }\n",
       "\n",
       "    .dataframe tbody tr th {\n",
       "        vertical-align: top;\n",
       "    }\n",
       "\n",
       "    .dataframe thead th {\n",
       "        text-align: right;\n",
       "    }\n",
       "</style>\n",
       "<table border=\"1\" class=\"dataframe\">\n",
       "  <thead>\n",
       "    <tr style=\"text-align: right;\">\n",
       "      <th></th>\n",
       "      <th>G1</th>\n",
       "      <th>G2</th>\n",
       "      <th>G3</th>\n",
       "      <th>G4</th>\n",
       "      <th>G5</th>\n",
       "    </tr>\n",
       "  </thead>\n",
       "  <tbody>\n",
       "    <tr>\n",
       "      <th>0</th>\n",
       "      <td>ОБЩЕСТВО С ОГРАНИЧЕННОЙ ОТВЕТСТВЕННОСТЬЮ \"КАРТЕН\"</td>\n",
       "      <td>1175749002263</td>\n",
       "      <td>5751060080</td>\n",
       "      <td>575101001</td>\n",
       "      <td>302030,ОРЛОВСКАЯ ОБЛАСТЬ,,ОРЁЛ ГОРОД,,МОСКОВСК...</td>\n",
       "    </tr>\n",
       "    <tr>\n",
       "      <th>1</th>\n",
       "      <td>ЗАКРЫТОЕ АКЦИОНЕРНОЕ ОБЩЕСТВО \"ВЕПРЬ\"</td>\n",
       "      <td>1087205000541</td>\n",
       "      <td>7222018450</td>\n",
       "      <td>722201001</td>\n",
       "      <td>627500,ТЮМЕНСКАЯ ОБЛАСТЬ,СОРОКИНСКИЙ РАЙОН,,БО...</td>\n",
       "    </tr>\n",
       "    <tr>\n",
       "      <th>2</th>\n",
       "      <td>ОБЩЕСТВО С ОГРАНИЧЕННОЙ ОТВЕТСТВЕННОСТЬЮ \"САМАН\"</td>\n",
       "      <td>1190280053732</td>\n",
       "      <td>0272913945</td>\n",
       "      <td>27201001</td>\n",
       "      <td>450095,БАШКОРТОСТАН РЕСПУБЛИКА,,УФА ГОРОД,,МАЙ...</td>\n",
       "    </tr>\n",
       "  </tbody>\n",
       "</table>\n",
       "</div>"
      ],
      "text/plain": [
       "                                                  G1             G2  \\\n",
       "0  ОБЩЕСТВО С ОГРАНИЧЕННОЙ ОТВЕТСТВЕННОСТЬЮ \"КАРТЕН\"  1175749002263   \n",
       "1              ЗАКРЫТОЕ АКЦИОНЕРНОЕ ОБЩЕСТВО \"ВЕПРЬ\"  1087205000541   \n",
       "2   ОБЩЕСТВО С ОГРАНИЧЕННОЙ ОТВЕТСТВЕННОСТЬЮ \"САМАН\"  1190280053732   \n",
       "\n",
       "           G3         G4                                                 G5  \n",
       "0  5751060080  575101001  302030,ОРЛОВСКАЯ ОБЛАСТЬ,,ОРЁЛ ГОРОД,,МОСКОВСК...  \n",
       "1  7222018450  722201001  627500,ТЮМЕНСКАЯ ОБЛАСТЬ,СОРОКИНСКИЙ РАЙОН,,БО...  \n",
       "2  0272913945   27201001  450095,БАШКОРТОСТАН РЕСПУБЛИКА,,УФА ГОРОД,,МАЙ...  "
      ]
     },
     "execution_count": 8,
     "metadata": {},
     "output_type": "execute_result"
    }
   ],
   "source": [
    "with_d_person = pd.read_csv('raw_data/with_disqual_person.csv', sep=';', dtype={'G3': str})\n",
    "with_d_person.head(3)"
   ]
  },
  {
   "cell_type": "code",
   "execution_count": 9,
   "id": "91e640ba",
   "metadata": {},
   "outputs": [
    {
     "data": {
      "text/plain": [
       "4916"
      ]
     },
     "execution_count": 9,
     "metadata": {},
     "output_type": "execute_result"
    }
   ],
   "source": [
    "inn_disqual = tuple(with_d_person.G3)\n",
    "len(inn_disqual)"
   ]
  },
  {
   "cell_type": "markdown",
   "id": "ff3eb51e",
   "metadata": {},
   "source": [
    "#### - Сведения о ценах и объемах реализации продуктовых товаров и горюче-смазочных материалов в субъектах Российской Федерации по данным контрольно-кассовой техники.\n",
    "\n",
    "https://www.nalog.gov.ru/opendata/7707329152-fnsprice/\n",
    "\n",
    "\n",
    "- можно соединять по регионам: стоимость потребительской корзины и стоимость gsm\n",
    "- за периоды 2019, 2020, 2021 - берём среднее за год\n",
    "\n",
    "- в описании структуры файла немного перепутаны столбцы (дата и код региона)...\n",
    "\n",
    "    - GA - код региона (1, 2, 3...) -в кодировке ФНС России\n",
    "    - G2 - Дата наблюдения\n",
    "    - G35 - Стоимость потребительской корзины для трудоспособных граждан\n",
    "    - G36 - Стоимость потребительской корзины для пенсионеров\n",
    "    - G37 - Стоимость потребительской корзины для детей до 18 лет\n",
    "    - G70 - Бензин марки АИ-92, руб/литр\n",
    "    - G71 - Бензин марки АИ-95, руб/литр\n",
    "    - G72 - Бензин марки АИ-98, руб/литр\n",
    "    - G73 - Дизельное топливо, руб/литр\n",
    "    - G74 - Бензин марки АИ-92, (Объем проданной продукции)\n",
    "    - G75 - Бензин марки АИ-95, (Объем проданной продукции)\n",
    "    - G76 - Бензин марки АИ-98, (Объем проданной продукции)\n",
    "    - G77 - Дизельное топливо, (Объем проданной продукции)"
   ]
  },
  {
   "cell_type": "code",
   "execution_count": 10,
   "id": "6e5745fd",
   "metadata": {},
   "outputs": [],
   "source": [
    "data = pd.read_csv('raw_data/prices_by_regions/data-20220331-structure-20220331.csv', sep=';')"
   ]
  },
  {
   "cell_type": "code",
   "execution_count": 11,
   "id": "7055976a",
   "metadata": {},
   "outputs": [],
   "source": [
    "# отбираем и переименовываем столбцы\n",
    "groc_and_fuels = data[['GA', 'G2', 'G35', 'G36', 'G37', 'G70', 'G71', 'G72', 'G73', 'G74', \n",
    "                       'G75', 'G76', 'G77']]\n",
    "groc_and_fuels.columns = ['region_id', 'observ_date', 'cons_basket_working_age', \n",
    "                         'cons_basket_pens', 'cons_basket_child', 'AI92_cost', 'AI95_cost', \n",
    "                         \"AI98_cost\", 'diesel_cost', 'AI92_volume', 'AI95_volume', \n",
    "                         \"AI98_volume\", 'diesel_volume']"
   ]
  },
  {
   "cell_type": "code",
   "execution_count": 12,
   "id": "baab63b7",
   "metadata": {},
   "outputs": [
    {
     "data": {
      "text/html": [
       "<div>\n",
       "<style scoped>\n",
       "    .dataframe tbody tr th:only-of-type {\n",
       "        vertical-align: middle;\n",
       "    }\n",
       "\n",
       "    .dataframe tbody tr th {\n",
       "        vertical-align: top;\n",
       "    }\n",
       "\n",
       "    .dataframe thead th {\n",
       "        text-align: right;\n",
       "    }\n",
       "</style>\n",
       "<table border=\"1\" class=\"dataframe\">\n",
       "  <thead>\n",
       "    <tr style=\"text-align: right;\">\n",
       "      <th></th>\n",
       "      <th>region_id</th>\n",
       "      <th>observ_date</th>\n",
       "      <th>cons_basket_working_age</th>\n",
       "      <th>cons_basket_pens</th>\n",
       "      <th>cons_basket_child</th>\n",
       "      <th>AI92_cost</th>\n",
       "      <th>AI95_cost</th>\n",
       "      <th>AI98_cost</th>\n",
       "      <th>diesel_cost</th>\n",
       "      <th>AI92_volume</th>\n",
       "      <th>AI95_volume</th>\n",
       "      <th>AI98_volume</th>\n",
       "      <th>diesel_volume</th>\n",
       "    </tr>\n",
       "  </thead>\n",
       "  <tbody>\n",
       "    <tr>\n",
       "      <th>0</th>\n",
       "      <td>1</td>\n",
       "      <td>01.01.2019</td>\n",
       "      <td>5023,51</td>\n",
       "      <td>4301,36</td>\n",
       "      <td>5001,97</td>\n",
       "      <td>42,96</td>\n",
       "      <td>46,87</td>\n",
       "      <td>50,2</td>\n",
       "      <td>45,53</td>\n",
       "      <td>103778,69</td>\n",
       "      <td>56968,84</td>\n",
       "      <td>121,19</td>\n",
       "      <td>13973,49</td>\n",
       "    </tr>\n",
       "    <tr>\n",
       "      <th>1</th>\n",
       "      <td>1</td>\n",
       "      <td>02.01.2019</td>\n",
       "      <td>5086,32</td>\n",
       "      <td>4354</td>\n",
       "      <td>5064,53</td>\n",
       "      <td>42,98</td>\n",
       "      <td>46,92</td>\n",
       "      <td>50,3</td>\n",
       "      <td>45,38</td>\n",
       "      <td>185820,84</td>\n",
       "      <td>119512,26</td>\n",
       "      <td>95,09</td>\n",
       "      <td>39283,9</td>\n",
       "    </tr>\n",
       "    <tr>\n",
       "      <th>2</th>\n",
       "      <td>1</td>\n",
       "      <td>03.01.2019</td>\n",
       "      <td>4930,56</td>\n",
       "      <td>4214,3</td>\n",
       "      <td>4911,48</td>\n",
       "      <td>41,13</td>\n",
       "      <td>46,86</td>\n",
       "      <td>50,77</td>\n",
       "      <td>45,46</td>\n",
       "      <td>219913,38</td>\n",
       "      <td>126519,19</td>\n",
       "      <td>107,82</td>\n",
       "      <td>45498,67</td>\n",
       "    </tr>\n",
       "  </tbody>\n",
       "</table>\n",
       "</div>"
      ],
      "text/plain": [
       "   region_id observ_date cons_basket_working_age cons_basket_pens  \\\n",
       "0          1  01.01.2019                 5023,51          4301,36   \n",
       "1          1  02.01.2019                 5086,32             4354   \n",
       "2          1  03.01.2019                 4930,56           4214,3   \n",
       "\n",
       "  cons_basket_child AI92_cost AI95_cost AI98_cost diesel_cost AI92_volume  \\\n",
       "0           5001,97     42,96     46,87      50,2       45,53   103778,69   \n",
       "1           5064,53     42,98     46,92      50,3       45,38   185820,84   \n",
       "2           4911,48     41,13     46,86     50,77       45,46   219913,38   \n",
       "\n",
       "  AI95_volume AI98_volume diesel_volume  \n",
       "0    56968,84      121,19      13973,49  \n",
       "1   119512,26       95,09       39283,9  \n",
       "2   126519,19      107,82      45498,67  "
      ]
     },
     "execution_count": 12,
     "metadata": {},
     "output_type": "execute_result"
    }
   ],
   "source": [
    "groc_and_fuels.head(3)"
   ]
  },
  {
   "cell_type": "code",
   "execution_count": 13,
   "id": "b8a1c496",
   "metadata": {},
   "outputs": [
    {
     "name": "stdout",
     "output_type": "stream",
     "text": [
      "<class 'pandas.core.frame.DataFrame'>\n",
      "RangeIndex: 100810 entries, 0 to 100809\n",
      "Data columns (total 13 columns):\n",
      " #   Column                   Non-Null Count   Dtype \n",
      "---  ------                   --------------   ----- \n",
      " 0   region_id                100810 non-null  int64 \n",
      " 1   observ_date              100810 non-null  object\n",
      " 2   cons_basket_working_age  100810 non-null  object\n",
      " 3   cons_basket_pens         100810 non-null  object\n",
      " 4   cons_basket_child        100810 non-null  object\n",
      " 5   AI92_cost                100810 non-null  object\n",
      " 6   AI95_cost                100810 non-null  object\n",
      " 7   AI98_cost                100810 non-null  object\n",
      " 8   diesel_cost              100810 non-null  object\n",
      " 9   AI92_volume              100810 non-null  object\n",
      " 10  AI95_volume              100810 non-null  object\n",
      " 11  AI98_volume              100810 non-null  object\n",
      " 12  diesel_volume            100810 non-null  object\n",
      "dtypes: int64(1), object(12)\n",
      "memory usage: 10.0+ MB\n"
     ]
    }
   ],
   "source": [
    "# все цены распознаёт как строку\n",
    "groc_and_fuels.info()"
   ]
  },
  {
   "cell_type": "code",
   "execution_count": 14,
   "id": "e2e4f848",
   "metadata": {},
   "outputs": [
    {
     "name": "stderr",
     "output_type": "stream",
     "text": [
      "C:\\Users\\013\\AppData\\Local\\Temp/ipykernel_3088/1479746939.py:3: SettingWithCopyWarning: \n",
      "A value is trying to be set on a copy of a slice from a DataFrame.\n",
      "Try using .loc[row_indexer,col_indexer] = value instead\n",
      "\n",
      "See the caveats in the documentation: https://pandas.pydata.org/pandas-docs/stable/user_guide/indexing.html#returning-a-view-versus-a-copy\n",
      "  groc_and_fuels[col] = groc_and_fuels[col].apply(lambda x: x.replace(',', '.')).astype(float)\n",
      "C:\\Users\\013\\AppData\\Local\\Temp/ipykernel_3088/1479746939.py:6: SettingWithCopyWarning: \n",
      "A value is trying to be set on a copy of a slice from a DataFrame.\n",
      "Try using .loc[row_indexer,col_indexer] = value instead\n",
      "\n",
      "See the caveats in the documentation: https://pandas.pydata.org/pandas-docs/stable/user_guide/indexing.html#returning-a-view-versus-a-copy\n",
      "  groc_and_fuels['observ_year'] = pd.to_datetime(groc_and_fuels['observ_date']).dt.year\n"
     ]
    },
    {
     "data": {
      "text/html": [
       "<div>\n",
       "<style scoped>\n",
       "    .dataframe tbody tr th:only-of-type {\n",
       "        vertical-align: middle;\n",
       "    }\n",
       "\n",
       "    .dataframe tbody tr th {\n",
       "        vertical-align: top;\n",
       "    }\n",
       "\n",
       "    .dataframe thead th {\n",
       "        text-align: right;\n",
       "    }\n",
       "</style>\n",
       "<table border=\"1\" class=\"dataframe\">\n",
       "  <thead>\n",
       "    <tr style=\"text-align: right;\">\n",
       "      <th></th>\n",
       "      <th>region_id</th>\n",
       "      <th>observ_date</th>\n",
       "      <th>cons_basket_working_age</th>\n",
       "      <th>cons_basket_pens</th>\n",
       "      <th>cons_basket_child</th>\n",
       "      <th>AI92_cost</th>\n",
       "      <th>AI95_cost</th>\n",
       "      <th>AI98_cost</th>\n",
       "      <th>diesel_cost</th>\n",
       "      <th>AI92_volume</th>\n",
       "      <th>AI95_volume</th>\n",
       "      <th>AI98_volume</th>\n",
       "      <th>diesel_volume</th>\n",
       "      <th>observ_year</th>\n",
       "    </tr>\n",
       "  </thead>\n",
       "  <tbody>\n",
       "    <tr>\n",
       "      <th>0</th>\n",
       "      <td>1</td>\n",
       "      <td>01.01.2019</td>\n",
       "      <td>5023.51</td>\n",
       "      <td>4301.36</td>\n",
       "      <td>5001.97</td>\n",
       "      <td>42.96</td>\n",
       "      <td>46.87</td>\n",
       "      <td>50.20</td>\n",
       "      <td>45.53</td>\n",
       "      <td>103778.69</td>\n",
       "      <td>56968.84</td>\n",
       "      <td>121.19</td>\n",
       "      <td>13973.49</td>\n",
       "      <td>2019</td>\n",
       "    </tr>\n",
       "    <tr>\n",
       "      <th>1</th>\n",
       "      <td>1</td>\n",
       "      <td>02.01.2019</td>\n",
       "      <td>5086.32</td>\n",
       "      <td>4354.00</td>\n",
       "      <td>5064.53</td>\n",
       "      <td>42.98</td>\n",
       "      <td>46.92</td>\n",
       "      <td>50.30</td>\n",
       "      <td>45.38</td>\n",
       "      <td>185820.84</td>\n",
       "      <td>119512.26</td>\n",
       "      <td>95.09</td>\n",
       "      <td>39283.90</td>\n",
       "      <td>2019</td>\n",
       "    </tr>\n",
       "    <tr>\n",
       "      <th>2</th>\n",
       "      <td>1</td>\n",
       "      <td>03.01.2019</td>\n",
       "      <td>4930.56</td>\n",
       "      <td>4214.30</td>\n",
       "      <td>4911.48</td>\n",
       "      <td>41.13</td>\n",
       "      <td>46.86</td>\n",
       "      <td>50.77</td>\n",
       "      <td>45.46</td>\n",
       "      <td>219913.38</td>\n",
       "      <td>126519.19</td>\n",
       "      <td>107.82</td>\n",
       "      <td>45498.67</td>\n",
       "      <td>2019</td>\n",
       "    </tr>\n",
       "  </tbody>\n",
       "</table>\n",
       "</div>"
      ],
      "text/plain": [
       "   region_id observ_date  cons_basket_working_age  cons_basket_pens  \\\n",
       "0          1  01.01.2019                  5023.51           4301.36   \n",
       "1          1  02.01.2019                  5086.32           4354.00   \n",
       "2          1  03.01.2019                  4930.56           4214.30   \n",
       "\n",
       "   cons_basket_child  AI92_cost  AI95_cost  AI98_cost  diesel_cost  \\\n",
       "0            5001.97      42.96      46.87      50.20        45.53   \n",
       "1            5064.53      42.98      46.92      50.30        45.38   \n",
       "2            4911.48      41.13      46.86      50.77        45.46   \n",
       "\n",
       "   AI92_volume  AI95_volume  AI98_volume  diesel_volume  observ_year  \n",
       "0    103778.69     56968.84       121.19       13973.49         2019  \n",
       "1    185820.84    119512.26        95.09       39283.90         2019  \n",
       "2    219913.38    126519.19       107.82       45498.67         2019  "
      ]
     },
     "execution_count": 14,
     "metadata": {},
     "output_type": "execute_result"
    }
   ],
   "source": [
    "# заменяем запятую на точку и приводим к float\n",
    "for col in groc_and_fuels.columns[2:]:\n",
    "    groc_and_fuels[col] = groc_and_fuels[col].apply(lambda x: x.replace(',', '.')).astype(float)\n",
    "\n",
    "# добавляем год (чтобы усреднить за период)\n",
    "groc_and_fuels['observ_year'] = pd.to_datetime(groc_and_fuels['observ_date']).dt.year\n",
    "groc_and_fuels.head(3)"
   ]
  },
  {
   "cell_type": "code",
   "execution_count": 15,
   "id": "d263b4da",
   "metadata": {},
   "outputs": [
    {
     "data": {
      "text/plain": [
       "array([2019, 2020, 2021, 2022], dtype=int64)"
      ]
     },
     "execution_count": 15,
     "metadata": {},
     "output_type": "execute_result"
    }
   ],
   "source": [
    "groc_and_fuels.observ_year.unique()"
   ]
  },
  {
   "cell_type": "code",
   "execution_count": 16,
   "id": "8d5acedf",
   "metadata": {},
   "outputs": [
    {
     "data": {
      "text/html": [
       "<div>\n",
       "<style scoped>\n",
       "    .dataframe tbody tr th:only-of-type {\n",
       "        vertical-align: middle;\n",
       "    }\n",
       "\n",
       "    .dataframe tbody tr th {\n",
       "        vertical-align: top;\n",
       "    }\n",
       "\n",
       "    .dataframe thead th {\n",
       "        text-align: right;\n",
       "    }\n",
       "</style>\n",
       "<table border=\"1\" class=\"dataframe\">\n",
       "  <thead>\n",
       "    <tr style=\"text-align: right;\">\n",
       "      <th></th>\n",
       "      <th>region_id</th>\n",
       "      <th>cons_basket_working_age</th>\n",
       "      <th>cons_basket_pens</th>\n",
       "      <th>cons_basket_child</th>\n",
       "      <th>AI92_cost</th>\n",
       "      <th>AI95_cost</th>\n",
       "      <th>AI98_cost</th>\n",
       "      <th>diesel_cost</th>\n",
       "      <th>AI92_volume</th>\n",
       "      <th>AI95_volume</th>\n",
       "      <th>AI98_volume</th>\n",
       "      <th>diesel_volume</th>\n",
       "      <th>observ_year</th>\n",
       "    </tr>\n",
       "  </thead>\n",
       "  <tbody>\n",
       "    <tr>\n",
       "      <th>count</th>\n",
       "      <td>100810.000000</td>\n",
       "      <td>100810.000000</td>\n",
       "      <td>100810.000000</td>\n",
       "      <td>100810.000000</td>\n",
       "      <td>100810.000000</td>\n",
       "      <td>100810.000000</td>\n",
       "      <td>100810.000000</td>\n",
       "      <td>100810.000000</td>\n",
       "      <td>1.008100e+05</td>\n",
       "      <td>1.008100e+05</td>\n",
       "      <td>100810.000000</td>\n",
       "      <td>1.008100e+05</td>\n",
       "      <td>100810.000000</td>\n",
       "    </tr>\n",
       "    <tr>\n",
       "      <th>mean</th>\n",
       "      <td>43.388235</td>\n",
       "      <td>5727.310486</td>\n",
       "      <td>4878.928747</td>\n",
       "      <td>5748.071100</td>\n",
       "      <td>43.652529</td>\n",
       "      <td>47.168287</td>\n",
       "      <td>40.781701</td>\n",
       "      <td>48.460662</td>\n",
       "      <td>5.434237e+05</td>\n",
       "      <td>4.326813e+05</td>\n",
       "      <td>5607.199239</td>\n",
       "      <td>1.631631e+05</td>\n",
       "      <td>2020.151771</td>\n",
       "    </tr>\n",
       "    <tr>\n",
       "      <th>std</th>\n",
       "      <td>25.201476</td>\n",
       "      <td>1374.112292</td>\n",
       "      <td>1161.590332</td>\n",
       "      <td>1474.763687</td>\n",
       "      <td>4.806918</td>\n",
       "      <td>4.936959</td>\n",
       "      <td>29.591852</td>\n",
       "      <td>6.595098</td>\n",
       "      <td>6.217567e+05</td>\n",
       "      <td>7.020778e+05</td>\n",
       "      <td>14599.542048</td>\n",
       "      <td>2.647617e+05</td>\n",
       "      <td>0.946589</td>\n",
       "    </tr>\n",
       "    <tr>\n",
       "      <th>min</th>\n",
       "      <td>1.000000</td>\n",
       "      <td>0.000000</td>\n",
       "      <td>0.000000</td>\n",
       "      <td>0.000000</td>\n",
       "      <td>0.000000</td>\n",
       "      <td>0.000000</td>\n",
       "      <td>0.000000</td>\n",
       "      <td>0.000000</td>\n",
       "      <td>0.000000e+00</td>\n",
       "      <td>0.000000e+00</td>\n",
       "      <td>0.000000</td>\n",
       "      <td>0.000000e+00</td>\n",
       "      <td>2019.000000</td>\n",
       "    </tr>\n",
       "    <tr>\n",
       "      <th>25%</th>\n",
       "      <td>22.000000</td>\n",
       "      <td>4953.200000</td>\n",
       "      <td>4225.492500</td>\n",
       "      <td>4963.042500</td>\n",
       "      <td>41.840000</td>\n",
       "      <td>45.280000</td>\n",
       "      <td>46.060000</td>\n",
       "      <td>46.390000</td>\n",
       "      <td>1.944471e+05</td>\n",
       "      <td>1.287709e+05</td>\n",
       "      <td>36.740000</td>\n",
       "      <td>3.815213e+04</td>\n",
       "      <td>2019.000000</td>\n",
       "    </tr>\n",
       "    <tr>\n",
       "      <th>50%</th>\n",
       "      <td>43.000000</td>\n",
       "      <td>5493.475000</td>\n",
       "      <td>4680.695000</td>\n",
       "      <td>5481.580000</td>\n",
       "      <td>43.270000</td>\n",
       "      <td>46.910000</td>\n",
       "      <td>50.380000</td>\n",
       "      <td>48.020000</td>\n",
       "      <td>3.439578e+05</td>\n",
       "      <td>2.297549e+05</td>\n",
       "      <td>928.335000</td>\n",
       "      <td>8.911888e+04</td>\n",
       "      <td>2020.000000</td>\n",
       "    </tr>\n",
       "    <tr>\n",
       "      <th>75%</th>\n",
       "      <td>64.000000</td>\n",
       "      <td>6206.660000</td>\n",
       "      <td>5282.115000</td>\n",
       "      <td>6162.002500</td>\n",
       "      <td>45.440000</td>\n",
       "      <td>49.080000</td>\n",
       "      <td>53.970000</td>\n",
       "      <td>50.920000</td>\n",
       "      <td>6.772496e+05</td>\n",
       "      <td>4.597270e+05</td>\n",
       "      <td>4798.805000</td>\n",
       "      <td>1.751593e+05</td>\n",
       "      <td>2021.000000</td>\n",
       "    </tr>\n",
       "    <tr>\n",
       "      <th>max</th>\n",
       "      <td>92.000000</td>\n",
       "      <td>20292.650000</td>\n",
       "      <td>16722.400000</td>\n",
       "      <td>19410.610000</td>\n",
       "      <td>60.740000</td>\n",
       "      <td>63.000000</td>\n",
       "      <td>1000.000000</td>\n",
       "      <td>70.470000</td>\n",
       "      <td>5.867661e+06</td>\n",
       "      <td>7.963218e+06</td>\n",
       "      <td>293081.090000</td>\n",
       "      <td>2.965140e+06</td>\n",
       "      <td>2022.000000</td>\n",
       "    </tr>\n",
       "  </tbody>\n",
       "</table>\n",
       "</div>"
      ],
      "text/plain": [
       "           region_id  cons_basket_working_age  cons_basket_pens  \\\n",
       "count  100810.000000            100810.000000     100810.000000   \n",
       "mean       43.388235              5727.310486       4878.928747   \n",
       "std        25.201476              1374.112292       1161.590332   \n",
       "min         1.000000                 0.000000          0.000000   \n",
       "25%        22.000000              4953.200000       4225.492500   \n",
       "50%        43.000000              5493.475000       4680.695000   \n",
       "75%        64.000000              6206.660000       5282.115000   \n",
       "max        92.000000             20292.650000      16722.400000   \n",
       "\n",
       "       cons_basket_child      AI92_cost      AI95_cost      AI98_cost  \\\n",
       "count      100810.000000  100810.000000  100810.000000  100810.000000   \n",
       "mean         5748.071100      43.652529      47.168287      40.781701   \n",
       "std          1474.763687       4.806918       4.936959      29.591852   \n",
       "min             0.000000       0.000000       0.000000       0.000000   \n",
       "25%          4963.042500      41.840000      45.280000      46.060000   \n",
       "50%          5481.580000      43.270000      46.910000      50.380000   \n",
       "75%          6162.002500      45.440000      49.080000      53.970000   \n",
       "max         19410.610000      60.740000      63.000000    1000.000000   \n",
       "\n",
       "         diesel_cost   AI92_volume   AI95_volume    AI98_volume  \\\n",
       "count  100810.000000  1.008100e+05  1.008100e+05  100810.000000   \n",
       "mean       48.460662  5.434237e+05  4.326813e+05    5607.199239   \n",
       "std         6.595098  6.217567e+05  7.020778e+05   14599.542048   \n",
       "min         0.000000  0.000000e+00  0.000000e+00       0.000000   \n",
       "25%        46.390000  1.944471e+05  1.287709e+05      36.740000   \n",
       "50%        48.020000  3.439578e+05  2.297549e+05     928.335000   \n",
       "75%        50.920000  6.772496e+05  4.597270e+05    4798.805000   \n",
       "max        70.470000  5.867661e+06  7.963218e+06  293081.090000   \n",
       "\n",
       "       diesel_volume    observ_year  \n",
       "count   1.008100e+05  100810.000000  \n",
       "mean    1.631631e+05    2020.151771  \n",
       "std     2.647617e+05       0.946589  \n",
       "min     0.000000e+00    2019.000000  \n",
       "25%     3.815213e+04    2019.000000  \n",
       "50%     8.911888e+04    2020.000000  \n",
       "75%     1.751593e+05    2021.000000  \n",
       "max     2.965140e+06    2022.000000  "
      ]
     },
     "execution_count": 16,
     "metadata": {},
     "output_type": "execute_result"
    }
   ],
   "source": [
    "groc_and_fuels.describe()"
   ]
  },
  {
   "cell_type": "markdown",
   "id": "83d5c749",
   "metadata": {},
   "source": [
    "- есть наблюдения с нулевыми значениями - это скорее всего должны быть None\n",
    "- сперва заменяю нули на Nan, а потом агрегирую (mean игнорирует Nan при расчёте среднего)"
   ]
  },
  {
   "cell_type": "code",
   "execution_count": 17,
   "id": "fd1babc1",
   "metadata": {},
   "outputs": [],
   "source": [
    "groc_and_fuels = groc_and_fuels.replace(0, None)"
   ]
  },
  {
   "cell_type": "code",
   "execution_count": 18,
   "id": "423ad4c3",
   "metadata": {},
   "outputs": [
    {
     "data": {
      "text/html": [
       "<div>\n",
       "<style scoped>\n",
       "    .dataframe tbody tr th:only-of-type {\n",
       "        vertical-align: middle;\n",
       "    }\n",
       "\n",
       "    .dataframe tbody tr th {\n",
       "        vertical-align: top;\n",
       "    }\n",
       "\n",
       "    .dataframe thead th {\n",
       "        text-align: right;\n",
       "    }\n",
       "</style>\n",
       "<table border=\"1\" class=\"dataframe\">\n",
       "  <thead>\n",
       "    <tr style=\"text-align: right;\">\n",
       "      <th></th>\n",
       "      <th>region_id</th>\n",
       "      <th>observ_year</th>\n",
       "      <th>cons_basket_working_age</th>\n",
       "      <th>cons_basket_pens</th>\n",
       "      <th>cons_basket_child</th>\n",
       "      <th>AI92_cost</th>\n",
       "      <th>AI95_cost</th>\n",
       "      <th>AI98_cost</th>\n",
       "      <th>diesel_cost</th>\n",
       "      <th>AI92_volume</th>\n",
       "      <th>AI95_volume</th>\n",
       "      <th>AI98_volume</th>\n",
       "      <th>diesel_volume</th>\n",
       "    </tr>\n",
       "  </thead>\n",
       "  <tbody>\n",
       "    <tr>\n",
       "      <th>0</th>\n",
       "      <td>1</td>\n",
       "      <td>2019</td>\n",
       "      <td>5005.002466</td>\n",
       "      <td>4269.761836</td>\n",
       "      <td>4923.843233</td>\n",
       "      <td>43.332219</td>\n",
       "      <td>48.051562</td>\n",
       "      <td>50.837918</td>\n",
       "      <td>45.404822</td>\n",
       "      <td>221138.361425</td>\n",
       "      <td>122866.607068</td>\n",
       "      <td>159.544000</td>\n",
       "      <td>65073.028384</td>\n",
       "    </tr>\n",
       "    <tr>\n",
       "      <th>1</th>\n",
       "      <td>1</td>\n",
       "      <td>2020</td>\n",
       "      <td>5146.416749</td>\n",
       "      <td>4387.573552</td>\n",
       "      <td>5092.815164</td>\n",
       "      <td>43.547923</td>\n",
       "      <td>48.533852</td>\n",
       "      <td>52.076913</td>\n",
       "      <td>46.012650</td>\n",
       "      <td>187478.847978</td>\n",
       "      <td>123215.335929</td>\n",
       "      <td>72.161475</td>\n",
       "      <td>60822.033087</td>\n",
       "    </tr>\n",
       "    <tr>\n",
       "      <th>2</th>\n",
       "      <td>1</td>\n",
       "      <td>2021</td>\n",
       "      <td>5914.448685</td>\n",
       "      <td>5031.818411</td>\n",
       "      <td>5815.689205</td>\n",
       "      <td>44.553863</td>\n",
       "      <td>50.663260</td>\n",
       "      <td>54.583315</td>\n",
       "      <td>47.691973</td>\n",
       "      <td>208157.641918</td>\n",
       "      <td>142313.449507</td>\n",
       "      <td>1248.010493</td>\n",
       "      <td>69281.618521</td>\n",
       "    </tr>\n",
       "  </tbody>\n",
       "</table>\n",
       "</div>"
      ],
      "text/plain": [
       "   region_id  observ_year  cons_basket_working_age  cons_basket_pens  \\\n",
       "0          1         2019              5005.002466       4269.761836   \n",
       "1          1         2020              5146.416749       4387.573552   \n",
       "2          1         2021              5914.448685       5031.818411   \n",
       "\n",
       "   cons_basket_child  AI92_cost  AI95_cost  AI98_cost  diesel_cost  \\\n",
       "0        4923.843233  43.332219  48.051562  50.837918    45.404822   \n",
       "1        5092.815164  43.547923  48.533852  52.076913    46.012650   \n",
       "2        5815.689205  44.553863  50.663260  54.583315    47.691973   \n",
       "\n",
       "     AI92_volume    AI95_volume  AI98_volume  diesel_volume  \n",
       "0  221138.361425  122866.607068   159.544000   65073.028384  \n",
       "1  187478.847978  123215.335929    72.161475   60822.033087  \n",
       "2  208157.641918  142313.449507  1248.010493   69281.618521  "
      ]
     },
     "execution_count": 18,
     "metadata": {},
     "output_type": "execute_result"
    }
   ],
   "source": [
    "avg_groc_and_fuels = groc_and_fuels.groupby(['region_id', 'observ_year'], as_index=False)[['cons_basket_working_age', \n",
    "                         'cons_basket_pens', 'cons_basket_child', 'AI92_cost', 'AI95_cost', \n",
    "                         \"AI98_cost\", 'diesel_cost', 'AI92_volume', 'AI95_volume', \n",
    "                         \"AI98_volume\", 'diesel_volume']].mean()\n",
    "avg_groc_and_fuels.head(3)"
   ]
  },
  {
   "cell_type": "code",
   "execution_count": 19,
   "id": "f4d8d8b2",
   "metadata": {},
   "outputs": [
    {
     "data": {
      "text/html": [
       "<div>\n",
       "<style scoped>\n",
       "    .dataframe tbody tr th:only-of-type {\n",
       "        vertical-align: middle;\n",
       "    }\n",
       "\n",
       "    .dataframe tbody tr th {\n",
       "        vertical-align: top;\n",
       "    }\n",
       "\n",
       "    .dataframe thead th {\n",
       "        text-align: right;\n",
       "    }\n",
       "</style>\n",
       "<table border=\"1\" class=\"dataframe\">\n",
       "  <thead>\n",
       "    <tr style=\"text-align: right;\">\n",
       "      <th></th>\n",
       "      <th>region_id</th>\n",
       "      <th>observ_year</th>\n",
       "      <th>cons_basket_working_age</th>\n",
       "      <th>cons_basket_pens</th>\n",
       "      <th>cons_basket_child</th>\n",
       "      <th>AI92_cost</th>\n",
       "      <th>AI95_cost</th>\n",
       "      <th>AI98_cost</th>\n",
       "      <th>diesel_cost</th>\n",
       "      <th>AI92_volume</th>\n",
       "      <th>AI95_volume</th>\n",
       "      <th>AI98_volume</th>\n",
       "      <th>diesel_volume</th>\n",
       "    </tr>\n",
       "  </thead>\n",
       "  <tbody>\n",
       "    <tr>\n",
       "      <th>count</th>\n",
       "      <td>340.000000</td>\n",
       "      <td>340.000000</td>\n",
       "      <td>340.000000</td>\n",
       "      <td>340.000000</td>\n",
       "      <td>340.000000</td>\n",
       "      <td>340.000000</td>\n",
       "      <td>340.000000</td>\n",
       "      <td>340.000000</td>\n",
       "      <td>340.000000</td>\n",
       "      <td>3.400000e+02</td>\n",
       "      <td>3.400000e+02</td>\n",
       "      <td>340.000000</td>\n",
       "      <td>3.400000e+02</td>\n",
       "    </tr>\n",
       "    <tr>\n",
       "      <th>mean</th>\n",
       "      <td>43.388235</td>\n",
       "      <td>2020.500000</td>\n",
       "      <td>6015.032872</td>\n",
       "      <td>5122.777485</td>\n",
       "      <td>6036.548506</td>\n",
       "      <td>44.703428</td>\n",
       "      <td>48.314539</td>\n",
       "      <td>58.033460</td>\n",
       "      <td>50.217531</td>\n",
       "      <td>5.254999e+05</td>\n",
       "      <td>4.289553e+05</td>\n",
       "      <td>7487.232891</td>\n",
       "      <td>1.651926e+05</td>\n",
       "    </tr>\n",
       "    <tr>\n",
       "      <th>std</th>\n",
       "      <td>25.238494</td>\n",
       "      <td>1.119682</td>\n",
       "      <td>1303.370487</td>\n",
       "      <td>1100.238105</td>\n",
       "      <td>1419.839363</td>\n",
       "      <td>3.459869</td>\n",
       "      <td>3.419028</td>\n",
       "      <td>27.020610</td>\n",
       "      <td>4.215236</td>\n",
       "      <td>5.988471e+05</td>\n",
       "      <td>6.889907e+05</td>\n",
       "      <td>17352.852778</td>\n",
       "      <td>2.588695e+05</td>\n",
       "    </tr>\n",
       "    <tr>\n",
       "      <th>min</th>\n",
       "      <td>1.000000</td>\n",
       "      <td>2019.000000</td>\n",
       "      <td>4248.657425</td>\n",
       "      <td>3623.140493</td>\n",
       "      <td>4258.991534</td>\n",
       "      <td>30.757459</td>\n",
       "      <td>42.680986</td>\n",
       "      <td>40.564110</td>\n",
       "      <td>42.806658</td>\n",
       "      <td>2.524374e+03</td>\n",
       "      <td>1.060030e+03</td>\n",
       "      <td>3.230874</td>\n",
       "      <td>7.202673e+02</td>\n",
       "    </tr>\n",
       "    <tr>\n",
       "      <th>25%</th>\n",
       "      <td>22.000000</td>\n",
       "      <td>2019.750000</td>\n",
       "      <td>5063.237383</td>\n",
       "      <td>4320.612277</td>\n",
       "      <td>5086.709206</td>\n",
       "      <td>42.195976</td>\n",
       "      <td>45.738340</td>\n",
       "      <td>50.108363</td>\n",
       "      <td>46.782692</td>\n",
       "      <td>1.874805e+05</td>\n",
       "      <td>1.304321e+05</td>\n",
       "      <td>748.641602</td>\n",
       "      <td>4.623857e+04</td>\n",
       "    </tr>\n",
       "    <tr>\n",
       "      <th>50%</th>\n",
       "      <td>43.000000</td>\n",
       "      <td>2020.500000</td>\n",
       "      <td>5804.088227</td>\n",
       "      <td>4943.945219</td>\n",
       "      <td>5736.621575</td>\n",
       "      <td>44.311764</td>\n",
       "      <td>47.980808</td>\n",
       "      <td>53.768740</td>\n",
       "      <td>49.175219</td>\n",
       "      <td>3.360336e+05</td>\n",
       "      <td>2.271063e+05</td>\n",
       "      <td>2460.292753</td>\n",
       "      <td>9.344334e+04</td>\n",
       "    </tr>\n",
       "    <tr>\n",
       "      <th>75%</th>\n",
       "      <td>64.000000</td>\n",
       "      <td>2021.250000</td>\n",
       "      <td>6508.271664</td>\n",
       "      <td>5532.384874</td>\n",
       "      <td>6447.250315</td>\n",
       "      <td>46.511551</td>\n",
       "      <td>50.319172</td>\n",
       "      <td>58.316250</td>\n",
       "      <td>52.444556</td>\n",
       "      <td>6.592407e+05</td>\n",
       "      <td>4.450006e+05</td>\n",
       "      <td>6820.945889</td>\n",
       "      <td>1.808378e+05</td>\n",
       "    </tr>\n",
       "    <tr>\n",
       "      <th>max</th>\n",
       "      <td>92.000000</td>\n",
       "      <td>2022.000000</td>\n",
       "      <td>14021.350778</td>\n",
       "      <td>11865.518556</td>\n",
       "      <td>15757.352444</td>\n",
       "      <td>60.320110</td>\n",
       "      <td>63.000000</td>\n",
       "      <td>361.476192</td>\n",
       "      <td>65.622111</td>\n",
       "      <td>4.283245e+06</td>\n",
       "      <td>5.545636e+06</td>\n",
       "      <td>195210.374889</td>\n",
       "      <td>1.936039e+06</td>\n",
       "    </tr>\n",
       "  </tbody>\n",
       "</table>\n",
       "</div>"
      ],
      "text/plain": [
       "        region_id  observ_year  cons_basket_working_age  cons_basket_pens  \\\n",
       "count  340.000000   340.000000               340.000000        340.000000   \n",
       "mean    43.388235  2020.500000              6015.032872       5122.777485   \n",
       "std     25.238494     1.119682              1303.370487       1100.238105   \n",
       "min      1.000000  2019.000000              4248.657425       3623.140493   \n",
       "25%     22.000000  2019.750000              5063.237383       4320.612277   \n",
       "50%     43.000000  2020.500000              5804.088227       4943.945219   \n",
       "75%     64.000000  2021.250000              6508.271664       5532.384874   \n",
       "max     92.000000  2022.000000             14021.350778      11865.518556   \n",
       "\n",
       "       cons_basket_child   AI92_cost   AI95_cost   AI98_cost  diesel_cost  \\\n",
       "count         340.000000  340.000000  340.000000  340.000000   340.000000   \n",
       "mean         6036.548506   44.703428   48.314539   58.033460    50.217531   \n",
       "std          1419.839363    3.459869    3.419028   27.020610     4.215236   \n",
       "min          4258.991534   30.757459   42.680986   40.564110    42.806658   \n",
       "25%          5086.709206   42.195976   45.738340   50.108363    46.782692   \n",
       "50%          5736.621575   44.311764   47.980808   53.768740    49.175219   \n",
       "75%          6447.250315   46.511551   50.319172   58.316250    52.444556   \n",
       "max         15757.352444   60.320110   63.000000  361.476192    65.622111   \n",
       "\n",
       "        AI92_volume   AI95_volume    AI98_volume  diesel_volume  \n",
       "count  3.400000e+02  3.400000e+02     340.000000   3.400000e+02  \n",
       "mean   5.254999e+05  4.289553e+05    7487.232891   1.651926e+05  \n",
       "std    5.988471e+05  6.889907e+05   17352.852778   2.588695e+05  \n",
       "min    2.524374e+03  1.060030e+03       3.230874   7.202673e+02  \n",
       "25%    1.874805e+05  1.304321e+05     748.641602   4.623857e+04  \n",
       "50%    3.360336e+05  2.271063e+05    2460.292753   9.344334e+04  \n",
       "75%    6.592407e+05  4.450006e+05    6820.945889   1.808378e+05  \n",
       "max    4.283245e+06  5.545636e+06  195210.374889   1.936039e+06  "
      ]
     },
     "execution_count": 19,
     "metadata": {},
     "output_type": "execute_result"
    }
   ],
   "source": [
    "avg_groc_and_fuels.describe()"
   ]
  },
  {
   "cell_type": "markdown",
   "id": "6323d551",
   "metadata": {},
   "source": [
    "- посмотрим совпадения кодов регионов в csv и в postgresql (поле, по которому будет соединение)"
   ]
  },
  {
   "cell_type": "code",
   "execution_count": 21,
   "id": "80e06041",
   "metadata": {},
   "outputs": [
    {
     "data": {
      "text/plain": [
       "array([ 1,  2,  3,  4,  5,  6,  7,  8,  9, 10, 11, 12, 13, 14, 15, 16, 17,\n",
       "       18, 19, 20, 21, 22, 23, 24, 25, 26, 27, 28, 29, 30, 31, 32, 33, 34,\n",
       "       35, 36, 37, 38, 39, 40, 41, 42, 43, 44, 45, 46, 47, 48, 49, 50, 51,\n",
       "       52, 53, 54, 55, 56, 57, 58, 59, 60, 61, 62, 63, 64, 65, 66, 67, 68,\n",
       "       69, 70, 71, 72, 73, 74, 75, 76, 77, 78, 79, 83, 86, 87, 89, 91, 92],\n",
       "      dtype=int64)"
      ]
     },
     "execution_count": 21,
     "metadata": {},
     "output_type": "execute_result"
    }
   ],
   "source": [
    "groc_and_fuels.region_id.unique()"
   ]
  },
  {
   "cell_type": "code",
   "execution_count": null,
   "id": "ede4b28d",
   "metadata": {},
   "outputs": [],
   "source": [
    "# уникальные из postgre\n",
    "connect = psycopg2.connect(dbname=\"fns_data\", user=\"user\", password='', host=\"localhost\", port=5432)"
   ]
  },
  {
   "cell_type": "code",
   "execution_count": null,
   "id": "9327dfe4",
   "metadata": {},
   "outputs": [],
   "source": [
    "with connect:\n",
    "    with connect.cursor() as cur:\n",
    "        select = 'SELECT DISTINCT region_code FROM reestr_msp ORDER BY region_code;'\n",
    "        cur.execute(select)\n",
    "        print(cur.fetchall())"
   ]
  },
  {
   "cell_type": "code",
   "execution_count": null,
   "id": "04c99ca6",
   "metadata": {},
   "outputs": [],
   "source": [
    "connect.close()"
   ]
  },
  {
   "cell_type": "markdown",
   "id": "e1522a0d",
   "metadata": {},
   "source": [
    "- код 93 в postgre - Краснодарский край, соответствует 23 в groc_and_fuels),\n",
    "- 94 в postgre (Территории, находящиеся за пределами РФ и обслуживаемые Управлением режимных объектов МВД России, Байконур), в groc_and_fuels данных нет\n",
    "- 95 - Чеченская Республика - соответствует код 20 в groc_and_fuels\n",
    "\n",
    "- интересный код 0: в postgre ему соответствуют 23 inn, ни для одного из которых нет отчётов в открытых данных (на bo.nalog)"
   ]
  },
  {
   "cell_type": "markdown",
   "id": "78235ed9",
   "metadata": {},
   "source": [
    "#### - Таблица 5. Численность населения России, федеральных округов, субъектов Российской Федерации, городских округов, муниципальных районов, муниципальных округов, городских и сельских поселений, городских населенных пунктов, сельских населенных пунктов с населением 3000 человек и более\n",
    "\n",
    "https://rosstat.gov.ru/vpn_popul\n",
    "\n",
    "https://rosstat.gov.ru/storage/mediabank/tab-5_VPN-2020.xlsx\n",
    "\n",
    "- здесь соединять придётся по наименованию\n",
    "- в таблице - данные по населённым пунктам с численностью более 3000 чел\n",
    "- таблица неудобная для извлечения - наименования разноформатны\n",
    "- как оказалось, данные по адресу что в MongoDb, что в xml - не очень полные и не очень корректные: перепутан уровень (город в поле региона - особенно для больших городов (оказалось, что так и есть, большой город = регион, но это оставляет поле города пустым), село в поле города и т.д.), достаточно много пропусков, есть адреса, которые сложно интерпретировать с точки зрения численности населения (50-й километр какого-нибудь шоссе) + номерные города (Чехов-4), по которым нет данных\n",
    "    - можно заполнить медианой (или средним) всех имеющихся значений численности менее 3 тыс."
   ]
  },
  {
   "cell_type": "markdown",
   "id": "326ad931",
   "metadata": {},
   "source": [
    "- структура адресов из Mongo"
   ]
  },
  {
   "cell_type": "code",
   "execution_count": 22,
   "id": "ff183c53",
   "metadata": {},
   "outputs": [],
   "source": [
    "client = MongoClient('localhost', 27017)\n",
    "mongobase = client.bo_nalog\n",
    "collection = mongobase['bonalogru']"
   ]
  },
  {
   "cell_type": "code",
   "execution_count": 23,
   "id": "04081bdf",
   "metadata": {},
   "outputs": [],
   "source": [
    "# таблица с адресами - чтобы посмотреть соотношение\n",
    "addresses = pd.DataFrame.from_records(collection.find({}, {'region': 1, 'district': 1, 'city': 1,\n",
    "                                                           'settlement': 1}))"
   ]
  },
  {
   "cell_type": "code",
   "execution_count": 24,
   "id": "aa138a29",
   "metadata": {},
   "outputs": [
    {
     "data": {
      "text/html": [
       "<div>\n",
       "<style scoped>\n",
       "    .dataframe tbody tr th:only-of-type {\n",
       "        vertical-align: middle;\n",
       "    }\n",
       "\n",
       "    .dataframe tbody tr th {\n",
       "        vertical-align: top;\n",
       "    }\n",
       "\n",
       "    .dataframe thead th {\n",
       "        text-align: right;\n",
       "    }\n",
       "</style>\n",
       "<table border=\"1\" class=\"dataframe\">\n",
       "  <thead>\n",
       "    <tr style=\"text-align: right;\">\n",
       "      <th></th>\n",
       "      <th>_id</th>\n",
       "      <th>region</th>\n",
       "      <th>district</th>\n",
       "      <th>city</th>\n",
       "      <th>settlement</th>\n",
       "    </tr>\n",
       "  </thead>\n",
       "  <tbody>\n",
       "    <tr>\n",
       "      <th>0</th>\n",
       "      <td>3447001553</td>\n",
       "      <td>ВОЛГОГРАДСКАЯ</td>\n",
       "      <td>None</td>\n",
       "      <td>ВОЛГОГРАД</td>\n",
       "      <td>None</td>\n",
       "    </tr>\n",
       "    <tr>\n",
       "      <th>1</th>\n",
       "      <td>3447003470</td>\n",
       "      <td>ВОЛГОГРАДСКАЯ</td>\n",
       "      <td>None</td>\n",
       "      <td>ВОЛГОГРАД</td>\n",
       "      <td>None</td>\n",
       "    </tr>\n",
       "    <tr>\n",
       "      <th>2</th>\n",
       "      <td>3447003247</td>\n",
       "      <td>ВОЛГОГРАДСКАЯ</td>\n",
       "      <td>None</td>\n",
       "      <td>ВОЛГОГРАД</td>\n",
       "      <td>None</td>\n",
       "    </tr>\n",
       "  </tbody>\n",
       "</table>\n",
       "</div>"
      ],
      "text/plain": [
       "          _id         region district       city settlement\n",
       "0  3447001553  ВОЛГОГРАДСКАЯ     None  ВОЛГОГРАД       None\n",
       "1  3447003470  ВОЛГОГРАДСКАЯ     None  ВОЛГОГРАД       None\n",
       "2  3447003247  ВОЛГОГРАДСКАЯ     None  ВОЛГОГРАД       None"
      ]
     },
     "execution_count": 24,
     "metadata": {},
     "output_type": "execute_result"
    }
   ],
   "source": [
    "addresses.head(3)"
   ]
  },
  {
   "cell_type": "code",
   "execution_count": 25,
   "id": "832bdb93",
   "metadata": {},
   "outputs": [
    {
     "name": "stdout",
     "output_type": "stream",
     "text": [
      "<class 'pandas.core.frame.DataFrame'>\n",
      "RangeIndex: 1918648 entries, 0 to 1918647\n",
      "Data columns (total 5 columns):\n",
      " #   Column      Dtype \n",
      "---  ------      ----- \n",
      " 0   _id         object\n",
      " 1   region      object\n",
      " 2   district    object\n",
      " 3   city        object\n",
      " 4   settlement  object\n",
      "dtypes: object(5)\n",
      "memory usage: 73.2+ MB\n"
     ]
    }
   ],
   "source": [
    "addresses.info()"
   ]
  },
  {
   "cell_type": "code",
   "execution_count": 28,
   "id": "af5400eb",
   "metadata": {},
   "outputs": [
    {
     "data": {
      "text/html": [
       "<div>\n",
       "<style scoped>\n",
       "    .dataframe tbody tr th:only-of-type {\n",
       "        vertical-align: middle;\n",
       "    }\n",
       "\n",
       "    .dataframe tbody tr th {\n",
       "        vertical-align: top;\n",
       "    }\n",
       "\n",
       "    .dataframe thead th {\n",
       "        text-align: right;\n",
       "    }\n",
       "</style>\n",
       "<table border=\"1\" class=\"dataframe\">\n",
       "  <thead>\n",
       "    <tr style=\"text-align: right;\">\n",
       "      <th></th>\n",
       "      <th>_id</th>\n",
       "      <th>region</th>\n",
       "      <th>district</th>\n",
       "      <th>city</th>\n",
       "      <th>settlement</th>\n",
       "    </tr>\n",
       "  </thead>\n",
       "  <tbody>\n",
       "    <tr>\n",
       "      <th>126136</th>\n",
       "      <td>3907027634</td>\n",
       "      <td>None</td>\n",
       "      <td>None</td>\n",
       "      <td>КАЛИНИНГРАД</td>\n",
       "      <td>None</td>\n",
       "    </tr>\n",
       "    <tr>\n",
       "      <th>138500</th>\n",
       "      <td>2312124742</td>\n",
       "      <td>None</td>\n",
       "      <td>None</td>\n",
       "      <td>КРАСНОДАР</td>\n",
       "      <td>None</td>\n",
       "    </tr>\n",
       "    <tr>\n",
       "      <th>138712</th>\n",
       "      <td>2312124887</td>\n",
       "      <td>None</td>\n",
       "      <td>None</td>\n",
       "      <td>КРАСНОДАР</td>\n",
       "      <td>None</td>\n",
       "    </tr>\n",
       "  </tbody>\n",
       "</table>\n",
       "</div>"
      ],
      "text/plain": [
       "               _id region district         city settlement\n",
       "126136  3907027634   None     None  КАЛИНИНГРАД       None\n",
       "138500  2312124742   None     None    КРАСНОДАР       None\n",
       "138712  2312124887   None     None    КРАСНОДАР       None"
      ]
     },
     "execution_count": 28,
     "metadata": {},
     "output_type": "execute_result"
    }
   ],
   "source": [
    "# для тех, у кого нет региона, но есть город - регион можно восстановить\n",
    "# но регион на самом деле не нужен, так как в postgresql в поле код региона нет пропусков\n",
    "addresses.loc[addresses.region.isna()].head(3)"
   ]
  },
  {
   "cell_type": "code",
   "execution_count": 27,
   "id": "071acd3e",
   "metadata": {},
   "outputs": [
    {
     "data": {
      "text/plain": [
       "1650576"
      ]
     },
     "execution_count": 27,
     "metadata": {},
     "output_type": "execute_result"
    }
   ],
   "source": [
    "# district - очень мало значений\n",
    "# а часть из них - города (как Ногинск или Одинцово ниже)\n",
    "addresses.district.isna().sum()"
   ]
  },
  {
   "cell_type": "markdown",
   "id": "d2ba1b6b",
   "metadata": {},
   "source": [
    "- и в целом есть самые разные комбинации пропусков"
   ]
  },
  {
   "cell_type": "code",
   "execution_count": 30,
   "id": "6efdc673",
   "metadata": {},
   "outputs": [
    {
     "data": {
      "text/html": [
       "<div>\n",
       "<style scoped>\n",
       "    .dataframe tbody tr th:only-of-type {\n",
       "        vertical-align: middle;\n",
       "    }\n",
       "\n",
       "    .dataframe tbody tr th {\n",
       "        vertical-align: top;\n",
       "    }\n",
       "\n",
       "    .dataframe thead th {\n",
       "        text-align: right;\n",
       "    }\n",
       "</style>\n",
       "<table border=\"1\" class=\"dataframe\">\n",
       "  <thead>\n",
       "    <tr style=\"text-align: right;\">\n",
       "      <th></th>\n",
       "      <th>_id</th>\n",
       "      <th>region</th>\n",
       "      <th>district</th>\n",
       "      <th>city</th>\n",
       "      <th>settlement</th>\n",
       "    </tr>\n",
       "  </thead>\n",
       "  <tbody>\n",
       "    <tr>\n",
       "      <th>9</th>\n",
       "      <td>5032184021</td>\n",
       "      <td>МОСКОВСКАЯ</td>\n",
       "      <td>ОДИНЦОВО</td>\n",
       "      <td>None</td>\n",
       "      <td>ВНИИССОК</td>\n",
       "    </tr>\n",
       "    <tr>\n",
       "      <th>12</th>\n",
       "      <td>5032206081</td>\n",
       "      <td>МОСКОВСКАЯ</td>\n",
       "      <td>ОДИНЦОВО</td>\n",
       "      <td>None</td>\n",
       "      <td>ЛЕСНОЙ ГОРОДОК</td>\n",
       "    </tr>\n",
       "    <tr>\n",
       "      <th>13</th>\n",
       "      <td>5032197768</td>\n",
       "      <td>МОСКОВСКАЯ</td>\n",
       "      <td>ОДИНЦОВО</td>\n",
       "      <td>None</td>\n",
       "      <td>ШАРАПОВКА</td>\n",
       "    </tr>\n",
       "    <tr>\n",
       "      <th>26</th>\n",
       "      <td>5032206476</td>\n",
       "      <td>МОСКОВСКАЯ</td>\n",
       "      <td>ОДИНЦОВО</td>\n",
       "      <td>None</td>\n",
       "      <td>ЧАСЦЫ</td>\n",
       "    </tr>\n",
       "    <tr>\n",
       "      <th>27</th>\n",
       "      <td>5032194661</td>\n",
       "      <td>МОСКОВСКАЯ</td>\n",
       "      <td>ОДИНЦОВО</td>\n",
       "      <td>None</td>\n",
       "      <td>ШУЛЬГИНО</td>\n",
       "    </tr>\n",
       "    <tr>\n",
       "      <th>...</th>\n",
       "      <td>...</td>\n",
       "      <td>...</td>\n",
       "      <td>...</td>\n",
       "      <td>...</td>\n",
       "      <td>...</td>\n",
       "    </tr>\n",
       "    <tr>\n",
       "      <th>1918287</th>\n",
       "      <td>1435172399</td>\n",
       "      <td>САХА /ЯКУТИЯ/</td>\n",
       "      <td>УСТЬ-ЯНСКИЙ</td>\n",
       "      <td>None</td>\n",
       "      <td>КАЗАЧЬЕ</td>\n",
       "    </tr>\n",
       "    <tr>\n",
       "      <th>1918321</th>\n",
       "      <td>5040095713</td>\n",
       "      <td>КАЛУЖСКАЯ</td>\n",
       "      <td>ХВАСТОВИЧСКИЙ</td>\n",
       "      <td>None</td>\n",
       "      <td>ЛОВАТЬ</td>\n",
       "    </tr>\n",
       "    <tr>\n",
       "      <th>1918439</th>\n",
       "      <td>5040095456</td>\n",
       "      <td>МОСКОВСКАЯ</td>\n",
       "      <td>Ленинский</td>\n",
       "      <td>None</td>\n",
       "      <td>Горки</td>\n",
       "    </tr>\n",
       "    <tr>\n",
       "      <th>1918477</th>\n",
       "      <td>5040094830</td>\n",
       "      <td>МОСКОВСКАЯ</td>\n",
       "      <td>НАРО-ФОМИНСК</td>\n",
       "      <td>None</td>\n",
       "      <td>СОФЬИНО</td>\n",
       "    </tr>\n",
       "    <tr>\n",
       "      <th>1918483</th>\n",
       "      <td>5040091853</td>\n",
       "      <td>МОСКОВСКАЯ</td>\n",
       "      <td>ВОСКРЕСЕНСК</td>\n",
       "      <td>None</td>\n",
       "      <td>ЮРАСОВО</td>\n",
       "    </tr>\n",
       "  </tbody>\n",
       "</table>\n",
       "<p>160140 rows × 5 columns</p>\n",
       "</div>"
      ],
      "text/plain": [
       "                _id         region       district  city      settlement\n",
       "9        5032184021     МОСКОВСКАЯ       ОДИНЦОВО  None        ВНИИССОК\n",
       "12       5032206081     МОСКОВСКАЯ       ОДИНЦОВО  None  ЛЕСНОЙ ГОРОДОК\n",
       "13       5032197768     МОСКОВСКАЯ       ОДИНЦОВО  None       ШАРАПОВКА\n",
       "26       5032206476     МОСКОВСКАЯ       ОДИНЦОВО  None           ЧАСЦЫ\n",
       "27       5032194661     МОСКОВСКАЯ       ОДИНЦОВО  None        ШУЛЬГИНО\n",
       "...             ...            ...            ...   ...             ...\n",
       "1918287  1435172399  САХА /ЯКУТИЯ/    УСТЬ-ЯНСКИЙ  None         КАЗАЧЬЕ\n",
       "1918321  5040095713      КАЛУЖСКАЯ  ХВАСТОВИЧСКИЙ  None          ЛОВАТЬ\n",
       "1918439  5040095456     МОСКОВСКАЯ      Ленинский  None           Горки\n",
       "1918477  5040094830     МОСКОВСКАЯ   НАРО-ФОМИНСК  None         СОФЬИНО\n",
       "1918483  5040091853     МОСКОВСКАЯ    ВОСКРЕСЕНСК  None         ЮРАСОВО\n",
       "\n",
       "[160140 rows x 5 columns]"
      ]
     },
     "execution_count": 30,
     "metadata": {},
     "output_type": "execute_result"
    }
   ],
   "source": [
    "addresses.loc[~addresses.settlement.isna() & addresses.city.isna()]"
   ]
  },
  {
   "cell_type": "code",
   "execution_count": 31,
   "id": "76bb42ae",
   "metadata": {},
   "outputs": [
    {
     "data": {
      "text/html": [
       "<div>\n",
       "<style scoped>\n",
       "    .dataframe tbody tr th:only-of-type {\n",
       "        vertical-align: middle;\n",
       "    }\n",
       "\n",
       "    .dataframe tbody tr th {\n",
       "        vertical-align: top;\n",
       "    }\n",
       "\n",
       "    .dataframe thead th {\n",
       "        text-align: right;\n",
       "    }\n",
       "</style>\n",
       "<table border=\"1\" class=\"dataframe\">\n",
       "  <thead>\n",
       "    <tr style=\"text-align: right;\">\n",
       "      <th></th>\n",
       "      <th>_id</th>\n",
       "      <th>region</th>\n",
       "      <th>district</th>\n",
       "      <th>city</th>\n",
       "      <th>settlement</th>\n",
       "    </tr>\n",
       "  </thead>\n",
       "  <tbody>\n",
       "    <tr>\n",
       "      <th>7</th>\n",
       "      <td>5032200629</td>\n",
       "      <td>МОСКОВСКАЯ</td>\n",
       "      <td>ОДИНЦОВО</td>\n",
       "      <td>None</td>\n",
       "      <td>None</td>\n",
       "    </tr>\n",
       "    <tr>\n",
       "      <th>10</th>\n",
       "      <td>5032190642</td>\n",
       "      <td>МОСКОВСКАЯ</td>\n",
       "      <td>ОДИНЦОВО</td>\n",
       "      <td>None</td>\n",
       "      <td>None</td>\n",
       "    </tr>\n",
       "    <tr>\n",
       "      <th>14</th>\n",
       "      <td>5032185280</td>\n",
       "      <td>МОСКОВСКАЯ</td>\n",
       "      <td>ОДИНЦОВО</td>\n",
       "      <td>None</td>\n",
       "      <td>None</td>\n",
       "    </tr>\n",
       "    <tr>\n",
       "      <th>15</th>\n",
       "      <td>5032194816</td>\n",
       "      <td>МОСКВА</td>\n",
       "      <td>None</td>\n",
       "      <td>None</td>\n",
       "      <td>None</td>\n",
       "    </tr>\n",
       "    <tr>\n",
       "      <th>16</th>\n",
       "      <td>5032205666</td>\n",
       "      <td>МОСКОВСКАЯ</td>\n",
       "      <td>ОДИНЦОВО</td>\n",
       "      <td>None</td>\n",
       "      <td>None</td>\n",
       "    </tr>\n",
       "    <tr>\n",
       "      <th>...</th>\n",
       "      <td>...</td>\n",
       "      <td>...</td>\n",
       "      <td>...</td>\n",
       "      <td>...</td>\n",
       "      <td>...</td>\n",
       "    </tr>\n",
       "    <tr>\n",
       "      <th>1918598</th>\n",
       "      <td>5040095110</td>\n",
       "      <td>МОСКВА</td>\n",
       "      <td>None</td>\n",
       "      <td>None</td>\n",
       "      <td>None</td>\n",
       "    </tr>\n",
       "    <tr>\n",
       "      <th>1918613</th>\n",
       "      <td>5040091652</td>\n",
       "      <td>МОСКВА</td>\n",
       "      <td>None</td>\n",
       "      <td>None</td>\n",
       "      <td>None</td>\n",
       "    </tr>\n",
       "    <tr>\n",
       "      <th>1918625</th>\n",
       "      <td>5040101597</td>\n",
       "      <td>МОСКВА</td>\n",
       "      <td>None</td>\n",
       "      <td>None</td>\n",
       "      <td>None</td>\n",
       "    </tr>\n",
       "    <tr>\n",
       "      <th>1918641</th>\n",
       "      <td>5040088628</td>\n",
       "      <td>САНКТ-ПЕТЕРБУРГ</td>\n",
       "      <td>None</td>\n",
       "      <td>None</td>\n",
       "      <td>None</td>\n",
       "    </tr>\n",
       "    <tr>\n",
       "      <th>1918647</th>\n",
       "      <td>5040093018</td>\n",
       "      <td>МОСКВА</td>\n",
       "      <td>None</td>\n",
       "      <td>None</td>\n",
       "      <td>None</td>\n",
       "    </tr>\n",
       "  </tbody>\n",
       "</table>\n",
       "<p>484974 rows × 5 columns</p>\n",
       "</div>"
      ],
      "text/plain": [
       "                _id           region  district  city settlement\n",
       "7        5032200629       МОСКОВСКАЯ  ОДИНЦОВО  None       None\n",
       "10       5032190642       МОСКОВСКАЯ  ОДИНЦОВО  None       None\n",
       "14       5032185280       МОСКОВСКАЯ  ОДИНЦОВО  None       None\n",
       "15       5032194816           МОСКВА      None  None       None\n",
       "16       5032205666       МОСКОВСКАЯ  ОДИНЦОВО  None       None\n",
       "...             ...              ...       ...   ...        ...\n",
       "1918598  5040095110           МОСКВА      None  None       None\n",
       "1918613  5040091652           МОСКВА      None  None       None\n",
       "1918625  5040101597           МОСКВА      None  None       None\n",
       "1918641  5040088628  САНКТ-ПЕТЕРБУРГ      None  None       None\n",
       "1918647  5040093018           МОСКВА      None  None       None\n",
       "\n",
       "[484974 rows x 5 columns]"
      ]
     },
     "execution_count": 31,
     "metadata": {},
     "output_type": "execute_result"
    }
   ],
   "source": [
    "# нет ни city ни district\n",
    "addresses.loc[addresses.settlement.isna() & addresses.city.isna()]"
   ]
  },
  {
   "cell_type": "code",
   "execution_count": 32,
   "id": "53968604",
   "metadata": {},
   "outputs": [
    {
     "data": {
      "text/plain": [
       "array(['МОСКОВСКАЯ', 'МОСКВА', 'САНКТ-ПЕТЕРБУРГ', 'ЛЕНИНГРАДСКАЯ',\n",
       "       'ХАБАРОВСКИЙ', 'СЕВАСТОПОЛЬ', 'САМАРСКАЯ', 'ОРЕНБУРГСКАЯ',\n",
       "       'КОСТРОМСКАЯ', 'ИРКУТСКАЯ', 'ТАТАРСТАН', 'Севастополь',\n",
       "       'УЛЬЯНОВСКАЯ', 'ПЕНЗЕНСКАЯ', 'НОВГОРОДСКАЯ', 'РОСТОВСКАЯ',\n",
       "       'ПЕРМСКИЙ', 'УДМУРТСКАЯ', 'СВЕРДЛОВСКАЯ', 'ЛИПЕЦКАЯ', 'ИВАНОВСКАЯ',\n",
       "       'БАШКОРТОСТАН', 'НОВОСИБИРСКАЯ', 'ПРИМОРСКИЙ', 'САРАТОВСКАЯ',\n",
       "       'ТЮМЕНСКАЯ', 'ТАМБОВСКАЯ', 'ТВЕРСКАЯ', 'КАРЕЛИЯ', 'ЗАБАЙКАЛЬСКИЙ',\n",
       "       'МУРМАНСКАЯ', 'ВОРОНЕЖСКАЯ', 'КРАСНОДАРСКИЙ', 'КРАСНОЯРСКИЙ',\n",
       "       'БЕЛГОРОДСКАЯ', 'СТАВРОПОЛЬСКИЙ', 'НИЖЕГОРОДСКАЯ', 'КУРГАНСКАЯ',\n",
       "       'ТОМСКАЯ', 'ТУЛЬСКАЯ', 'МАРИЙ ЭЛ', 'АСТРАХАНСКАЯ', 'КАЛУЖСКАЯ',\n",
       "       'СМОЛЕНСКАЯ', 'ВЛАДИМИРСКАЯ', 'КАМЧАТСКИЙ', 'КОМИ', 'ЧЕЛЯБИНСКАЯ',\n",
       "       'КАЛИНИНГРАДСКАЯ', 'БУРЯТИЯ', 'Санкт-Петербург', 'АЛТАЙ', 'Москва',\n",
       "       'КРЫМ', 'КИРОВСКАЯ', 'САХАЛИНСКАЯ', 'РЯЗАНСКАЯ', 'Московская',\n",
       "       'КУРСКАЯ', 'ПСКОВСКАЯ', 'АРХАНГЕЛЬСКАЯ',\n",
       "       'ХАНТЫ-МАНСИЙСКИЙ АВТОНОМНЫЙ ОКРУГ - ЮГРА',\n",
       "       'ЧУВАШСКАЯ РЕСПУБЛИКА -', 'ОРЛОВСКАЯ', 'ВОЛГОГРАДСКАЯ',\n",
       "       'АЛТАЙСКИЙ', 'КЕМЕРОВСКАЯ ОБЛАСТЬ - КУЗБАСС', 'ЯРОСЛАВСКАЯ',\n",
       "       'СЕВЕРНАЯ ОСЕТИЯ - АЛАНИЯ', 'БАЙКОНУР', 'ХАКАСИЯ', 'Свердловская',\n",
       "       'Ярославская', 'КАБАРДИНО-БАЛКАРСКАЯ', 'ЕВРЕЙСКАЯ', 'ВОЛОГОДСКАЯ',\n",
       "       'АМУРСКАЯ', 'ОМСКАЯ', 'ЯМАЛО-НЕНЕЦКИЙ', 'Алтайский', 'Воронежская',\n",
       "       'Ростовская', 'БРЯНСКАЯ', None], dtype=object)"
      ]
     },
     "execution_count": 32,
     "metadata": {},
     "output_type": "execute_result"
    }
   ],
   "source": [
    "# но большую часть можно заполнить - тк город указан в region\n",
    "addresses.loc[addresses.settlement.isna() & addresses.city.isna()].region.unique()"
   ]
  },
  {
   "cell_type": "code",
   "execution_count": 33,
   "id": "59e4cee0",
   "metadata": {},
   "outputs": [
    {
     "data": {
      "text/plain": [
       "(322270, 5)"
      ]
     },
     "execution_count": 33,
     "metadata": {},
     "output_type": "execute_result"
    }
   ],
   "source": [
    "# Москва\n",
    "addresses.loc[addresses.settlement.isna() & addresses.city.isna()].loc[addresses.region=='МОСКВА'].shape"
   ]
  },
  {
   "cell_type": "markdown",
   "id": "931f3a4e",
   "metadata": {},
   "source": [
    "- для проверки - в xml действительно в поле Регион указан Город\n",
    "\n",
    "      <Регион Наим=\"САНКТ-ПЕТЕРБУРГ\" Тип=\"ГОРОД\"/> \n",
    "\n",
    "- т.е. придётся заполнять пропуски и выбирать способ, как определить конечный пункт, по которому соединять с таблицей с численностью\n",
    "- пока - уникальные city и settlement из Mongo"
   ]
  },
  {
   "cell_type": "code",
   "execution_count": 34,
   "id": "1e8356f7",
   "metadata": {},
   "outputs": [
    {
     "data": {
      "text/plain": [
       "(1298, 23372)"
      ]
     },
     "execution_count": 34,
     "metadata": {},
     "output_type": "execute_result"
    }
   ],
   "source": [
    "cities = collection.distinct('city')\n",
    "cities = set(el.title() for el in cities[1:])\n",
    "\n",
    "settlements = collection.distinct('settlement')\n",
    "settlements = set(el.title() for el in settlements[1:])\n",
    "\n",
    "len(cities), len(settlements)"
   ]
  },
  {
   "cell_type": "markdown",
   "id": "4c802d22",
   "metadata": {},
   "source": [
    "#### данные переписи"
   ]
  },
  {
   "cell_type": "code",
   "execution_count": 35,
   "id": "b95a8e3f",
   "metadata": {},
   "outputs": [],
   "source": [
    "data = pd.read_excel('raw_data/tab-5_VPN-2020.xlsx', header=3)\n",
    "population = data[['Unnamed: 0', 'Unnamed: 1']].rename(columns={'Unnamed: 0': 'locality', 'Unnamed: 1': 'population'})"
   ]
  },
  {
   "cell_type": "code",
   "execution_count": 36,
   "id": "0f89c65a",
   "metadata": {},
   "outputs": [
    {
     "data": {
      "text/html": [
       "<div>\n",
       "<style scoped>\n",
       "    .dataframe tbody tr th:only-of-type {\n",
       "        vertical-align: middle;\n",
       "    }\n",
       "\n",
       "    .dataframe tbody tr th {\n",
       "        vertical-align: top;\n",
       "    }\n",
       "\n",
       "    .dataframe thead th {\n",
       "        text-align: right;\n",
       "    }\n",
       "</style>\n",
       "<table border=\"1\" class=\"dataframe\">\n",
       "  <thead>\n",
       "    <tr style=\"text-align: right;\">\n",
       "      <th></th>\n",
       "      <th>locality</th>\n",
       "      <th>population</th>\n",
       "    </tr>\n",
       "  </thead>\n",
       "  <tbody>\n",
       "    <tr>\n",
       "      <th>0</th>\n",
       "      <td>Российская Федерация</td>\n",
       "      <td>147182123</td>\n",
       "    </tr>\n",
       "    <tr>\n",
       "      <th>1</th>\n",
       "      <td>Городское население</td>\n",
       "      <td>110075322</td>\n",
       "    </tr>\n",
       "    <tr>\n",
       "      <th>2</th>\n",
       "      <td>Сельское население</td>\n",
       "      <td>37106801</td>\n",
       "    </tr>\n",
       "    <tr>\n",
       "      <th>3</th>\n",
       "      <td>Центральный федеральный округ</td>\n",
       "      <td>40334532</td>\n",
       "    </tr>\n",
       "    <tr>\n",
       "      <th>4</th>\n",
       "      <td>Городское население</td>\n",
       "      <td>33118003</td>\n",
       "    </tr>\n",
       "    <tr>\n",
       "      <th>...</th>\n",
       "      <td>...</td>\n",
       "      <td>...</td>\n",
       "    </tr>\n",
       "    <tr>\n",
       "      <th>27794</th>\n",
       "      <td>Сельское поселение Лаврентия</td>\n",
       "      <td>1420</td>\n",
       "    </tr>\n",
       "    <tr>\n",
       "      <th>27795</th>\n",
       "      <td>Сельское поселение Лорино</td>\n",
       "      <td>1426</td>\n",
       "    </tr>\n",
       "    <tr>\n",
       "      <th>27796</th>\n",
       "      <td>Сельское поселение Нешкан</td>\n",
       "      <td>712</td>\n",
       "    </tr>\n",
       "    <tr>\n",
       "      <th>27797</th>\n",
       "      <td>Сельское поселение Уэлен</td>\n",
       "      <td>685</td>\n",
       "    </tr>\n",
       "    <tr>\n",
       "      <th>27798</th>\n",
       "      <td>Сельское поселение Энурмино</td>\n",
       "      <td>320</td>\n",
       "    </tr>\n",
       "  </tbody>\n",
       "</table>\n",
       "<p>27799 rows × 2 columns</p>\n",
       "</div>"
      ],
      "text/plain": [
       "                            locality population\n",
       "0               Российская Федерация  147182123\n",
       "1                Городское население  110075322\n",
       "2                 Сельское население   37106801\n",
       "3      Центральный федеральный округ   40334532\n",
       "4                Городское население   33118003\n",
       "...                              ...        ...\n",
       "27794   Сельское поселение Лаврентия       1420\n",
       "27795      Сельское поселение Лорино       1426\n",
       "27796      Сельское поселение Нешкан        712\n",
       "27797       Сельское поселение Уэлен        685\n",
       "27798    Сельское поселение Энурмино        320\n",
       "\n",
       "[27799 rows x 2 columns]"
      ]
     },
     "execution_count": 36,
     "metadata": {},
     "output_type": "execute_result"
    }
   ],
   "source": [
    "# строки разного уровня + очень неединообразные наименования\n",
    "# для города: город, г. г и т.д.\n",
    "population"
   ]
  },
  {
   "cell_type": "code",
   "execution_count": 37,
   "id": "e6fe8a06",
   "metadata": {},
   "outputs": [],
   "source": [
    "# порядок важен - в городах сперва ищем город!\n",
    "def get_population(name):\n",
    "    val = population.loc[population['locality']\\\n",
    "          .str \\\n",
    "          .contains(rf'г. {name}\\b|пгт {name}\\b|село {name}\\b|пос[ёе]лок {name}\\b|п. {name}\\b|[Сс]ельское поселение {name}\\b|^{name}\\b сельское поселение|Поселение {name}\\b|[Дд]еревня {name}\\b|г {name}\\b|город {name}\\b')]\\\n",
    "          .population.values\n",
    "    return val[0] if val.any() else None"
   ]
  },
  {
   "cell_type": "code",
   "execution_count": 38,
   "id": "f0c44ca3",
   "metadata": {},
   "outputs": [
    {
     "name": "stdout",
     "output_type": "stream",
     "text": [
      "Wall time: 1min 47s\n"
     ]
    }
   ],
   "source": [
    "%%time\n",
    "city_to_population = {key: get_population(key) for key in cities}"
   ]
  },
  {
   "cell_type": "code",
   "execution_count": 40,
   "id": "21bfda39",
   "metadata": {},
   "outputs": [],
   "source": [
    "# часть на найденных можно всё-таки найти, если очистить данные\n",
    "# словарь для замены в датасете: - надо будет обновить, так как данные ещё добавляются\n",
    "city_replace = {\n",
    "    'Королев': 'Королёв',\n",
    "    'Белохолуницкое Городское Поселение': 'Белохолуницкое',\n",
    "    'Мо Сельское Поселение Следневское': 'Следневское',\n",
    "    'Камень-На-Оби': 'Камень-на-Оби',\n",
    "    'Широкобуеракское Мо': 'Широкобуеракское',\n",
    "    'Новопушкинское Мо': 'Новопушкинское',\n",
    "    'Ростов-На-Дону': 'Ростов-на-Дону',\n",
    "    'Сольцы 2': 'Сольцы',\n",
    "    'Буденновск': 'Будённовск',\n",
    "    'Городское Поселение Снегири': 'Снегири',\n",
    "    'Калач-На-Дону': 'Калач-на-Дону',\n",
    "    'Славянск-На-Кубани': 'Славянск-на-Кубани',\n",
    "    'Терсинское Мо': 'Терсинское',\n",
    "    'Николаевск-На-Амуре': 'Николаевск-на-Амуре',\n",
    "    'Комсомольск-На-Амуре': 'Комсомольск-на-Амуре',\n",
    "}"
   ]
  },
  {
   "cell_type": "markdown",
   "id": "dc9c3e0a",
   "metadata": {},
   "source": [
    "- для settlement - можно искать таким же образом (только совпадений намного меньше и поиск заметно дольше) - из 11 тыс уникальных всего около 2 тыс значений численности\n",
    "- большая часть из этих None - менее 3 тыс населения!"
   ]
  },
  {
   "cell_type": "markdown",
   "id": "557951e0",
   "metadata": {},
   "source": [
    "#### В итоге:\n",
    "\n",
    "- довольно большая часть данных будет коррелирована (так как есть обобщённые столбцы и столбцы, конкретизирующие обобщённую информацию) - те придётся ещё отбирать\n",
    "\n",
    "- данные обновляются достаточно редко (для большей части орагнизаций - только ежегодные публичные отчёты) + время выкладки\n",
    "\n",
    "- я не учитываю коррекции и поправки данных - а для них предусмотрены свои формы"
   ]
  },
  {
   "cell_type": "markdown",
   "id": "52806868",
   "metadata": {},
   "source": [
    "#### 1.4. Соединение таблиц в postgre - необязательная часть"
   ]
  },
  {
   "cell_type": "markdown",
   "id": "fff7d851",
   "metadata": {},
   "source": [
    "- чтуобы установить внешний ключ в postgre по inn, в дочерних таблицах не должно быть inn, которых нет в родительской (reestr_msp)\n",
    "- это долгий запрос в Postgre, поэтому пробую найти нужные inn в python и потом удалить их"
   ]
  },
  {
   "cell_type": "code",
   "execution_count": null,
   "id": "8560bd77",
   "metadata": {},
   "outputs": [],
   "source": [
    "connect = psycopg2.connect(dbname=\"fns_data\", user=\"user\", password='', host=\"localhost\", port=5432)"
   ]
  },
  {
   "cell_type": "code",
   "execution_count": null,
   "id": "5ac5aa7e",
   "metadata": {},
   "outputs": [],
   "source": [
    "connect.close()"
   ]
  },
  {
   "cell_type": "code",
   "execution_count": null,
   "id": "db3e8c52",
   "metadata": {},
   "outputs": [],
   "source": [
    "%%time\n",
    "with connect:\n",
    "    with connect.cursor() as cur:\n",
    "        cur.execute('SELECT inn FROM reestr_msp')\n",
    "        reestr_inn = cur.fetchall()\n",
    "        cur.execute('SELECT inn FROM debt')\n",
    "        debt_inn = cur.fetchall()\n",
    "        cur.execute('SELECT inn FROM tax_offense')\n",
    "        tax_offense_inn = cur.fetchall()\n",
    "        # здесь inn не уникален!\n",
    "        cur.execute('SELECT DISTINCT inn FROM support_msp')\n",
    "        support_msp_inn = cur.fetchall()"
   ]
  },
  {
   "cell_type": "code",
   "execution_count": null,
   "id": "b6af54e5",
   "metadata": {},
   "outputs": [],
   "source": [
    "reestr_inn = np.array(reestr_inn)[:, 0]\n",
    "debt_inn = np.array(debt_inn)[:, 0]\n",
    "tax_offense_inn = np.array(tax_offense_inn)[:, 0]\n",
    "support_msp_inn = np.array(support_msp_inn)[:, 0]"
   ]
  },
  {
   "cell_type": "code",
   "execution_count": null,
   "id": "0755aa7d",
   "metadata": {},
   "outputs": [],
   "source": [
    "len(reestr_inn), len(debt_inn), len(tax_offense_inn), len(support_msp_inn)"
   ]
  },
  {
   "cell_type": "code",
   "execution_count": null,
   "id": "084e65d8",
   "metadata": {},
   "outputs": [],
   "source": [
    "# находим разницу # это те, кто не является малым и средним, или кого уже удалили из реестра...\n",
    "debt_diff = tuple(set(debt_inn) - set(reestr_inn))\n",
    "tax_offense_diff = tuple(set(tax_offense_inn) - set(reestr_inn))\n",
    "support_diff = tuple(set(support_msp_inn) - set(reestr_inn))"
   ]
  },
  {
   "cell_type": "code",
   "execution_count": null,
   "id": "145307fd",
   "metadata": {},
   "outputs": [],
   "source": [
    "len(debt_diff), len(tax_offense_diff), len(support_diff)"
   ]
  },
  {
   "cell_type": "markdown",
   "id": "7138c581",
   "metadata": {},
   "source": [
    "- удаление"
   ]
  },
  {
   "cell_type": "code",
   "execution_count": null,
   "id": "7e1eb7ac",
   "metadata": {},
   "outputs": [],
   "source": [
    "%%time\n",
    "with connect:\n",
    "    with connect.cursor() as cur:\n",
    "        cur.execute(sql.SQL('DELETE FROM {} WHERE inn IN {}') \\\n",
    "                          .format(sql.Identifier('debt'), \n",
    "                                  sql.Literal(debt_diff)))\n",
    "        cur.execute(sql.SQL('DELETE FROM {} WHERE inn IN {}') \\\n",
    "                          .format(sql.Identifier('tax_offense'), \n",
    "                                  sql.Literal(tax_offense_diff)))\n",
    "        cur.execute(sql.SQL('DELETE FROM {} WHERE inn IN {}') \\\n",
    "                          .format(sql.Identifier('support_msp'), \n",
    "                                  sql.Literal(support_diff)))"
   ]
  },
  {
   "cell_type": "markdown",
   "id": "77a9ecc3",
   "metadata": {},
   "source": [
    "- теперь можно устанавливать ограничение"
   ]
  },
  {
   "cell_type": "code",
   "execution_count": null,
   "id": "6d099e12",
   "metadata": {},
   "outputs": [],
   "source": [
    "with connect:\n",
    "    with connect.cursor() as cur:\n",
    "        cur.execute('ALTER TABLE debt ADD FOREIGN KEY (inn) REFERENCES reestr_msp (inn)')\n",
    "        cur.execute('ALTER TABLE tax_offense ADD FOREIGN KEY (inn) REFERENCES reestr_msp (inn)')\n",
    "        cur.execute('ALTER TABLE support_msp ADD FOREIGN KEY (inn) REFERENCES reestr_msp (inn)')    "
   ]
  },
  {
   "cell_type": "markdown",
   "id": "42d1ecdf",
   "metadata": {},
   "source": [
    "### 2. Соединение датасета\n",
    "\n",
    "- на этапе соединения - 1 337 681 сырых строк из MongoDB, данные ещё собираются"
   ]
  },
  {
   "cell_type": "code",
   "execution_count": 2,
   "id": "b4bab8b6",
   "metadata": {},
   "outputs": [],
   "source": [
    "with open('parsed_data/mongo_data.pickle', 'rb') as f:\n",
    "    mongo_data = pickle.load(f)"
   ]
  },
  {
   "cell_type": "code",
   "execution_count": 3,
   "id": "19808121",
   "metadata": {},
   "outputs": [
    {
     "data": {
      "text/html": [
       "<div>\n",
       "<style scoped>\n",
       "    .dataframe tbody tr th:only-of-type {\n",
       "        vertical-align: middle;\n",
       "    }\n",
       "\n",
       "    .dataframe tbody tr th {\n",
       "        vertical-align: top;\n",
       "    }\n",
       "\n",
       "    .dataframe thead th {\n",
       "        text-align: right;\n",
       "    }\n",
       "</style>\n",
       "<table border=\"1\" class=\"dataframe\">\n",
       "  <thead>\n",
       "    <tr style=\"text-align: right;\">\n",
       "      <th></th>\n",
       "      <th>_id</th>\n",
       "      <th>id_org</th>\n",
       "      <th>shortName</th>\n",
       "      <th>ogrn</th>\n",
       "      <th>index</th>\n",
       "      <th>region</th>\n",
       "      <th>district</th>\n",
       "      <th>city</th>\n",
       "      <th>settlement</th>\n",
       "      <th>okved</th>\n",
       "      <th>...</th>\n",
       "      <th>2020_2350</th>\n",
       "      <th>2021_2300</th>\n",
       "      <th>2020_2300</th>\n",
       "      <th>2021_2410</th>\n",
       "      <th>2020_2410</th>\n",
       "      <th>2021_2400</th>\n",
       "      <th>2020_2400</th>\n",
       "      <th>2021_2500</th>\n",
       "      <th>2020_2500</th>\n",
       "      <th>2021_1220</th>\n",
       "    </tr>\n",
       "  </thead>\n",
       "  <tbody>\n",
       "    <tr>\n",
       "      <th>0</th>\n",
       "      <td>3447001553</td>\n",
       "      <td>5581428</td>\n",
       "      <td>ООО \"МОДЕРН-БОН\"</td>\n",
       "      <td>1023404293505</td>\n",
       "      <td>400066</td>\n",
       "      <td>ВОЛГОГРАДСКАЯ</td>\n",
       "      <td>None</td>\n",
       "      <td>ВОЛГОГРАД</td>\n",
       "      <td>None</td>\n",
       "      <td>None</td>\n",
       "      <td>...</td>\n",
       "      <td>0.0</td>\n",
       "      <td>NaN</td>\n",
       "      <td>NaN</td>\n",
       "      <td>138.0</td>\n",
       "      <td>0.0</td>\n",
       "      <td>1270.0</td>\n",
       "      <td>0.0</td>\n",
       "      <td>NaN</td>\n",
       "      <td>NaN</td>\n",
       "      <td>NaN</td>\n",
       "    </tr>\n",
       "    <tr>\n",
       "      <th>1</th>\n",
       "      <td>3447003470</td>\n",
       "      <td>5573882</td>\n",
       "      <td>ООО \"МАРКО\"</td>\n",
       "      <td>1023404287829</td>\n",
       "      <td>400079</td>\n",
       "      <td>ВОЛГОГРАДСКАЯ</td>\n",
       "      <td>None</td>\n",
       "      <td>ВОЛГОГРАД</td>\n",
       "      <td>None</td>\n",
       "      <td>None</td>\n",
       "      <td>...</td>\n",
       "      <td>NaN</td>\n",
       "      <td>-29.0</td>\n",
       "      <td>30.0</td>\n",
       "      <td>NaN</td>\n",
       "      <td>NaN</td>\n",
       "      <td>-29.0</td>\n",
       "      <td>30.0</td>\n",
       "      <td>-29.0</td>\n",
       "      <td>30.0</td>\n",
       "      <td>NaN</td>\n",
       "    </tr>\n",
       "    <tr>\n",
       "      <th>2</th>\n",
       "      <td>3447003247</td>\n",
       "      <td>6838461</td>\n",
       "      <td>ООО \"ОКСИ\"</td>\n",
       "      <td>1023444287855</td>\n",
       "      <td>400057</td>\n",
       "      <td>ВОЛГОГРАДСКАЯ</td>\n",
       "      <td>None</td>\n",
       "      <td>ВОЛГОГРАД</td>\n",
       "      <td>None</td>\n",
       "      <td>None</td>\n",
       "      <td>...</td>\n",
       "      <td>83.0</td>\n",
       "      <td>NaN</td>\n",
       "      <td>NaN</td>\n",
       "      <td>152.0</td>\n",
       "      <td>113.0</td>\n",
       "      <td>1099.0</td>\n",
       "      <td>691.0</td>\n",
       "      <td>NaN</td>\n",
       "      <td>NaN</td>\n",
       "      <td>NaN</td>\n",
       "    </tr>\n",
       "    <tr>\n",
       "      <th>3</th>\n",
       "      <td>3447003416</td>\n",
       "      <td>6838444</td>\n",
       "      <td>ОАО \"ФИРМА ЖБИ-6\"</td>\n",
       "      <td>1023444287580</td>\n",
       "      <td>400057</td>\n",
       "      <td>ВОЛГОГРАДСКАЯ</td>\n",
       "      <td>None</td>\n",
       "      <td>ВОЛГОГРАД</td>\n",
       "      <td>None</td>\n",
       "      <td>None</td>\n",
       "      <td>...</td>\n",
       "      <td>1586.0</td>\n",
       "      <td>24837.0</td>\n",
       "      <td>11070.0</td>\n",
       "      <td>-5181.0</td>\n",
       "      <td>-2283.0</td>\n",
       "      <td>19656.0</td>\n",
       "      <td>8787.0</td>\n",
       "      <td>17783.0</td>\n",
       "      <td>7599.0</td>\n",
       "      <td>NaN</td>\n",
       "    </tr>\n",
       "    <tr>\n",
       "      <th>4</th>\n",
       "      <td>3447002444</td>\n",
       "      <td>5581537</td>\n",
       "      <td>ПК \"МОНОЛИТ\"</td>\n",
       "      <td>1023404293725</td>\n",
       "      <td>400059</td>\n",
       "      <td>ВОЛГОГРАДСКАЯ</td>\n",
       "      <td>None</td>\n",
       "      <td>ВОЛГОГРАД</td>\n",
       "      <td>None</td>\n",
       "      <td>None</td>\n",
       "      <td>...</td>\n",
       "      <td>NaN</td>\n",
       "      <td>0.0</td>\n",
       "      <td>4.0</td>\n",
       "      <td>NaN</td>\n",
       "      <td>NaN</td>\n",
       "      <td>0.0</td>\n",
       "      <td>4.0</td>\n",
       "      <td>0.0</td>\n",
       "      <td>4.0</td>\n",
       "      <td>NaN</td>\n",
       "    </tr>\n",
       "    <tr>\n",
       "      <th>...</th>\n",
       "      <td>...</td>\n",
       "      <td>...</td>\n",
       "      <td>...</td>\n",
       "      <td>...</td>\n",
       "      <td>...</td>\n",
       "      <td>...</td>\n",
       "      <td>...</td>\n",
       "      <td>...</td>\n",
       "      <td>...</td>\n",
       "      <td>...</td>\n",
       "      <td>...</td>\n",
       "      <td>...</td>\n",
       "      <td>...</td>\n",
       "      <td>...</td>\n",
       "      <td>...</td>\n",
       "      <td>...</td>\n",
       "      <td>...</td>\n",
       "      <td>...</td>\n",
       "      <td>...</td>\n",
       "      <td>...</td>\n",
       "      <td>...</td>\n",
       "    </tr>\n",
       "    <tr>\n",
       "      <th>1918643</th>\n",
       "      <td>5040094371</td>\n",
       "      <td>9220029</td>\n",
       "      <td>ООО \"ПРОФСТРОЙ\"</td>\n",
       "      <td>1155040003150</td>\n",
       "      <td>140182</td>\n",
       "      <td>МОСКОВСКАЯ</td>\n",
       "      <td>None</td>\n",
       "      <td>ЖУКОВСКИЙ</td>\n",
       "      <td>None</td>\n",
       "      <td>None</td>\n",
       "      <td>...</td>\n",
       "      <td>NaN</td>\n",
       "      <td>NaN</td>\n",
       "      <td>NaN</td>\n",
       "      <td>NaN</td>\n",
       "      <td>NaN</td>\n",
       "      <td>NaN</td>\n",
       "      <td>NaN</td>\n",
       "      <td>NaN</td>\n",
       "      <td>NaN</td>\n",
       "      <td>NaN</td>\n",
       "    </tr>\n",
       "    <tr>\n",
       "      <th>1918644</th>\n",
       "      <td>5040092303</td>\n",
       "      <td>7220381</td>\n",
       "      <td>ООО \"КЛИНИК\"</td>\n",
       "      <td>1095040003728</td>\n",
       "      <td>140188</td>\n",
       "      <td>МОСКОВСКАЯ</td>\n",
       "      <td>None</td>\n",
       "      <td>ЖУКОВСКИЙ</td>\n",
       "      <td>None</td>\n",
       "      <td>None</td>\n",
       "      <td>...</td>\n",
       "      <td>163.0</td>\n",
       "      <td>NaN</td>\n",
       "      <td>NaN</td>\n",
       "      <td>589.0</td>\n",
       "      <td>410.0</td>\n",
       "      <td>5438.0</td>\n",
       "      <td>1982.0</td>\n",
       "      <td>NaN</td>\n",
       "      <td>NaN</td>\n",
       "      <td>NaN</td>\n",
       "    </tr>\n",
       "    <tr>\n",
       "      <th>1918645</th>\n",
       "      <td>5040096932</td>\n",
       "      <td>7271929</td>\n",
       "      <td>ООО \"ЛАРИКС  ХАУС\"</td>\n",
       "      <td>1105040000658</td>\n",
       "      <td>140145</td>\n",
       "      <td>МОСКОВСКАЯ</td>\n",
       "      <td>None</td>\n",
       "      <td>РАМЕНСКОЕ</td>\n",
       "      <td>ГЖЕЛЬ</td>\n",
       "      <td>None</td>\n",
       "      <td>...</td>\n",
       "      <td>1016.0</td>\n",
       "      <td>NaN</td>\n",
       "      <td>NaN</td>\n",
       "      <td>259.0</td>\n",
       "      <td>75.0</td>\n",
       "      <td>-13381.0</td>\n",
       "      <td>-6178.0</td>\n",
       "      <td>NaN</td>\n",
       "      <td>NaN</td>\n",
       "      <td>NaN</td>\n",
       "    </tr>\n",
       "    <tr>\n",
       "      <th>1918646</th>\n",
       "      <td>5040094861</td>\n",
       "      <td>4132796</td>\n",
       "      <td>ООО ЧОО \"О.С.А.-ГАРАНТ\"</td>\n",
       "      <td>1095040006160</td>\n",
       "      <td>140145</td>\n",
       "      <td>МОСКОВСКАЯ</td>\n",
       "      <td>None</td>\n",
       "      <td>РАМЕНСКОЕ</td>\n",
       "      <td>ТРОШКОВО</td>\n",
       "      <td>None</td>\n",
       "      <td>...</td>\n",
       "      <td>828.0</td>\n",
       "      <td>NaN</td>\n",
       "      <td>NaN</td>\n",
       "      <td>168.0</td>\n",
       "      <td>180.0</td>\n",
       "      <td>2593.0</td>\n",
       "      <td>2451.0</td>\n",
       "      <td>NaN</td>\n",
       "      <td>NaN</td>\n",
       "      <td>NaN</td>\n",
       "    </tr>\n",
       "    <tr>\n",
       "      <th>1918647</th>\n",
       "      <td>5040093018</td>\n",
       "      <td>7269416</td>\n",
       "      <td>ООО \"ИНТЕРЛОГСЕРВИС\"</td>\n",
       "      <td>1095040004399</td>\n",
       "      <td>129343</td>\n",
       "      <td>МОСКВА</td>\n",
       "      <td>None</td>\n",
       "      <td>None</td>\n",
       "      <td>None</td>\n",
       "      <td>None</td>\n",
       "      <td>...</td>\n",
       "      <td>169301.0</td>\n",
       "      <td>10818.0</td>\n",
       "      <td>8046.0</td>\n",
       "      <td>-2992.0</td>\n",
       "      <td>-568.0</td>\n",
       "      <td>7826.0</td>\n",
       "      <td>7478.0</td>\n",
       "      <td>7826.0</td>\n",
       "      <td>7478.0</td>\n",
       "      <td>0.0</td>\n",
       "    </tr>\n",
       "  </tbody>\n",
       "</table>\n",
       "<p>1918648 rows × 136 columns</p>\n",
       "</div>"
      ],
      "text/plain": [
       "                _id   id_org                shortName           ogrn   index  \\\n",
       "0        3447001553  5581428         ООО \"МОДЕРН-БОН\"  1023404293505  400066   \n",
       "1        3447003470  5573882              ООО \"МАРКО\"  1023404287829  400079   \n",
       "2        3447003247  6838461               ООО \"ОКСИ\"  1023444287855  400057   \n",
       "3        3447003416  6838444        ОАО \"ФИРМА ЖБИ-6\"  1023444287580  400057   \n",
       "4        3447002444  5581537             ПК \"МОНОЛИТ\"  1023404293725  400059   \n",
       "...             ...      ...                      ...            ...     ...   \n",
       "1918643  5040094371  9220029          ООО \"ПРОФСТРОЙ\"  1155040003150  140182   \n",
       "1918644  5040092303  7220381             ООО \"КЛИНИК\"  1095040003728  140188   \n",
       "1918645  5040096932  7271929       ООО \"ЛАРИКС  ХАУС\"  1105040000658  140145   \n",
       "1918646  5040094861  4132796  ООО ЧОО \"О.С.А.-ГАРАНТ\"  1095040006160  140145   \n",
       "1918647  5040093018  7269416     ООО \"ИНТЕРЛОГСЕРВИС\"  1095040004399  129343   \n",
       "\n",
       "                region district       city settlement okved  ... 2020_2350  \\\n",
       "0        ВОЛГОГРАДСКАЯ     None  ВОЛГОГРАД       None  None  ...       0.0   \n",
       "1        ВОЛГОГРАДСКАЯ     None  ВОЛГОГРАД       None  None  ...       NaN   \n",
       "2        ВОЛГОГРАДСКАЯ     None  ВОЛГОГРАД       None  None  ...      83.0   \n",
       "3        ВОЛГОГРАДСКАЯ     None  ВОЛГОГРАД       None  None  ...    1586.0   \n",
       "4        ВОЛГОГРАДСКАЯ     None  ВОЛГОГРАД       None  None  ...       NaN   \n",
       "...                ...      ...        ...        ...   ...  ...       ...   \n",
       "1918643     МОСКОВСКАЯ     None  ЖУКОВСКИЙ       None  None  ...       NaN   \n",
       "1918644     МОСКОВСКАЯ     None  ЖУКОВСКИЙ       None  None  ...     163.0   \n",
       "1918645     МОСКОВСКАЯ     None  РАМЕНСКОЕ      ГЖЕЛЬ  None  ...    1016.0   \n",
       "1918646     МОСКОВСКАЯ     None  РАМЕНСКОЕ   ТРОШКОВО  None  ...     828.0   \n",
       "1918647         МОСКВА     None       None       None  None  ...  169301.0   \n",
       "\n",
       "         2021_2300 2020_2300 2021_2410  2020_2410 2021_2400  2020_2400  \\\n",
       "0              NaN       NaN     138.0        0.0    1270.0        0.0   \n",
       "1            -29.0      30.0       NaN        NaN     -29.0       30.0   \n",
       "2              NaN       NaN     152.0      113.0    1099.0      691.0   \n",
       "3          24837.0   11070.0   -5181.0    -2283.0   19656.0     8787.0   \n",
       "4              0.0       4.0       NaN        NaN       0.0        4.0   \n",
       "...            ...       ...       ...        ...       ...        ...   \n",
       "1918643        NaN       NaN       NaN        NaN       NaN        NaN   \n",
       "1918644        NaN       NaN     589.0      410.0    5438.0     1982.0   \n",
       "1918645        NaN       NaN     259.0       75.0  -13381.0    -6178.0   \n",
       "1918646        NaN       NaN     168.0      180.0    2593.0     2451.0   \n",
       "1918647    10818.0    8046.0   -2992.0     -568.0    7826.0     7478.0   \n",
       "\n",
       "         2021_2500  2020_2500  2021_1220  \n",
       "0              NaN        NaN        NaN  \n",
       "1            -29.0       30.0        NaN  \n",
       "2              NaN        NaN        NaN  \n",
       "3          17783.0     7599.0        NaN  \n",
       "4              0.0        4.0        NaN  \n",
       "...            ...        ...        ...  \n",
       "1918643        NaN        NaN        NaN  \n",
       "1918644        NaN        NaN        NaN  \n",
       "1918645        NaN        NaN        NaN  \n",
       "1918646        NaN        NaN        NaN  \n",
       "1918647     7826.0     7478.0        0.0  \n",
       "\n",
       "[1918648 rows x 136 columns]"
      ]
     },
     "execution_count": 3,
     "metadata": {},
     "output_type": "execute_result"
    }
   ],
   "source": [
    "mongo_data"
   ]
  },
  {
   "cell_type": "markdown",
   "id": "85b54fc4",
   "metadata": {},
   "source": [
    "- оставляю нужные столбцы, привожу типы - чтобы уменьшить размер\n",
    "- shortname и _id в датасет не попадут, они просто для удобства"
   ]
  },
  {
   "cell_type": "code",
   "execution_count": 4,
   "id": "ce423f8c",
   "metadata": {},
   "outputs": [],
   "source": [
    "columns = ['_id', 'shortName', 'index', 'region', 'city', 'settlement', 'okved2', 'okopf',\n",
    "           'statusCode', 'registrationDate', 'authorizedCapital', '2021_1150', '2020_1150',\n",
    "           '2019_1150', '2021_1170', '2020_1170', '2019_1170', '2021_1210', '2020_1210',\n",
    "           '2019_1210', '2021_1230', '2020_1230', '2019_1230', '2021_1250', '2020_1250',\n",
    "           '2019_1250', '2021_1600', '2020_1600', '2019_1600', '2021_1350', '2020_1350',\n",
    "           '2019_1350', '2021_1360', '2020_1360', '2019_1360', '2021_1300', '2020_1300',\n",
    "           '2019_1300', '2021_1520', '2020_1520', '2019_1520', '2021_1700', '2020_1700',\n",
    "           '2019_1700', '2021_2110', '2020_2110', '2021_2120', '2020_2120', '2021_2330',\n",
    "           '2020_2330', '2021_2340', '2020_2340', '2021_2350', '2020_2350', '2021_2410',\n",
    "           '2020_2410', '2021_2400', '2020_2400',\n",
    "          ]\n",
    "mongo_data = mongo_data[columns]"
   ]
  },
  {
   "cell_type": "code",
   "execution_count": 5,
   "id": "69000f50",
   "metadata": {
    "scrolled": true
   },
   "outputs": [
    {
     "name": "stdout",
     "output_type": "stream",
     "text": [
      "<class 'pandas.core.frame.DataFrame'>\n",
      "RangeIndex: 1918648 entries, 0 to 1918647\n",
      "Data columns (total 58 columns):\n",
      " #   Column             Non-Null Count    Dtype  \n",
      "---  ------             --------------    -----  \n",
      " 0   _id                1918648 non-null  object \n",
      " 1   shortName          1918648 non-null  object \n",
      " 2   index              1912487 non-null  object \n",
      " 3   region             1918593 non-null  object \n",
      " 4   city               1273534 non-null  object \n",
      " 5   settlement         197676 non-null   object \n",
      " 6   okved2             1917116 non-null  object \n",
      " 7   okopf              1893702 non-null  float64\n",
      " 8   statusCode         1918648 non-null  object \n",
      " 9   registrationDate   1918647 non-null  object \n",
      " 10  authorizedCapital  1838219 non-null  float64\n",
      " 11  2021_1150          828464 non-null   float64\n",
      " 12  2020_1150          680998 non-null   float64\n",
      " 13  2019_1150          630704 non-null   float64\n",
      " 14  2021_1170          221453 non-null   float64\n",
      " 15  2020_1170          154363 non-null   float64\n",
      " 16  2019_1170          144737 non-null   float64\n",
      " 17  2021_1210          1303088 non-null  float64\n",
      " 18  2020_1210          1059302 non-null  float64\n",
      " 19  2019_1210          981708 non-null   float64\n",
      " 20  2021_1230          1660816 non-null  float64\n",
      " 21  2020_1230          1437546 non-null  float64\n",
      " 22  2019_1230          1325909 non-null  float64\n",
      " 23  2021_1250          1714052 non-null  float64\n",
      " 24  2020_1250          1466796 non-null  float64\n",
      " 25  2019_1250          1355709 non-null  float64\n",
      " 26  2021_1600          1918648 non-null  float64\n",
      " 27  2020_1600          1918648 non-null  float64\n",
      " 28  2019_1600          1918648 non-null  float64\n",
      " 29  2021_1350          52799 non-null    float64\n",
      " 30  2020_1350          41241 non-null    float64\n",
      " 31  2019_1350          39261 non-null    float64\n",
      " 32  2021_1360          45821 non-null    float64\n",
      " 33  2020_1360          34421 non-null    float64\n",
      " 34  2019_1360          33611 non-null    float64\n",
      " 35  2021_1300          1866599 non-null  float64\n",
      " 36  2020_1300          1762096 non-null  float64\n",
      " 37  2019_1300          1681780 non-null  float64\n",
      " 38  2021_1520          1626155 non-null  float64\n",
      " 39  2020_1520          1431743 non-null  float64\n",
      " 40  2019_1520          1325422 non-null  float64\n",
      " 41  2021_1700          1918648 non-null  float64\n",
      " 42  2020_1700          1918648 non-null  float64\n",
      " 43  2019_1700          1918648 non-null  float64\n",
      " 44  2021_2110          1549908 non-null  float64\n",
      " 45  2020_2110          1376038 non-null  float64\n",
      " 46  2021_2120          1528286 non-null  float64\n",
      " 47  2020_2120          1336497 non-null  float64\n",
      " 48  2021_2330          297958 non-null   float64\n",
      " 49  2020_2330          223788 non-null   float64\n",
      " 50  2021_2340          914620 non-null   float64\n",
      " 51  2020_2340          714377 non-null   float64\n",
      " 52  2021_2350          1489658 non-null  float64\n",
      " 53  2020_2350          1308712 non-null  float64\n",
      " 54  2021_2410          1325822 non-null  float64\n",
      " 55  2020_2410          1116197 non-null  float64\n",
      " 56  2021_2400          1649325 non-null  float64\n",
      " 57  2020_2400          1649325 non-null  float64\n",
      "dtypes: float64(49), object(9)\n",
      "memory usage: 849.0+ MB\n"
     ]
    }
   ],
   "source": [
    "mongo_data.info(verbose=True, show_counts=True, memory_usage=True)"
   ]
  },
  {
   "cell_type": "markdown",
   "id": "fb1eab8a",
   "metadata": {},
   "source": [
    "- на всякий случай чистим инн"
   ]
  },
  {
   "cell_type": "code",
   "execution_count": 6,
   "id": "47c3b64f",
   "metadata": {},
   "outputs": [
    {
     "name": "stderr",
     "output_type": "stream",
     "text": [
      "C:\\Users\\013\\AppData\\Roaming\\Python\\Python38\\site-packages\\pandas\\core\\generic.py:5516: SettingWithCopyWarning: \n",
      "A value is trying to be set on a copy of a slice from a DataFrame.\n",
      "Try using .loc[row_indexer,col_indexer] = value instead\n",
      "\n",
      "See the caveats in the documentation: https://pandas.pydata.org/pandas-docs/stable/user_guide/indexing.html#returning-a-view-versus-a-copy\n",
      "  self[name] = value\n"
     ]
    },
    {
     "data": {
      "text/plain": [
       "(1918648, 1918648)"
      ]
     },
     "execution_count": 6,
     "metadata": {},
     "output_type": "execute_result"
    }
   ],
   "source": [
    "mongo_data._id = mongo_data._id.apply(lambda x: x.strip())\n",
    "mongo_data._id.nunique(), mongo_data._id.size"
   ]
  },
  {
   "cell_type": "markdown",
   "id": "78ca5d5a",
   "metadata": {},
   "source": [
    "- окопф - заполняем пропуски 0 и приводим к object\n",
    "- в дальнейшем оказалось, что удобнее (быстрее) работать как с цифрой, а потеря первого нуля не критична"
   ]
  },
  {
   "cell_type": "code",
   "execution_count": 7,
   "id": "d07e285e",
   "metadata": {},
   "outputs": [],
   "source": [
    "mongo_data.okopf = mongo_data.okopf.fillna(0).astype('int32').astype('object')"
   ]
  },
  {
   "cell_type": "markdown",
   "id": "e5c7883d",
   "metadata": {},
   "source": [
    "- дату - к datetime"
   ]
  },
  {
   "cell_type": "code",
   "execution_count": 8,
   "id": "26546392",
   "metadata": {},
   "outputs": [],
   "source": [
    "mongo_data.registrationDate = pd.to_datetime(mongo_data.registrationDate)"
   ]
  },
  {
   "cell_type": "markdown",
   "id": "27085122",
   "metadata": {},
   "source": [
    "- посмотрим, удастся ли привести какой-нибудь float64 к float32"
   ]
  },
  {
   "cell_type": "code",
   "execution_count": 9,
   "id": "419d6e3d",
   "metadata": {},
   "outputs": [
    {
     "name": "stderr",
     "output_type": "stream",
     "text": [
      "C:\\Users\\013\\AppData\\Local\\Temp/ipykernel_2988/315581999.py:2: SettingWithCopyWarning: \n",
      "A value is trying to be set on a copy of a slice from a DataFrame.\n",
      "Try using .loc[row_indexer,col_indexer] = value instead\n",
      "\n",
      "See the caveats in the documentation: https://pandas.pydata.org/pandas-docs/stable/user_guide/indexing.html#returning-a-view-versus-a-copy\n",
      "  mongo_data[col] = pd.to_numeric(mongo_data[col], downcast='float')\n"
     ]
    }
   ],
   "source": [
    "for col in mongo_data.columns[10:]:\n",
    "    mongo_data[col] = pd.to_numeric(mongo_data[col], downcast='float')"
   ]
  },
  {
   "cell_type": "code",
   "execution_count": 10,
   "id": "eb3ce84c",
   "metadata": {
    "scrolled": true
   },
   "outputs": [
    {
     "name": "stdout",
     "output_type": "stream",
     "text": [
      "<class 'pandas.core.frame.DataFrame'>\n",
      "RangeIndex: 1918648 entries, 0 to 1918647\n",
      "Data columns (total 58 columns):\n",
      " #   Column             Non-Null Count    Dtype         \n",
      "---  ------             --------------    -----         \n",
      " 0   _id                1918648 non-null  object        \n",
      " 1   shortName          1918648 non-null  object        \n",
      " 2   index              1912487 non-null  object        \n",
      " 3   region             1918593 non-null  object        \n",
      " 4   city               1273534 non-null  object        \n",
      " 5   settlement         197676 non-null   object        \n",
      " 6   okved2             1917116 non-null  object        \n",
      " 7   okopf              1918648 non-null  object        \n",
      " 8   statusCode         1918648 non-null  object        \n",
      " 9   registrationDate   1918647 non-null  datetime64[ns]\n",
      " 10  authorizedCapital  1838219 non-null  float32       \n",
      " 11  2021_1150          828464 non-null   float32       \n",
      " 12  2020_1150          680998 non-null   float32       \n",
      " 13  2019_1150          630704 non-null   float32       \n",
      " 14  2021_1170          221453 non-null   float32       \n",
      " 15  2020_1170          154363 non-null   float32       \n",
      " 16  2019_1170          144737 non-null   float32       \n",
      " 17  2021_1210          1303088 non-null  float32       \n",
      " 18  2020_1210          1059302 non-null  float32       \n",
      " 19  2019_1210          981708 non-null   float32       \n",
      " 20  2021_1230          1660816 non-null  float32       \n",
      " 21  2020_1230          1437546 non-null  float32       \n",
      " 22  2019_1230          1325909 non-null  float32       \n",
      " 23  2021_1250          1714052 non-null  float32       \n",
      " 24  2020_1250          1466796 non-null  float32       \n",
      " 25  2019_1250          1355709 non-null  float32       \n",
      " 26  2021_1600          1918648 non-null  float32       \n",
      " 27  2020_1600          1918648 non-null  float32       \n",
      " 28  2019_1600          1918648 non-null  float32       \n",
      " 29  2021_1350          52799 non-null    float32       \n",
      " 30  2020_1350          41241 non-null    float32       \n",
      " 31  2019_1350          39261 non-null    float32       \n",
      " 32  2021_1360          45821 non-null    float32       \n",
      " 33  2020_1360          34421 non-null    float32       \n",
      " 34  2019_1360          33611 non-null    float32       \n",
      " 35  2021_1300          1866599 non-null  float32       \n",
      " 36  2020_1300          1762096 non-null  float32       \n",
      " 37  2019_1300          1681780 non-null  float32       \n",
      " 38  2021_1520          1626155 non-null  float32       \n",
      " 39  2020_1520          1431743 non-null  float32       \n",
      " 40  2019_1520          1325422 non-null  float32       \n",
      " 41  2021_1700          1918648 non-null  float32       \n",
      " 42  2020_1700          1918648 non-null  float32       \n",
      " 43  2019_1700          1918648 non-null  float32       \n",
      " 44  2021_2110          1549908 non-null  float32       \n",
      " 45  2020_2110          1376038 non-null  float32       \n",
      " 46  2021_2120          1528286 non-null  float32       \n",
      " 47  2020_2120          1336497 non-null  float32       \n",
      " 48  2021_2330          297958 non-null   float32       \n",
      " 49  2020_2330          223788 non-null   float32       \n",
      " 50  2021_2340          914620 non-null   float32       \n",
      " 51  2020_2340          714377 non-null   float32       \n",
      " 52  2021_2350          1489658 non-null  float32       \n",
      " 53  2020_2350          1308712 non-null  float32       \n",
      " 54  2021_2410          1325822 non-null  float32       \n",
      " 55  2020_2410          1116197 non-null  float32       \n",
      " 56  2021_2400          1649325 non-null  float32       \n",
      " 57  2020_2400          1649325 non-null  float32       \n",
      "dtypes: datetime64[ns](1), float32(48), object(9)\n",
      "memory usage: 497.7+ MB\n"
     ]
    }
   ],
   "source": [
    "mongo_data.info(verbose=True, show_counts=True, memory_usage=True)"
   ]
  },
  {
   "cell_type": "markdown",
   "id": "353656cb",
   "metadata": {},
   "source": [
    "#### - дальше забираем вторую большую таблицу - реестр мсп из PostgreSQL. \n",
    "\n",
    "- нужна не вся таблица, а только те инн, которые есть в Mongo - но, кажется, отбросить лишние строки будет быстрее в python."
   ]
  },
  {
   "cell_type": "code",
   "execution_count": 11,
   "id": "03434546",
   "metadata": {},
   "outputs": [],
   "source": [
    "connect = psycopg2.connect(dbname=\"fns_data\", user=\"user\", password='', host=\"localhost\", port=5432)"
   ]
  },
  {
   "cell_type": "code",
   "execution_count": 87,
   "id": "07184475",
   "metadata": {},
   "outputs": [],
   "source": [
    "connect.close()"
   ]
  },
  {
   "cell_type": "code",
   "execution_count": 12,
   "id": "84947b81",
   "metadata": {},
   "outputs": [],
   "source": [
    "columns = [\n",
    "    'inn', \n",
    "    'n_employees', \n",
    "    'is_soc_enterprise', \n",
    "    'newly_establ', \n",
    "    'subj_cat', \n",
    "    'subj_form', \n",
    "    'inclusion_date',  # отличается от registration_date! - сравнить!\n",
    "    'region_code', \n",
    "    'n_okovd_add',  \n",
    "#     'okovd_add_vers',  # только убедиться, что везде одно значение! - везде, где есть, одно\n",
    "#     'okovd_add_code',  # можно придумать много интересных признаков\n",
    "    'n_licenses',\n",
    "    'n_products',\n",
    "#     'products_code'  # то же самое\n",
    "    'is_high_tech',\n",
    "    'n_contracts',\n",
    "    'n_agreements'\n",
    "]"
   ]
  },
  {
   "cell_type": "code",
   "execution_count": 13,
   "id": "9db6d549",
   "metadata": {},
   "outputs": [
    {
     "name": "stdout",
     "output_type": "stream",
     "text": [
      "Wall time: 16.3 s\n"
     ]
    }
   ],
   "source": [
    "%%time\n",
    "reestr_msp = pd.read_sql(sql.SQL('SELECT {} FROM reestr_msp;')\\\n",
    "                            .format(sql.SQL(',').join(map(sql.Identifier, columns))), connect)"
   ]
  },
  {
   "cell_type": "code",
   "execution_count": 14,
   "id": "8091eaa4",
   "metadata": {},
   "outputs": [
    {
     "data": {
      "text/html": [
       "<div>\n",
       "<style scoped>\n",
       "    .dataframe tbody tr th:only-of-type {\n",
       "        vertical-align: middle;\n",
       "    }\n",
       "\n",
       "    .dataframe tbody tr th {\n",
       "        vertical-align: top;\n",
       "    }\n",
       "\n",
       "    .dataframe thead th {\n",
       "        text-align: right;\n",
       "    }\n",
       "</style>\n",
       "<table border=\"1\" class=\"dataframe\">\n",
       "  <thead>\n",
       "    <tr style=\"text-align: right;\">\n",
       "      <th></th>\n",
       "      <th>inn</th>\n",
       "      <th>n_employees</th>\n",
       "      <th>is_soc_enterprise</th>\n",
       "      <th>newly_establ</th>\n",
       "      <th>subj_cat</th>\n",
       "      <th>subj_form</th>\n",
       "      <th>inclusion_date</th>\n",
       "      <th>region_code</th>\n",
       "      <th>n_okovd_add</th>\n",
       "      <th>n_licenses</th>\n",
       "      <th>n_products</th>\n",
       "      <th>is_high_tech</th>\n",
       "      <th>n_contracts</th>\n",
       "      <th>n_agreements</th>\n",
       "    </tr>\n",
       "  </thead>\n",
       "  <tbody>\n",
       "    <tr>\n",
       "      <th>0</th>\n",
       "      <td>3447001553</td>\n",
       "      <td>1.0</td>\n",
       "      <td>0</td>\n",
       "      <td>0</td>\n",
       "      <td>1</td>\n",
       "      <td>1</td>\n",
       "      <td>2016-08-01</td>\n",
       "      <td>34</td>\n",
       "      <td>29</td>\n",
       "      <td>0</td>\n",
       "      <td>0</td>\n",
       "      <td>0</td>\n",
       "      <td>0</td>\n",
       "      <td>0</td>\n",
       "    </tr>\n",
       "    <tr>\n",
       "      <th>1</th>\n",
       "      <td>3447003470</td>\n",
       "      <td>2.0</td>\n",
       "      <td>0</td>\n",
       "      <td>0</td>\n",
       "      <td>1</td>\n",
       "      <td>1</td>\n",
       "      <td>2016-08-01</td>\n",
       "      <td>34</td>\n",
       "      <td>6</td>\n",
       "      <td>0</td>\n",
       "      <td>0</td>\n",
       "      <td>0</td>\n",
       "      <td>0</td>\n",
       "      <td>0</td>\n",
       "    </tr>\n",
       "    <tr>\n",
       "      <th>2</th>\n",
       "      <td>3447003247</td>\n",
       "      <td>18.0</td>\n",
       "      <td>0</td>\n",
       "      <td>0</td>\n",
       "      <td>1</td>\n",
       "      <td>1</td>\n",
       "      <td>2016-08-01</td>\n",
       "      <td>34</td>\n",
       "      <td>24</td>\n",
       "      <td>1</td>\n",
       "      <td>0</td>\n",
       "      <td>0</td>\n",
       "      <td>0</td>\n",
       "      <td>0</td>\n",
       "    </tr>\n",
       "    <tr>\n",
       "      <th>3</th>\n",
       "      <td>3447003416</td>\n",
       "      <td>165.0</td>\n",
       "      <td>0</td>\n",
       "      <td>0</td>\n",
       "      <td>3</td>\n",
       "      <td>1</td>\n",
       "      <td>2018-08-10</td>\n",
       "      <td>34</td>\n",
       "      <td>9</td>\n",
       "      <td>2</td>\n",
       "      <td>0</td>\n",
       "      <td>0</td>\n",
       "      <td>0</td>\n",
       "      <td>0</td>\n",
       "    </tr>\n",
       "    <tr>\n",
       "      <th>4</th>\n",
       "      <td>3447002444</td>\n",
       "      <td>NaN</td>\n",
       "      <td>0</td>\n",
       "      <td>0</td>\n",
       "      <td>1</td>\n",
       "      <td>1</td>\n",
       "      <td>2016-08-01</td>\n",
       "      <td>34</td>\n",
       "      <td>0</td>\n",
       "      <td>0</td>\n",
       "      <td>0</td>\n",
       "      <td>0</td>\n",
       "      <td>0</td>\n",
       "      <td>0</td>\n",
       "    </tr>\n",
       "  </tbody>\n",
       "</table>\n",
       "</div>"
      ],
      "text/plain": [
       "          inn  n_employees  is_soc_enterprise  newly_establ  subj_cat  \\\n",
       "0  3447001553          1.0                  0             0         1   \n",
       "1  3447003470          2.0                  0             0         1   \n",
       "2  3447003247         18.0                  0             0         1   \n",
       "3  3447003416        165.0                  0             0         3   \n",
       "4  3447002444          NaN                  0             0         1   \n",
       "\n",
       "   subj_form inclusion_date  region_code  n_okovd_add  n_licenses  n_products  \\\n",
       "0          1     2016-08-01           34           29           0           0   \n",
       "1          1     2016-08-01           34            6           0           0   \n",
       "2          1     2016-08-01           34           24           1           0   \n",
       "3          1     2018-08-10           34            9           2           0   \n",
       "4          1     2016-08-01           34            0           0           0   \n",
       "\n",
       "   is_high_tech  n_contracts  n_agreements  \n",
       "0             0            0             0  \n",
       "1             0            0             0  \n",
       "2             0            0             0  \n",
       "3             0            0             0  \n",
       "4             0            0             0  "
      ]
     },
     "execution_count": 14,
     "metadata": {},
     "output_type": "execute_result"
    }
   ],
   "source": [
    "reestr_msp.head()"
   ]
  },
  {
   "cell_type": "markdown",
   "id": "e309c5c6",
   "metadata": {},
   "source": [
    "- здесь инн чистые - это уникальный ключ\n",
    "- оставляем только нужные строки"
   ]
  },
  {
   "cell_type": "code",
   "execution_count": 15,
   "id": "81ca1f86",
   "metadata": {},
   "outputs": [
    {
     "name": "stdout",
     "output_type": "stream",
     "text": [
      "<class 'pandas.core.frame.DataFrame'>\n",
      "RangeIndex: 2332299 entries, 0 to 2332298\n",
      "Data columns (total 14 columns):\n",
      " #   Column             Non-Null Count    Dtype  \n",
      "---  ------             --------------    -----  \n",
      " 0   inn                2332299 non-null  object \n",
      " 1   n_employees        1938849 non-null  float64\n",
      " 2   is_soc_enterprise  2332299 non-null  int64  \n",
      " 3   newly_establ       2332299 non-null  int64  \n",
      " 4   subj_cat           2332299 non-null  int64  \n",
      " 5   subj_form          2332299 non-null  int64  \n",
      " 6   inclusion_date     2332299 non-null  object \n",
      " 7   region_code        2332299 non-null  int64  \n",
      " 8   n_okovd_add        2332299 non-null  int64  \n",
      " 9   n_licenses         2332299 non-null  int64  \n",
      " 10  n_products         2332299 non-null  int64  \n",
      " 11  is_high_tech       2332299 non-null  int64  \n",
      " 12  n_contracts        2332299 non-null  int64  \n",
      " 13  n_agreements       2332299 non-null  int64  \n",
      "dtypes: float64(1), int64(11), object(2)\n",
      "memory usage: 249.1+ MB\n"
     ]
    }
   ],
   "source": [
    "reestr_msp.info(verbose=True, show_counts=True, memory_usage=True)"
   ]
  },
  {
   "cell_type": "code",
   "execution_count": 16,
   "id": "6458a434",
   "metadata": {},
   "outputs": [],
   "source": [
    "# они уникальны\n",
    "actual_inn = tuple(mongo_data._id)"
   ]
  },
  {
   "cell_type": "markdown",
   "id": "2bc27307",
   "metadata": {},
   "source": [
    "- а это очень интересно, как так вышло, что в реестре меньше инн, чем в данных из интернета: должно быть строго наоборот (так как паук идёт по списку из реестра), если инн нет в реестре, то как его можно было найти на сайте bfo?\n",
    "- но при обработке xml некоторые данные отбрасывались как некорректные (нет отчётов или важных полей)"
   ]
  },
  {
   "cell_type": "code",
   "execution_count": 17,
   "id": "c8ef6db4",
   "metadata": {},
   "outputs": [
    {
     "data": {
      "text/plain": [
       "(1918648, (1918094, 14))"
      ]
     },
     "execution_count": 17,
     "metadata": {},
     "output_type": "execute_result"
    }
   ],
   "source": [
    "len(actual_inn), reestr_msp.loc[reestr_msp.inn.isin(actual_inn)].shape"
   ]
  },
  {
   "cell_type": "code",
   "execution_count": 18,
   "id": "13d7607b",
   "metadata": {},
   "outputs": [
    {
     "name": "stdout",
     "output_type": "stream",
     "text": [
      "<class 'pandas.core.frame.DataFrame'>\n",
      "Int64Index: 1918094 entries, 0 to 2332298\n",
      "Data columns (total 14 columns):\n",
      " #   Column             Non-Null Count    Dtype  \n",
      "---  ------             --------------    -----  \n",
      " 0   inn                1918094 non-null  object \n",
      " 1   n_employees        1842338 non-null  float64\n",
      " 2   is_soc_enterprise  1918094 non-null  int64  \n",
      " 3   newly_establ       1918094 non-null  int64  \n",
      " 4   subj_cat           1918094 non-null  int64  \n",
      " 5   subj_form          1918094 non-null  int64  \n",
      " 6   inclusion_date     1918094 non-null  object \n",
      " 7   region_code        1918094 non-null  int64  \n",
      " 8   n_okovd_add        1918094 non-null  int64  \n",
      " 9   n_licenses         1918094 non-null  int64  \n",
      " 10  n_products         1918094 non-null  int64  \n",
      " 11  is_high_tech       1918094 non-null  int64  \n",
      " 12  n_contracts        1918094 non-null  int64  \n",
      " 13  n_agreements       1918094 non-null  int64  \n",
      "dtypes: float64(1), int64(11), object(2)\n",
      "memory usage: 219.5+ MB\n"
     ]
    }
   ],
   "source": [
    "reestr_msp = reestr_msp.loc[reestr_msp.inn.isin(actual_inn)]\n",
    "\n",
    "reestr_msp.info(verbose=True, show_counts=True, memory_usage=True)"
   ]
  },
  {
   "cell_type": "markdown",
   "id": "cee12738",
   "metadata": {},
   "source": [
    "- в n_employees заполняю Nan как -1 и заодно изменю тип"
   ]
  },
  {
   "cell_type": "code",
   "execution_count": 19,
   "id": "ecdd4e59",
   "metadata": {},
   "outputs": [
    {
     "data": {
      "text/plain": [
       "(0.0, 8617.0)"
      ]
     },
     "execution_count": 19,
     "metadata": {},
     "output_type": "execute_result"
    }
   ],
   "source": [
    "reestr_msp.n_employees.min(), reestr_msp.n_employees.max()"
   ]
  },
  {
   "cell_type": "code",
   "execution_count": 20,
   "id": "572e9db5",
   "metadata": {},
   "outputs": [],
   "source": [
    "reestr_msp.n_employees = pd.to_numeric(reestr_msp.n_employees.fillna(-1), downcast='integer')"
   ]
  },
  {
   "cell_type": "code",
   "execution_count": 21,
   "id": "dda75073",
   "metadata": {},
   "outputs": [],
   "source": [
    "n_columns = ['is_soc_enterprise', 'newly_establ', 'subj_cat', 'subj_form', 'region_code', \n",
    "             'n_products', 'is_high_tech', 'n_okovd_add', 'n_licenses', 'n_contracts', \n",
    "             'n_agreements']"
   ]
  },
  {
   "cell_type": "code",
   "execution_count": 22,
   "id": "75cd6d9c",
   "metadata": {},
   "outputs": [],
   "source": [
    "for col in n_columns:\n",
    "    reestr_msp[col] = pd.to_numeric(reestr_msp[col], downcast='integer')"
   ]
  },
  {
   "cell_type": "code",
   "execution_count": 23,
   "id": "07747cd8",
   "metadata": {},
   "outputs": [],
   "source": [
    "reestr_msp.inclusion_date = pd.to_datetime(reestr_msp.inclusion_date)"
   ]
  },
  {
   "cell_type": "code",
   "execution_count": 24,
   "id": "19eade83",
   "metadata": {},
   "outputs": [
    {
     "name": "stdout",
     "output_type": "stream",
     "text": [
      "<class 'pandas.core.frame.DataFrame'>\n",
      "Int64Index: 1918094 entries, 0 to 2332298\n",
      "Data columns (total 14 columns):\n",
      " #   Column             Dtype         \n",
      "---  ------             -----         \n",
      " 0   inn                object        \n",
      " 1   n_employees        int16         \n",
      " 2   is_soc_enterprise  int8          \n",
      " 3   newly_establ       int8          \n",
      " 4   subj_cat           int8          \n",
      " 5   subj_form          int8          \n",
      " 6   inclusion_date     datetime64[ns]\n",
      " 7   region_code        int8          \n",
      " 8   n_okovd_add        int16         \n",
      " 9   n_licenses         int16         \n",
      " 10  n_products         int8          \n",
      " 11  is_high_tech       int8          \n",
      " 12  n_contracts        int16         \n",
      " 13  n_agreements       int16         \n",
      "dtypes: datetime64[ns](1), int16(5), int8(7), object(1)\n",
      "memory usage: 75.0+ MB\n"
     ]
    }
   ],
   "source": [
    "reestr_msp.info()"
   ]
  },
  {
   "cell_type": "markdown",
   "id": "8d3b0628",
   "metadata": {},
   "source": [
    "#### - теперь объединим две основные таблицы \n",
    "\n",
    "\n",
    "- не знаю, оставлять ли строки, для которых нет соответствия в reestr_msp? \n",
    "- пока оставлю и посмотрю на статус этих организаций - так как у меня и так дисбаланс"
   ]
  },
  {
   "cell_type": "code",
   "execution_count": 25,
   "id": "9a068330",
   "metadata": {},
   "outputs": [
    {
     "name": "stderr",
     "output_type": "stream",
     "text": [
      "C:\\Users\\013\\AppData\\Roaming\\Python\\Python38\\site-packages\\pandas\\core\\frame.py:5039: SettingWithCopyWarning: \n",
      "A value is trying to be set on a copy of a slice from a DataFrame\n",
      "\n",
      "See the caveats in the documentation: https://pandas.pydata.org/pandas-docs/stable/user_guide/indexing.html#returning-a-view-versus-a-copy\n",
      "  return super().rename(\n"
     ]
    }
   ],
   "source": [
    "mongo_data.rename(columns={'_id': 'inn'}, inplace=True)"
   ]
  },
  {
   "cell_type": "markdown",
   "id": "18831daa",
   "metadata": {},
   "source": [
    "- в итоге - не беру пропуски (inner а не left)"
   ]
  },
  {
   "cell_type": "code",
   "execution_count": 26,
   "id": "a749395c",
   "metadata": {},
   "outputs": [
    {
     "name": "stdout",
     "output_type": "stream",
     "text": [
      "Wall time: 4.45 s\n"
     ]
    }
   ],
   "source": [
    "%%time\n",
    "data = mongo_data.merge(reestr_msp, how='inner', on='inn')"
   ]
  },
  {
   "cell_type": "markdown",
   "id": "ac3ed6a0",
   "metadata": {},
   "source": [
    "- здесь много INACTIVE\n",
    "- но 400+ пропусков, для которых нет данных из реестра из паука"
   ]
  },
  {
   "cell_type": "markdown",
   "id": "2b98c6b3",
   "metadata": {},
   "source": [
    "        ACTIVE               372\n",
    "        INACTIVE              58\n",
    "        LIQUIDATION_STAGE      3\n",
    "        Name: statusCode, dtype: int64"
   ]
  },
  {
   "cell_type": "code",
   "execution_count": 28,
   "id": "964592fc",
   "metadata": {},
   "outputs": [],
   "source": [
    "# data.loc[data.n_employees.isna(), 'statusCode'].value_counts()"
   ]
  },
  {
   "cell_type": "markdown",
   "id": "c7246fea",
   "metadata": {},
   "source": [
    "- но соотношение не сильно меняется..."
   ]
  },
  {
   "cell_type": "markdown",
   "id": "9f653f65",
   "metadata": {},
   "source": [
    "#### - идём дальше, support_msp \n",
    "- здесь надо аггрегировать"
   ]
  },
  {
   "cell_type": "code",
   "execution_count": 29,
   "id": "9509d436",
   "metadata": {},
   "outputs": [],
   "source": [
    "columns = [\n",
    "    'inn', \n",
    "    'support_date', \n",
    "    'is_breach',  # их и так немного - 890, а при разбивке на периоды - и того меньше...\n",
    "    'form_code', \n",
    "    'support_volume', \n",
    "    'support_unit', \n",
    "]"
   ]
  },
  {
   "cell_type": "code",
   "execution_count": 30,
   "id": "713ba1a7",
   "metadata": {},
   "outputs": [
    {
     "name": "stdout",
     "output_type": "stream",
     "text": [
      "Wall time: 4.19 s\n"
     ]
    }
   ],
   "source": [
    "%%time\n",
    "support_msp = pd.read_sql(sql.SQL('SELECT {} FROM support_msp;')\\\n",
    "                            .format(sql.SQL(',').join(map(sql.Identifier, columns))), connect)"
   ]
  },
  {
   "cell_type": "code",
   "execution_count": 31,
   "id": "01664844",
   "metadata": {},
   "outputs": [
    {
     "name": "stdout",
     "output_type": "stream",
     "text": [
      "<class 'pandas.core.frame.DataFrame'>\n",
      "RangeIndex: 1109362 entries, 0 to 1109361\n",
      "Data columns (total 6 columns):\n",
      " #   Column          Non-Null Count    Dtype  \n",
      "---  ------          --------------    -----  \n",
      " 0   inn             1109362 non-null  object \n",
      " 1   support_date    1109362 non-null  object \n",
      " 2   is_breach       1109362 non-null  int64  \n",
      " 3   form_code       1109362 non-null  object \n",
      " 4   support_volume  1109362 non-null  float64\n",
      " 5   support_unit    1109362 non-null  int64  \n",
      "dtypes: float64(1), int64(2), object(3)\n",
      "memory usage: 50.8+ MB\n"
     ]
    }
   ],
   "source": [
    "support_msp.info()"
   ]
  },
  {
   "cell_type": "markdown",
   "id": "c88d5f63",
   "metadata": {},
   "source": [
    "- сразу удаляем лишние строки"
   ]
  },
  {
   "cell_type": "code",
   "execution_count": 32,
   "id": "4d7d856a",
   "metadata": {},
   "outputs": [
    {
     "name": "stdout",
     "output_type": "stream",
     "text": [
      "<class 'pandas.core.frame.DataFrame'>\n",
      "Int64Index: 1081936 entries, 3 to 1109361\n",
      "Data columns (total 6 columns):\n",
      " #   Column          Non-Null Count    Dtype  \n",
      "---  ------          --------------    -----  \n",
      " 0   inn             1081936 non-null  object \n",
      " 1   support_date    1081936 non-null  object \n",
      " 2   is_breach       1081936 non-null  int64  \n",
      " 3   form_code       1081936 non-null  object \n",
      " 4   support_volume  1081936 non-null  float64\n",
      " 5   support_unit    1081936 non-null  int64  \n",
      "dtypes: float64(1), int64(2), object(3)\n",
      "memory usage: 57.8+ MB\n"
     ]
    }
   ],
   "source": [
    "support_msp = support_msp.loc[support_msp.inn.isin(actual_inn)]\n",
    "\n",
    "support_msp.info()"
   ]
  },
  {
   "cell_type": "markdown",
   "id": "d1c9eb5c",
   "metadata": {},
   "source": [
    "- добавляем год - чтобы взять только нужный период"
   ]
  },
  {
   "cell_type": "code",
   "execution_count": 33,
   "id": "6f6b7096",
   "metadata": {},
   "outputs": [],
   "source": [
    "support_msp['support_year'] = pd.to_datetime(support_msp.support_date).dt.year"
   ]
  },
  {
   "cell_type": "code",
   "execution_count": 34,
   "id": "92767cd5",
   "metadata": {},
   "outputs": [
    {
     "data": {
      "text/plain": [
       "array([2020, 2021, 2022, 2019, 2023], dtype=int64)"
      ]
     },
     "execution_count": 34,
     "metadata": {},
     "output_type": "execute_result"
    }
   ],
   "source": [
    "support_msp.support_year.unique()"
   ]
  },
  {
   "cell_type": "code",
   "execution_count": 35,
   "id": "c140ff99",
   "metadata": {},
   "outputs": [],
   "source": [
    "support_msp = support_msp.loc[support_msp.support_year.isin((2021, 2020, 2019))]"
   ]
  },
  {
   "cell_type": "markdown",
   "id": "896525da",
   "metadata": {},
   "source": [
    "- аггрегируем: берём только support_unit = 1"
   ]
  },
  {
   "cell_type": "code",
   "execution_count": 36,
   "id": "538e6bfc",
   "metadata": {},
   "outputs": [],
   "source": [
    "agg_support = pd.pivot_table(support_msp.loc[support_msp.support_unit == 1], values='support_volume', \n",
    "               index='inn', columns=['form_code', 'support_year'], aggfunc=sum).reset_index()"
   ]
  },
  {
   "cell_type": "code",
   "execution_count": 37,
   "id": "fb2defe5",
   "metadata": {},
   "outputs": [
    {
     "data": {
      "text/html": [
       "<div>\n",
       "<style scoped>\n",
       "    .dataframe tbody tr th:only-of-type {\n",
       "        vertical-align: middle;\n",
       "    }\n",
       "\n",
       "    .dataframe tbody tr th {\n",
       "        vertical-align: top;\n",
       "    }\n",
       "\n",
       "    .dataframe thead tr th {\n",
       "        text-align: left;\n",
       "    }\n",
       "</style>\n",
       "<table border=\"1\" class=\"dataframe\">\n",
       "  <thead>\n",
       "    <tr>\n",
       "      <th>form_code</th>\n",
       "      <th>inn</th>\n",
       "      <th colspan=\"3\" halign=\"left\">0101</th>\n",
       "      <th colspan=\"3\" halign=\"left\">0102</th>\n",
       "      <th colspan=\"3\" halign=\"left\">0103</th>\n",
       "      <th colspan=\"3\" halign=\"left\">0105</th>\n",
       "    </tr>\n",
       "    <tr>\n",
       "      <th>support_year</th>\n",
       "      <th></th>\n",
       "      <th>2019</th>\n",
       "      <th>2020</th>\n",
       "      <th>2021</th>\n",
       "      <th>2019</th>\n",
       "      <th>2020</th>\n",
       "      <th>2021</th>\n",
       "      <th>2019</th>\n",
       "      <th>2020</th>\n",
       "      <th>2021</th>\n",
       "      <th>2019</th>\n",
       "      <th>2020</th>\n",
       "      <th>2021</th>\n",
       "    </tr>\n",
       "  </thead>\n",
       "  <tbody>\n",
       "    <tr>\n",
       "      <th>0</th>\n",
       "      <td>0101000021</td>\n",
       "      <td>NaN</td>\n",
       "      <td>NaN</td>\n",
       "      <td>NaN</td>\n",
       "      <td>NaN</td>\n",
       "      <td>NaN</td>\n",
       "      <td>NaN</td>\n",
       "      <td>NaN</td>\n",
       "      <td>145560.00</td>\n",
       "      <td>NaN</td>\n",
       "      <td>NaN</td>\n",
       "      <td>NaN</td>\n",
       "      <td>NaN</td>\n",
       "    </tr>\n",
       "    <tr>\n",
       "      <th>1</th>\n",
       "      <td>0101000832</td>\n",
       "      <td>NaN</td>\n",
       "      <td>NaN</td>\n",
       "      <td>NaN</td>\n",
       "      <td>NaN</td>\n",
       "      <td>NaN</td>\n",
       "      <td>NaN</td>\n",
       "      <td>NaN</td>\n",
       "      <td>509460.00</td>\n",
       "      <td>243048.0</td>\n",
       "      <td>NaN</td>\n",
       "      <td>NaN</td>\n",
       "      <td>NaN</td>\n",
       "    </tr>\n",
       "    <tr>\n",
       "      <th>2</th>\n",
       "      <td>0101003086</td>\n",
       "      <td>NaN</td>\n",
       "      <td>NaN</td>\n",
       "      <td>NaN</td>\n",
       "      <td>NaN</td>\n",
       "      <td>NaN</td>\n",
       "      <td>NaN</td>\n",
       "      <td>NaN</td>\n",
       "      <td>15177215.01</td>\n",
       "      <td>NaN</td>\n",
       "      <td>NaN</td>\n",
       "      <td>NaN</td>\n",
       "      <td>NaN</td>\n",
       "    </tr>\n",
       "  </tbody>\n",
       "</table>\n",
       "</div>"
      ],
      "text/plain": [
       "form_code            inn 0101           0102           0103               \\\n",
       "support_year             2019 2020 2021 2019 2020 2021 2019         2020   \n",
       "0             0101000021  NaN  NaN  NaN  NaN  NaN  NaN  NaN    145560.00   \n",
       "1             0101000832  NaN  NaN  NaN  NaN  NaN  NaN  NaN    509460.00   \n",
       "2             0101003086  NaN  NaN  NaN  NaN  NaN  NaN  NaN  15177215.01   \n",
       "\n",
       "form_code              0105            \n",
       "support_year      2021 2019 2020 2021  \n",
       "0                  NaN  NaN  NaN  NaN  \n",
       "1             243048.0  NaN  NaN  NaN  \n",
       "2                  NaN  NaN  NaN  NaN  "
      ]
     },
     "execution_count": 37,
     "metadata": {},
     "output_type": "execute_result"
    }
   ],
   "source": [
    "agg_support.head(3)"
   ]
  },
  {
   "cell_type": "markdown",
   "id": "103e355e",
   "metadata": {},
   "source": [
    "- избавимся от мультииндекса в столбцах"
   ]
  },
  {
   "cell_type": "code",
   "execution_count": 38,
   "id": "93dffef0",
   "metadata": {},
   "outputs": [],
   "source": [
    "agg_support.columns = ['inn'] + [f'{el[0]}_{str(el[1])}' for el in agg_support.columns.values[1:]]"
   ]
  },
  {
   "cell_type": "code",
   "execution_count": 39,
   "id": "7ae05a39",
   "metadata": {},
   "outputs": [
    {
     "name": "stdout",
     "output_type": "stream",
     "text": [
      "<class 'pandas.core.frame.DataFrame'>\n",
      "RangeIndex: 222802 entries, 0 to 222801\n",
      "Data columns (total 13 columns):\n",
      " #   Column     Non-Null Count   Dtype  \n",
      "---  ------     --------------   -----  \n",
      " 0   inn        222802 non-null  object \n",
      " 1   0101_2019  29 non-null      float64\n",
      " 2   0101_2020  41 non-null      float64\n",
      " 3   0101_2021  17 non-null      float64\n",
      " 4   0102_2019  4950 non-null    float64\n",
      " 5   0102_2020  5799 non-null    float64\n",
      " 6   0102_2021  9400 non-null    float64\n",
      " 7   0103_2019  15916 non-null   float64\n",
      " 8   0103_2020  173835 non-null  float64\n",
      " 9   0103_2021  118565 non-null  float64\n",
      " 10  0105_2019  157 non-null     float64\n",
      " 11  0105_2020  251 non-null     float64\n",
      " 12  0105_2021  206 non-null     float64\n",
      "dtypes: float64(12), object(1)\n",
      "memory usage: 22.1+ MB\n"
     ]
    }
   ],
   "source": [
    "agg_support.info()"
   ]
  },
  {
   "cell_type": "markdown",
   "id": "bc9c2947",
   "metadata": {},
   "source": [
    "- некоторую поддержку сразу нет смысла брать\n",
    "\n",
    "        0101 - Инвестиции в капитал, убираем, было бы полезно для узкой выборки!\n",
    "        0102 - гарантии и поручительство\n",
    "        0103 - субсидии и гранты\n",
    "        0105 - финансовая аренда - сомнительно, но пока оставим"
   ]
  },
  {
   "cell_type": "markdown",
   "id": "cf94bdc0",
   "metadata": {},
   "source": [
    "- на самом деле уже здесь есть вопросы для анализа:\n",
    "\n",
    "        - кому и сколько инвестируют в капитал?\n",
    "        - код 0104 - с процентами - финансовая аренда: кому и сколько?"
   ]
  },
  {
   "cell_type": "code",
   "execution_count": 40,
   "id": "1f7589f2",
   "metadata": {},
   "outputs": [],
   "source": [
    "agg_col = ['0102_2019', '0102_2020', '0102_2021', '0103_2019', '0103_2020', \n",
    "           '0103_2021', '0105_2019', '0105_2020', '0105_2021']\n",
    "agg_support = agg_support[['inn'] + agg_col]"
   ]
  },
  {
   "cell_type": "markdown",
   "id": "1273ce81",
   "metadata": {},
   "source": [
    "- смотрим, можно ли привести типы:"
   ]
  },
  {
   "cell_type": "code",
   "execution_count": 41,
   "id": "3a132d9d",
   "metadata": {},
   "outputs": [],
   "source": [
    "for col in agg_support.columns[1:]:\n",
    "    agg_support[col] = pd.to_numeric(agg_support[col], downcast='float')"
   ]
  },
  {
   "cell_type": "code",
   "execution_count": 42,
   "id": "9cfa99f3",
   "metadata": {},
   "outputs": [
    {
     "name": "stdout",
     "output_type": "stream",
     "text": [
      "<class 'pandas.core.frame.DataFrame'>\n",
      "RangeIndex: 222802 entries, 0 to 222801\n",
      "Data columns (total 10 columns):\n",
      " #   Column     Non-Null Count   Dtype  \n",
      "---  ------     --------------   -----  \n",
      " 0   inn        222802 non-null  object \n",
      " 1   0102_2019  4950 non-null    float32\n",
      " 2   0102_2020  5799 non-null    float32\n",
      " 3   0102_2021  9400 non-null    float32\n",
      " 4   0103_2019  15916 non-null   float32\n",
      " 5   0103_2020  173835 non-null  float32\n",
      " 6   0103_2021  118565 non-null  float32\n",
      " 7   0105_2019  157 non-null     float32\n",
      " 8   0105_2020  251 non-null     float32\n",
      " 9   0105_2021  206 non-null     float32\n",
      "dtypes: float32(9), object(1)\n",
      "memory usage: 9.3+ MB\n"
     ]
    }
   ],
   "source": [
    "agg_support.info()"
   ]
  },
  {
   "cell_type": "markdown",
   "id": "1f1c293c",
   "metadata": {},
   "source": [
    "- есть странные min значения поддержки, средннее и медиана вроде адекватны"
   ]
  },
  {
   "cell_type": "code",
   "execution_count": 43,
   "id": "69017c04",
   "metadata": {},
   "outputs": [
    {
     "data": {
      "text/html": [
       "<div>\n",
       "<style scoped>\n",
       "    .dataframe tbody tr th:only-of-type {\n",
       "        vertical-align: middle;\n",
       "    }\n",
       "\n",
       "    .dataframe tbody tr th {\n",
       "        vertical-align: top;\n",
       "    }\n",
       "\n",
       "    .dataframe thead th {\n",
       "        text-align: right;\n",
       "    }\n",
       "</style>\n",
       "<table border=\"1\" class=\"dataframe\">\n",
       "  <thead>\n",
       "    <tr style=\"text-align: right;\">\n",
       "      <th></th>\n",
       "      <th>0102_2019</th>\n",
       "      <th>0102_2020</th>\n",
       "      <th>0102_2021</th>\n",
       "      <th>0103_2019</th>\n",
       "      <th>0103_2020</th>\n",
       "      <th>0103_2021</th>\n",
       "      <th>0105_2019</th>\n",
       "      <th>0105_2020</th>\n",
       "      <th>0105_2021</th>\n",
       "    </tr>\n",
       "  </thead>\n",
       "  <tbody>\n",
       "    <tr>\n",
       "      <th>count</th>\n",
       "      <td>4.950000e+03</td>\n",
       "      <td>5.799000e+03</td>\n",
       "      <td>9.400000e+03</td>\n",
       "      <td>1.591600e+04</td>\n",
       "      <td>1.738350e+05</td>\n",
       "      <td>1.185650e+05</td>\n",
       "      <td>1.570000e+02</td>\n",
       "      <td>2.510000e+02</td>\n",
       "      <td>2.060000e+02</td>\n",
       "    </tr>\n",
       "    <tr>\n",
       "      <th>mean</th>\n",
       "      <td>2.555942e+07</td>\n",
       "      <td>2.359572e+07</td>\n",
       "      <td>2.039302e+07</td>\n",
       "      <td>4.795107e+06</td>\n",
       "      <td>7.933884e+05</td>\n",
       "      <td>8.266777e+05</td>\n",
       "      <td>2.105417e+07</td>\n",
       "      <td>1.229704e+07</td>\n",
       "      <td>1.320892e+07</td>\n",
       "    </tr>\n",
       "    <tr>\n",
       "      <th>std</th>\n",
       "      <td>7.008282e+07</td>\n",
       "      <td>6.072343e+07</td>\n",
       "      <td>6.319130e+07</td>\n",
       "      <td>1.638677e+07</td>\n",
       "      <td>8.327758e+06</td>\n",
       "      <td>7.427538e+06</td>\n",
       "      <td>3.870494e+07</td>\n",
       "      <td>2.261722e+07</td>\n",
       "      <td>2.057941e+07</td>\n",
       "    </tr>\n",
       "    <tr>\n",
       "      <th>min</th>\n",
       "      <td>4.575000e+03</td>\n",
       "      <td>1.000000e+00</td>\n",
       "      <td>2.000000e+00</td>\n",
       "      <td>1.000000e+00</td>\n",
       "      <td>1.000000e-02</td>\n",
       "      <td>1.000000e-01</td>\n",
       "      <td>4.878713e+04</td>\n",
       "      <td>1.116072e+04</td>\n",
       "      <td>2.322478e+04</td>\n",
       "    </tr>\n",
       "    <tr>\n",
       "      <th>25%</th>\n",
       "      <td>3.000000e+06</td>\n",
       "      <td>3.000000e+06</td>\n",
       "      <td>2.753750e+06</td>\n",
       "      <td>2.700865e+05</td>\n",
       "      <td>4.852000e+04</td>\n",
       "      <td>2.558400e+04</td>\n",
       "      <td>2.487634e+06</td>\n",
       "      <td>2.556284e+06</td>\n",
       "      <td>3.638371e+06</td>\n",
       "    </tr>\n",
       "    <tr>\n",
       "      <th>50%</th>\n",
       "      <td>7.848092e+06</td>\n",
       "      <td>8.400000e+06</td>\n",
       "      <td>7.450000e+06</td>\n",
       "      <td>1.015756e+06</td>\n",
       "      <td>1.213000e+05</td>\n",
       "      <td>7.675200e+04</td>\n",
       "      <td>7.443578e+06</td>\n",
       "      <td>5.000000e+06</td>\n",
       "      <td>6.615283e+06</td>\n",
       "    </tr>\n",
       "    <tr>\n",
       "      <th>75%</th>\n",
       "      <td>2.100000e+07</td>\n",
       "      <td>2.100000e+07</td>\n",
       "      <td>1.930950e+07</td>\n",
       "      <td>3.413380e+06</td>\n",
       "      <td>3.396400e+05</td>\n",
       "      <td>2.491660e+05</td>\n",
       "      <td>1.666988e+07</td>\n",
       "      <td>1.021730e+07</td>\n",
       "      <td>1.362242e+07</td>\n",
       "    </tr>\n",
       "    <tr>\n",
       "      <th>max</th>\n",
       "      <td>1.912327e+09</td>\n",
       "      <td>1.844604e+09</td>\n",
       "      <td>2.674489e+09</td>\n",
       "      <td>7.482250e+08</td>\n",
       "      <td>1.794792e+09</td>\n",
       "      <td>1.833251e+09</td>\n",
       "      <td>2.292614e+08</td>\n",
       "      <td>1.984200e+08</td>\n",
       "      <td>1.641248e+08</td>\n",
       "    </tr>\n",
       "  </tbody>\n",
       "</table>\n",
       "</div>"
      ],
      "text/plain": [
       "          0102_2019     0102_2020     0102_2021     0103_2019     0103_2020  \\\n",
       "count  4.950000e+03  5.799000e+03  9.400000e+03  1.591600e+04  1.738350e+05   \n",
       "mean   2.555942e+07  2.359572e+07  2.039302e+07  4.795107e+06  7.933884e+05   \n",
       "std    7.008282e+07  6.072343e+07  6.319130e+07  1.638677e+07  8.327758e+06   \n",
       "min    4.575000e+03  1.000000e+00  2.000000e+00  1.000000e+00  1.000000e-02   \n",
       "25%    3.000000e+06  3.000000e+06  2.753750e+06  2.700865e+05  4.852000e+04   \n",
       "50%    7.848092e+06  8.400000e+06  7.450000e+06  1.015756e+06  1.213000e+05   \n",
       "75%    2.100000e+07  2.100000e+07  1.930950e+07  3.413380e+06  3.396400e+05   \n",
       "max    1.912327e+09  1.844604e+09  2.674489e+09  7.482250e+08  1.794792e+09   \n",
       "\n",
       "          0103_2021     0105_2019     0105_2020     0105_2021  \n",
       "count  1.185650e+05  1.570000e+02  2.510000e+02  2.060000e+02  \n",
       "mean   8.266777e+05  2.105417e+07  1.229704e+07  1.320892e+07  \n",
       "std    7.427538e+06  3.870494e+07  2.261722e+07  2.057941e+07  \n",
       "min    1.000000e-01  4.878713e+04  1.116072e+04  2.322478e+04  \n",
       "25%    2.558400e+04  2.487634e+06  2.556284e+06  3.638371e+06  \n",
       "50%    7.675200e+04  7.443578e+06  5.000000e+06  6.615283e+06  \n",
       "75%    2.491660e+05  1.666988e+07  1.021730e+07  1.362242e+07  \n",
       "max    1.833251e+09  2.292614e+08  1.984200e+08  1.641248e+08  "
      ]
     },
     "execution_count": 43,
     "metadata": {},
     "output_type": "execute_result"
    }
   ],
   "source": [
    "agg_support.describe()"
   ]
  },
  {
   "cell_type": "code",
   "execution_count": 44,
   "id": "aae703bc",
   "metadata": {},
   "outputs": [
    {
     "data": {
      "text/plain": [
       "(222802, 10)"
      ]
     },
     "execution_count": 44,
     "metadata": {},
     "output_type": "execute_result"
    }
   ],
   "source": [
    "agg_support.shape"
   ]
  },
  {
   "cell_type": "code",
   "execution_count": 45,
   "id": "0708f24b",
   "metadata": {},
   "outputs": [
    {
     "data": {
      "text/plain": [
       "222802"
      ]
     },
     "execution_count": 45,
     "metadata": {},
     "output_type": "execute_result"
    }
   ],
   "source": [
    "agg_support.inn.nunique()"
   ]
  },
  {
   "cell_type": "markdown",
   "id": "b6680038",
   "metadata": {},
   "source": [
    "- отдельно аггрегируем - были ли нарушения условий поддержки (просто сумма по годам)\n",
    "- хотя можно было одной таблицей (values списком, aggfunc словарём), но если что - проще убрать"
   ]
  },
  {
   "cell_type": "code",
   "execution_count": 46,
   "id": "e3b64aa2",
   "metadata": {},
   "outputs": [],
   "source": [
    "is_breach_agg = support_msp.groupby(['inn', 'support_year'])['is_breach'].sum().reset_index()"
   ]
  },
  {
   "cell_type": "code",
   "execution_count": 47,
   "id": "73394148",
   "metadata": {},
   "outputs": [
    {
     "data": {
      "text/html": [
       "<div>\n",
       "<style scoped>\n",
       "    .dataframe tbody tr th:only-of-type {\n",
       "        vertical-align: middle;\n",
       "    }\n",
       "\n",
       "    .dataframe tbody tr th {\n",
       "        vertical-align: top;\n",
       "    }\n",
       "\n",
       "    .dataframe thead th {\n",
       "        text-align: right;\n",
       "    }\n",
       "</style>\n",
       "<table border=\"1\" class=\"dataframe\">\n",
       "  <thead>\n",
       "    <tr style=\"text-align: right;\">\n",
       "      <th></th>\n",
       "      <th>inn</th>\n",
       "      <th>support_year</th>\n",
       "      <th>is_breach</th>\n",
       "    </tr>\n",
       "  </thead>\n",
       "  <tbody>\n",
       "    <tr>\n",
       "      <th>0</th>\n",
       "      <td>0101000021</td>\n",
       "      <td>2020</td>\n",
       "      <td>0</td>\n",
       "    </tr>\n",
       "    <tr>\n",
       "      <th>1</th>\n",
       "      <td>0101000021</td>\n",
       "      <td>2021</td>\n",
       "      <td>0</td>\n",
       "    </tr>\n",
       "    <tr>\n",
       "      <th>2</th>\n",
       "      <td>0101000078</td>\n",
       "      <td>2020</td>\n",
       "      <td>0</td>\n",
       "    </tr>\n",
       "  </tbody>\n",
       "</table>\n",
       "</div>"
      ],
      "text/plain": [
       "          inn  support_year  is_breach\n",
       "0  0101000021          2020          0\n",
       "1  0101000021          2021          0\n",
       "2  0101000078          2020          0"
      ]
     },
     "execution_count": 47,
     "metadata": {},
     "output_type": "execute_result"
    }
   ],
   "source": [
    "is_breach_agg.head(3)"
   ]
  },
  {
   "cell_type": "code",
   "execution_count": 48,
   "id": "8bb8284c",
   "metadata": {},
   "outputs": [],
   "source": [
    "pivot_is_breach =  pd.pivot_table(is_breach_agg, values='is_breach', \n",
    "               index='inn', columns=['support_year'], aggfunc=sum, fill_value=0).reset_index()"
   ]
  },
  {
   "cell_type": "code",
   "execution_count": 49,
   "id": "5fef223e",
   "metadata": {},
   "outputs": [
    {
     "data": {
      "text/html": [
       "<div>\n",
       "<style scoped>\n",
       "    .dataframe tbody tr th:only-of-type {\n",
       "        vertical-align: middle;\n",
       "    }\n",
       "\n",
       "    .dataframe tbody tr th {\n",
       "        vertical-align: top;\n",
       "    }\n",
       "\n",
       "    .dataframe thead th {\n",
       "        text-align: right;\n",
       "    }\n",
       "</style>\n",
       "<table border=\"1\" class=\"dataframe\">\n",
       "  <thead>\n",
       "    <tr style=\"text-align: right;\">\n",
       "      <th>support_year</th>\n",
       "      <th>inn</th>\n",
       "      <th>2019</th>\n",
       "      <th>2020</th>\n",
       "      <th>2021</th>\n",
       "    </tr>\n",
       "  </thead>\n",
       "  <tbody>\n",
       "    <tr>\n",
       "      <th>0</th>\n",
       "      <td>0101000021</td>\n",
       "      <td>0</td>\n",
       "      <td>0</td>\n",
       "      <td>0</td>\n",
       "    </tr>\n",
       "    <tr>\n",
       "      <th>1</th>\n",
       "      <td>0101000078</td>\n",
       "      <td>0</td>\n",
       "      <td>0</td>\n",
       "      <td>0</td>\n",
       "    </tr>\n",
       "    <tr>\n",
       "      <th>2</th>\n",
       "      <td>0101000832</td>\n",
       "      <td>0</td>\n",
       "      <td>0</td>\n",
       "      <td>0</td>\n",
       "    </tr>\n",
       "    <tr>\n",
       "      <th>3</th>\n",
       "      <td>0101002861</td>\n",
       "      <td>0</td>\n",
       "      <td>0</td>\n",
       "      <td>0</td>\n",
       "    </tr>\n",
       "    <tr>\n",
       "      <th>4</th>\n",
       "      <td>0101003086</td>\n",
       "      <td>0</td>\n",
       "      <td>0</td>\n",
       "      <td>0</td>\n",
       "    </tr>\n",
       "  </tbody>\n",
       "</table>\n",
       "</div>"
      ],
      "text/plain": [
       "support_year         inn  2019  2020  2021\n",
       "0             0101000021     0     0     0\n",
       "1             0101000078     0     0     0\n",
       "2             0101000832     0     0     0\n",
       "3             0101002861     0     0     0\n",
       "4             0101003086     0     0     0"
      ]
     },
     "execution_count": 49,
     "metadata": {},
     "output_type": "execute_result"
    }
   ],
   "source": [
    "pivot_is_breach.head()"
   ]
  },
  {
   "cell_type": "code",
   "execution_count": 50,
   "id": "17f3b516",
   "metadata": {},
   "outputs": [
    {
     "data": {
      "text/plain": [
       "(256, 4)"
      ]
     },
     "execution_count": 50,
     "metadata": {},
     "output_type": "execute_result"
    }
   ],
   "source": [
    "pivot_is_breach.loc[pivot_is_breach[2020] > 0].shape"
   ]
  },
  {
   "cell_type": "markdown",
   "id": "134b6211",
   "metadata": {},
   "source": [
    "- переименовываем столбцы и приводим типы"
   ]
  },
  {
   "cell_type": "code",
   "execution_count": 51,
   "id": "766abab7",
   "metadata": {},
   "outputs": [],
   "source": [
    "pivot_is_breach.rename(columns={2019: 'breach_2019', 2020: 'breach_2020', 2021: 'breach_2021'}, \n",
    "                      inplace=True)"
   ]
  },
  {
   "cell_type": "code",
   "execution_count": 52,
   "id": "ff2ae290",
   "metadata": {},
   "outputs": [
    {
     "name": "stdout",
     "output_type": "stream",
     "text": [
      "<class 'pandas.core.frame.DataFrame'>\n",
      "RangeIndex: 315944 entries, 0 to 315943\n",
      "Data columns (total 4 columns):\n",
      " #   Column       Non-Null Count   Dtype \n",
      "---  ------       --------------   ----- \n",
      " 0   inn          315944 non-null  object\n",
      " 1   breach_2019  315944 non-null  int64 \n",
      " 2   breach_2020  315944 non-null  int64 \n",
      " 3   breach_2021  315944 non-null  int64 \n",
      "dtypes: int64(3), object(1)\n",
      "memory usage: 9.6+ MB\n"
     ]
    }
   ],
   "source": [
    "pivot_is_breach.info()"
   ]
  },
  {
   "cell_type": "markdown",
   "id": "6338d96c",
   "metadata": {},
   "source": [
    "#### - соединяем и заполняем пропуски нулями"
   ]
  },
  {
   "cell_type": "code",
   "execution_count": 53,
   "id": "6c18ce22",
   "metadata": {},
   "outputs": [
    {
     "data": {
      "text/plain": [
       "(1918094, 71)"
      ]
     },
     "execution_count": 53,
     "metadata": {},
     "output_type": "execute_result"
    }
   ],
   "source": [
    "data.shape"
   ]
  },
  {
   "cell_type": "code",
   "execution_count": 54,
   "id": "0cd9156c",
   "metadata": {},
   "outputs": [
    {
     "name": "stdout",
     "output_type": "stream",
     "text": [
      "Wall time: 6.21 s\n"
     ]
    }
   ],
   "source": [
    "%%time\n",
    "data = data.merge(agg_support, how='left', on='inn')\n",
    "data = data.merge(pivot_is_breach, how='left', on='inn')"
   ]
  },
  {
   "cell_type": "code",
   "execution_count": 55,
   "id": "50cccead",
   "metadata": {},
   "outputs": [
    {
     "data": {
      "text/plain": [
       "(1918094, 83)"
      ]
     },
     "execution_count": 55,
     "metadata": {},
     "output_type": "execute_result"
    }
   ],
   "source": [
    "data.shape"
   ]
  },
  {
   "cell_type": "code",
   "execution_count": 56,
   "id": "c07d2914",
   "metadata": {},
   "outputs": [],
   "source": [
    "for col in agg_col + ['breach_2019', 'breach_2020', 'breach_2021']:\n",
    "    data[col].fillna(0, inplace=True)"
   ]
  },
  {
   "cell_type": "code",
   "execution_count": 57,
   "id": "23eedc68",
   "metadata": {},
   "outputs": [],
   "source": [
    "for col in ['breach_2019', 'breach_2020', 'breach_2021']:\n",
    "    data[col] = pd.to_numeric(data[col], downcast='integer')"
   ]
  },
  {
   "cell_type": "markdown",
   "id": "a3de77dd",
   "metadata": {},
   "source": [
    "#### - следующая таблица - debt - налоговая задолженность"
   ]
  },
  {
   "cell_type": "code",
   "execution_count": 58,
   "id": "96248bc8",
   "metadata": {},
   "outputs": [],
   "source": [
    "columns = [\n",
    "    'inn', \n",
    "#     'status_date',  # [datetime.date(2021, 12, 31)]\n",
    "    'arrears', \n",
    "    'penalties', \n",
    "    'fines', \n",
    "]"
   ]
  },
  {
   "cell_type": "code",
   "execution_count": 59,
   "id": "019fda48",
   "metadata": {},
   "outputs": [],
   "source": [
    "debt = pd.read_sql(sql.SQL('SELECT {} FROM debt;')\\\n",
    "                            .format(sql.SQL(',').join(map(sql.Identifier, columns))), connect)"
   ]
  },
  {
   "cell_type": "code",
   "execution_count": 60,
   "id": "f7ca04b0",
   "metadata": {},
   "outputs": [
    {
     "name": "stdout",
     "output_type": "stream",
     "text": [
      "<class 'pandas.core.frame.DataFrame'>\n",
      "RangeIndex: 816569 entries, 0 to 816568\n",
      "Data columns (total 4 columns):\n",
      " #   Column     Non-Null Count   Dtype  \n",
      "---  ------     --------------   -----  \n",
      " 0   inn        816569 non-null  object \n",
      " 1   arrears    816569 non-null  float64\n",
      " 2   penalties  816569 non-null  float64\n",
      " 3   fines      816569 non-null  float64\n",
      "dtypes: float64(3), object(1)\n",
      "memory usage: 24.9+ MB\n"
     ]
    }
   ],
   "source": [
    "debt.info()"
   ]
  },
  {
   "cell_type": "markdown",
   "id": "23a9a1d9",
   "metadata": {},
   "source": [
    "- просто приведём типы, данные уже аггрегированы"
   ]
  },
  {
   "cell_type": "code",
   "execution_count": 61,
   "id": "eb775983",
   "metadata": {},
   "outputs": [],
   "source": [
    "for col in debt.columns[1:]:\n",
    "    debt[col] = pd.to_numeric(debt[col], downcast='float')"
   ]
  },
  {
   "cell_type": "code",
   "execution_count": 62,
   "id": "10dd87ef",
   "metadata": {},
   "outputs": [
    {
     "name": "stdout",
     "output_type": "stream",
     "text": [
      "<class 'pandas.core.frame.DataFrame'>\n",
      "RangeIndex: 816569 entries, 0 to 816568\n",
      "Data columns (total 4 columns):\n",
      " #   Column     Non-Null Count   Dtype  \n",
      "---  ------     --------------   -----  \n",
      " 0   inn        816569 non-null  object \n",
      " 1   arrears    816569 non-null  float32\n",
      " 2   penalties  816569 non-null  float32\n",
      " 3   fines      816569 non-null  float32\n",
      "dtypes: float32(3), object(1)\n",
      "memory usage: 15.6+ MB\n"
     ]
    }
   ],
   "source": [
    "debt.info()"
   ]
  },
  {
   "cell_type": "markdown",
   "id": "ab302785",
   "metadata": {},
   "source": [
    "#### - соединяем и заполняем пропуски 0"
   ]
  },
  {
   "cell_type": "code",
   "execution_count": 63,
   "id": "3c649400",
   "metadata": {},
   "outputs": [
    {
     "data": {
      "text/plain": [
       "(1918094, 83)"
      ]
     },
     "execution_count": 63,
     "metadata": {},
     "output_type": "execute_result"
    }
   ],
   "source": [
    "data.shape"
   ]
  },
  {
   "cell_type": "code",
   "execution_count": 64,
   "id": "d9f73aa1",
   "metadata": {},
   "outputs": [
    {
     "name": "stdout",
     "output_type": "stream",
     "text": [
      "Wall time: 3.64 s\n"
     ]
    }
   ],
   "source": [
    "%%time\n",
    "data = data.merge(debt, how='left', on='inn')"
   ]
  },
  {
   "cell_type": "code",
   "execution_count": 65,
   "id": "2555e1bb",
   "metadata": {},
   "outputs": [
    {
     "data": {
      "text/plain": [
       "(1918094, 86)"
      ]
     },
     "execution_count": 65,
     "metadata": {},
     "output_type": "execute_result"
    }
   ],
   "source": [
    "data.shape"
   ]
  },
  {
   "cell_type": "code",
   "execution_count": 66,
   "id": "b0f5e394",
   "metadata": {},
   "outputs": [],
   "source": [
    "for col in debt.columns[1:]:\n",
    "    data[col].fillna(0, inplace=True)"
   ]
  },
  {
   "cell_type": "markdown",
   "id": "93011c9c",
   "metadata": {},
   "source": [
    "#### - таблица tax_offense - налоговые нарушения"
   ]
  },
  {
   "cell_type": "code",
   "execution_count": 67,
   "id": "ef278851",
   "metadata": {},
   "outputs": [],
   "source": [
    "columns = [\n",
    "    'inn', \n",
    "#     'offense_date',  # одна для всех - [datetime.date(2021, 12, 31)]\n",
    "    'fine_amount', \n",
    "]"
   ]
  },
  {
   "cell_type": "code",
   "execution_count": 68,
   "id": "f951f6fd",
   "metadata": {},
   "outputs": [],
   "source": [
    "tax_offense = pd.read_sql(sql.SQL('SELECT {} FROM tax_offense;')\\\n",
    "                            .format(sql.SQL(',').join(map(sql.Identifier, columns))), connect)"
   ]
  },
  {
   "cell_type": "code",
   "execution_count": 69,
   "id": "40832580",
   "metadata": {},
   "outputs": [
    {
     "name": "stdout",
     "output_type": "stream",
     "text": [
      "<class 'pandas.core.frame.DataFrame'>\n",
      "RangeIndex: 62723 entries, 0 to 62722\n",
      "Data columns (total 2 columns):\n",
      " #   Column       Non-Null Count  Dtype  \n",
      "---  ------       --------------  -----  \n",
      " 0   inn          62723 non-null  object \n",
      " 1   fine_amount  62723 non-null  float64\n",
      "dtypes: float64(1), object(1)\n",
      "memory usage: 980.2+ KB\n"
     ]
    }
   ],
   "source": [
    "tax_offense.info()"
   ]
  },
  {
   "cell_type": "code",
   "execution_count": 70,
   "id": "4c9f2983",
   "metadata": {},
   "outputs": [],
   "source": [
    "tax_offense.fine_amount = pd.to_numeric(tax_offense.fine_amount, downcast='float')"
   ]
  },
  {
   "cell_type": "markdown",
   "id": "45de1fd5",
   "metadata": {},
   "source": [
    "#### - соединяем"
   ]
  },
  {
   "cell_type": "code",
   "execution_count": 71,
   "id": "8b353643",
   "metadata": {},
   "outputs": [
    {
     "name": "stdout",
     "output_type": "stream",
     "text": [
      "Wall time: 3.1 s\n"
     ]
    }
   ],
   "source": [
    "%%time\n",
    "data = data.merge(tax_offense, how='left', on='inn')"
   ]
  },
  {
   "cell_type": "code",
   "execution_count": 72,
   "id": "42d907b7",
   "metadata": {},
   "outputs": [],
   "source": [
    "data.fine_amount.fillna(0, inplace=True)"
   ]
  },
  {
   "cell_type": "markdown",
   "id": "822a74b4",
   "metadata": {},
   "source": [
    "#### -  inn_disqual - просто флаг\n",
    "- Юридические лица, в состав исполнительных органов которых входят дисквалифицированные лица\n",
    "\n",
    "        G3 здесь - инн"
   ]
  },
  {
   "cell_type": "code",
   "execution_count": 73,
   "id": "a5f848b7",
   "metadata": {},
   "outputs": [
    {
     "data": {
      "text/html": [
       "<div>\n",
       "<style scoped>\n",
       "    .dataframe tbody tr th:only-of-type {\n",
       "        vertical-align: middle;\n",
       "    }\n",
       "\n",
       "    .dataframe tbody tr th {\n",
       "        vertical-align: top;\n",
       "    }\n",
       "\n",
       "    .dataframe thead th {\n",
       "        text-align: right;\n",
       "    }\n",
       "</style>\n",
       "<table border=\"1\" class=\"dataframe\">\n",
       "  <thead>\n",
       "    <tr style=\"text-align: right;\">\n",
       "      <th></th>\n",
       "      <th>G1</th>\n",
       "      <th>G2</th>\n",
       "      <th>G3</th>\n",
       "      <th>G4</th>\n",
       "      <th>G5</th>\n",
       "    </tr>\n",
       "  </thead>\n",
       "  <tbody>\n",
       "    <tr>\n",
       "      <th>0</th>\n",
       "      <td>ОБЩЕСТВО С ОГРАНИЧЕННОЙ ОТВЕТСТВЕННОСТЬЮ \"КАРТЕН\"</td>\n",
       "      <td>1175749002263</td>\n",
       "      <td>5751060080</td>\n",
       "      <td>575101001</td>\n",
       "      <td>302030,ОРЛОВСКАЯ ОБЛАСТЬ,,ОРЁЛ ГОРОД,,МОСКОВСК...</td>\n",
       "    </tr>\n",
       "    <tr>\n",
       "      <th>1</th>\n",
       "      <td>ЗАКРЫТОЕ АКЦИОНЕРНОЕ ОБЩЕСТВО \"ВЕПРЬ\"</td>\n",
       "      <td>1087205000541</td>\n",
       "      <td>7222018450</td>\n",
       "      <td>722201001</td>\n",
       "      <td>627500,ТЮМЕНСКАЯ ОБЛАСТЬ,СОРОКИНСКИЙ РАЙОН,,БО...</td>\n",
       "    </tr>\n",
       "    <tr>\n",
       "      <th>2</th>\n",
       "      <td>ОБЩЕСТВО С ОГРАНИЧЕННОЙ ОТВЕТСТВЕННОСТЬЮ \"САМАН\"</td>\n",
       "      <td>1190280053732</td>\n",
       "      <td>0272913945</td>\n",
       "      <td>27201001</td>\n",
       "      <td>450095,БАШКОРТОСТАН РЕСПУБЛИКА,,УФА ГОРОД,,МАЙ...</td>\n",
       "    </tr>\n",
       "  </tbody>\n",
       "</table>\n",
       "</div>"
      ],
      "text/plain": [
       "                                                  G1             G2  \\\n",
       "0  ОБЩЕСТВО С ОГРАНИЧЕННОЙ ОТВЕТСТВЕННОСТЬЮ \"КАРТЕН\"  1175749002263   \n",
       "1              ЗАКРЫТОЕ АКЦИОНЕРНОЕ ОБЩЕСТВО \"ВЕПРЬ\"  1087205000541   \n",
       "2   ОБЩЕСТВО С ОГРАНИЧЕННОЙ ОТВЕТСТВЕННОСТЬЮ \"САМАН\"  1190280053732   \n",
       "\n",
       "           G3         G4                                                 G5  \n",
       "0  5751060080  575101001  302030,ОРЛОВСКАЯ ОБЛАСТЬ,,ОРЁЛ ГОРОД,,МОСКОВСК...  \n",
       "1  7222018450  722201001  627500,ТЮМЕНСКАЯ ОБЛАСТЬ,СОРОКИНСКИЙ РАЙОН,,БО...  \n",
       "2  0272913945   27201001  450095,БАШКОРТОСТАН РЕСПУБЛИКА,,УФА ГОРОД,,МАЙ...  "
      ]
     },
     "execution_count": 73,
     "metadata": {},
     "output_type": "execute_result"
    }
   ],
   "source": [
    "with_d_person = pd.read_csv('raw_data/with_disqual_person.csv', sep=';', dtype={'G3': str})\n",
    "with_d_person.head(3)"
   ]
  },
  {
   "cell_type": "code",
   "execution_count": 74,
   "id": "6e0a7250",
   "metadata": {},
   "outputs": [
    {
     "data": {
      "text/plain": [
       "4916"
      ]
     },
     "execution_count": 74,
     "metadata": {},
     "output_type": "execute_result"
    }
   ],
   "source": [
    "# все инн уникальные\n",
    "with_d_person.G3.nunique()"
   ]
  },
  {
   "cell_type": "code",
   "execution_count": 75,
   "id": "db42e9ed",
   "metadata": {},
   "outputs": [],
   "source": [
    "inn_disqual = tuple(with_d_person.G3)"
   ]
  },
  {
   "cell_type": "code",
   "execution_count": 82,
   "id": "596e69f7",
   "metadata": {},
   "outputs": [],
   "source": [
    "data['disqual_person'] = 1"
   ]
  },
  {
   "cell_type": "code",
   "execution_count": 83,
   "id": "618494a6",
   "metadata": {},
   "outputs": [
    {
     "name": "stdout",
     "output_type": "stream",
     "text": [
      "Wall time: 189 ms\n"
     ]
    }
   ],
   "source": [
    "%%time\n",
    "data.disqual_person.where(data.inn.isin(inn_disqual), 0, inplace=True)"
   ]
  },
  {
   "cell_type": "markdown",
   "id": "7b0d919b",
   "metadata": {},
   "source": [
    "- слишком большой дисбаланс?\n",
    "- но пусть пока побудет"
   ]
  },
  {
   "cell_type": "code",
   "execution_count": 84,
   "id": "51f3d795",
   "metadata": {},
   "outputs": [
    {
     "data": {
      "text/plain": [
       "0    1917853\n",
       "1        241\n",
       "Name: disqual_person, dtype: int64"
      ]
     },
     "execution_count": 84,
     "metadata": {},
     "output_type": "execute_result"
    }
   ],
   "source": [
    "data.disqual_person.value_counts()"
   ]
  },
  {
   "cell_type": "code",
   "execution_count": 86,
   "id": "56ec39af",
   "metadata": {},
   "outputs": [],
   "source": [
    "data.disqual_person = pd.to_numeric(data.disqual_person, downcast='integer')"
   ]
  },
  {
   "cell_type": "markdown",
   "id": "796d9f92",
   "metadata": {},
   "source": [
    "- временно сохраняю в файл"
   ]
  },
  {
   "cell_type": "code",
   "execution_count": null,
   "id": "0387e94a",
   "metadata": {},
   "outputs": [],
   "source": [
    "# with open('parsed_data/data.pickle', 'wb') as f:\n",
    "#     pickle.dump(data, f)"
   ]
  },
  {
   "cell_type": "code",
   "execution_count": null,
   "id": "49fd263d",
   "metadata": {},
   "outputs": [],
   "source": [
    "with open('parsed_data/data.pickle', 'rb') as f:\n",
    "    data = pickle.load(f)"
   ]
  },
  {
   "cell_type": "markdown",
   "id": "f6834395",
   "metadata": {},
   "source": [
    "#### - добавляем groc_and_fuels"
   ]
  },
  {
   "cell_type": "code",
   "execution_count": 90,
   "id": "605f2c88",
   "metadata": {},
   "outputs": [
    {
     "data": {
      "text/plain": [
       "(0,\n",
       " array([ 1,  2,  3,  4,  5,  6,  7,  8,  9, 10, 11, 12, 13, 14, 15, 16, 17,\n",
       "        18, 19, 20, 21, 22, 23, 24, 25, 26, 27, 28, 29, 30, 31, 32, 33, 34,\n",
       "        35, 36, 37, 38, 39, 40, 41, 42, 43, 44, 45, 46, 47, 48, 49, 50, 51,\n",
       "        52, 53, 54, 55, 56, 57, 58, 59, 60, 61, 62, 63, 64, 65, 66, 67, 68,\n",
       "        69, 70, 71, 72, 73, 74, 75, 76, 77, 78, 79, 83, 86, 87, 89, 90, 91,\n",
       "        92, 95], dtype=int8))"
      ]
     },
     "execution_count": 90,
     "metadata": {},
     "output_type": "execute_result"
    }
   ],
   "source": [
    "# пропуски и уникальные коды регионов из data\n",
    "data.region_code.isna().sum(), np.sort(data.region_code.unique())"
   ]
  },
  {
   "cell_type": "markdown",
   "id": "a5c0e161",
   "metadata": {},
   "source": [
    "- 93 соотв 92, 95 соотв 20, 94 - нет данных\n",
    "- здесь только код 95, переименовывать в столбце не хочу - просто добавлю значение отдельно"
   ]
  },
  {
   "cell_type": "code",
   "execution_count": 91,
   "id": "2a55414a",
   "metadata": {},
   "outputs": [
    {
     "data": {
      "text/html": [
       "<div>\n",
       "<style scoped>\n",
       "    .dataframe tbody tr th:only-of-type {\n",
       "        vertical-align: middle;\n",
       "    }\n",
       "\n",
       "    .dataframe tbody tr th {\n",
       "        vertical-align: top;\n",
       "    }\n",
       "\n",
       "    .dataframe thead th {\n",
       "        text-align: right;\n",
       "    }\n",
       "</style>\n",
       "<table border=\"1\" class=\"dataframe\">\n",
       "  <thead>\n",
       "    <tr style=\"text-align: right;\">\n",
       "      <th></th>\n",
       "      <th>inn</th>\n",
       "      <th>shortName</th>\n",
       "      <th>index</th>\n",
       "      <th>region</th>\n",
       "      <th>city</th>\n",
       "      <th>settlement</th>\n",
       "      <th>okved2</th>\n",
       "      <th>okopf</th>\n",
       "      <th>statusCode</th>\n",
       "      <th>registrationDate</th>\n",
       "      <th>...</th>\n",
       "      <th>0105_2020</th>\n",
       "      <th>0105_2021</th>\n",
       "      <th>breach_2019</th>\n",
       "      <th>breach_2020</th>\n",
       "      <th>breach_2021</th>\n",
       "      <th>arrears</th>\n",
       "      <th>penalties</th>\n",
       "      <th>fines</th>\n",
       "      <th>fine_amount</th>\n",
       "      <th>disqual_person</th>\n",
       "    </tr>\n",
       "  </thead>\n",
       "  <tbody>\n",
       "  </tbody>\n",
       "</table>\n",
       "<p>0 rows × 88 columns</p>\n",
       "</div>"
      ],
      "text/plain": [
       "Empty DataFrame\n",
       "Columns: [inn, shortName, index, region, city, settlement, okved2, okopf, statusCode, registrationDate, authorizedCapital, 2021_1150, 2020_1150, 2019_1150, 2021_1170, 2020_1170, 2019_1170, 2021_1210, 2020_1210, 2019_1210, 2021_1230, 2020_1230, 2019_1230, 2021_1250, 2020_1250, 2019_1250, 2021_1600, 2020_1600, 2019_1600, 2021_1350, 2020_1350, 2019_1350, 2021_1360, 2020_1360, 2019_1360, 2021_1300, 2020_1300, 2019_1300, 2021_1520, 2020_1520, 2019_1520, 2021_1700, 2020_1700, 2019_1700, 2021_2110, 2020_2110, 2021_2120, 2020_2120, 2021_2330, 2020_2330, 2021_2340, 2020_2340, 2021_2350, 2020_2350, 2021_2410, 2020_2410, 2021_2400, 2020_2400, n_employees, is_soc_enterprise, newly_establ, subj_cat, subj_form, inclusion_date, region_code, n_okovd_add, n_licenses, n_products, is_high_tech, n_contracts, n_agreements, 0102_2019, 0102_2020, 0102_2021, 0103_2019, 0103_2020, 0103_2021, 0105_2019, 0105_2020, 0105_2021, breach_2019, breach_2020, breach_2021, arrears, penalties, fines, fine_amount, disqual_person]\n",
       "Index: []\n",
       "\n",
       "[0 rows x 88 columns]"
      ]
     },
     "execution_count": 91,
     "metadata": {},
     "output_type": "execute_result"
    }
   ],
   "source": [
    "data.loc[data.region_code == '94']"
   ]
  },
  {
   "cell_type": "code",
   "execution_count": 92,
   "id": "97ce3efc",
   "metadata": {},
   "outputs": [],
   "source": [
    "prices_by_regions = pd.read_csv('raw_data/prices_by_regions/data-20220331-structure-20220331.csv', sep=';')"
   ]
  },
  {
   "cell_type": "code",
   "execution_count": 93,
   "id": "65f58b02",
   "metadata": {},
   "outputs": [],
   "source": [
    "# отбираем и переименовываем столбцы\n",
    "groc_and_fuels = prices_by_regions[['GA', 'G2', 'G35', 'G36', 'G37', 'G70', 'G71', 'G72', 'G73', \n",
    "                                    'G74', 'G75', 'G76', 'G77']]\n",
    "groc_and_fuels.columns = ['region_code', 'observ_date', 'cons_basket_working_age', \n",
    "                         'cons_basket_pens', 'cons_basket_child', 'AI92_cost', 'AI95_cost', \n",
    "                         \"AI98_cost\", 'diesel_cost', 'AI92_volume', 'AI95_volume', \n",
    "                         \"AI98_volume\", 'diesel_volume']"
   ]
  },
  {
   "cell_type": "code",
   "execution_count": 94,
   "id": "467e5e35",
   "metadata": {},
   "outputs": [
    {
     "data": {
      "text/html": [
       "<div>\n",
       "<style scoped>\n",
       "    .dataframe tbody tr th:only-of-type {\n",
       "        vertical-align: middle;\n",
       "    }\n",
       "\n",
       "    .dataframe tbody tr th {\n",
       "        vertical-align: top;\n",
       "    }\n",
       "\n",
       "    .dataframe thead th {\n",
       "        text-align: right;\n",
       "    }\n",
       "</style>\n",
       "<table border=\"1\" class=\"dataframe\">\n",
       "  <thead>\n",
       "    <tr style=\"text-align: right;\">\n",
       "      <th></th>\n",
       "      <th>region_code</th>\n",
       "      <th>observ_date</th>\n",
       "      <th>cons_basket_working_age</th>\n",
       "      <th>cons_basket_pens</th>\n",
       "      <th>cons_basket_child</th>\n",
       "      <th>AI92_cost</th>\n",
       "      <th>AI95_cost</th>\n",
       "      <th>AI98_cost</th>\n",
       "      <th>diesel_cost</th>\n",
       "      <th>AI92_volume</th>\n",
       "      <th>AI95_volume</th>\n",
       "      <th>AI98_volume</th>\n",
       "      <th>diesel_volume</th>\n",
       "    </tr>\n",
       "  </thead>\n",
       "  <tbody>\n",
       "    <tr>\n",
       "      <th>0</th>\n",
       "      <td>1</td>\n",
       "      <td>01.01.2019</td>\n",
       "      <td>5023,51</td>\n",
       "      <td>4301,36</td>\n",
       "      <td>5001,97</td>\n",
       "      <td>42,96</td>\n",
       "      <td>46,87</td>\n",
       "      <td>50,2</td>\n",
       "      <td>45,53</td>\n",
       "      <td>103778,69</td>\n",
       "      <td>56968,84</td>\n",
       "      <td>121,19</td>\n",
       "      <td>13973,49</td>\n",
       "    </tr>\n",
       "    <tr>\n",
       "      <th>1</th>\n",
       "      <td>1</td>\n",
       "      <td>02.01.2019</td>\n",
       "      <td>5086,32</td>\n",
       "      <td>4354</td>\n",
       "      <td>5064,53</td>\n",
       "      <td>42,98</td>\n",
       "      <td>46,92</td>\n",
       "      <td>50,3</td>\n",
       "      <td>45,38</td>\n",
       "      <td>185820,84</td>\n",
       "      <td>119512,26</td>\n",
       "      <td>95,09</td>\n",
       "      <td>39283,9</td>\n",
       "    </tr>\n",
       "    <tr>\n",
       "      <th>2</th>\n",
       "      <td>1</td>\n",
       "      <td>03.01.2019</td>\n",
       "      <td>4930,56</td>\n",
       "      <td>4214,3</td>\n",
       "      <td>4911,48</td>\n",
       "      <td>41,13</td>\n",
       "      <td>46,86</td>\n",
       "      <td>50,77</td>\n",
       "      <td>45,46</td>\n",
       "      <td>219913,38</td>\n",
       "      <td>126519,19</td>\n",
       "      <td>107,82</td>\n",
       "      <td>45498,67</td>\n",
       "    </tr>\n",
       "  </tbody>\n",
       "</table>\n",
       "</div>"
      ],
      "text/plain": [
       "   region_code observ_date cons_basket_working_age cons_basket_pens  \\\n",
       "0            1  01.01.2019                 5023,51          4301,36   \n",
       "1            1  02.01.2019                 5086,32             4354   \n",
       "2            1  03.01.2019                 4930,56           4214,3   \n",
       "\n",
       "  cons_basket_child AI92_cost AI95_cost AI98_cost diesel_cost AI92_volume  \\\n",
       "0           5001,97     42,96     46,87      50,2       45,53   103778,69   \n",
       "1           5064,53     42,98     46,92      50,3       45,38   185820,84   \n",
       "2           4911,48     41,13     46,86     50,77       45,46   219913,38   \n",
       "\n",
       "  AI95_volume AI98_volume diesel_volume  \n",
       "0    56968,84      121,19      13973,49  \n",
       "1   119512,26       95,09       39283,9  \n",
       "2   126519,19      107,82      45498,67  "
      ]
     },
     "execution_count": 94,
     "metadata": {},
     "output_type": "execute_result"
    }
   ],
   "source": [
    "groc_and_fuels.head(3)"
   ]
  },
  {
   "cell_type": "code",
   "execution_count": 95,
   "id": "d347e183",
   "metadata": {},
   "outputs": [
    {
     "name": "stdout",
     "output_type": "stream",
     "text": [
      "<class 'pandas.core.frame.DataFrame'>\n",
      "RangeIndex: 100810 entries, 0 to 100809\n",
      "Data columns (total 13 columns):\n",
      " #   Column                   Non-Null Count   Dtype \n",
      "---  ------                   --------------   ----- \n",
      " 0   region_code              100810 non-null  int64 \n",
      " 1   observ_date              100810 non-null  object\n",
      " 2   cons_basket_working_age  100810 non-null  object\n",
      " 3   cons_basket_pens         100810 non-null  object\n",
      " 4   cons_basket_child        100810 non-null  object\n",
      " 5   AI92_cost                100810 non-null  object\n",
      " 6   AI95_cost                100810 non-null  object\n",
      " 7   AI98_cost                100810 non-null  object\n",
      " 8   diesel_cost              100810 non-null  object\n",
      " 9   AI92_volume              100810 non-null  object\n",
      " 10  AI95_volume              100810 non-null  object\n",
      " 11  AI98_volume              100810 non-null  object\n",
      " 12  diesel_volume            100810 non-null  object\n",
      "dtypes: int64(1), object(12)\n",
      "memory usage: 10.0+ MB\n"
     ]
    }
   ],
   "source": [
    "groc_and_fuels.info()"
   ]
  },
  {
   "cell_type": "code",
   "execution_count": 96,
   "id": "4b0801a2",
   "metadata": {},
   "outputs": [
    {
     "name": "stderr",
     "output_type": "stream",
     "text": [
      "C:\\Users\\013\\AppData\\Local\\Temp/ipykernel_2988/1479746939.py:3: SettingWithCopyWarning: \n",
      "A value is trying to be set on a copy of a slice from a DataFrame.\n",
      "Try using .loc[row_indexer,col_indexer] = value instead\n",
      "\n",
      "See the caveats in the documentation: https://pandas.pydata.org/pandas-docs/stable/user_guide/indexing.html#returning-a-view-versus-a-copy\n",
      "  groc_and_fuels[col] = groc_and_fuels[col].apply(lambda x: x.replace(',', '.')).astype(float)\n",
      "C:\\Users\\013\\AppData\\Local\\Temp/ipykernel_2988/1479746939.py:6: SettingWithCopyWarning: \n",
      "A value is trying to be set on a copy of a slice from a DataFrame.\n",
      "Try using .loc[row_indexer,col_indexer] = value instead\n",
      "\n",
      "See the caveats in the documentation: https://pandas.pydata.org/pandas-docs/stable/user_guide/indexing.html#returning-a-view-versus-a-copy\n",
      "  groc_and_fuels['observ_year'] = pd.to_datetime(groc_and_fuels['observ_date']).dt.year\n"
     ]
    },
    {
     "data": {
      "text/html": [
       "<div>\n",
       "<style scoped>\n",
       "    .dataframe tbody tr th:only-of-type {\n",
       "        vertical-align: middle;\n",
       "    }\n",
       "\n",
       "    .dataframe tbody tr th {\n",
       "        vertical-align: top;\n",
       "    }\n",
       "\n",
       "    .dataframe thead th {\n",
       "        text-align: right;\n",
       "    }\n",
       "</style>\n",
       "<table border=\"1\" class=\"dataframe\">\n",
       "  <thead>\n",
       "    <tr style=\"text-align: right;\">\n",
       "      <th></th>\n",
       "      <th>region_code</th>\n",
       "      <th>observ_date</th>\n",
       "      <th>cons_basket_working_age</th>\n",
       "      <th>cons_basket_pens</th>\n",
       "      <th>cons_basket_child</th>\n",
       "      <th>AI92_cost</th>\n",
       "      <th>AI95_cost</th>\n",
       "      <th>AI98_cost</th>\n",
       "      <th>diesel_cost</th>\n",
       "      <th>AI92_volume</th>\n",
       "      <th>AI95_volume</th>\n",
       "      <th>AI98_volume</th>\n",
       "      <th>diesel_volume</th>\n",
       "      <th>observ_year</th>\n",
       "    </tr>\n",
       "  </thead>\n",
       "  <tbody>\n",
       "    <tr>\n",
       "      <th>0</th>\n",
       "      <td>1</td>\n",
       "      <td>01.01.2019</td>\n",
       "      <td>5023.51</td>\n",
       "      <td>4301.36</td>\n",
       "      <td>5001.97</td>\n",
       "      <td>42.96</td>\n",
       "      <td>46.87</td>\n",
       "      <td>50.20</td>\n",
       "      <td>45.53</td>\n",
       "      <td>103778.69</td>\n",
       "      <td>56968.84</td>\n",
       "      <td>121.19</td>\n",
       "      <td>13973.49</td>\n",
       "      <td>2019</td>\n",
       "    </tr>\n",
       "    <tr>\n",
       "      <th>1</th>\n",
       "      <td>1</td>\n",
       "      <td>02.01.2019</td>\n",
       "      <td>5086.32</td>\n",
       "      <td>4354.00</td>\n",
       "      <td>5064.53</td>\n",
       "      <td>42.98</td>\n",
       "      <td>46.92</td>\n",
       "      <td>50.30</td>\n",
       "      <td>45.38</td>\n",
       "      <td>185820.84</td>\n",
       "      <td>119512.26</td>\n",
       "      <td>95.09</td>\n",
       "      <td>39283.90</td>\n",
       "      <td>2019</td>\n",
       "    </tr>\n",
       "    <tr>\n",
       "      <th>2</th>\n",
       "      <td>1</td>\n",
       "      <td>03.01.2019</td>\n",
       "      <td>4930.56</td>\n",
       "      <td>4214.30</td>\n",
       "      <td>4911.48</td>\n",
       "      <td>41.13</td>\n",
       "      <td>46.86</td>\n",
       "      <td>50.77</td>\n",
       "      <td>45.46</td>\n",
       "      <td>219913.38</td>\n",
       "      <td>126519.19</td>\n",
       "      <td>107.82</td>\n",
       "      <td>45498.67</td>\n",
       "      <td>2019</td>\n",
       "    </tr>\n",
       "  </tbody>\n",
       "</table>\n",
       "</div>"
      ],
      "text/plain": [
       "   region_code observ_date  cons_basket_working_age  cons_basket_pens  \\\n",
       "0            1  01.01.2019                  5023.51           4301.36   \n",
       "1            1  02.01.2019                  5086.32           4354.00   \n",
       "2            1  03.01.2019                  4930.56           4214.30   \n",
       "\n",
       "   cons_basket_child  AI92_cost  AI95_cost  AI98_cost  diesel_cost  \\\n",
       "0            5001.97      42.96      46.87      50.20        45.53   \n",
       "1            5064.53      42.98      46.92      50.30        45.38   \n",
       "2            4911.48      41.13      46.86      50.77        45.46   \n",
       "\n",
       "   AI92_volume  AI95_volume  AI98_volume  diesel_volume  observ_year  \n",
       "0    103778.69     56968.84       121.19       13973.49         2019  \n",
       "1    185820.84    119512.26        95.09       39283.90         2019  \n",
       "2    219913.38    126519.19       107.82       45498.67         2019  "
      ]
     },
     "execution_count": 96,
     "metadata": {},
     "output_type": "execute_result"
    }
   ],
   "source": [
    "# заменяем запятую на точку и приводим к float\n",
    "for col in groc_and_fuels.columns[2:]:\n",
    "    groc_and_fuels[col] = groc_and_fuels[col].apply(lambda x: x.replace(',', '.')).astype(float)\n",
    "\n",
    "# добавляем год (чтобы усреднить за период)\n",
    "groc_and_fuels['observ_year'] = pd.to_datetime(groc_and_fuels['observ_date']).dt.year\n",
    "groc_and_fuels.head(3)"
   ]
  },
  {
   "cell_type": "code",
   "execution_count": 97,
   "id": "2a8d184d",
   "metadata": {},
   "outputs": [
    {
     "data": {
      "text/plain": [
       "array([2019, 2020, 2021, 2022], dtype=int64)"
      ]
     },
     "execution_count": 97,
     "metadata": {},
     "output_type": "execute_result"
    }
   ],
   "source": [
    "groc_and_fuels.observ_year.unique()"
   ]
  },
  {
   "cell_type": "code",
   "execution_count": 98,
   "id": "f232b1e7",
   "metadata": {},
   "outputs": [],
   "source": [
    "# оставляем только 21, 20 и 19 гг.\n",
    "groc_and_fuels = groc_and_fuels.loc[groc_and_fuels.observ_year.isin((2021, 2020, 2019))]"
   ]
  },
  {
   "cell_type": "code",
   "execution_count": 99,
   "id": "c87c262e",
   "metadata": {},
   "outputs": [],
   "source": [
    "# заменяем 0 на None - т.е. не цена 0, а отсутствие наблюдений\n",
    "groc_and_fuels = groc_and_fuels.replace(0, None)"
   ]
  },
  {
   "cell_type": "code",
   "execution_count": 100,
   "id": "92216d7d",
   "metadata": {},
   "outputs": [],
   "source": [
    "# средняя стоимость за период по регионам\n",
    "avg_groc_and_fuels = groc_and_fuels.groupby(['region_code', 'observ_year'], as_index=False)[['cons_basket_working_age', \n",
    "                         'cons_basket_pens', 'cons_basket_child', 'AI92_cost', 'AI95_cost', \n",
    "                         \"AI98_cost\", 'diesel_cost', 'AI92_volume', 'AI95_volume', \n",
    "                         \"AI98_volume\", 'diesel_volume']].mean()"
   ]
  },
  {
   "cell_type": "markdown",
   "id": "ed54adeb",
   "metadata": {},
   "source": [
    "- разворачиваем таблицу - чтобы получить столбцы по годам\n",
    "- плюс 33 столбца"
   ]
  },
  {
   "cell_type": "code",
   "execution_count": 101,
   "id": "836c6b23",
   "metadata": {},
   "outputs": [],
   "source": [
    "val_columns = ['cons_basket_working_age', 'cons_basket_pens', 'cons_basket_child', 'AI92_cost', \n",
    "               'AI95_cost', \"AI98_cost\", 'diesel_cost', 'AI92_volume', 'AI95_volume', \n",
    "               \"AI98_volume\", 'diesel_volume']"
   ]
  },
  {
   "cell_type": "code",
   "execution_count": 102,
   "id": "121ee178",
   "metadata": {},
   "outputs": [],
   "source": [
    "pivot_groc_and_fuels =  pd.pivot_table(avg_groc_and_fuels, values=val_columns, \n",
    "               index='region_code', columns=['observ_year'], aggfunc='mean').reset_index()"
   ]
  },
  {
   "cell_type": "code",
   "execution_count": 103,
   "id": "bc5ba133",
   "metadata": {},
   "outputs": [
    {
     "data": {
      "text/html": [
       "<div>\n",
       "<style scoped>\n",
       "    .dataframe tbody tr th:only-of-type {\n",
       "        vertical-align: middle;\n",
       "    }\n",
       "\n",
       "    .dataframe tbody tr th {\n",
       "        vertical-align: top;\n",
       "    }\n",
       "\n",
       "    .dataframe thead tr th {\n",
       "        text-align: left;\n",
       "    }\n",
       "</style>\n",
       "<table border=\"1\" class=\"dataframe\">\n",
       "  <thead>\n",
       "    <tr>\n",
       "      <th></th>\n",
       "      <th>region_code</th>\n",
       "      <th colspan=\"3\" halign=\"left\">AI92_cost</th>\n",
       "      <th colspan=\"3\" halign=\"left\">AI92_volume</th>\n",
       "      <th colspan=\"3\" halign=\"left\">AI95_cost</th>\n",
       "      <th>...</th>\n",
       "      <th>cons_basket_pens</th>\n",
       "      <th colspan=\"3\" halign=\"left\">cons_basket_working_age</th>\n",
       "      <th colspan=\"3\" halign=\"left\">diesel_cost</th>\n",
       "      <th colspan=\"3\" halign=\"left\">diesel_volume</th>\n",
       "    </tr>\n",
       "    <tr>\n",
       "      <th>observ_year</th>\n",
       "      <th></th>\n",
       "      <th>2019</th>\n",
       "      <th>2020</th>\n",
       "      <th>2021</th>\n",
       "      <th>2019</th>\n",
       "      <th>2020</th>\n",
       "      <th>2021</th>\n",
       "      <th>2019</th>\n",
       "      <th>2020</th>\n",
       "      <th>2021</th>\n",
       "      <th>...</th>\n",
       "      <th>2021</th>\n",
       "      <th>2019</th>\n",
       "      <th>2020</th>\n",
       "      <th>2021</th>\n",
       "      <th>2019</th>\n",
       "      <th>2020</th>\n",
       "      <th>2021</th>\n",
       "      <th>2019</th>\n",
       "      <th>2020</th>\n",
       "      <th>2021</th>\n",
       "    </tr>\n",
       "  </thead>\n",
       "  <tbody>\n",
       "    <tr>\n",
       "      <th>0</th>\n",
       "      <td>1</td>\n",
       "      <td>43.332219</td>\n",
       "      <td>43.547923</td>\n",
       "      <td>44.553863</td>\n",
       "      <td>2.211384e+05</td>\n",
       "      <td>1.874788e+05</td>\n",
       "      <td>2.081576e+05</td>\n",
       "      <td>48.051562</td>\n",
       "      <td>48.533852</td>\n",
       "      <td>50.663260</td>\n",
       "      <td>...</td>\n",
       "      <td>5031.818411</td>\n",
       "      <td>5005.002466</td>\n",
       "      <td>5146.416749</td>\n",
       "      <td>5914.448685</td>\n",
       "      <td>45.404822</td>\n",
       "      <td>46.012650</td>\n",
       "      <td>47.691973</td>\n",
       "      <td>65073.028384</td>\n",
       "      <td>60822.033087</td>\n",
       "      <td>69281.618521</td>\n",
       "    </tr>\n",
       "    <tr>\n",
       "      <th>1</th>\n",
       "      <td>2</td>\n",
       "      <td>41.124986</td>\n",
       "      <td>42.006940</td>\n",
       "      <td>43.900411</td>\n",
       "      <td>2.018062e+06</td>\n",
       "      <td>1.795260e+06</td>\n",
       "      <td>1.718155e+06</td>\n",
       "      <td>44.246466</td>\n",
       "      <td>45.193770</td>\n",
       "      <td>47.296274</td>\n",
       "      <td>...</td>\n",
       "      <td>4804.212411</td>\n",
       "      <td>4637.134110</td>\n",
       "      <td>4863.667842</td>\n",
       "      <td>5657.522795</td>\n",
       "      <td>45.621288</td>\n",
       "      <td>46.787104</td>\n",
       "      <td>48.158740</td>\n",
       "      <td>322267.884164</td>\n",
       "      <td>286174.082486</td>\n",
       "      <td>277899.671616</td>\n",
       "    </tr>\n",
       "    <tr>\n",
       "      <th>2</th>\n",
       "      <td>3</td>\n",
       "      <td>42.091425</td>\n",
       "      <td>43.820874</td>\n",
       "      <td>45.771123</td>\n",
       "      <td>4.270480e+05</td>\n",
       "      <td>2.976584e+05</td>\n",
       "      <td>3.115107e+05</td>\n",
       "      <td>43.764466</td>\n",
       "      <td>45.792158</td>\n",
       "      <td>48.114411</td>\n",
       "      <td>...</td>\n",
       "      <td>5167.355589</td>\n",
       "      <td>5084.651507</td>\n",
       "      <td>5433.417869</td>\n",
       "      <td>6080.860192</td>\n",
       "      <td>47.587370</td>\n",
       "      <td>50.227650</td>\n",
       "      <td>53.012384</td>\n",
       "      <td>103348.248466</td>\n",
       "      <td>79717.239016</td>\n",
       "      <td>103949.519370</td>\n",
       "    </tr>\n",
       "    <tr>\n",
       "      <th>3</th>\n",
       "      <td>4</td>\n",
       "      <td>42.244000</td>\n",
       "      <td>41.944891</td>\n",
       "      <td>45.373288</td>\n",
       "      <td>8.576184e+04</td>\n",
       "      <td>6.974820e+04</td>\n",
       "      <td>9.066889e+04</td>\n",
       "      <td>44.202932</td>\n",
       "      <td>44.186038</td>\n",
       "      <td>47.365479</td>\n",
       "      <td>...</td>\n",
       "      <td>4772.020712</td>\n",
       "      <td>4623.268630</td>\n",
       "      <td>4949.242541</td>\n",
       "      <td>5604.221205</td>\n",
       "      <td>46.775726</td>\n",
       "      <td>48.395792</td>\n",
       "      <td>50.237151</td>\n",
       "      <td>16605.699342</td>\n",
       "      <td>13378.189536</td>\n",
       "      <td>21544.138055</td>\n",
       "    </tr>\n",
       "    <tr>\n",
       "      <th>4</th>\n",
       "      <td>5</td>\n",
       "      <td>42.700493</td>\n",
       "      <td>42.862760</td>\n",
       "      <td>45.421041</td>\n",
       "      <td>1.113027e+04</td>\n",
       "      <td>7.508397e+03</td>\n",
       "      <td>2.065066e+04</td>\n",
       "      <td>45.790740</td>\n",
       "      <td>46.983880</td>\n",
       "      <td>50.277397</td>\n",
       "      <td>...</td>\n",
       "      <td>5594.561616</td>\n",
       "      <td>5007.779616</td>\n",
       "      <td>5325.073033</td>\n",
       "      <td>6542.970658</td>\n",
       "      <td>42.806658</td>\n",
       "      <td>44.108743</td>\n",
       "      <td>46.466849</td>\n",
       "      <td>1374.417068</td>\n",
       "      <td>2379.751612</td>\n",
       "      <td>5120.080192</td>\n",
       "    </tr>\n",
       "  </tbody>\n",
       "</table>\n",
       "<p>5 rows × 34 columns</p>\n",
       "</div>"
      ],
      "text/plain": [
       "            region_code  AI92_cost                         AI92_volume  \\\n",
       "observ_year                   2019       2020       2021          2019   \n",
       "0                     1  43.332219  43.547923  44.553863  2.211384e+05   \n",
       "1                     2  41.124986  42.006940  43.900411  2.018062e+06   \n",
       "2                     3  42.091425  43.820874  45.771123  4.270480e+05   \n",
       "3                     4  42.244000  41.944891  45.373288  8.576184e+04   \n",
       "4                     5  42.700493  42.862760  45.421041  1.113027e+04   \n",
       "\n",
       "                                         AI95_cost                        ...  \\\n",
       "observ_year          2020          2021       2019       2020       2021  ...   \n",
       "0            1.874788e+05  2.081576e+05  48.051562  48.533852  50.663260  ...   \n",
       "1            1.795260e+06  1.718155e+06  44.246466  45.193770  47.296274  ...   \n",
       "2            2.976584e+05  3.115107e+05  43.764466  45.792158  48.114411  ...   \n",
       "3            6.974820e+04  9.066889e+04  44.202932  44.186038  47.365479  ...   \n",
       "4            7.508397e+03  2.065066e+04  45.790740  46.983880  50.277397  ...   \n",
       "\n",
       "            cons_basket_pens cons_basket_working_age               \\\n",
       "observ_year             2021                    2019         2020   \n",
       "0                5031.818411             5005.002466  5146.416749   \n",
       "1                4804.212411             4637.134110  4863.667842   \n",
       "2                5167.355589             5084.651507  5433.417869   \n",
       "3                4772.020712             4623.268630  4949.242541   \n",
       "4                5594.561616             5007.779616  5325.073033   \n",
       "\n",
       "                         diesel_cost                        diesel_volume  \\\n",
       "observ_year         2021        2019       2020       2021           2019   \n",
       "0            5914.448685   45.404822  46.012650  47.691973   65073.028384   \n",
       "1            5657.522795   45.621288  46.787104  48.158740  322267.884164   \n",
       "2            6080.860192   47.587370  50.227650  53.012384  103348.248466   \n",
       "3            5604.221205   46.775726  48.395792  50.237151   16605.699342   \n",
       "4            6542.970658   42.806658  44.108743  46.466849    1374.417068   \n",
       "\n",
       "                                           \n",
       "observ_year           2020           2021  \n",
       "0             60822.033087   69281.618521  \n",
       "1            286174.082486  277899.671616  \n",
       "2             79717.239016  103949.519370  \n",
       "3             13378.189536   21544.138055  \n",
       "4              2379.751612    5120.080192  \n",
       "\n",
       "[5 rows x 34 columns]"
      ]
     },
     "execution_count": 103,
     "metadata": {},
     "output_type": "execute_result"
    }
   ],
   "source": [
    "pivot_groc_and_fuels.head()"
   ]
  },
  {
   "cell_type": "markdown",
   "id": "c2b867be",
   "metadata": {},
   "source": [
    "- избавляемся от мультииндекса в названиях столбцов"
   ]
  },
  {
   "cell_type": "code",
   "execution_count": 104,
   "id": "a2529f5a",
   "metadata": {},
   "outputs": [],
   "source": [
    "pivot_groc_and_fuels.columns = ['region_code'] + [f'{el[0]}_{str(el[1])}' for el in pivot_groc_and_fuels.columns.values[1:]]"
   ]
  },
  {
   "cell_type": "code",
   "execution_count": 105,
   "id": "10e6fc87",
   "metadata": {},
   "outputs": [
    {
     "name": "stdout",
     "output_type": "stream",
     "text": [
      "<class 'pandas.core.frame.DataFrame'>\n",
      "RangeIndex: 85 entries, 0 to 84\n",
      "Data columns (total 34 columns):\n",
      " #   Column                        Non-Null Count  Dtype  \n",
      "---  ------                        --------------  -----  \n",
      " 0   region_code                   85 non-null     int64  \n",
      " 1   AI92_cost_2019                85 non-null     float64\n",
      " 2   AI92_cost_2020                85 non-null     float64\n",
      " 3   AI92_cost_2021                85 non-null     float64\n",
      " 4   AI92_volume_2019              85 non-null     float64\n",
      " 5   AI92_volume_2020              85 non-null     float64\n",
      " 6   AI92_volume_2021              85 non-null     float64\n",
      " 7   AI95_cost_2019                85 non-null     float64\n",
      " 8   AI95_cost_2020                85 non-null     float64\n",
      " 9   AI95_cost_2021                85 non-null     float64\n",
      " 10  AI95_volume_2019              85 non-null     float64\n",
      " 11  AI95_volume_2020              85 non-null     float64\n",
      " 12  AI95_volume_2021              85 non-null     float64\n",
      " 13  AI98_cost_2019                85 non-null     float64\n",
      " 14  AI98_cost_2020                85 non-null     float64\n",
      " 15  AI98_cost_2021                85 non-null     float64\n",
      " 16  AI98_volume_2019              85 non-null     float64\n",
      " 17  AI98_volume_2020              85 non-null     float64\n",
      " 18  AI98_volume_2021              85 non-null     float64\n",
      " 19  cons_basket_child_2019        85 non-null     float64\n",
      " 20  cons_basket_child_2020        85 non-null     float64\n",
      " 21  cons_basket_child_2021        85 non-null     float64\n",
      " 22  cons_basket_pens_2019         85 non-null     float64\n",
      " 23  cons_basket_pens_2020         85 non-null     float64\n",
      " 24  cons_basket_pens_2021         85 non-null     float64\n",
      " 25  cons_basket_working_age_2019  85 non-null     float64\n",
      " 26  cons_basket_working_age_2020  85 non-null     float64\n",
      " 27  cons_basket_working_age_2021  85 non-null     float64\n",
      " 28  diesel_cost_2019              85 non-null     float64\n",
      " 29  diesel_cost_2020              85 non-null     float64\n",
      " 30  diesel_cost_2021              85 non-null     float64\n",
      " 31  diesel_volume_2019            85 non-null     float64\n",
      " 32  diesel_volume_2020            85 non-null     float64\n",
      " 33  diesel_volume_2021            85 non-null     float64\n",
      "dtypes: float64(33), int64(1)\n",
      "memory usage: 22.7 KB\n"
     ]
    }
   ],
   "source": [
    "pivot_groc_and_fuels.info()"
   ]
  },
  {
   "cell_type": "markdown",
   "id": "57fb5134",
   "metadata": {},
   "source": [
    "- добавляем строку для кода региона 95 == 20"
   ]
  },
  {
   "cell_type": "code",
   "execution_count": 106,
   "id": "4af94f25",
   "metadata": {},
   "outputs": [],
   "source": [
    "val = pivot_groc_and_fuels.loc[pivot_groc_and_fuels.region_code == 20, pivot_groc_and_fuels.columns[1:]].values[0]"
   ]
  },
  {
   "cell_type": "code",
   "execution_count": 107,
   "id": "519358c9",
   "metadata": {},
   "outputs": [],
   "source": [
    "pivot_groc_and_fuels.loc[len(pivot_groc_and_fuels.index)] = [95, *val]"
   ]
  },
  {
   "cell_type": "code",
   "execution_count": 108,
   "id": "14041ff5",
   "metadata": {},
   "outputs": [
    {
     "data": {
      "text/html": [
       "<div>\n",
       "<style scoped>\n",
       "    .dataframe tbody tr th:only-of-type {\n",
       "        vertical-align: middle;\n",
       "    }\n",
       "\n",
       "    .dataframe tbody tr th {\n",
       "        vertical-align: top;\n",
       "    }\n",
       "\n",
       "    .dataframe thead th {\n",
       "        text-align: right;\n",
       "    }\n",
       "</style>\n",
       "<table border=\"1\" class=\"dataframe\">\n",
       "  <thead>\n",
       "    <tr style=\"text-align: right;\">\n",
       "      <th></th>\n",
       "      <th>region_code</th>\n",
       "      <th>AI92_cost_2019</th>\n",
       "      <th>AI92_cost_2020</th>\n",
       "      <th>AI92_cost_2021</th>\n",
       "      <th>AI92_volume_2019</th>\n",
       "      <th>AI92_volume_2020</th>\n",
       "      <th>AI92_volume_2021</th>\n",
       "      <th>AI95_cost_2019</th>\n",
       "      <th>AI95_cost_2020</th>\n",
       "      <th>AI95_cost_2021</th>\n",
       "      <th>...</th>\n",
       "      <th>cons_basket_pens_2021</th>\n",
       "      <th>cons_basket_working_age_2019</th>\n",
       "      <th>cons_basket_working_age_2020</th>\n",
       "      <th>cons_basket_working_age_2021</th>\n",
       "      <th>diesel_cost_2019</th>\n",
       "      <th>diesel_cost_2020</th>\n",
       "      <th>diesel_cost_2021</th>\n",
       "      <th>diesel_volume_2019</th>\n",
       "      <th>diesel_volume_2020</th>\n",
       "      <th>diesel_volume_2021</th>\n",
       "    </tr>\n",
       "  </thead>\n",
       "  <tbody>\n",
       "    <tr>\n",
       "      <th>0</th>\n",
       "      <td>1.0</td>\n",
       "      <td>43.332219</td>\n",
       "      <td>43.547923</td>\n",
       "      <td>44.553863</td>\n",
       "      <td>2.211384e+05</td>\n",
       "      <td>1.874788e+05</td>\n",
       "      <td>2.081576e+05</td>\n",
       "      <td>48.051562</td>\n",
       "      <td>48.533852</td>\n",
       "      <td>50.663260</td>\n",
       "      <td>...</td>\n",
       "      <td>5031.818411</td>\n",
       "      <td>5005.002466</td>\n",
       "      <td>5146.416749</td>\n",
       "      <td>5914.448685</td>\n",
       "      <td>45.404822</td>\n",
       "      <td>46.012650</td>\n",
       "      <td>47.691973</td>\n",
       "      <td>65073.028384</td>\n",
       "      <td>60822.033087</td>\n",
       "      <td>69281.618521</td>\n",
       "    </tr>\n",
       "    <tr>\n",
       "      <th>1</th>\n",
       "      <td>2.0</td>\n",
       "      <td>41.124986</td>\n",
       "      <td>42.006940</td>\n",
       "      <td>43.900411</td>\n",
       "      <td>2.018062e+06</td>\n",
       "      <td>1.795260e+06</td>\n",
       "      <td>1.718155e+06</td>\n",
       "      <td>44.246466</td>\n",
       "      <td>45.193770</td>\n",
       "      <td>47.296274</td>\n",
       "      <td>...</td>\n",
       "      <td>4804.212411</td>\n",
       "      <td>4637.134110</td>\n",
       "      <td>4863.667842</td>\n",
       "      <td>5657.522795</td>\n",
       "      <td>45.621288</td>\n",
       "      <td>46.787104</td>\n",
       "      <td>48.158740</td>\n",
       "      <td>322267.884164</td>\n",
       "      <td>286174.082486</td>\n",
       "      <td>277899.671616</td>\n",
       "    </tr>\n",
       "    <tr>\n",
       "      <th>2</th>\n",
       "      <td>3.0</td>\n",
       "      <td>42.091425</td>\n",
       "      <td>43.820874</td>\n",
       "      <td>45.771123</td>\n",
       "      <td>4.270480e+05</td>\n",
       "      <td>2.976584e+05</td>\n",
       "      <td>3.115107e+05</td>\n",
       "      <td>43.764466</td>\n",
       "      <td>45.792158</td>\n",
       "      <td>48.114411</td>\n",
       "      <td>...</td>\n",
       "      <td>5167.355589</td>\n",
       "      <td>5084.651507</td>\n",
       "      <td>5433.417869</td>\n",
       "      <td>6080.860192</td>\n",
       "      <td>47.587370</td>\n",
       "      <td>50.227650</td>\n",
       "      <td>53.012384</td>\n",
       "      <td>103348.248466</td>\n",
       "      <td>79717.239016</td>\n",
       "      <td>103949.519370</td>\n",
       "    </tr>\n",
       "    <tr>\n",
       "      <th>3</th>\n",
       "      <td>4.0</td>\n",
       "      <td>42.244000</td>\n",
       "      <td>41.944891</td>\n",
       "      <td>45.373288</td>\n",
       "      <td>8.576184e+04</td>\n",
       "      <td>6.974820e+04</td>\n",
       "      <td>9.066889e+04</td>\n",
       "      <td>44.202932</td>\n",
       "      <td>44.186038</td>\n",
       "      <td>47.365479</td>\n",
       "      <td>...</td>\n",
       "      <td>4772.020712</td>\n",
       "      <td>4623.268630</td>\n",
       "      <td>4949.242541</td>\n",
       "      <td>5604.221205</td>\n",
       "      <td>46.775726</td>\n",
       "      <td>48.395792</td>\n",
       "      <td>50.237151</td>\n",
       "      <td>16605.699342</td>\n",
       "      <td>13378.189536</td>\n",
       "      <td>21544.138055</td>\n",
       "    </tr>\n",
       "    <tr>\n",
       "      <th>4</th>\n",
       "      <td>5.0</td>\n",
       "      <td>42.700493</td>\n",
       "      <td>42.862760</td>\n",
       "      <td>45.421041</td>\n",
       "      <td>1.113027e+04</td>\n",
       "      <td>7.508397e+03</td>\n",
       "      <td>2.065066e+04</td>\n",
       "      <td>45.790740</td>\n",
       "      <td>46.983880</td>\n",
       "      <td>50.277397</td>\n",
       "      <td>...</td>\n",
       "      <td>5594.561616</td>\n",
       "      <td>5007.779616</td>\n",
       "      <td>5325.073033</td>\n",
       "      <td>6542.970658</td>\n",
       "      <td>42.806658</td>\n",
       "      <td>44.108743</td>\n",
       "      <td>46.466849</td>\n",
       "      <td>1374.417068</td>\n",
       "      <td>2379.751612</td>\n",
       "      <td>5120.080192</td>\n",
       "    </tr>\n",
       "  </tbody>\n",
       "</table>\n",
       "<p>5 rows × 34 columns</p>\n",
       "</div>"
      ],
      "text/plain": [
       "   region_code  AI92_cost_2019  AI92_cost_2020  AI92_cost_2021  \\\n",
       "0          1.0       43.332219       43.547923       44.553863   \n",
       "1          2.0       41.124986       42.006940       43.900411   \n",
       "2          3.0       42.091425       43.820874       45.771123   \n",
       "3          4.0       42.244000       41.944891       45.373288   \n",
       "4          5.0       42.700493       42.862760       45.421041   \n",
       "\n",
       "   AI92_volume_2019  AI92_volume_2020  AI92_volume_2021  AI95_cost_2019  \\\n",
       "0      2.211384e+05      1.874788e+05      2.081576e+05       48.051562   \n",
       "1      2.018062e+06      1.795260e+06      1.718155e+06       44.246466   \n",
       "2      4.270480e+05      2.976584e+05      3.115107e+05       43.764466   \n",
       "3      8.576184e+04      6.974820e+04      9.066889e+04       44.202932   \n",
       "4      1.113027e+04      7.508397e+03      2.065066e+04       45.790740   \n",
       "\n",
       "   AI95_cost_2020  AI95_cost_2021  ...  cons_basket_pens_2021  \\\n",
       "0       48.533852       50.663260  ...            5031.818411   \n",
       "1       45.193770       47.296274  ...            4804.212411   \n",
       "2       45.792158       48.114411  ...            5167.355589   \n",
       "3       44.186038       47.365479  ...            4772.020712   \n",
       "4       46.983880       50.277397  ...            5594.561616   \n",
       "\n",
       "   cons_basket_working_age_2019  cons_basket_working_age_2020  \\\n",
       "0                   5005.002466                   5146.416749   \n",
       "1                   4637.134110                   4863.667842   \n",
       "2                   5084.651507                   5433.417869   \n",
       "3                   4623.268630                   4949.242541   \n",
       "4                   5007.779616                   5325.073033   \n",
       "\n",
       "   cons_basket_working_age_2021  diesel_cost_2019  diesel_cost_2020  \\\n",
       "0                   5914.448685         45.404822         46.012650   \n",
       "1                   5657.522795         45.621288         46.787104   \n",
       "2                   6080.860192         47.587370         50.227650   \n",
       "3                   5604.221205         46.775726         48.395792   \n",
       "4                   6542.970658         42.806658         44.108743   \n",
       "\n",
       "   diesel_cost_2021  diesel_volume_2019  diesel_volume_2020  \\\n",
       "0         47.691973        65073.028384        60822.033087   \n",
       "1         48.158740       322267.884164       286174.082486   \n",
       "2         53.012384       103348.248466        79717.239016   \n",
       "3         50.237151        16605.699342        13378.189536   \n",
       "4         46.466849         1374.417068         2379.751612   \n",
       "\n",
       "   diesel_volume_2021  \n",
       "0        69281.618521  \n",
       "1       277899.671616  \n",
       "2       103949.519370  \n",
       "3        21544.138055  \n",
       "4         5120.080192  \n",
       "\n",
       "[5 rows x 34 columns]"
      ]
     },
     "execution_count": 108,
     "metadata": {},
     "output_type": "execute_result"
    }
   ],
   "source": [
    "pivot_groc_and_fuels.head(5)"
   ]
  },
  {
   "cell_type": "markdown",
   "id": "41fa5910",
   "metadata": {},
   "source": [
    "- приводим типы"
   ]
  },
  {
   "cell_type": "code",
   "execution_count": 109,
   "id": "8d15113b",
   "metadata": {},
   "outputs": [],
   "source": [
    "for col in pivot_groc_and_fuels.columns[1:]:\n",
    "    pivot_groc_and_fuels[col] = pd.to_numeric(pivot_groc_and_fuels[col], downcast='float')\n",
    "    \n",
    "pivot_groc_and_fuels.region_code = pd.to_numeric(pivot_groc_and_fuels.region_code, downcast='integer')"
   ]
  },
  {
   "cell_type": "code",
   "execution_count": 110,
   "id": "e7370015",
   "metadata": {},
   "outputs": [
    {
     "name": "stdout",
     "output_type": "stream",
     "text": [
      "<class 'pandas.core.frame.DataFrame'>\n",
      "Int64Index: 86 entries, 0 to 85\n",
      "Data columns (total 34 columns):\n",
      " #   Column                        Non-Null Count  Dtype  \n",
      "---  ------                        --------------  -----  \n",
      " 0   region_code                   86 non-null     int8   \n",
      " 1   AI92_cost_2019                86 non-null     float32\n",
      " 2   AI92_cost_2020                86 non-null     float32\n",
      " 3   AI92_cost_2021                86 non-null     float32\n",
      " 4   AI92_volume_2019              86 non-null     float32\n",
      " 5   AI92_volume_2020              86 non-null     float32\n",
      " 6   AI92_volume_2021              86 non-null     float32\n",
      " 7   AI95_cost_2019                86 non-null     float32\n",
      " 8   AI95_cost_2020                86 non-null     float32\n",
      " 9   AI95_cost_2021                86 non-null     float32\n",
      " 10  AI95_volume_2019              86 non-null     float32\n",
      " 11  AI95_volume_2020              86 non-null     float32\n",
      " 12  AI95_volume_2021              86 non-null     float32\n",
      " 13  AI98_cost_2019                86 non-null     float32\n",
      " 14  AI98_cost_2020                86 non-null     float32\n",
      " 15  AI98_cost_2021                86 non-null     float32\n",
      " 16  AI98_volume_2019              86 non-null     float32\n",
      " 17  AI98_volume_2020              86 non-null     float32\n",
      " 18  AI98_volume_2021              86 non-null     float32\n",
      " 19  cons_basket_child_2019        86 non-null     float32\n",
      " 20  cons_basket_child_2020        86 non-null     float32\n",
      " 21  cons_basket_child_2021        86 non-null     float32\n",
      " 22  cons_basket_pens_2019         86 non-null     float32\n",
      " 23  cons_basket_pens_2020         86 non-null     float32\n",
      " 24  cons_basket_pens_2021         86 non-null     float32\n",
      " 25  cons_basket_working_age_2019  86 non-null     float32\n",
      " 26  cons_basket_working_age_2020  86 non-null     float32\n",
      " 27  cons_basket_working_age_2021  86 non-null     float32\n",
      " 28  diesel_cost_2019              86 non-null     float32\n",
      " 29  diesel_cost_2020              86 non-null     float32\n",
      " 30  diesel_cost_2021              86 non-null     float32\n",
      " 31  diesel_volume_2019            86 non-null     float32\n",
      " 32  diesel_volume_2020            86 non-null     float32\n",
      " 33  diesel_volume_2021            86 non-null     float32\n",
      "dtypes: float32(33), int8(1)\n",
      "memory usage: 11.8 KB\n"
     ]
    }
   ],
   "source": [
    "pivot_groc_and_fuels.info()"
   ]
  },
  {
   "cell_type": "markdown",
   "id": "1946e946",
   "metadata": {},
   "source": [
    "#### - соединяем"
   ]
  },
  {
   "cell_type": "code",
   "execution_count": 111,
   "id": "26d4a547",
   "metadata": {},
   "outputs": [
    {
     "name": "stdout",
     "output_type": "stream",
     "text": [
      "Wall time: 2.68 s\n"
     ]
    }
   ],
   "source": [
    "%%time\n",
    "data = data.merge(pivot_groc_and_fuels, how='left', on='region_code')"
   ]
  },
  {
   "cell_type": "code",
   "execution_count": 112,
   "id": "07a9eb9d",
   "metadata": {},
   "outputs": [
    {
     "data": {
      "text/plain": [
       "(1918094, 121)"
      ]
     },
     "execution_count": 112,
     "metadata": {},
     "output_type": "execute_result"
    }
   ],
   "source": [
    "data.shape"
   ]
  },
  {
   "cell_type": "markdown",
   "id": "b5ffdeca",
   "metadata": {},
   "source": [
    "#### численность по регионам - здесь немного сложнее\n",
    "\n",
    "##### - для начала максимально заполню пропуски по городам - если нет поселения а есть регион = город"
   ]
  },
  {
   "cell_type": "code",
   "execution_count": 113,
   "id": "1b87b455",
   "metadata": {},
   "outputs": [],
   "source": [
    "# для тестов\n",
    "addresses_col = ['region', 'city', 'settlement']\n",
    "addresses  = data[addresses_col]"
   ]
  },
  {
   "cell_type": "markdown",
   "id": "0e5b01b4",
   "metadata": {},
   "source": [
    "- приводим к одному регистру"
   ]
  },
  {
   "cell_type": "code",
   "execution_count": 114,
   "id": "fa2b3f91",
   "metadata": {},
   "outputs": [
    {
     "name": "stderr",
     "output_type": "stream",
     "text": [
      "C:\\Users\\013\\AppData\\Local\\Temp/ipykernel_2988/3677381831.py:2: SettingWithCopyWarning: \n",
      "A value is trying to be set on a copy of a slice from a DataFrame.\n",
      "Try using .loc[row_indexer,col_indexer] = value instead\n",
      "\n",
      "See the caveats in the documentation: https://pandas.pydata.org/pandas-docs/stable/user_guide/indexing.html#returning-a-view-versus-a-copy\n",
      "  addresses[col] = addresses[col].apply(lambda x: x.title() if x else x)\n"
     ]
    }
   ],
   "source": [
    "for col in addresses_col:\n",
    "    addresses[col] = addresses[col].apply(lambda x: x.title() if x else x)"
   ]
  },
  {
   "cell_type": "markdown",
   "id": "b9cdc057",
   "metadata": {},
   "source": [
    "-  нет ни города ни поселения"
   ]
  },
  {
   "cell_type": "code",
   "execution_count": 115,
   "id": "f9dcb6a7",
   "metadata": {},
   "outputs": [
    {
     "data": {
      "text/plain": [
       "((484950, 3),\n",
       " array(['Московская', 'Москва', 'Санкт-Петербург', 'Ленинградская',\n",
       "        'Хабаровский', 'Севастополь', 'Самарская', 'Оренбургская',\n",
       "        'Костромская', 'Иркутская', 'Татарстан', 'Ульяновская',\n",
       "        'Пензенская', 'Новгородская', 'Ростовская', 'Пермский',\n",
       "        'Удмуртская', 'Свердловская', 'Липецкая', 'Ивановская',\n",
       "        'Башкортостан', 'Новосибирская', 'Приморский', 'Саратовская',\n",
       "        'Тюменская', 'Тамбовская', 'Тверская', 'Карелия', 'Забайкальский',\n",
       "        'Мурманская', 'Воронежская', 'Краснодарский', 'Красноярский',\n",
       "        'Белгородская', 'Ставропольский', 'Нижегородская', 'Курганская',\n",
       "        'Томская', 'Тульская', 'Марий Эл', 'Астраханская', 'Калужская',\n",
       "        'Смоленская', 'Владимирская', 'Камчатский', 'Коми', 'Челябинская',\n",
       "        'Калининградская', 'Бурятия', 'Алтай', 'Крым', 'Кировская',\n",
       "        'Сахалинская', 'Рязанская', 'Курская', 'Псковская',\n",
       "        'Архангельская', 'Ханты-Мансийский Автономный Округ - Югра',\n",
       "        'Чувашская Республика -', 'Орловская', 'Волгоградская',\n",
       "        'Алтайский', 'Кемеровская Область - Кузбасс', 'Ярославская',\n",
       "        'Северная Осетия - Алания', 'Байконур', 'Хакасия',\n",
       "        'Кабардино-Балкарская', 'Еврейская', 'Вологодская', 'Амурская',\n",
       "        'Омская', 'Ямало-Ненецкий', 'Брянская', None], dtype=object))"
      ]
     },
     "execution_count": 115,
     "metadata": {},
     "output_type": "execute_result"
    }
   ],
   "source": [
    "addresses.loc[addresses.city.isna() & addresses.settlement.isna()].shape, addresses.loc[addresses.city.isna() & addresses.settlement.isna()].region.unique()"
   ]
  },
  {
   "cell_type": "markdown",
   "id": "d0a36b65",
   "metadata": {},
   "source": [
    "- нет города, есть поселения"
   ]
  },
  {
   "cell_type": "code",
   "execution_count": 116,
   "id": "84a931a5",
   "metadata": {},
   "outputs": [
    {
     "data": {
      "text/plain": [
       "array(['Московская', 'Москва', 'Алтайский', 'Новгородская', 'Алтай',\n",
       "       'Саха /Якутия/', 'Нижегородская', 'Ненецкий', 'Архангельская',\n",
       "       'Адыгея', 'Брянская', 'Приморский', 'Сахалинская', 'Кировская',\n",
       "       'Ставропольский', 'Санкт-Петербург', 'Псковская', 'Ленинградская',\n",
       "       'Бурятия', 'Забайкальский', 'Волгоградская', 'Краснодарский',\n",
       "       'Кемеровская Область - Кузбасс', 'Новосибирская', 'Хабаровский',\n",
       "       'Томская', 'Самарская', 'Смоленская', 'Свердловская', 'Чеченская',\n",
       "       'Ханты-Мансийский Автономный Округ - Югра', 'Воронежская',\n",
       "       'Красноярский', 'Рязанская', 'Мордовия', 'Тамбовская',\n",
       "       'Оренбургская', 'Пермский', 'Чукотский', 'Ярославская',\n",
       "       'Костромская', 'Татарстан', 'Башкортостан',\n",
       "       'Чувашская Республика -', 'Хакасия', 'Крым', 'Тульская',\n",
       "       'Саратовская', 'Северная Осетия - Алания', 'Пензенская',\n",
       "       'Владимирская', 'Севастополь', 'Ульяновская', 'Калужская',\n",
       "       'Омская', 'Вологодская', 'Челябинская', 'Ростовская',\n",
       "       'Белгородская', 'Удмуртская', 'Липецкая', 'Иркутская',\n",
       "       'Магаданская', 'Ивановская', 'Карелия', 'Дагестан',\n",
       "       'Ямало-Ненецкий', 'Кабардино-Балкарская', 'Орловская',\n",
       "       'Калининградская', 'Курганская', 'Тюменская', 'Еврейская',\n",
       "       'Калмыкия', 'Курская', 'Астраханская', 'Мурманская', 'Ингушетия',\n",
       "       'Марий Эл', 'Карачаево-Черкесская', 'Тверская', 'Коми', 'Амурская',\n",
       "       'Тыва', 'Камчатский', None, 'Запорожская'], dtype=object)"
      ]
     },
     "execution_count": 116,
     "metadata": {},
     "output_type": "execute_result"
    }
   ],
   "source": [
    "addresses.loc[addresses.city.isna() & ~addresses.settlement.isna()].region.unique()"
   ]
  },
  {
   "cell_type": "markdown",
   "id": "a997e506",
   "metadata": {},
   "source": [
    "- ни региона, ни города ни поселения"
   ]
  },
  {
   "cell_type": "code",
   "execution_count": 117,
   "id": "30d8a0c2",
   "metadata": {},
   "outputs": [
    {
     "data": {
      "text/html": [
       "<div>\n",
       "<style scoped>\n",
       "    .dataframe tbody tr th:only-of-type {\n",
       "        vertical-align: middle;\n",
       "    }\n",
       "\n",
       "    .dataframe tbody tr th {\n",
       "        vertical-align: top;\n",
       "    }\n",
       "\n",
       "    .dataframe thead th {\n",
       "        text-align: right;\n",
       "    }\n",
       "</style>\n",
       "<table border=\"1\" class=\"dataframe\">\n",
       "  <thead>\n",
       "    <tr style=\"text-align: right;\">\n",
       "      <th></th>\n",
       "      <th>region</th>\n",
       "      <th>city</th>\n",
       "      <th>settlement</th>\n",
       "    </tr>\n",
       "  </thead>\n",
       "  <tbody>\n",
       "    <tr>\n",
       "      <th>1882141</th>\n",
       "      <td>None</td>\n",
       "      <td>None</td>\n",
       "      <td>None</td>\n",
       "    </tr>\n",
       "  </tbody>\n",
       "</table>\n",
       "</div>"
      ],
      "text/plain": [
       "        region  city settlement\n",
       "1882141   None  None       None"
      ]
     },
     "execution_count": 117,
     "metadata": {},
     "output_type": "execute_result"
    }
   ],
   "source": [
    "# ну, хоть что-то, да есть практически для каждой строки\n",
    "addresses.loc[addresses.city.isna() & addresses.settlement.isna() & addresses.region.isna()]"
   ]
  },
  {
   "cell_type": "markdown",
   "id": "9988b106",
   "metadata": {},
   "source": [
    "- для тех, у кого нет города, но в графе регион - название города (это для крупных городов, где город имеет свой код региона) - заполняем поле city\n",
    "\n",
    "        'Москва'\n",
    "        'Санкт-Петербург'\n",
    "        'Севастополь'"
   ]
  },
  {
   "cell_type": "code",
   "execution_count": 118,
   "id": "73ff7e3e",
   "metadata": {},
   "outputs": [
    {
     "data": {
      "text/html": [
       "<div>\n",
       "<style scoped>\n",
       "    .dataframe tbody tr th:only-of-type {\n",
       "        vertical-align: middle;\n",
       "    }\n",
       "\n",
       "    .dataframe tbody tr th {\n",
       "        vertical-align: top;\n",
       "    }\n",
       "\n",
       "    .dataframe thead th {\n",
       "        text-align: right;\n",
       "    }\n",
       "</style>\n",
       "<table border=\"1\" class=\"dataframe\">\n",
       "  <thead>\n",
       "    <tr style=\"text-align: right;\">\n",
       "      <th></th>\n",
       "      <th>inn</th>\n",
       "      <th>shortName</th>\n",
       "      <th>index</th>\n",
       "      <th>region</th>\n",
       "      <th>city</th>\n",
       "      <th>settlement</th>\n",
       "      <th>okved2</th>\n",
       "      <th>okopf</th>\n",
       "      <th>statusCode</th>\n",
       "      <th>registrationDate</th>\n",
       "      <th>...</th>\n",
       "      <th>cons_basket_pens_2021</th>\n",
       "      <th>cons_basket_working_age_2019</th>\n",
       "      <th>cons_basket_working_age_2020</th>\n",
       "      <th>cons_basket_working_age_2021</th>\n",
       "      <th>diesel_cost_2019</th>\n",
       "      <th>diesel_cost_2020</th>\n",
       "      <th>diesel_cost_2021</th>\n",
       "      <th>diesel_volume_2019</th>\n",
       "      <th>diesel_volume_2020</th>\n",
       "      <th>diesel_volume_2021</th>\n",
       "    </tr>\n",
       "  </thead>\n",
       "  <tbody>\n",
       "    <tr>\n",
       "      <th>639112</th>\n",
       "      <td>9901033939</td>\n",
       "      <td>ООО \"СКАЗКА\"</td>\n",
       "      <td>468320</td>\n",
       "      <td>БАЙКОНУР</td>\n",
       "      <td>None</td>\n",
       "      <td>None</td>\n",
       "      <td>47.25</td>\n",
       "      <td>12300</td>\n",
       "      <td>ACTIVE</td>\n",
       "      <td>2008-12-16</td>\n",
       "      <td>...</td>\n",
       "      <td>5782.85498</td>\n",
       "      <td>5762.977051</td>\n",
       "      <td>6004.04834</td>\n",
       "      <td>6792.406738</td>\n",
       "      <td>45.575645</td>\n",
       "      <td>46.64019</td>\n",
       "      <td>48.816631</td>\n",
       "      <td>1720411.75</td>\n",
       "      <td>1383346.5</td>\n",
       "      <td>1870944.25</td>\n",
       "    </tr>\n",
       "    <tr>\n",
       "      <th>639113</th>\n",
       "      <td>9901034629</td>\n",
       "      <td>ООО \"ПРОФИ-СОФТ\"</td>\n",
       "      <td>468321</td>\n",
       "      <td>БАЙКОНУР</td>\n",
       "      <td>None</td>\n",
       "      <td>None</td>\n",
       "      <td>62.0</td>\n",
       "      <td>12300</td>\n",
       "      <td>ACTIVE</td>\n",
       "      <td>2012-01-23</td>\n",
       "      <td>...</td>\n",
       "      <td>5782.85498</td>\n",
       "      <td>5762.977051</td>\n",
       "      <td>6004.04834</td>\n",
       "      <td>6792.406738</td>\n",
       "      <td>45.575645</td>\n",
       "      <td>46.64019</td>\n",
       "      <td>48.816631</td>\n",
       "      <td>1720411.75</td>\n",
       "      <td>1383346.5</td>\n",
       "      <td>1870944.25</td>\n",
       "    </tr>\n",
       "    <tr>\n",
       "      <th>639114</th>\n",
       "      <td>9901035171</td>\n",
       "      <td>ООО \"ВЕНТА\"</td>\n",
       "      <td>468320</td>\n",
       "      <td>БАЙКОНУР</td>\n",
       "      <td>None</td>\n",
       "      <td>None</td>\n",
       "      <td>41.20</td>\n",
       "      <td>12300</td>\n",
       "      <td>ACTIVE</td>\n",
       "      <td>2014-01-30</td>\n",
       "      <td>...</td>\n",
       "      <td>5782.85498</td>\n",
       "      <td>5762.977051</td>\n",
       "      <td>6004.04834</td>\n",
       "      <td>6792.406738</td>\n",
       "      <td>45.575645</td>\n",
       "      <td>46.64019</td>\n",
       "      <td>48.816631</td>\n",
       "      <td>1720411.75</td>\n",
       "      <td>1383346.5</td>\n",
       "      <td>1870944.25</td>\n",
       "    </tr>\n",
       "    <tr>\n",
       "      <th>639115</th>\n",
       "      <td>9901035647</td>\n",
       "      <td>ООО \"РС №2\"</td>\n",
       "      <td>468320</td>\n",
       "      <td>БАЙКОНУР</td>\n",
       "      <td>None</td>\n",
       "      <td>None</td>\n",
       "      <td>43.11</td>\n",
       "      <td>12300</td>\n",
       "      <td>ACTIVE</td>\n",
       "      <td>2015-03-12</td>\n",
       "      <td>...</td>\n",
       "      <td>5782.85498</td>\n",
       "      <td>5762.977051</td>\n",
       "      <td>6004.04834</td>\n",
       "      <td>6792.406738</td>\n",
       "      <td>45.575645</td>\n",
       "      <td>46.64019</td>\n",
       "      <td>48.816631</td>\n",
       "      <td>1720411.75</td>\n",
       "      <td>1383346.5</td>\n",
       "      <td>1870944.25</td>\n",
       "    </tr>\n",
       "    <tr>\n",
       "      <th>639116</th>\n",
       "      <td>9901034636</td>\n",
       "      <td>ООО \"ОРЕХ\"</td>\n",
       "      <td>468320</td>\n",
       "      <td>БАЙКОНУР</td>\n",
       "      <td>None</td>\n",
       "      <td>None</td>\n",
       "      <td>38.32.2</td>\n",
       "      <td>12300</td>\n",
       "      <td>ACTIVE</td>\n",
       "      <td>2012-02-13</td>\n",
       "      <td>...</td>\n",
       "      <td>5782.85498</td>\n",
       "      <td>5762.977051</td>\n",
       "      <td>6004.04834</td>\n",
       "      <td>6792.406738</td>\n",
       "      <td>45.575645</td>\n",
       "      <td>46.64019</td>\n",
       "      <td>48.816631</td>\n",
       "      <td>1720411.75</td>\n",
       "      <td>1383346.5</td>\n",
       "      <td>1870944.25</td>\n",
       "    </tr>\n",
       "    <tr>\n",
       "      <th>...</th>\n",
       "      <td>...</td>\n",
       "      <td>...</td>\n",
       "      <td>...</td>\n",
       "      <td>...</td>\n",
       "      <td>...</td>\n",
       "      <td>...</td>\n",
       "      <td>...</td>\n",
       "      <td>...</td>\n",
       "      <td>...</td>\n",
       "      <td>...</td>\n",
       "      <td>...</td>\n",
       "      <td>...</td>\n",
       "      <td>...</td>\n",
       "      <td>...</td>\n",
       "      <td>...</td>\n",
       "      <td>...</td>\n",
       "      <td>...</td>\n",
       "      <td>...</td>\n",
       "      <td>...</td>\n",
       "      <td>...</td>\n",
       "      <td>...</td>\n",
       "    </tr>\n",
       "    <tr>\n",
       "      <th>762447</th>\n",
       "      <td>9901001535</td>\n",
       "      <td>ООО \"ФЕРМЕРСКОЕ ХОЗЯЙСТВО БОЛАШАК\"</td>\n",
       "      <td>468325</td>\n",
       "      <td>БАЙКОНУР</td>\n",
       "      <td>None</td>\n",
       "      <td>None</td>\n",
       "      <td>68.20</td>\n",
       "      <td>12300</td>\n",
       "      <td>ACTIVE</td>\n",
       "      <td>1996-03-19</td>\n",
       "      <td>...</td>\n",
       "      <td>5782.85498</td>\n",
       "      <td>5762.977051</td>\n",
       "      <td>6004.04834</td>\n",
       "      <td>6792.406738</td>\n",
       "      <td>45.575645</td>\n",
       "      <td>46.64019</td>\n",
       "      <td>48.816631</td>\n",
       "      <td>1720411.75</td>\n",
       "      <td>1383346.5</td>\n",
       "      <td>1870944.25</td>\n",
       "    </tr>\n",
       "    <tr>\n",
       "      <th>762448</th>\n",
       "      <td>9901001888</td>\n",
       "      <td>ПК ГСК № 24</td>\n",
       "      <td>468320</td>\n",
       "      <td>БАЙКОНУР</td>\n",
       "      <td>None</td>\n",
       "      <td>None</td>\n",
       "      <td>94.99</td>\n",
       "      <td>20101</td>\n",
       "      <td>ACTIVE</td>\n",
       "      <td>1996-04-22</td>\n",
       "      <td>...</td>\n",
       "      <td>5782.85498</td>\n",
       "      <td>5762.977051</td>\n",
       "      <td>6004.04834</td>\n",
       "      <td>6792.406738</td>\n",
       "      <td>45.575645</td>\n",
       "      <td>46.64019</td>\n",
       "      <td>48.816631</td>\n",
       "      <td>1720411.75</td>\n",
       "      <td>1383346.5</td>\n",
       "      <td>1870944.25</td>\n",
       "    </tr>\n",
       "    <tr>\n",
       "      <th>762449</th>\n",
       "      <td>9901000940</td>\n",
       "      <td>ООО \"ТЕХНОСЕРВИС\"</td>\n",
       "      <td>468325</td>\n",
       "      <td>БАЙКОНУР</td>\n",
       "      <td>None</td>\n",
       "      <td>None</td>\n",
       "      <td>47.30</td>\n",
       "      <td>12300</td>\n",
       "      <td>ACTIVE</td>\n",
       "      <td>1996-11-29</td>\n",
       "      <td>...</td>\n",
       "      <td>5782.85498</td>\n",
       "      <td>5762.977051</td>\n",
       "      <td>6004.04834</td>\n",
       "      <td>6792.406738</td>\n",
       "      <td>45.575645</td>\n",
       "      <td>46.64019</td>\n",
       "      <td>48.816631</td>\n",
       "      <td>1720411.75</td>\n",
       "      <td>1383346.5</td>\n",
       "      <td>1870944.25</td>\n",
       "    </tr>\n",
       "    <tr>\n",
       "      <th>762450</th>\n",
       "      <td>9901001165</td>\n",
       "      <td>ООО \"БУТЯ-БАЙКОНУР\"</td>\n",
       "      <td>468320</td>\n",
       "      <td>БАЙКОНУР</td>\n",
       "      <td>None</td>\n",
       "      <td>None</td>\n",
       "      <td>47.75</td>\n",
       "      <td>12300</td>\n",
       "      <td>ACTIVE</td>\n",
       "      <td>1996-03-01</td>\n",
       "      <td>...</td>\n",
       "      <td>5782.85498</td>\n",
       "      <td>5762.977051</td>\n",
       "      <td>6004.04834</td>\n",
       "      <td>6792.406738</td>\n",
       "      <td>45.575645</td>\n",
       "      <td>46.64019</td>\n",
       "      <td>48.816631</td>\n",
       "      <td>1720411.75</td>\n",
       "      <td>1383346.5</td>\n",
       "      <td>1870944.25</td>\n",
       "    </tr>\n",
       "    <tr>\n",
       "      <th>1009895</th>\n",
       "      <td>7727333157</td>\n",
       "      <td>ООО \"АГРО ЛОГИСТ\"</td>\n",
       "      <td>468320</td>\n",
       "      <td>БАЙКОНУР</td>\n",
       "      <td>None</td>\n",
       "      <td>None</td>\n",
       "      <td>46.38</td>\n",
       "      <td>12300</td>\n",
       "      <td>ACTIVE</td>\n",
       "      <td>2017-10-26</td>\n",
       "      <td>...</td>\n",
       "      <td>5782.85498</td>\n",
       "      <td>5762.977051</td>\n",
       "      <td>6004.04834</td>\n",
       "      <td>6792.406738</td>\n",
       "      <td>45.575645</td>\n",
       "      <td>46.64019</td>\n",
       "      <td>48.816631</td>\n",
       "      <td>1720411.75</td>\n",
       "      <td>1383346.5</td>\n",
       "      <td>1870944.25</td>\n",
       "    </tr>\n",
       "  </tbody>\n",
       "</table>\n",
       "<p>169 rows × 121 columns</p>\n",
       "</div>"
      ],
      "text/plain": [
       "                inn                           shortName   index    region  \\\n",
       "639112   9901033939                        ООО \"СКАЗКА\"  468320  БАЙКОНУР   \n",
       "639113   9901034629                    ООО \"ПРОФИ-СОФТ\"  468321  БАЙКОНУР   \n",
       "639114   9901035171                         ООО \"ВЕНТА\"  468320  БАЙКОНУР   \n",
       "639115   9901035647                         ООО \"РС №2\"  468320  БАЙКОНУР   \n",
       "639116   9901034636                          ООО \"ОРЕХ\"  468320  БАЙКОНУР   \n",
       "...             ...                                 ...     ...       ...   \n",
       "762447   9901001535  ООО \"ФЕРМЕРСКОЕ ХОЗЯЙСТВО БОЛАШАК\"  468325  БАЙКОНУР   \n",
       "762448   9901001888                         ПК ГСК № 24  468320  БАЙКОНУР   \n",
       "762449   9901000940                   ООО \"ТЕХНОСЕРВИС\"  468325  БАЙКОНУР   \n",
       "762450   9901001165                 ООО \"БУТЯ-БАЙКОНУР\"  468320  БАЙКОНУР   \n",
       "1009895  7727333157                   ООО \"АГРО ЛОГИСТ\"  468320  БАЙКОНУР   \n",
       "\n",
       "         city settlement   okved2  okopf statusCode registrationDate  ...  \\\n",
       "639112   None       None    47.25  12300     ACTIVE       2008-12-16  ...   \n",
       "639113   None       None     62.0  12300     ACTIVE       2012-01-23  ...   \n",
       "639114   None       None    41.20  12300     ACTIVE       2014-01-30  ...   \n",
       "639115   None       None    43.11  12300     ACTIVE       2015-03-12  ...   \n",
       "639116   None       None  38.32.2  12300     ACTIVE       2012-02-13  ...   \n",
       "...       ...        ...      ...    ...        ...              ...  ...   \n",
       "762447   None       None    68.20  12300     ACTIVE       1996-03-19  ...   \n",
       "762448   None       None    94.99  20101     ACTIVE       1996-04-22  ...   \n",
       "762449   None       None    47.30  12300     ACTIVE       1996-11-29  ...   \n",
       "762450   None       None    47.75  12300     ACTIVE       1996-03-01  ...   \n",
       "1009895  None       None    46.38  12300     ACTIVE       2017-10-26  ...   \n",
       "\n",
       "         cons_basket_pens_2021  cons_basket_working_age_2019  \\\n",
       "639112              5782.85498                   5762.977051   \n",
       "639113              5782.85498                   5762.977051   \n",
       "639114              5782.85498                   5762.977051   \n",
       "639115              5782.85498                   5762.977051   \n",
       "639116              5782.85498                   5762.977051   \n",
       "...                        ...                           ...   \n",
       "762447              5782.85498                   5762.977051   \n",
       "762448              5782.85498                   5762.977051   \n",
       "762449              5782.85498                   5762.977051   \n",
       "762450              5782.85498                   5762.977051   \n",
       "1009895             5782.85498                   5762.977051   \n",
       "\n",
       "         cons_basket_working_age_2020  cons_basket_working_age_2021  \\\n",
       "639112                     6004.04834                   6792.406738   \n",
       "639113                     6004.04834                   6792.406738   \n",
       "639114                     6004.04834                   6792.406738   \n",
       "639115                     6004.04834                   6792.406738   \n",
       "639116                     6004.04834                   6792.406738   \n",
       "...                               ...                           ...   \n",
       "762447                     6004.04834                   6792.406738   \n",
       "762448                     6004.04834                   6792.406738   \n",
       "762449                     6004.04834                   6792.406738   \n",
       "762450                     6004.04834                   6792.406738   \n",
       "1009895                    6004.04834                   6792.406738   \n",
       "\n",
       "         diesel_cost_2019  diesel_cost_2020  diesel_cost_2021  \\\n",
       "639112          45.575645          46.64019         48.816631   \n",
       "639113          45.575645          46.64019         48.816631   \n",
       "639114          45.575645          46.64019         48.816631   \n",
       "639115          45.575645          46.64019         48.816631   \n",
       "639116          45.575645          46.64019         48.816631   \n",
       "...                   ...               ...               ...   \n",
       "762447          45.575645          46.64019         48.816631   \n",
       "762448          45.575645          46.64019         48.816631   \n",
       "762449          45.575645          46.64019         48.816631   \n",
       "762450          45.575645          46.64019         48.816631   \n",
       "1009895         45.575645          46.64019         48.816631   \n",
       "\n",
       "         diesel_volume_2019  diesel_volume_2020  diesel_volume_2021  \n",
       "639112           1720411.75           1383346.5          1870944.25  \n",
       "639113           1720411.75           1383346.5          1870944.25  \n",
       "639114           1720411.75           1383346.5          1870944.25  \n",
       "639115           1720411.75           1383346.5          1870944.25  \n",
       "639116           1720411.75           1383346.5          1870944.25  \n",
       "...                     ...                 ...                 ...  \n",
       "762447           1720411.75           1383346.5          1870944.25  \n",
       "762448           1720411.75           1383346.5          1870944.25  \n",
       "762449           1720411.75           1383346.5          1870944.25  \n",
       "762450           1720411.75           1383346.5          1870944.25  \n",
       "1009895          1720411.75           1383346.5          1870944.25  \n",
       "\n",
       "[169 rows x 121 columns]"
      ]
     },
     "execution_count": 118,
     "metadata": {},
     "output_type": "execute_result"
    }
   ],
   "source": [
    "# это интересно - у них всех код региона 50 - московская область\n",
    "# те с адресом всё нетривиально\n",
    "data.loc[data.region == 'БАЙКОНУР']"
   ]
  },
  {
   "cell_type": "code",
   "execution_count": 119,
   "id": "94e17829",
   "metadata": {},
   "outputs": [
    {
     "data": {
      "text/plain": [
       "array([50], dtype=int8)"
      ]
     },
     "execution_count": 119,
     "metadata": {},
     "output_type": "execute_result"
    }
   ],
   "source": [
    "data.loc[data.region == 'БАЙКОНУР'].region_code.unique()"
   ]
  },
  {
   "cell_type": "markdown",
   "id": "59f511dd",
   "metadata": {},
   "source": [
    "- т.е. можно заполнить почти все пропуски города (328 300 из 334 976)"
   ]
  },
  {
   "cell_type": "code",
   "execution_count": 120,
   "id": "a372aa87",
   "metadata": {},
   "outputs": [],
   "source": [
    "# условие для заполнения\n",
    "cond = addresses.city.isna() & addresses.region.isin(('Москва', 'Санкт-Петербург', 'Севастополь'))"
   ]
  },
  {
   "cell_type": "code",
   "execution_count": 121,
   "id": "fd579e57",
   "metadata": {},
   "outputs": [
    {
     "name": "stderr",
     "output_type": "stream",
     "text": [
      "C:\\Users\\013\\AppData\\Roaming\\Python\\Python38\\site-packages\\pandas\\core\\generic.py:5516: SettingWithCopyWarning: \n",
      "A value is trying to be set on a copy of a slice from a DataFrame.\n",
      "Try using .loc[row_indexer,col_indexer] = value instead\n",
      "\n",
      "See the caveats in the documentation: https://pandas.pydata.org/pandas-docs/stable/user_guide/indexing.html#returning-a-view-versus-a-copy\n",
      "  self[name] = value\n"
     ]
    }
   ],
   "source": [
    "addresses.city = addresses.city.where(~cond, addresses.region)"
   ]
  },
  {
   "cell_type": "code",
   "execution_count": 122,
   "id": "e79e1dab",
   "metadata": {},
   "outputs": [
    {
     "name": "stdout",
     "output_type": "stream",
     "text": [
      "<class 'pandas.core.frame.DataFrame'>\n",
      "Int64Index: 1918094 entries, 0 to 1918093\n",
      "Data columns (total 3 columns):\n",
      " #   Column      Dtype \n",
      "---  ------      ----- \n",
      " 0   region      object\n",
      " 1   city        object\n",
      " 2   settlement  object\n",
      "dtypes: object(3)\n",
      "memory usage: 58.5+ MB\n"
     ]
    }
   ],
   "source": [
    "addresses.info()"
   ]
  },
  {
   "cell_type": "code",
   "execution_count": 123,
   "id": "1da45a64",
   "metadata": {},
   "outputs": [
    {
     "data": {
      "text/html": [
       "<div>\n",
       "<style scoped>\n",
       "    .dataframe tbody tr th:only-of-type {\n",
       "        vertical-align: middle;\n",
       "    }\n",
       "\n",
       "    .dataframe tbody tr th {\n",
       "        vertical-align: top;\n",
       "    }\n",
       "\n",
       "    .dataframe thead th {\n",
       "        text-align: right;\n",
       "    }\n",
       "</style>\n",
       "<table border=\"1\" class=\"dataframe\">\n",
       "  <thead>\n",
       "    <tr style=\"text-align: right;\">\n",
       "      <th></th>\n",
       "      <th>region</th>\n",
       "      <th>city</th>\n",
       "      <th>settlement</th>\n",
       "    </tr>\n",
       "  </thead>\n",
       "  <tbody>\n",
       "    <tr>\n",
       "      <th>7</th>\n",
       "      <td>Московская</td>\n",
       "      <td>None</td>\n",
       "      <td>None</td>\n",
       "    </tr>\n",
       "    <tr>\n",
       "      <th>10</th>\n",
       "      <td>Московская</td>\n",
       "      <td>None</td>\n",
       "      <td>None</td>\n",
       "    </tr>\n",
       "    <tr>\n",
       "      <th>14</th>\n",
       "      <td>Московская</td>\n",
       "      <td>None</td>\n",
       "      <td>None</td>\n",
       "    </tr>\n",
       "    <tr>\n",
       "      <th>16</th>\n",
       "      <td>Московская</td>\n",
       "      <td>None</td>\n",
       "      <td>None</td>\n",
       "    </tr>\n",
       "    <tr>\n",
       "      <th>17</th>\n",
       "      <td>Московская</td>\n",
       "      <td>None</td>\n",
       "      <td>None</td>\n",
       "    </tr>\n",
       "    <tr>\n",
       "      <th>...</th>\n",
       "      <td>...</td>\n",
       "      <td>...</td>\n",
       "      <td>...</td>\n",
       "    </tr>\n",
       "    <tr>\n",
       "      <th>1916075</th>\n",
       "      <td>Псковская</td>\n",
       "      <td>None</td>\n",
       "      <td>None</td>\n",
       "    </tr>\n",
       "    <tr>\n",
       "      <th>1916106</th>\n",
       "      <td>Псковская</td>\n",
       "      <td>None</td>\n",
       "      <td>None</td>\n",
       "    </tr>\n",
       "    <tr>\n",
       "      <th>1916587</th>\n",
       "      <td>Удмуртская</td>\n",
       "      <td>None</td>\n",
       "      <td>None</td>\n",
       "    </tr>\n",
       "    <tr>\n",
       "      <th>1917981</th>\n",
       "      <td>Московская</td>\n",
       "      <td>None</td>\n",
       "      <td>None</td>\n",
       "    </tr>\n",
       "    <tr>\n",
       "      <th>1918031</th>\n",
       "      <td>Московская</td>\n",
       "      <td>None</td>\n",
       "      <td>None</td>\n",
       "    </tr>\n",
       "  </tbody>\n",
       "</table>\n",
       "<p>17926 rows × 3 columns</p>\n",
       "</div>"
      ],
      "text/plain": [
       "             region  city settlement\n",
       "7        Московская  None       None\n",
       "10       Московская  None       None\n",
       "14       Московская  None       None\n",
       "16       Московская  None       None\n",
       "17       Московская  None       None\n",
       "...             ...   ...        ...\n",
       "1916075   Псковская  None       None\n",
       "1916106   Псковская  None       None\n",
       "1916587  Удмуртская  None       None\n",
       "1917981  Московская  None       None\n",
       "1918031  Московская  None       None\n",
       "\n",
       "[17926 rows x 3 columns]"
      ]
     },
     "execution_count": 123,
     "metadata": {},
     "output_type": "execute_result"
    }
   ],
   "source": [
    "# осталось 13 тыс с только областью - неплохо\n",
    "addresses.loc[addresses.city.isna() & addresses.settlement.isna()]"
   ]
  },
  {
   "cell_type": "markdown",
   "id": "87c8f411",
   "metadata": {},
   "source": [
    "##### - переходим к основным данным\n",
    "    - приводим к одному виду\n",
    "    - заполняем город, для кого можно"
   ]
  },
  {
   "cell_type": "code",
   "execution_count": 124,
   "id": "572ed6ae",
   "metadata": {},
   "outputs": [],
   "source": [
    "for col in addresses_col:\n",
    "    data[col] = data[col].apply(lambda x: x.title() if x else x)"
   ]
  },
  {
   "cell_type": "code",
   "execution_count": 125,
   "id": "d50e683b",
   "metadata": {},
   "outputs": [
    {
     "data": {
      "text/html": [
       "<div>\n",
       "<style scoped>\n",
       "    .dataframe tbody tr th:only-of-type {\n",
       "        vertical-align: middle;\n",
       "    }\n",
       "\n",
       "    .dataframe tbody tr th {\n",
       "        vertical-align: top;\n",
       "    }\n",
       "\n",
       "    .dataframe thead th {\n",
       "        text-align: right;\n",
       "    }\n",
       "</style>\n",
       "<table border=\"1\" class=\"dataframe\">\n",
       "  <thead>\n",
       "    <tr style=\"text-align: right;\">\n",
       "      <th></th>\n",
       "      <th>region</th>\n",
       "      <th>city</th>\n",
       "      <th>settlement</th>\n",
       "    </tr>\n",
       "  </thead>\n",
       "  <tbody>\n",
       "    <tr>\n",
       "      <th>0</th>\n",
       "      <td>Волгоградская</td>\n",
       "      <td>Волгоград</td>\n",
       "      <td>None</td>\n",
       "    </tr>\n",
       "    <tr>\n",
       "      <th>1</th>\n",
       "      <td>Волгоградская</td>\n",
       "      <td>Волгоград</td>\n",
       "      <td>None</td>\n",
       "    </tr>\n",
       "    <tr>\n",
       "      <th>2</th>\n",
       "      <td>Волгоградская</td>\n",
       "      <td>Волгоград</td>\n",
       "      <td>None</td>\n",
       "    </tr>\n",
       "    <tr>\n",
       "      <th>3</th>\n",
       "      <td>Волгоградская</td>\n",
       "      <td>Волгоград</td>\n",
       "      <td>None</td>\n",
       "    </tr>\n",
       "    <tr>\n",
       "      <th>4</th>\n",
       "      <td>Волгоградская</td>\n",
       "      <td>Волгоград</td>\n",
       "      <td>None</td>\n",
       "    </tr>\n",
       "  </tbody>\n",
       "</table>\n",
       "</div>"
      ],
      "text/plain": [
       "          region       city settlement\n",
       "0  Волгоградская  Волгоград       None\n",
       "1  Волгоградская  Волгоград       None\n",
       "2  Волгоградская  Волгоград       None\n",
       "3  Волгоградская  Волгоград       None\n",
       "4  Волгоградская  Волгоград       None"
      ]
     },
     "execution_count": 125,
     "metadata": {},
     "output_type": "execute_result"
    }
   ],
   "source": [
    "data[addresses_col].head()"
   ]
  },
  {
   "cell_type": "code",
   "execution_count": 126,
   "id": "b89a3109",
   "metadata": {},
   "outputs": [],
   "source": [
    "cond = data.city.isna() & data.region.isin(('Москва', 'Санкт-Петербург', 'Севастополь'))"
   ]
  },
  {
   "cell_type": "code",
   "execution_count": 127,
   "id": "a76c713b",
   "metadata": {},
   "outputs": [],
   "source": [
    "data.city = data.city.where(~cond, data.region)"
   ]
  },
  {
   "cell_type": "code",
   "execution_count": 128,
   "id": "697c88f1",
   "metadata": {},
   "outputs": [
    {
     "name": "stdout",
     "output_type": "stream",
     "text": [
      "<class 'pandas.core.frame.DataFrame'>\n",
      "Int64Index: 1918094 entries, 0 to 1918093\n",
      "Data columns (total 3 columns):\n",
      " #   Column      Dtype \n",
      "---  ------      ----- \n",
      " 0   region      object\n",
      " 1   city        object\n",
      " 2   settlement  object\n",
      "dtypes: object(3)\n",
      "memory usage: 58.5+ MB\n"
     ]
    }
   ],
   "source": [
    "data[addresses_col].info()"
   ]
  },
  {
   "cell_type": "code",
   "execution_count": 129,
   "id": "a06a6a53",
   "metadata": {},
   "outputs": [
    {
     "data": {
      "text/html": [
       "<div>\n",
       "<style scoped>\n",
       "    .dataframe tbody tr th:only-of-type {\n",
       "        vertical-align: middle;\n",
       "    }\n",
       "\n",
       "    .dataframe tbody tr th {\n",
       "        vertical-align: top;\n",
       "    }\n",
       "\n",
       "    .dataframe thead th {\n",
       "        text-align: right;\n",
       "    }\n",
       "</style>\n",
       "<table border=\"1\" class=\"dataframe\">\n",
       "  <thead>\n",
       "    <tr style=\"text-align: right;\">\n",
       "      <th></th>\n",
       "      <th>region</th>\n",
       "      <th>city</th>\n",
       "      <th>settlement</th>\n",
       "    </tr>\n",
       "  </thead>\n",
       "  <tbody>\n",
       "    <tr>\n",
       "      <th>15</th>\n",
       "      <td>Москва</td>\n",
       "      <td>Москва</td>\n",
       "      <td>None</td>\n",
       "    </tr>\n",
       "    <tr>\n",
       "      <th>19</th>\n",
       "      <td>Москва</td>\n",
       "      <td>Москва</td>\n",
       "      <td>None</td>\n",
       "    </tr>\n",
       "    <tr>\n",
       "      <th>24</th>\n",
       "      <td>Москва</td>\n",
       "      <td>Москва</td>\n",
       "      <td>None</td>\n",
       "    </tr>\n",
       "  </tbody>\n",
       "</table>\n",
       "</div>"
      ],
      "text/plain": [
       "    region    city settlement\n",
       "15  Москва  Москва       None\n",
       "19  Москва  Москва       None\n",
       "24  Москва  Москва       None"
      ]
     },
     "execution_count": 129,
     "metadata": {},
     "output_type": "execute_result"
    }
   ],
   "source": [
    "data.loc[data.region == 'Москва', addresses_col].head(3)"
   ]
  },
  {
   "cell_type": "markdown",
   "id": "d4ec5b5e",
   "metadata": {},
   "source": [
    "- заменяем некоторые названия городов"
   ]
  },
  {
   "cell_type": "code",
   "execution_count": 130,
   "id": "7eae0813",
   "metadata": {},
   "outputs": [],
   "source": [
    "city_replace = {\n",
    "    'Королев': 'Королёв',\n",
    "    'Белохолуницкое Городское Поселение': 'Белохолуницкое',\n",
    "    'Мо Сельское Поселение Следневское': 'Следневское',\n",
    "    'Камень-На-Оби': 'Камень-на-Оби',\n",
    "    'Широкобуеракское Мо': 'Широкобуеракское',\n",
    "    'Новопушкинское Мо': 'Новопушкинское',\n",
    "    'Ростов-На-Дону': 'Ростов-на-Дону',\n",
    "    'Сольцы 2': 'Сольцы',\n",
    "    'Буденновск': 'Будённовск',\n",
    "    'Городское Поселение Снегири': 'Снегири',\n",
    "    'Калач-На-Дону': 'Калач-на-Дону',\n",
    "    'Славянск-На-Кубани': 'Славянск-на-Кубани',\n",
    "    'Терсинское Мо': 'Терсинское',\n",
    "    'Николаевск-На-Амуре': 'Николаевск-на-Амуре',\n",
    "    'Комсомольск-На-Амуре': 'Комсомольск-на-Амуре',\n",
    "}"
   ]
  },
  {
   "cell_type": "code",
   "execution_count": 131,
   "id": "770e74ce",
   "metadata": {},
   "outputs": [],
   "source": [
    "data.city.replace(city_replace, inplace=True)"
   ]
  },
  {
   "cell_type": "markdown",
   "id": "851ef0e1",
   "metadata": {},
   "source": [
    "- названия settlements так вычистить не получится - их слишком много и слишком мало совпадений"
   ]
  },
  {
   "cell_type": "markdown",
   "id": "15633b45",
   "metadata": {},
   "source": [
    "##### - и только теперь переходим к данным переписи (данные за 20 год)"
   ]
  },
  {
   "cell_type": "code",
   "execution_count": 133,
   "id": "4e85a66f",
   "metadata": {},
   "outputs": [],
   "source": [
    "vpn_data = pd.read_excel('raw_data/tab-5_VPN-2020.xlsx', header=3)\n",
    "population = vpn_data[['Unnamed: 0', 'Unnamed: 1']].rename(columns={'Unnamed: 0': 'locality', 'Unnamed: 1': 'population'})"
   ]
  },
  {
   "cell_type": "code",
   "execution_count": 134,
   "id": "7eede616",
   "metadata": {},
   "outputs": [
    {
     "data": {
      "text/html": [
       "<div>\n",
       "<style scoped>\n",
       "    .dataframe tbody tr th:only-of-type {\n",
       "        vertical-align: middle;\n",
       "    }\n",
       "\n",
       "    .dataframe tbody tr th {\n",
       "        vertical-align: top;\n",
       "    }\n",
       "\n",
       "    .dataframe thead th {\n",
       "        text-align: right;\n",
       "    }\n",
       "</style>\n",
       "<table border=\"1\" class=\"dataframe\">\n",
       "  <thead>\n",
       "    <tr style=\"text-align: right;\">\n",
       "      <th></th>\n",
       "      <th>locality</th>\n",
       "      <th>population</th>\n",
       "    </tr>\n",
       "  </thead>\n",
       "  <tbody>\n",
       "    <tr>\n",
       "      <th>0</th>\n",
       "      <td>Российская Федерация</td>\n",
       "      <td>147182123</td>\n",
       "    </tr>\n",
       "    <tr>\n",
       "      <th>1</th>\n",
       "      <td>Городское население</td>\n",
       "      <td>110075322</td>\n",
       "    </tr>\n",
       "    <tr>\n",
       "      <th>2</th>\n",
       "      <td>Сельское население</td>\n",
       "      <td>37106801</td>\n",
       "    </tr>\n",
       "    <tr>\n",
       "      <th>3</th>\n",
       "      <td>Центральный федеральный округ</td>\n",
       "      <td>40334532</td>\n",
       "    </tr>\n",
       "    <tr>\n",
       "      <th>4</th>\n",
       "      <td>Городское население</td>\n",
       "      <td>33118003</td>\n",
       "    </tr>\n",
       "  </tbody>\n",
       "</table>\n",
       "</div>"
      ],
      "text/plain": [
       "                        locality population\n",
       "0           Российская Федерация  147182123\n",
       "1            Городское население  110075322\n",
       "2             Сельское население   37106801\n",
       "3  Центральный федеральный округ   40334532\n",
       "4            Городское население   33118003"
      ]
     },
     "execution_count": 134,
     "metadata": {},
     "output_type": "execute_result"
    }
   ],
   "source": [
    "population.head()"
   ]
  },
  {
   "cell_type": "markdown",
   "id": "187becd6",
   "metadata": {},
   "source": [
    "- уберём пропуски"
   ]
  },
  {
   "cell_type": "code",
   "execution_count": 135,
   "id": "46473b35",
   "metadata": {},
   "outputs": [
    {
     "data": {
      "text/html": [
       "<div>\n",
       "<style scoped>\n",
       "    .dataframe tbody tr th:only-of-type {\n",
       "        vertical-align: middle;\n",
       "    }\n",
       "\n",
       "    .dataframe tbody tr th {\n",
       "        vertical-align: top;\n",
       "    }\n",
       "\n",
       "    .dataframe thead th {\n",
       "        text-align: right;\n",
       "    }\n",
       "</style>\n",
       "<table border=\"1\" class=\"dataframe\">\n",
       "  <thead>\n",
       "    <tr style=\"text-align: right;\">\n",
       "      <th></th>\n",
       "      <th>locality</th>\n",
       "      <th>population</th>\n",
       "    </tr>\n",
       "  </thead>\n",
       "  <tbody>\n",
       "    <tr>\n",
       "      <th>237</th>\n",
       "      <td>Сельское население</td>\n",
       "      <td>-</td>\n",
       "    </tr>\n",
       "    <tr>\n",
       "      <th>443</th>\n",
       "      <td>Сельское население</td>\n",
       "      <td>-</td>\n",
       "    </tr>\n",
       "    <tr>\n",
       "      <th>648</th>\n",
       "      <td>Сельское население</td>\n",
       "      <td>-</td>\n",
       "    </tr>\n",
       "    <tr>\n",
       "      <th>922</th>\n",
       "      <td>прочие сельские населенные пункты</td>\n",
       "      <td>-</td>\n",
       "    </tr>\n",
       "    <tr>\n",
       "      <th>971</th>\n",
       "      <td>прочие сельские населенные пункты</td>\n",
       "      <td>-</td>\n",
       "    </tr>\n",
       "    <tr>\n",
       "      <th>...</th>\n",
       "      <td>...</td>\n",
       "      <td>...</td>\n",
       "    </tr>\n",
       "    <tr>\n",
       "      <th>27398</th>\n",
       "      <td>Сельское население</td>\n",
       "      <td>-</td>\n",
       "    </tr>\n",
       "    <tr>\n",
       "      <th>27510</th>\n",
       "      <td>Сельское население</td>\n",
       "      <td>-</td>\n",
       "    </tr>\n",
       "    <tr>\n",
       "      <th>27587</th>\n",
       "      <td>пгт Беличан</td>\n",
       "      <td>-</td>\n",
       "    </tr>\n",
       "    <tr>\n",
       "      <th>27605</th>\n",
       "      <td>пгт Верхний Ат-Урях</td>\n",
       "      <td>-</td>\n",
       "    </tr>\n",
       "    <tr>\n",
       "      <th>27673</th>\n",
       "      <td>Сельское население</td>\n",
       "      <td>-</td>\n",
       "    </tr>\n",
       "  </tbody>\n",
       "</table>\n",
       "<p>62 rows × 2 columns</p>\n",
       "</div>"
      ],
      "text/plain": [
       "                                locality population\n",
       "237                   Сельское население          -\n",
       "443                   Сельское население          -\n",
       "648                   Сельское население          -\n",
       "922    прочие сельские населенные пункты          -\n",
       "971    прочие сельские населенные пункты          -\n",
       "...                                  ...        ...\n",
       "27398                 Сельское население          -\n",
       "27510                 Сельское население          -\n",
       "27587                        пгт Беличан          -\n",
       "27605                пгт Верхний Ат-Урях          -\n",
       "27673                 Сельское население          -\n",
       "\n",
       "[62 rows x 2 columns]"
      ]
     },
     "execution_count": 135,
     "metadata": {},
     "output_type": "execute_result"
    }
   ],
   "source": [
    "population.loc[population.population == '-']"
   ]
  },
  {
   "cell_type": "code",
   "execution_count": 136,
   "id": "c90b207f",
   "metadata": {},
   "outputs": [],
   "source": [
    "population = population.loc[population.population != '-']"
   ]
  },
  {
   "cell_type": "markdown",
   "id": "33956b80",
   "metadata": {},
   "source": [
    "- создадим словарь город-численность"
   ]
  },
  {
   "cell_type": "code",
   "execution_count": 137,
   "id": "41c8a77c",
   "metadata": {},
   "outputs": [],
   "source": [
    "# порядок важен - в городах сперва ищем город\n",
    "# выражение не оптимально!\n",
    "def get_population(name):\n",
    "    val = population.loc[population['locality']\\\n",
    "          .str \\\n",
    "          .contains(rf'г?. {name}\\b|пгт?. {name}\\b|[Сс]ело {name}\\b|пос[ёе]лок {name}\\b|п. {name}\\b|[Сс]ельское поселение {name}\\b|^{name}\\b сельское поселение|Поселение {name}\\b|[Дд]еревня {name}\\b|город {name}\\b')]\\\n",
    "          .population.values\n",
    "    return val[0] if val.any() else None"
   ]
  },
  {
   "cell_type": "code",
   "execution_count": 138,
   "id": "5136f3ba",
   "metadata": {},
   "outputs": [],
   "source": [
    "cities = data.city.unique()"
   ]
  },
  {
   "cell_type": "code",
   "execution_count": 139,
   "id": "bbee2d13",
   "metadata": {},
   "outputs": [
    {
     "data": {
      "text/plain": [
       "(array(['Волгоград', None, 'Одинцово', ...,\n",
       "        'Верхошижемское Городское Поселение', 'Акбулак', 'Пыталово'],\n",
       "       dtype=object),\n",
       " 1299)"
      ]
     },
     "execution_count": 139,
     "metadata": {},
     "output_type": "execute_result"
    }
   ],
   "source": [
    "cities, len(cities)"
   ]
  },
  {
   "cell_type": "code",
   "execution_count": 140,
   "id": "a933fc53",
   "metadata": {},
   "outputs": [
    {
     "name": "stdout",
     "output_type": "stream",
     "text": [
      "Wall time: 2min 23s\n"
     ]
    }
   ],
   "source": [
    "%%time\n",
    "city_to_population = {key: get_population(key) for key in cities}"
   ]
  },
  {
   "cell_type": "code",
   "execution_count": 141,
   "id": "bd900c3f",
   "metadata": {},
   "outputs": [
    {
     "data": {
      "text/plain": [
       "13991"
      ]
     },
     "execution_count": 141,
     "metadata": {},
     "output_type": "execute_result"
    }
   ],
   "source": [
    "city_to_population['Курган']"
   ]
  },
  {
   "cell_type": "markdown",
   "id": "a159f0c9",
   "metadata": {},
   "source": [
    "- то же самое для settlememt, но гораздо дольше (так как уникальных около 20 тыс) и гораздо менее эффективно - будет всего около 4 тыс значений\n",
    "- остальные придётся заполнять (например, медианой всех значений менее 3 тыс) - именно для таких населённых пунктов нет данных"
   ]
  },
  {
   "cell_type": "code",
   "execution_count": 146,
   "id": "e65e5da5",
   "metadata": {},
   "outputs": [],
   "source": [
    "def get_population_settl(name):\n",
    "    val = population.loc[population['locality']\\\n",
    "          .str \\\n",
    "          .contains(rf'пгт?. {name}\\b|[Сс]ело {name}\\b|пос[ёе]лок {name}\\b|п?. {name}\\b|[Сс]ельское поселение {name}\\b|^{name}\\b сельское поселение|Поселение {name}\\b|[Дд]еревня {name}\\b')]\\\n",
    "          .population.values\n",
    "    return val[0] if val.any() else None"
   ]
  },
  {
   "cell_type": "code",
   "execution_count": 147,
   "id": "9f43b9fa",
   "metadata": {},
   "outputs": [],
   "source": [
    "settlements = data.settlement.unique()"
   ]
  },
  {
   "cell_type": "markdown",
   "id": "2f4d5d72",
   "metadata": {},
   "source": [
    "Wall time: 35min 58s"
   ]
  },
  {
   "cell_type": "code",
   "execution_count": 164,
   "id": "ac50e7c9",
   "metadata": {},
   "outputs": [
    {
     "name": "stderr",
     "output_type": "stream",
     "text": [
      "C:\\Users\\013\\AppData\\Local\\Temp/ipykernel_2988/913981156.py:2: UserWarning: This pattern has match groups. To actually get the groups, use str.extract.\n",
      "  val = population.loc[population['locality']\\\n"
     ]
    },
    {
     "name": "stdout",
     "output_type": "stream",
     "text": [
      "Wall time: 38min 21s\n"
     ]
    }
   ],
   "source": [
    "%%time\n",
    "settlement_to_population = {key: get_population_settl(key) for key in settlements}"
   ]
  },
  {
   "cell_type": "code",
   "execution_count": null,
   "id": "5895e682",
   "metadata": {},
   "outputs": [],
   "source": [
    "# with open('parsed_data/settlement_to_population.pickle', 'wb') as f:\n",
    "#     pickle.dump(settlement_to_population, f)"
   ]
  },
  {
   "cell_type": "code",
   "execution_count": 148,
   "id": "e0f14cd7",
   "metadata": {},
   "outputs": [],
   "source": [
    "# # просто прочитаю из файла\n",
    "# with open('parsed_data/settlement_to_population.pickle', 'rb') as f:\n",
    "#     settlement_to_population = pickle.load(f)"
   ]
  },
  {
   "cell_type": "markdown",
   "id": "a823c387",
   "metadata": {},
   "source": [
    "- словарь с численностью для регионов - самый полный и чистый"
   ]
  },
  {
   "cell_type": "code",
   "execution_count": 149,
   "id": "b5d95733",
   "metadata": {},
   "outputs": [],
   "source": [
    "# словарь перевода кода региона в имя региона\n",
    "# вообще мб путаница: разные версии кодов - для каких-то регионов несколько кодов, некоторые \n",
    "# коды объединяются, используются временно... переименовываются...\n",
    "region_code_to_name = {\n",
    "#    0: 'Unknown',  # неизвестный регион\n",
    "    1: 'Республика Адыгея',\n",
    "    2: 'Республика Башкортостан',\n",
    "    3: 'Республика Бурятия',\n",
    "    4: 'Республика Алтай',\n",
    "    5: 'Республика Дагестан',\n",
    "    6: 'Республика Ингушетия',\n",
    "    7: 'Кабардино-Балкарская Республика',\n",
    "    8: 'Республика Калмыкия',\n",
    "    9: 'Карачаево-Черкесская Республика',\n",
    "    10: 'Республика Карелия',\n",
    "    11: 'Республика Коми',\n",
    "    12: 'Республика Марий Эл',\n",
    "    13: 'Республика Мордовия',\n",
    "    14: 'Республика Саха (Якутия)',\n",
    "    15: 'Республика Северная Осетия-Алания',\n",
    "    16: 'Республика Татарстан',\n",
    "    17: 'Республика Тыва',\n",
    "    18: 'Удмуртская Республика',\n",
    "    19: 'Республика Хакасия',\n",
    "    20: 'Чеченская Республика',\n",
    "    21: 'Чувашская Республика',\n",
    "    22: 'Алтайский край',\n",
    "    23: 'Краснодарский край',\n",
    "    24: 'Красноярский край',\n",
    "    25: 'Приморский край',\n",
    "    26: 'Ставропольский край',\n",
    "    27: 'Хабаровский край',\n",
    "    28: 'Амурская область',\n",
    "    29: 'Архангельская область',\n",
    "    30: 'Астраханская область',\n",
    "    31: 'Белгородская область',\n",
    "    32: 'Брянская область',\n",
    "    33: 'Владимирская область',\n",
    "    34: 'Волгоградская область',\n",
    "    35: 'Вологодская область',\n",
    "    36: 'Воронежская область',\n",
    "    37: 'Ивановская область',\n",
    "    38: 'Иркутская область',\n",
    "    39: 'Калининградская область',\n",
    "    40: 'Калужская область',\n",
    "    41: 'Камчатский край',  # Камчатская область\n",
    "    42: 'Кемеровская область – Кузбасс',\n",
    "    43: 'Кировская область',\n",
    "    44: 'Костромская область',\n",
    "    45: 'Курганская область',\n",
    "    46: 'Курская область',\n",
    "    47: 'Ленинградская область',\n",
    "    48: 'Липецкая область',\n",
    "    49: 'Магаданская область',\n",
    "    50: 'Московская область',\n",
    "    51: 'Мурманская область',\n",
    "    52: 'Нижегородская область',\n",
    "    53: 'Новгородская область',\n",
    "    54: 'Новосибирская область',\n",
    "    55: 'Омская область',\n",
    "    56: 'Оренбургская область',\n",
    "    57: 'Орловская область',\n",
    "    58: 'Пензенская область',\n",
    "    59: 'Пермский край',  # Пермская область\n",
    "    60: 'Псковская область',\n",
    "    61: 'Ростовская область',\n",
    "    62: 'Рязанская область',\n",
    "    63: 'Самарская область',\n",
    "    64: 'Саратовская область',\n",
    "    65: 'Сахалинская область',\n",
    "    66: 'Свердловская область',\n",
    "    67: 'Смоленская область',\n",
    "    68: 'Тамбовская область',\n",
    "    69: 'Тверская область',\n",
    "    70: 'Томская область',\n",
    "    71: 'Тульская область',\n",
    "    72: 'Тюменская область',\n",
    "    73: 'Ульяновская область',\n",
    "    74: 'Челябинская область',\n",
    "    75: 'Забайкальский край',  # Читинская область\n",
    "    76: 'Ярославская область',\n",
    "    77: 'г. Москва - городское население',  # так в таблице, ищу точное совпадение\n",
    "    78: 'г. Санкт-Петербург - городское население',\n",
    "    79: 'Еврейская автономная область',\n",
    "    83: 'Ненецкий автономный округ',\n",
    "    86: 'Ханты-Мансийский автономный округ - Югра',\n",
    "    87: 'Чукотский автономный округ',\n",
    "    89: 'Ямало-Ненецкий автономный округ',\n",
    "    90: 'Московская область',  # то же, что и код 50\n",
    "    91: 'Республика Крым',\n",
    "    92: 'г. Севастополь',\n",
    "    93: 'Краснодарский край',  # == 23 Краснодарский край\n",
    "#    94: #  == 0 - Байконур, данных нет\n",
    "    95: 'Чеченская Республика'#  == 20 Чеченская респ.\n",
    "}"
   ]
  },
  {
   "cell_type": "code",
   "execution_count": 150,
   "id": "8df0b9ab",
   "metadata": {},
   "outputs": [
    {
     "data": {
      "text/plain": [
       "array([ 1,  2,  3,  4,  5,  6,  7,  8,  9, 10, 11, 12, 13, 14, 15, 16, 17,\n",
       "       18, 19, 20, 21, 22, 23, 24, 25, 26, 27, 28, 29, 30, 31, 32, 33, 34,\n",
       "       35, 36, 37, 38, 39, 40, 41, 42, 43, 44, 45, 46, 47, 48, 49, 50, 51,\n",
       "       52, 53, 54, 55, 56, 57, 58, 59, 60, 61, 62, 63, 64, 65, 66, 67, 68,\n",
       "       69, 70, 71, 72, 73, 74, 75, 76, 77, 78, 79, 83, 86, 87, 89, 90, 91,\n",
       "       92, 95], dtype=int8)"
      ]
     },
     "execution_count": 150,
     "metadata": {},
     "output_type": "execute_result"
    }
   ],
   "source": [
    "np.sort(data.region_code.unique())"
   ]
  },
  {
   "cell_type": "code",
   "execution_count": 151,
   "id": "39736368",
   "metadata": {},
   "outputs": [],
   "source": [
    "# словарик код - численность\n",
    "get_p = lambda x: population.loc[population.locality == region_code_to_name[x], 'population'].values[0]\n",
    "region_code_to_population = {key: get_p(key) for key in region_code_to_name}"
   ]
  },
  {
   "cell_type": "code",
   "execution_count": 152,
   "id": "d1300227",
   "metadata": {},
   "outputs": [
    {
     "data": {
      "text/plain": [
       "496934"
      ]
     },
     "execution_count": 152,
     "metadata": {},
     "output_type": "execute_result"
    }
   ],
   "source": [
    "region_code_to_population[1]"
   ]
  },
  {
   "cell_type": "markdown",
   "id": "6bcc6e55",
   "metadata": {},
   "source": [
    "#### - объединяем"
   ]
  },
  {
   "cell_type": "code",
   "execution_count": 153,
   "id": "209c043d",
   "metadata": {},
   "outputs": [],
   "source": [
    "data['region_population'] = data.region_code.replace(region_code_to_population)"
   ]
  },
  {
   "cell_type": "code",
   "execution_count": 154,
   "id": "1d69cf38",
   "metadata": {},
   "outputs": [
    {
     "data": {
      "text/html": [
       "<div>\n",
       "<style scoped>\n",
       "    .dataframe tbody tr th:only-of-type {\n",
       "        vertical-align: middle;\n",
       "    }\n",
       "\n",
       "    .dataframe tbody tr th {\n",
       "        vertical-align: top;\n",
       "    }\n",
       "\n",
       "    .dataframe thead th {\n",
       "        text-align: right;\n",
       "    }\n",
       "</style>\n",
       "<table border=\"1\" class=\"dataframe\">\n",
       "  <thead>\n",
       "    <tr style=\"text-align: right;\">\n",
       "      <th></th>\n",
       "      <th>inn</th>\n",
       "      <th>shortName</th>\n",
       "      <th>index</th>\n",
       "      <th>region</th>\n",
       "      <th>city</th>\n",
       "      <th>settlement</th>\n",
       "      <th>okved2</th>\n",
       "      <th>okopf</th>\n",
       "      <th>statusCode</th>\n",
       "      <th>registrationDate</th>\n",
       "      <th>...</th>\n",
       "      <th>cons_basket_working_age_2019</th>\n",
       "      <th>cons_basket_working_age_2020</th>\n",
       "      <th>cons_basket_working_age_2021</th>\n",
       "      <th>diesel_cost_2019</th>\n",
       "      <th>diesel_cost_2020</th>\n",
       "      <th>diesel_cost_2021</th>\n",
       "      <th>diesel_volume_2019</th>\n",
       "      <th>diesel_volume_2020</th>\n",
       "      <th>diesel_volume_2021</th>\n",
       "      <th>region_population</th>\n",
       "    </tr>\n",
       "  </thead>\n",
       "  <tbody>\n",
       "    <tr>\n",
       "      <th>2239</th>\n",
       "      <td>0105018478</td>\n",
       "      <td>ООО ФИРМА ОШТЕН-1</td>\n",
       "      <td>385000</td>\n",
       "      <td>Адыгея</td>\n",
       "      <td>Майкоп</td>\n",
       "      <td>None</td>\n",
       "      <td>43.91</td>\n",
       "      <td>12300</td>\n",
       "      <td>ACTIVE</td>\n",
       "      <td>2001-06-07</td>\n",
       "      <td>...</td>\n",
       "      <td>5005.002441</td>\n",
       "      <td>5146.416992</td>\n",
       "      <td>5914.44873</td>\n",
       "      <td>45.404823</td>\n",
       "      <td>46.01265</td>\n",
       "      <td>47.691971</td>\n",
       "      <td>65073.027344</td>\n",
       "      <td>60822.03125</td>\n",
       "      <td>69281.617188</td>\n",
       "      <td>496934</td>\n",
       "    </tr>\n",
       "    <tr>\n",
       "      <th>2240</th>\n",
       "      <td>0105024440</td>\n",
       "      <td>ООО \"КПЦ\"</td>\n",
       "      <td>385019</td>\n",
       "      <td>Адыгея</td>\n",
       "      <td>Майкоп</td>\n",
       "      <td>None</td>\n",
       "      <td>96.09</td>\n",
       "      <td>12300</td>\n",
       "      <td>ACTIVE</td>\n",
       "      <td>1996-08-20</td>\n",
       "      <td>...</td>\n",
       "      <td>5005.002441</td>\n",
       "      <td>5146.416992</td>\n",
       "      <td>5914.44873</td>\n",
       "      <td>45.404823</td>\n",
       "      <td>46.01265</td>\n",
       "      <td>47.691971</td>\n",
       "      <td>65073.027344</td>\n",
       "      <td>60822.03125</td>\n",
       "      <td>69281.617188</td>\n",
       "      <td>496934</td>\n",
       "    </tr>\n",
       "    <tr>\n",
       "      <th>2241</th>\n",
       "      <td>0105027730</td>\n",
       "      <td>ООО ФИРМА \"ЦЕНТР\"</td>\n",
       "      <td>385009</td>\n",
       "      <td>Адыгея</td>\n",
       "      <td>Майкоп</td>\n",
       "      <td>None</td>\n",
       "      <td>77.39</td>\n",
       "      <td>12300</td>\n",
       "      <td>ACTIVE</td>\n",
       "      <td>1998-03-26</td>\n",
       "      <td>...</td>\n",
       "      <td>5005.002441</td>\n",
       "      <td>5146.416992</td>\n",
       "      <td>5914.44873</td>\n",
       "      <td>45.404823</td>\n",
       "      <td>46.01265</td>\n",
       "      <td>47.691971</td>\n",
       "      <td>65073.027344</td>\n",
       "      <td>60822.03125</td>\n",
       "      <td>69281.617188</td>\n",
       "      <td>496934</td>\n",
       "    </tr>\n",
       "  </tbody>\n",
       "</table>\n",
       "<p>3 rows × 122 columns</p>\n",
       "</div>"
      ],
      "text/plain": [
       "             inn          shortName   index  region    city settlement okved2  \\\n",
       "2239  0105018478  ООО ФИРМА ОШТЕН-1  385000  Адыгея  Майкоп       None  43.91   \n",
       "2240  0105024440          ООО \"КПЦ\"  385019  Адыгея  Майкоп       None  96.09   \n",
       "2241  0105027730  ООО ФИРМА \"ЦЕНТР\"  385009  Адыгея  Майкоп       None  77.39   \n",
       "\n",
       "      okopf statusCode registrationDate  ...  cons_basket_working_age_2019  \\\n",
       "2239  12300     ACTIVE       2001-06-07  ...                   5005.002441   \n",
       "2240  12300     ACTIVE       1996-08-20  ...                   5005.002441   \n",
       "2241  12300     ACTIVE       1998-03-26  ...                   5005.002441   \n",
       "\n",
       "      cons_basket_working_age_2020  cons_basket_working_age_2021  \\\n",
       "2239                   5146.416992                    5914.44873   \n",
       "2240                   5146.416992                    5914.44873   \n",
       "2241                   5146.416992                    5914.44873   \n",
       "\n",
       "      diesel_cost_2019  diesel_cost_2020  diesel_cost_2021  \\\n",
       "2239         45.404823          46.01265         47.691971   \n",
       "2240         45.404823          46.01265         47.691971   \n",
       "2241         45.404823          46.01265         47.691971   \n",
       "\n",
       "      diesel_volume_2019  diesel_volume_2020  diesel_volume_2021  \\\n",
       "2239        65073.027344         60822.03125        69281.617188   \n",
       "2240        65073.027344         60822.03125        69281.617188   \n",
       "2241        65073.027344         60822.03125        69281.617188   \n",
       "\n",
       "      region_population  \n",
       "2239             496934  \n",
       "2240             496934  \n",
       "2241             496934  \n",
       "\n",
       "[3 rows x 122 columns]"
      ]
     },
     "execution_count": 154,
     "metadata": {},
     "output_type": "execute_result"
    }
   ],
   "source": [
    "data.loc[data.region_code == 1].head(3)"
   ]
  },
  {
   "cell_type": "code",
   "execution_count": 155,
   "id": "058ba0c4",
   "metadata": {},
   "outputs": [],
   "source": [
    "data['city_population'] = data.city.replace(city_to_population)"
   ]
  },
  {
   "cell_type": "code",
   "execution_count": 156,
   "id": "621cb1f7",
   "metadata": {},
   "outputs": [
    {
     "data": {
      "text/html": [
       "<div>\n",
       "<style scoped>\n",
       "    .dataframe tbody tr th:only-of-type {\n",
       "        vertical-align: middle;\n",
       "    }\n",
       "\n",
       "    .dataframe tbody tr th {\n",
       "        vertical-align: top;\n",
       "    }\n",
       "\n",
       "    .dataframe thead th {\n",
       "        text-align: right;\n",
       "    }\n",
       "</style>\n",
       "<table border=\"1\" class=\"dataframe\">\n",
       "  <thead>\n",
       "    <tr style=\"text-align: right;\">\n",
       "      <th></th>\n",
       "      <th>inn</th>\n",
       "      <th>shortName</th>\n",
       "      <th>index</th>\n",
       "      <th>region</th>\n",
       "      <th>city</th>\n",
       "      <th>settlement</th>\n",
       "      <th>okved2</th>\n",
       "      <th>okopf</th>\n",
       "      <th>statusCode</th>\n",
       "      <th>registrationDate</th>\n",
       "      <th>...</th>\n",
       "      <th>cons_basket_working_age_2020</th>\n",
       "      <th>cons_basket_working_age_2021</th>\n",
       "      <th>diesel_cost_2019</th>\n",
       "      <th>diesel_cost_2020</th>\n",
       "      <th>diesel_cost_2021</th>\n",
       "      <th>diesel_volume_2019</th>\n",
       "      <th>diesel_volume_2020</th>\n",
       "      <th>diesel_volume_2021</th>\n",
       "      <th>region_population</th>\n",
       "      <th>city_population</th>\n",
       "    </tr>\n",
       "  </thead>\n",
       "  <tbody>\n",
       "    <tr>\n",
       "      <th>1637</th>\n",
       "      <td>7703819290</td>\n",
       "      <td>ООО \"КОМПАНИЯ \"МОСКОВСКИЕ КАНИКУЛЫ\"</td>\n",
       "      <td>141075</td>\n",
       "      <td>Московская</td>\n",
       "      <td>Королёв</td>\n",
       "      <td>None</td>\n",
       "      <td>79.11</td>\n",
       "      <td>12300</td>\n",
       "      <td>ACTIVE</td>\n",
       "      <td>2014-10-09</td>\n",
       "      <td>...</td>\n",
       "      <td>6004.04834</td>\n",
       "      <td>6792.406738</td>\n",
       "      <td>45.575645</td>\n",
       "      <td>46.64019</td>\n",
       "      <td>48.816631</td>\n",
       "      <td>1720411.75</td>\n",
       "      <td>1383346.5</td>\n",
       "      <td>1870944.25</td>\n",
       "      <td>8524665</td>\n",
       "      <td>228095.0</td>\n",
       "    </tr>\n",
       "    <tr>\n",
       "      <th>9180</th>\n",
       "      <td>7701679369</td>\n",
       "      <td>ООО \"КОНЬЯЧНЫЙ ДОМ \"АРМКО\"</td>\n",
       "      <td>141080</td>\n",
       "      <td>Московская</td>\n",
       "      <td>Королёв</td>\n",
       "      <td>None</td>\n",
       "      <td>46.34.2</td>\n",
       "      <td>12300</td>\n",
       "      <td>ACTIVE</td>\n",
       "      <td>2006-09-13</td>\n",
       "      <td>...</td>\n",
       "      <td>6004.04834</td>\n",
       "      <td>6792.406738</td>\n",
       "      <td>45.575645</td>\n",
       "      <td>46.64019</td>\n",
       "      <td>48.816631</td>\n",
       "      <td>1720411.75</td>\n",
       "      <td>1383346.5</td>\n",
       "      <td>1870944.25</td>\n",
       "      <td>8524665</td>\n",
       "      <td>228095.0</td>\n",
       "    </tr>\n",
       "    <tr>\n",
       "      <th>11611</th>\n",
       "      <td>5638077275</td>\n",
       "      <td>ПК \"АЛЬТЕРНА\"</td>\n",
       "      <td>141065</td>\n",
       "      <td>Московская</td>\n",
       "      <td>Королёв</td>\n",
       "      <td>None</td>\n",
       "      <td>64.99</td>\n",
       "      <td>20100</td>\n",
       "      <td>ACTIVE</td>\n",
       "      <td>2020-08-20</td>\n",
       "      <td>...</td>\n",
       "      <td>6004.04834</td>\n",
       "      <td>6792.406738</td>\n",
       "      <td>45.575645</td>\n",
       "      <td>46.64019</td>\n",
       "      <td>48.816631</td>\n",
       "      <td>1720411.75</td>\n",
       "      <td>1383346.5</td>\n",
       "      <td>1870944.25</td>\n",
       "      <td>8524665</td>\n",
       "      <td>228095.0</td>\n",
       "    </tr>\n",
       "  </tbody>\n",
       "</table>\n",
       "<p>3 rows × 123 columns</p>\n",
       "</div>"
      ],
      "text/plain": [
       "              inn                            shortName   index      region  \\\n",
       "1637   7703819290  ООО \"КОМПАНИЯ \"МОСКОВСКИЕ КАНИКУЛЫ\"  141075  Московская   \n",
       "9180   7701679369           ООО \"КОНЬЯЧНЫЙ ДОМ \"АРМКО\"  141080  Московская   \n",
       "11611  5638077275                        ПК \"АЛЬТЕРНА\"  141065  Московская   \n",
       "\n",
       "          city settlement   okved2  okopf statusCode registrationDate  ...  \\\n",
       "1637   Королёв       None    79.11  12300     ACTIVE       2014-10-09  ...   \n",
       "9180   Королёв       None  46.34.2  12300     ACTIVE       2006-09-13  ...   \n",
       "11611  Королёв       None    64.99  20100     ACTIVE       2020-08-20  ...   \n",
       "\n",
       "       cons_basket_working_age_2020  cons_basket_working_age_2021  \\\n",
       "1637                     6004.04834                   6792.406738   \n",
       "9180                     6004.04834                   6792.406738   \n",
       "11611                    6004.04834                   6792.406738   \n",
       "\n",
       "       diesel_cost_2019  diesel_cost_2020  diesel_cost_2021  \\\n",
       "1637          45.575645          46.64019         48.816631   \n",
       "9180          45.575645          46.64019         48.816631   \n",
       "11611         45.575645          46.64019         48.816631   \n",
       "\n",
       "       diesel_volume_2019  diesel_volume_2020  diesel_volume_2021  \\\n",
       "1637           1720411.75           1383346.5          1870944.25   \n",
       "9180           1720411.75           1383346.5          1870944.25   \n",
       "11611          1720411.75           1383346.5          1870944.25   \n",
       "\n",
       "       region_population  city_population  \n",
       "1637             8524665         228095.0  \n",
       "9180             8524665         228095.0  \n",
       "11611            8524665         228095.0  \n",
       "\n",
       "[3 rows x 123 columns]"
      ]
     },
     "execution_count": 156,
     "metadata": {},
     "output_type": "execute_result"
    }
   ],
   "source": [
    "data.loc[data.city == 'Королёв'].head(3)"
   ]
  },
  {
   "cell_type": "code",
   "execution_count": 165,
   "id": "496e72fc",
   "metadata": {},
   "outputs": [
    {
     "name": "stdout",
     "output_type": "stream",
     "text": [
      "Wall time: 6min 58s\n"
     ]
    }
   ],
   "source": [
    "%%time\n",
    "data['settlement_population'] = data.settlement.replace(settlement_to_population)"
   ]
  },
  {
   "cell_type": "markdown",
   "id": "99bde4b6",
   "metadata": {},
   "source": [
    "- приводим типы"
   ]
  },
  {
   "cell_type": "code",
   "execution_count": 158,
   "id": "8f158d71",
   "metadata": {},
   "outputs": [],
   "source": [
    "data.region_population = pd.to_numeric(data.region_population, downcast='integer')"
   ]
  },
  {
   "cell_type": "code",
   "execution_count": 166,
   "id": "f389ff27",
   "metadata": {},
   "outputs": [],
   "source": [
    "for col in ['city_population', 'settlement_population']:\n",
    "    data[col] = pd.to_numeric(data[col], downcast='float')"
   ]
  },
  {
   "cell_type": "markdown",
   "id": "6c3dd1ae",
   "metadata": {},
   "source": [
    "- итоговый датасет"
   ]
  },
  {
   "cell_type": "code",
   "execution_count": 167,
   "id": "07dd1e33",
   "metadata": {},
   "outputs": [
    {
     "name": "stdout",
     "output_type": "stream",
     "text": [
      "<class 'pandas.core.frame.DataFrame'>\n",
      "Int64Index: 1918094 entries, 0 to 1918093\n",
      "Data columns (total 124 columns):\n",
      " #    Column                        Non-Null Count    Dtype         \n",
      "---   ------                        --------------    -----         \n",
      " 0    inn                           1918094 non-null  object        \n",
      " 1    shortName                     1918094 non-null  object        \n",
      " 2    index                         1911937 non-null  object        \n",
      " 3    region                        1918039 non-null  object        \n",
      " 4    city                          1748836 non-null  object        \n",
      " 5    settlement                    197561 non-null   object        \n",
      " 6    okved2                        1916562 non-null  object        \n",
      " 7    okopf                         1918094 non-null  object        \n",
      " 8    statusCode                    1918094 non-null  object        \n",
      " 9    registrationDate              1918093 non-null  datetime64[ns]\n",
      " 10   authorizedCapital             1838094 non-null  float32       \n",
      " 11   2021_1150                     828347 non-null   float32       \n",
      " 12   2020_1150                     680899 non-null   float32       \n",
      " 13   2019_1150                     630615 non-null   float32       \n",
      " 14   2021_1170                     221415 non-null   float32       \n",
      " 15   2020_1170                     154336 non-null   float32       \n",
      " 16   2019_1170                     144712 non-null   float32       \n",
      " 17   2021_1210                     1302915 non-null  float32       \n",
      " 18   2020_1210                     1059199 non-null  float32       \n",
      " 19   2019_1210                     981617 non-null   float32       \n",
      " 20   2021_1230                     1660549 non-null  float32       \n",
      " 21   2020_1230                     1437374 non-null  float32       \n",
      " 22   2019_1230                     1325765 non-null  float32       \n",
      " 23   2021_1250                     1713708 non-null  float32       \n",
      " 24   2020_1250                     1466551 non-null  float32       \n",
      " 25   2019_1250                     1355504 non-null  float32       \n",
      " 26   2021_1600                     1918094 non-null  float32       \n",
      " 27   2020_1600                     1918094 non-null  float32       \n",
      " 28   2019_1600                     1918094 non-null  float32       \n",
      " 29   2021_1350                     52696 non-null    float32       \n",
      " 30   2020_1350                     41158 non-null    float32       \n",
      " 31   2019_1350                     39193 non-null    float32       \n",
      " 32   2021_1360                     45796 non-null    float32       \n",
      " 33   2020_1360                     34408 non-null    float32       \n",
      " 34   2019_1360                     33599 non-null    float32       \n",
      " 35   2021_1300                     1866334 non-null  float32       \n",
      " 36   2020_1300                     1761860 non-null  float32       \n",
      " 37   2019_1300                     1681554 non-null  float32       \n",
      " 38   2021_1520                     1625919 non-null  float32       \n",
      " 39   2020_1520                     1431575 non-null  float32       \n",
      " 40   2019_1520                     1325269 non-null  float32       \n",
      " 41   2021_1700                     1918094 non-null  float32       \n",
      " 42   2020_1700                     1918094 non-null  float32       \n",
      " 43   2019_1700                     1918094 non-null  float32       \n",
      " 44   2021_2110                     1549744 non-null  float32       \n",
      " 45   2020_2110                     1375907 non-null  float32       \n",
      " 46   2021_2120                     1528139 non-null  float32       \n",
      " 47   2020_2120                     1336390 non-null  float32       \n",
      " 48   2021_2330                     297920 non-null   float32       \n",
      " 49   2020_2330                     223762 non-null   float32       \n",
      " 50   2021_2340                     914515 non-null   float32       \n",
      " 51   2020_2340                     714304 non-null   float32       \n",
      " 52   2021_2350                     1489493 non-null  float32       \n",
      " 53   2020_2350                     1308593 non-null  float32       \n",
      " 54   2021_2410                     1325696 non-null  float32       \n",
      " 55   2020_2410                     1116110 non-null  float32       \n",
      " 56   2021_2400                     1649115 non-null  float32       \n",
      " 57   2020_2400                     1649115 non-null  float32       \n",
      " 58   n_employees                   1918094 non-null  int16         \n",
      " 59   is_soc_enterprise             1918094 non-null  int8          \n",
      " 60   newly_establ                  1918094 non-null  int8          \n",
      " 61   subj_cat                      1918094 non-null  int8          \n",
      " 62   subj_form                     1918094 non-null  int8          \n",
      " 63   inclusion_date                1918094 non-null  datetime64[ns]\n",
      " 64   region_code                   1918094 non-null  int8          \n",
      " 65   n_okovd_add                   1918094 non-null  int16         \n",
      " 66   n_licenses                    1918094 non-null  int16         \n",
      " 67   n_products                    1918094 non-null  int8          \n",
      " 68   is_high_tech                  1918094 non-null  int8          \n",
      " 69   n_contracts                   1918094 non-null  int16         \n",
      " 70   n_agreements                  1918094 non-null  int16         \n",
      " 71   0102_2019                     1918094 non-null  float32       \n",
      " 72   0102_2020                     1918094 non-null  float32       \n",
      " 73   0102_2021                     1918094 non-null  float32       \n",
      " 74   0103_2019                     1918094 non-null  float32       \n",
      " 75   0103_2020                     1918094 non-null  float32       \n",
      " 76   0103_2021                     1918094 non-null  float32       \n",
      " 77   0105_2019                     1918094 non-null  float32       \n",
      " 78   0105_2020                     1918094 non-null  float32       \n",
      " 79   0105_2021                     1918094 non-null  float32       \n",
      " 80   breach_2019                   1918094 non-null  int8          \n",
      " 81   breach_2020                   1918094 non-null  int8          \n",
      " 82   breach_2021                   1918094 non-null  int8          \n",
      " 83   arrears                       1918094 non-null  float32       \n",
      " 84   penalties                     1918094 non-null  float32       \n",
      " 85   fines                         1918094 non-null  float32       \n",
      " 86   fine_amount                   1918094 non-null  float32       \n",
      " 87   disqual_person                1918094 non-null  int8          \n",
      " 88   AI92_cost_2019                1918093 non-null  float32       \n",
      " 89   AI92_cost_2020                1918093 non-null  float32       \n",
      " 90   AI92_cost_2021                1918093 non-null  float32       \n",
      " 91   AI92_volume_2019              1918093 non-null  float32       \n",
      " 92   AI92_volume_2020              1918093 non-null  float32       \n",
      " 93   AI92_volume_2021              1918093 non-null  float32       \n",
      " 94   AI95_cost_2019                1918093 non-null  float32       \n",
      " 95   AI95_cost_2020                1918093 non-null  float32       \n",
      " 96   AI95_cost_2021                1918093 non-null  float32       \n",
      " 97   AI95_volume_2019              1918093 non-null  float32       \n",
      " 98   AI95_volume_2020              1918093 non-null  float32       \n",
      " 99   AI95_volume_2021              1918093 non-null  float32       \n",
      " 100  AI98_cost_2019                1918093 non-null  float32       \n",
      " 101  AI98_cost_2020                1918093 non-null  float32       \n",
      " 102  AI98_cost_2021                1918093 non-null  float32       \n",
      " 103  AI98_volume_2019              1918093 non-null  float32       \n",
      " 104  AI98_volume_2020              1918093 non-null  float32       \n",
      " 105  AI98_volume_2021              1918093 non-null  float32       \n",
      " 106  cons_basket_child_2019        1918093 non-null  float32       \n",
      " 107  cons_basket_child_2020        1918093 non-null  float32       \n",
      " 108  cons_basket_child_2021        1918093 non-null  float32       \n",
      " 109  cons_basket_pens_2019         1918093 non-null  float32       \n",
      " 110  cons_basket_pens_2020         1918093 non-null  float32       \n",
      " 111  cons_basket_pens_2021         1918093 non-null  float32       \n",
      " 112  cons_basket_working_age_2019  1918093 non-null  float32       \n",
      " 113  cons_basket_working_age_2020  1918093 non-null  float32       \n",
      " 114  cons_basket_working_age_2021  1918093 non-null  float32       \n",
      " 115  diesel_cost_2019              1918093 non-null  float32       \n",
      " 116  diesel_cost_2020              1918093 non-null  float32       \n",
      " 117  diesel_cost_2021              1918093 non-null  float32       \n",
      " 118  diesel_volume_2019            1918093 non-null  float32       \n",
      " 119  diesel_volume_2020            1918093 non-null  float32       \n",
      " 120  diesel_volume_2021            1918093 non-null  float32       \n",
      " 121  region_population             1918094 non-null  int32         \n",
      " 122  city_population               1744362 non-null  float32       \n",
      " 123  settlement_population         122480 non-null   float32       \n",
      "dtypes: datetime64[ns](2), float32(96), int16(5), int32(1), int8(11), object(9)\n",
      "memory usage: 923.8+ MB\n"
     ]
    }
   ],
   "source": [
    "data.info(verbose=True, show_counts=True, memory_usage=True)"
   ]
  },
  {
   "cell_type": "code",
   "execution_count": null,
   "id": "7792c4ef",
   "metadata": {},
   "outputs": [],
   "source": [
    "# with open('parsed_data/data.pickle', 'wb') as f:\n",
    "#     pickle.dump(data, f)"
   ]
  },
  {
   "cell_type": "markdown",
   "id": "744a692b",
   "metadata": {},
   "source": [
    "- больше 100 столбцов\n",
    "- не все из них одинаково полезны\n",
    "- достаточно много уйдёт после выбора цели и периода + после объединения/удаления/изменения сильно cкоррелированных признаков..."
   ]
  }
 ],
 "metadata": {
  "kernelspec": {
   "display_name": "Python 3 (ipykernel)",
   "language": "python",
   "name": "python3"
  },
  "language_info": {
   "codemirror_mode": {
    "name": "ipython",
    "version": 3
   },
   "file_extension": ".py",
   "mimetype": "text/x-python",
   "name": "python",
   "nbconvert_exporter": "python",
   "pygments_lexer": "ipython3",
   "version": "3.8.8"
  }
 },
 "nbformat": 4,
 "nbformat_minor": 5
}
